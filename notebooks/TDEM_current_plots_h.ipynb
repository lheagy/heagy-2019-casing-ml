{
 "cells": [
  {
   "cell_type": "code",
   "execution_count": 1,
   "metadata": {},
   "outputs": [],
   "source": [
    "# core python\n",
    "import dask\n",
    "import numpy as np\n",
    "import datetime\n",
    "import scipy.sparse as sp\n",
    "import matplotlib.pyplot as plt\n",
    "from matplotlib.colors import LogNorm\n",
    "from scipy.constants import mu_0, inch, foot\n",
    "from scipy.spatial import cKDTree\n",
    "import os\n",
    "import ipywidgets\n",
    "import time\n",
    "from string import ascii_lowercase\n",
    "from matplotlib import rcParams\n",
    "from matplotlib import gridspec\n",
    "\n",
    "# SimPEG, discretize\n",
    "import discretize\n",
    "from discretize import utils\n",
    "from SimPEG.electromagnetics import time_domain as tdem\n",
    "from SimPEG import utils, maps\n",
    "from pymatsolver import Pardiso\n",
    "\n",
    "# casing utility code \n",
    "import casingSimulations as casingSim\n",
    "\n",
    "%matplotlib inline"
   ]
  },
  {
   "cell_type": "markdown",
   "metadata": {},
   "source": [
    "## model parameters"
   ]
  },
  {
   "cell_type": "code",
   "execution_count": 2,
   "metadata": {},
   "outputs": [],
   "source": [
    "# conductivities\n",
    "sigma_air = 1e-4\n",
    "sigma_back = 1e-2\n",
    "sigma_casing = sigma_back\n",
    "sigma_casing = 5e6\n",
    "\n",
    "# relative permeability of the casing\n",
    "mur_casing = 1.\n",
    "\n",
    "# casing geometry\n",
    "casing_diameter = 10e-2  \n",
    "casing_t = 10e-3\n",
    "casing_l = 200\n",
    "\n",
    "# cell size in the z-direction for the mesh\n",
    "csz = 2.5 \n",
    "# csz=1.25"
   ]
  },
  {
   "cell_type": "markdown",
   "metadata": {},
   "source": [
    "Source electrode locations. The source runs along the $\\theta = 90^{\\circ}$ line"
   ]
  },
  {
   "cell_type": "code",
   "execution_count": 3,
   "metadata": {},
   "outputs": [],
   "source": [
    "src_a = np.r_[casing_diameter / 2., np.pi/2, 0.]\n",
    "src_b = np.r_[casing_l, np.pi/2, 0.]"
   ]
  },
  {
   "cell_type": "code",
   "execution_count": 4,
   "metadata": {},
   "outputs": [],
   "source": [
    "model = casingSim.model.CasingInHalfspace(\n",
    "    casing_d = casing_diameter - casing_t,  # I use diameter to the center of the casing wall\n",
    "    casing_l = casing_l,\n",
    "    casing_t = casing_t, \n",
    "    mur_casing = mur_casing,\n",
    "    sigma_air = sigma_air,\n",
    "    sigma_casing = sigma_casing,\n",
    "    sigma_back = sigma_back,\n",
    "    sigma_inside = sigma_back,\n",
    "    src_a = src_a,\n",
    "    src_b = src_b\n",
    ")\n",
    "model.filename = \"casing.json\""
   ]
  },
  {
   "cell_type": "markdown",
   "metadata": {},
   "source": [
    "Create the time-stepping for the forward simulation"
   ]
  },
  {
   "cell_type": "code",
   "execution_count": 5,
   "metadata": {},
   "outputs": [
    {
     "name": "stdout",
     "output_type": "stream",
     "text": [
      "The latest time is 2.0e-01s\n",
      "There are 187 time-steps in the simulation, 7 are unique (this controls how many matrix factorizations need to be done)\n"
     ]
    }
   ],
   "source": [
    "timeSteps = [\n",
    "    (1e-6, 20), (1e-5, 30), (3e-5, 30), (1e-4, 40), (3e-4, 30), (1e-3, 20), (1e-2, 17)\n",
    "]\n",
    "\n",
    "model.timeSteps = timeSteps\n",
    "\n",
    "print(\"The latest time is {:1.1e}s\".format(model.timeSteps.sum()))\n",
    "print(\"There are {} time-steps in the simulation, {} are unique \"\n",
    "      \"(this controls how many matrix factorizations need to be done)\".format(\n",
    "          len(model.timeSteps), len(np.unique(np.diff(model.timeSteps)))\n",
    "      )\n",
    ")"
   ]
  },
  {
   "cell_type": "markdown",
   "metadata": {},
   "source": [
    "Duplicate the model so that we can run a `background` model that does not include casing."
   ]
  },
  {
   "cell_type": "code",
   "execution_count": 6,
   "metadata": {},
   "outputs": [
    {
     "name": "stdout",
     "output_type": "stream",
     "text": [
      "12615.6626101008\n"
     ]
    }
   ],
   "source": [
    "print(model.diffusion_distance(1))\n"
   ]
  },
  {
   "cell_type": "code",
   "execution_count": 7,
   "metadata": {},
   "outputs": [],
   "source": [
    "model_background = model.copy()\n",
    "model_background.sigma_casing = model_background.sigma_back\n",
    "model_background.filename = \"background.json\""
   ]
  },
  {
   "cell_type": "markdown",
   "metadata": {},
   "source": [
    "### create \"approximate\" models\n",
    "- treat the well as a solid cylinder\n",
    "- use a conductivity equal to that product of the conductivity and cross-sectional area of the casing\n",
    "- to approximate the permeability, I preserve the product of the permeability and the thickness of the casing wall"
   ]
  },
  {
   "cell_type": "code",
   "execution_count": 8,
   "metadata": {},
   "outputs": [
    {
     "name": "stdout",
     "output_type": "stream",
     "text": [
      "The approximate conductivity of the solid we use is 1.8e+06\n"
     ]
    }
   ],
   "source": [
    "# preserve product of conductivity and cross-sectional area for solid cylinder \n",
    "sigmaA = model.sigma_casing * (model.casing_b**2 - model.casing_a**2)/model.casing_b**2\n",
    "print(f\"The approximate conductivity of the solid we use is {sigmaA:1.1e}\")\n",
    "\n",
    "model_approx_casing = model.copy()\n",
    "model_approx_casing.sigma_inside = sigmaA\n",
    "model_approx_casing.sigma_casing = sigmaA\n",
    "model_approx_casing.filename = \"approx_casing.json\"\n",
    "\n",
    "model_solid_steel = model_approx_casing.copy()\n",
    "model_solid_steel.sigma_inside = model.sigma_casing\n",
    "model_solid_steel.sigma_casing = model.sigma_casing\n",
    "model_solid_steel.filename = \"solid_steel.json\""
   ]
  },
  {
   "cell_type": "markdown",
   "metadata": {},
   "source": [
    "keep track of the models in a dictionary"
   ]
  },
  {
   "cell_type": "code",
   "execution_count": 9,
   "metadata": {},
   "outputs": [],
   "source": [
    "model_names = [\"casing\", \"approx_casing\", \"solid_steel\"] \n",
    "models = [model, model_approx_casing, model_solid_steel]\n",
    "model_dict = dict(zip(\n",
    "    model_names, \n",
    "    models \n",
    "))"
   ]
  },
  {
   "cell_type": "markdown",
   "metadata": {},
   "source": [
    "## Mesh\n",
    "\n",
    "We set up a 3D cylindrical mesh for the simulations. Both the casing and background models will be run on the same mesh. "
   ]
  },
  {
   "cell_type": "code",
   "execution_count": 10,
   "metadata": {},
   "outputs": [
    {
     "data": {
      "text/plain": [
       "5701.1071274119095"
      ]
     },
     "execution_count": 10,
     "metadata": {},
     "output_type": "execute_result"
    }
   ],
   "source": [
    "model.diffusion_distance()"
   ]
  },
  {
   "cell_type": "code",
   "execution_count": 11,
   "metadata": {},
   "outputs": [],
   "source": [
    "# Theta discretization\n",
    "hy = np.ones(12)\n",
    "hy = hy*2*np.pi / hy.sum()"
   ]
  },
  {
   "cell_type": "code",
   "execution_count": 12,
   "metadata": {},
   "outputs": [],
   "source": [
    "meshGen = casingSim.mesh.CasingMeshGenerator(\n",
    "    modelParameters = model, \n",
    "    csx1 = model.casing_t/4,\n",
    "    csx2 = 100,\n",
    "    domain_x = casing_l,  # use 2.5m cells out to 300m. \n",
    "    hy = hy,\n",
    "    npadx = 8, # 6\n",
    "    npadz = 17,  #14\n",
    "#     npadx = 10, \n",
    "#     npadz = 19,\n",
    "    csz = csz,\n",
    ")\n",
    "# meshGen.save()"
   ]
  },
  {
   "cell_type": "code",
   "execution_count": 13,
   "metadata": {},
   "outputs": [],
   "source": [
    "mesh = meshGen.mesh"
   ]
  },
  {
   "cell_type": "code",
   "execution_count": 14,
   "metadata": {},
   "outputs": [
    {
     "name": "stdout",
     "output_type": "stream",
     "text": [
      "The mesh has 107136 cells\n"
     ]
    }
   ],
   "source": [
    "print(\"The mesh has {} cells\".format(meshGen.mesh.nC))"
   ]
  },
  {
   "cell_type": "markdown",
   "metadata": {},
   "source": [
    "plot the mesh"
   ]
  },
  {
   "cell_type": "code",
   "execution_count": 15,
   "metadata": {},
   "outputs": [
    {
     "name": "stderr",
     "output_type": "stream",
     "text": [
      "/global/homes/l/lheagy/.conda/envs/simpeg37/lib/python3.7/site-packages/matplotlib/projections/polar.py:55: RuntimeWarning: invalid value encountered in greater_equal\n",
      "  r = np.where(r >= 0, r, np.nan)\n"
     ]
    },
    {
     "data": {
      "image/png": "[encoded data removed]",
      "text/plain": [
       "<Figure size 864x360 with 2 Axes>"
      ]
     },
     "metadata": {
      "needs_background": "light"
     },
     "output_type": "display_data"
    }
   ],
   "source": [
    "ax = mesh.plotGrid()"
   ]
  },
  {
   "cell_type": "markdown",
   "metadata": {},
   "source": [
    "## Physical Properties\n",
    "\n",
    "Now that we have a mesh and a model defined, we populate the mesh with physical properties"
   ]
  },
  {
   "cell_type": "code",
   "execution_count": 16,
   "metadata": {},
   "outputs": [],
   "source": [
    "physprops_dict = {\n",
    "    key: casingSim.model.PhysicalProperties(\n",
    "        modelParameters=m, meshGenerator=meshGen\n",
    "    )\n",
    "    for key, m in model_dict.items() \n",
    "}\n"
   ]
  },
  {
   "cell_type": "code",
   "execution_count": 17,
   "metadata": {},
   "outputs": [
    {
     "data": {
      "image/png": "[encoded data removed]",
      "text/plain": [
       "<Figure size 1080x360 with 6 Axes>"
      ]
     },
     "metadata": {
      "needs_background": "light"
     },
     "output_type": "display_data"
    }
   ],
   "source": [
    "fig, ax = plt.subplots(1, len(model_names), figsize=(5*len(model_names), 5))\n",
    "\n",
    "xlim = 0.5*np.r_[-1., 1.]\n",
    "ylim = np.r_[-1.25*casing_l, 10.]\n",
    "\n",
    "for m, a in zip(model_names, ax):\n",
    "    physprops_dict[m].plot_sigma(ax=a, pcolorOpts={'norm':LogNorm()})\n",
    "    a.set_xlim(xlim)\n",
    "    a.set_ylim(ylim) \n",
    "    a.set_title(m)\n",
    "\n",
    "plt.tight_layout()"
   ]
  },
  {
   "cell_type": "code",
   "execution_count": 18,
   "metadata": {},
   "outputs": [
    {
     "data": {
      "image/png": "[encoded data removed]",
      "text/plain": [
       "<Figure size 1080x360 with 6 Axes>"
      ]
     },
     "metadata": {
      "needs_background": "light"
     },
     "output_type": "display_data"
    }
   ],
   "source": [
    "fig, ax = plt.subplots(1, len(model_names), figsize=(5*len(model_names), 5))\n",
    "\n",
    "xlim = 0.5*np.r_[-1., 1.]\n",
    "ylim = np.r_[-1.25*casing_l, 10.]\n",
    "\n",
    "for m, a in zip(model_names, ax):\n",
    "    physprops_dict[m].plot_mur(ax=a)\n",
    "    a.set_xlim(xlim)\n",
    "    a.set_ylim(ylim) \n",
    "    a.set_title(m)\n",
    "\n",
    "plt.tight_layout()"
   ]
  },
  {
   "cell_type": "markdown",
   "metadata": {},
   "source": [
    "## Survey\n",
    "\n",
    "The source is a grounded source with one electrode at 1000m and the other electrode connected to the top of the casing. A wire connects them. Note that we will use H-J formulation t solve this problem, so the source is defined as current that goes through the faces of the mesh. "
   ]
  },
  {
   "cell_type": "code",
   "execution_count": 19,
   "metadata": {},
   "outputs": [],
   "source": [
    "src_theta = np.pi/2. + mesh.hy[0]/2.\n",
    "model.src_a[1] = src_theta\n",
    "model.src_b[1] = src_theta"
   ]
  },
  {
   "cell_type": "code",
   "execution_count": 20,
   "metadata": {},
   "outputs": [],
   "source": [
    "top_src_a = model.src_a.copy()\n",
    "top_src_a[2] = -mesh.hz.min()/2."
   ]
  },
  {
   "cell_type": "code",
   "execution_count": 21,
   "metadata": {},
   "outputs": [],
   "source": [
    "downhole_src_a = model.src_a.copy()\n",
    "downhole_src_a[0] = 0.\n",
    "downhole_src_a[2] = -950."
   ]
  },
  {
   "cell_type": "code",
   "execution_count": 22,
   "metadata": {},
   "outputs": [],
   "source": [
    "src_top = casingSim.sources.TopCasingSrc(\n",
    "    modelParameters=model, \n",
    "    meshGenerator=meshGen,\n",
    "    src_a=top_src_a,\n",
    "    src_b=model.src_b,\n",
    "    physics=\"TDEM\",\n",
    "    filename=\"top_casing\",\n",
    ")\n",
    "\n",
    "src_downhole = casingSim.sources.DownHoleCasingSrc(\n",
    "    modelParameters=model,\n",
    "    meshGenerator=meshGen,\n",
    "    src_a=downhole_src_a,\n",
    "    src_b=model.src_b,\n",
    "    physics=\"TDEM\",\n",
    "    filename=\"downhole\",\n",
    ")\n",
    "\n",
    "sources = [src_top] #, src_downhole]\n",
    "srcList = src_top.srcList #+ src_downhole.srcList"
   ]
  },
  {
   "cell_type": "code",
   "execution_count": 23,
   "metadata": {},
   "outputs": [],
   "source": [
    "casingSimSrcList = casingSim.sources.SourceList(\n",
    "    filename=\"sources.json\",\n",
    "    sources = sources  \n",
    ")\n",
    "\n",
    "source_list = casingSimSrcList.srcList"
   ]
  },
  {
   "cell_type": "code",
   "execution_count": 24,
   "metadata": {},
   "outputs": [
    {
     "data": {
      "image/png": "[encoded data removed]",
      "text/plain": [
       "<Figure size 864x432 with 2 Axes>"
      ]
     },
     "metadata": {
      "needs_background": "light"
     },
     "output_type": "display_data"
    }
   ],
   "source": [
    "fig, ax = plt.subplots(1, 2, figsize=(12, 6))\n",
    "\n",
    "for a, src in zip(ax, sources): \n",
    "    meshGen.mesh.plotGrid(slice='theta', ax=a)\n",
    "    src.plot(ax=a)\n",
    "\n",
    "    a.set_xlim([0., 1200])\n",
    "    a.set_ylim([-1000., 10.])"
   ]
  },
  {
   "cell_type": "markdown",
   "metadata": {},
   "source": [
    "## Simulation"
   ]
  },
  {
   "cell_type": "code",
   "execution_count": 25,
   "metadata": {},
   "outputs": [],
   "source": [
    "# run = False\n",
    "run = True\n",
    "use_cluster = True"
   ]
  },
  {
   "cell_type": "code",
   "execution_count": 26,
   "metadata": {},
   "outputs": [],
   "source": [
    "survey = tdem.Survey(source_list)"
   ]
  },
  {
   "cell_type": "code",
   "execution_count": 27,
   "metadata": {},
   "outputs": [],
   "source": [
    "sim = tdem.Problem3D_h(\n",
    "    mesh=mesh, survey=survey, sigmaMap=maps.IdentityMap(mesh), solver=Pardiso,\n",
    "    time_steps=timeSteps\n",
    ")"
   ]
  },
  {
   "cell_type": "code",
   "execution_count": 28,
   "metadata": {},
   "outputs": [],
   "source": [
    "import dask\n",
    "import dask_jobqueue\n",
    "from dask.distributed import Client\n",
    "from dask.diagnostics import ProgressBar"
   ]
  },
  {
   "cell_type": "code",
   "execution_count": 29,
   "metadata": {},
   "outputs": [
    {
     "data": {
      "text/plain": [
       "48"
      ]
     },
     "execution_count": 29,
     "metadata": {},
     "output_type": "execute_result"
    }
   ],
   "source": [
    "len(model_names)*16"
   ]
  },
  {
   "cell_type": "code",
   "execution_count": 30,
   "metadata": {},
   "outputs": [
    {
     "name": "stdout",
     "output_type": "stream",
     "text": [
      "#!/usr/bin/env bash\n",
      "\n",
      "#SBATCH -J dask-worker\n",
      "#SBATCH -A m3384\n",
      "#SBATCH -n 1\n",
      "#SBATCH --cpus-per-task=3\n",
      "#SBATCH --mem=90G\n",
      "#SBATCH -t 00:30:00\n",
      "#SBATCH --constraint=haswell\n",
      "#SBATCH --qos=debug\n",
      "JOB_ID=${SLURM_JOB_ID%;*}\n",
      "\n",
      "\n",
      "\n",
      "/global/homes/l/lheagy/.conda/envs/simpeg37/bin/python -m distributed.cli.dask_worker tcp://128.55.224.49:34829 --nthreads 1 --nprocs 3 --memory-limit 32.00GB --name dask-worker--${JOB_ID}-- --death-timeout 360\n",
      "\n"
     ]
    }
   ],
   "source": [
    "if use_cluster is True: \n",
    "    cluster = dask_jobqueue.SLURMCluster(\n",
    "        cores=len(model_names),\n",
    "        processes=len(model_names), memory=f'{32*len(model_names)}GB', \n",
    "        project=\"m3384\",\n",
    "        job_extra = ['--constraint=haswell', '--qos=debug',], \n",
    "        death_timeout=360,\n",
    "    )\n",
    "    \n",
    "    print(cluster.job_script())"
   ]
  },
  {
   "cell_type": "code",
   "execution_count": 31,
   "metadata": {},
   "outputs": [],
   "source": [
    "# dask_jobqueue.SLURMCluster??"
   ]
  },
  {
   "cell_type": "code",
   "execution_count": 32,
   "metadata": {},
   "outputs": [
    {
     "data": {
      "text/html": [
       "<table style=\"border: 2px solid white;\">\n",
       "<tr>\n",
       "<td style=\"vertical-align: top; border: 0px solid white\">\n",
       "<h3>Client</h3>\n",
       "<ul>\n",
       "  <li><b>Scheduler: </b>tcp://128.55.224.49:34829\n",
       "  <li><b>Dashboard: </b><a href='http://128.55.224.49:8787/status' target='_blank'>http://128.55.224.49:8787/status</a>\n",
       "</ul>\n",
       "</td>\n",
       "<td style=\"vertical-align: top; border: 0px solid white\">\n",
       "<h3>Cluster</h3>\n",
       "<ul>\n",
       "  <li><b>Workers: </b>0</li>\n",
       "  <li><b>Cores: </b>0</li>\n",
       "  <li><b>Memory: </b>0 B</li>\n",
       "</ul>\n",
       "</td>\n",
       "</tr>\n",
       "</table>"
      ],
      "text/plain": [
       "<Client: scheduler='tcp://128.55.224.49:34829' processes=0 cores=0>"
      ]
     },
     "execution_count": 32,
     "metadata": {},
     "output_type": "execute_result"
    }
   ],
   "source": [
    "if use_cluster is True: \n",
    "    client = Client(cluster, threads_per_worker=3)\n",
    "else: \n",
    "    client = Client(threads_per_worker=3, n_workers=1)\n",
    "client"
   ]
  },
  {
   "cell_type": "code",
   "execution_count": 33,
   "metadata": {},
   "outputs": [],
   "source": [
    "# @dask.delayed\n",
    "def run_simulation(m, simulation_params, directory=None, name=None):\n",
    "    import discretize\n",
    "    import casingSimulations as casing_sim\n",
    "    from SimPEG.electromagnetics import time_domain as tdem\n",
    "    from pymatsolver import Pardiso\n",
    "        \n",
    "    if isinstance(simulation_params, str):\n",
    "        simulation_params = json.loads(simulation_params)\n",
    "    \n",
    "    sim = tdem.Problem3D_h.deserialize(simulation_params, trusted=True)\n",
    "    \n",
    "    if isinstance(m, str):\n",
    "        model = casing_sim.model.CasingInHalfspace.deserialize(json.loads(m), trusted=True)\n",
    "        m = model.sigma(sim.mesh)\n",
    "    \n",
    "    sim.solver = Pardiso\n",
    "    sim.verbose = True\n",
    "    \n",
    "    fields = sim.fields(m)\n",
    "    f = fields[:, '{}Solution'.format(sim._fieldType), :]\n",
    "    if name is not None: \n",
    "        filename = f\"{name}.npy\"\n",
    "        tosave = os.path.sep.join([directory, filename]) \n",
    "        print(f\"saving {tosave}\")\n",
    "        np.save(tosave, f)\n",
    "    return tosave"
   ]
  },
  {
   "cell_type": "code",
   "execution_count": 34,
   "metadata": {},
   "outputs": [
    {
     "name": "stdout",
     "output_type": "stream",
     "text": [
      "cluster scaled\n"
     ]
    }
   ],
   "source": [
    "if use_cluster is True:\n",
    "    cluster.scale(3)\n",
    "    print(\"cluster scaled\")\n",
    "    cluster"
   ]
  },
  {
   "cell_type": "code",
   "execution_count": 35,
   "metadata": {},
   "outputs": [
    {
     "name": "stdout",
     "output_type": "stream",
     "text": [
      "Saved 20198816/200m_sigma1e-02/casing.json\n",
      "Saved 20198816/200m_sigma1e-02/approx_casing.json\n",
      "Saved 20198816/200m_sigma1e-02/solid_steel.json\n"
     ]
    }
   ],
   "source": [
    "if run is True: \n",
    "    f = {}\n",
    "    for key, value in physprops_dict.items():\n",
    "        time = datetime.datetime.now()\n",
    "        model = model_dict[key]\n",
    "        directory = f\"{time.year}{time.month}{time.day}{time.hour}{os.path.sep}{int(model.casing_l)}m_sigma{model.sigma_back:1.0e}\"\n",
    "\n",
    "        if not os.path.isdir(directory):\n",
    "            os.makedirs(directory, exist_ok=True)\n",
    "\n",
    "        model.save(f\"{key}.json\", directory)\n",
    "\n",
    "        f[key] = dask.delayed(run_simulation)(\n",
    "            value.sigma, sim.serialize(), directory, key\n",
    "        )\n",
    "    \n",
    "    "
   ]
  },
  {
   "cell_type": "code",
   "execution_count": null,
   "metadata": {},
   "outputs": [],
   "source": [
    "fields_files = dask.compute(f)[0]"
   ]
  },
  {
   "cell_type": "code",
   "execution_count": null,
   "metadata": {},
   "outputs": [],
   "source": [
    "if run is True: \n",
    "    pass\n",
    "#     fields_files = dask.compute(f)[0]\n",
    "else:\n",
    "    fields_files = {}\n",
    "    directory = '20198413/1000m_sigma1e-02/'\n",
    "    for key in model_names:\n",
    "        fields_files[key] = f\"{directory}{key}.npy\""
   ]
  },
  {
   "cell_type": "markdown",
   "metadata": {},
   "source": [
    "load the results into memory and re-populate the fields object (this takes a couple minutes). "
   ]
  },
  {
   "cell_type": "code",
   "execution_count": null,
   "metadata": {},
   "outputs": [],
   "source": [
    "fields_files"
   ]
  },
  {
   "cell_type": "code",
   "execution_count": null,
   "metadata": {},
   "outputs": [],
   "source": [
    "solution_dict = {}\n",
    "for key, val in fields_files.items():\n",
    "    solution_dict[key] = np.load(val)"
   ]
  },
  {
   "cell_type": "code",
   "execution_count": null,
   "metadata": {},
   "outputs": [],
   "source": [
    "m = model_dict['casing']"
   ]
  },
  {
   "cell_type": "markdown",
   "metadata": {},
   "source": [
    "#### todo: profile this at some point - the fields object should not be this expensive to create"
   ]
  },
  {
   "cell_type": "code",
   "execution_count": null,
   "metadata": {},
   "outputs": [],
   "source": [
    "fields_dict = {}\n",
    "\n",
    "for key in model_names:\n",
    "    print(key)\n",
    "    sim.model = model_dict[key].sigma(sim.mesh)\n",
    "    fields_dict[key] = sim.fieldsPair(sim)\n",
    "    fields_dict[key][:, 'hSolution', :] = solution_dict.pop(key)"
   ]
  },
  {
   "cell_type": "code",
   "execution_count": null,
   "metadata": {},
   "outputs": [],
   "source": []
  },
  {
   "cell_type": "code",
   "execution_count": null,
   "metadata": {},
   "outputs": [],
   "source": [
    "# sim_dict = {}\n",
    "# for key in model_names:\n",
    "#     sim_dict[key] = sim.copy()\n",
    "#     sim_dict[key].modelParameters = model_dict[key]\n",
    "#     sim_dict[key].srcList = sim.srcList\n",
    "\n",
    "# mesh = sim_dict[\"casing\"].meshGenerator.mesh"
   ]
  },
  {
   "cell_type": "code",
   "execution_count": null,
   "metadata": {},
   "outputs": [],
   "source": [
    "viewer = casingSim.FieldsViewer(\n",
    "    mesh=mesh, model_parameters_dict=model_dict, survey_dict={key: sim.survey for key in model_names}, \n",
    "    fields_dict=fields_dict, model_keys=model_names, primary_key=\"casing\"\n",
    ")"
   ]
  },
  {
   "cell_type": "code",
   "execution_count": null,
   "metadata": {},
   "outputs": [],
   "source": [
    "# viewer = casingSim.FieldsViewer(\n",
    "#     model_keys=model_names, sim_dict=sim_dict, fields_dict=fields_dict, primary_key=\"casing\"\n",
    "# )"
   ]
  },
  {
   "cell_type": "code",
   "execution_count": null,
   "metadata": {},
   "outputs": [],
   "source": [
    "viewer.widget_cross_section(\n",
    "    defaults={\n",
    "        \"max_depth\":1.1*model.casing_l,\n",
    "        \"min_depth\":-10,\n",
    "        \"max_r\":0.15,\n",
    "        \"theta_ind\":3, \n",
    "        \"view\":\"j\"\n",
    "    }\n",
    ")"
   ]
  },
  {
   "cell_type": "code",
   "execution_count": null,
   "metadata": {},
   "outputs": [],
   "source": [
    "from matplotlib import rcParams\n",
    "rcParams['font.size'] = 14"
   ]
  },
  {
   "cell_type": "code",
   "execution_count": null,
   "metadata": {},
   "outputs": [],
   "source": [
    "viewer.primary = \"casing\""
   ]
  },
  {
   "cell_type": "code",
   "execution_count": null,
   "metadata": {},
   "outputs": [],
   "source": [
    "viewer.widget_cross_section(\n",
    "    defaults={\n",
    "        \"max_depth\":1.5*model.casing_l,\n",
    "        \"min_depth\":-10,\n",
    "        \"max_r\":1.5*model.casing_l,\n",
    "        \"theta_ind\":3,\n",
    "        \"view\":\"j\"\n",
    "    }, \n",
    "    figwidth=12\n",
    ")"
   ]
  },
  {
   "cell_type": "code",
   "execution_count": null,
   "metadata": {},
   "outputs": [],
   "source": [
    "# compute a source term from the charge \n",
    "\n",
    "def get_s_e(src, tind, key=\"approx_casing\", primary_key=\"casing\"):\n",
    "    charge = fields_dict[key][src, 'charge', tind] - fields_dict[primary_key][src, 'charge', tind]\n",
    "    \n",
    "    # solve the DC problem"
   ]
  },
  {
   "cell_type": "code",
   "execution_count": null,
   "metadata": {},
   "outputs": [],
   "source": [
    "def dc_src_term(src, tind, key=\"approx_casing\", primary_key=\"casing\"):\n",
    "    j_diff =  fields_dict[key][src, 'j', tind] - fields_dict[primary_key][src, 'j', tind]\n",
    "    return - mesh.faceDiv * j_diff"
   ]
  },
  {
   "cell_type": "code",
   "execution_count": null,
   "metadata": {},
   "outputs": [],
   "source": [
    "def theta_index_mirror(theta_ind):\n",
    "    return (\n",
    "        theta_ind+int(mesh.vnC[1]/2)\n",
    "        if theta_ind < int(mesh.vnC[1]/2)\n",
    "        else theta_ind-int(mesh.vnC[1]/2)\n",
    "    )"
   ]
  },
  {
   "cell_type": "code",
   "execution_count": null,
   "metadata": {},
   "outputs": [],
   "source": [
    "# plot the divergence of js \n",
    "\n",
    "def plot_div_jdiff(\n",
    "    src, tind, theta_ind=0, model_key=\"approx_casing\", primary_key=\"casing\", ax=None, xlim=None, zlim=None, clim=None\n",
    "):\n",
    "    \n",
    "    if ax is None:\n",
    "        fig, ax = plt.subplots(1, 1)\n",
    "           \n",
    "    plotme = dc_src_term(src, tind, model_key, primary_key)\n",
    "    \n",
    "    theta_ind_mirror = theta_index_mirror(theta_ind)\n",
    "    \n",
    "    if clim is None:\n",
    "        clim = np.r_[-1., 1.] * np.max(np.absolute(plotme))\n",
    "        \n",
    "    plotme = plotme.reshape(mesh.vnC, order='F')\n",
    "    mirror_data = discretize.utils.mkvc(\n",
    "        plotme[:, theta_ind_mirror, :]\n",
    "    )\n",
    "    plotme = discretize.utils.mkvc(plotme[:, theta_ind, :])\n",
    "    mesh2D = discretize.CylMesh([mesh.hx, 1, mesh.hz], x0=mesh.x0)\n",
    "    \n",
    "    out = mesh2D.plotImage(\n",
    "        plotme, ax=ax,\n",
    "        pcolorOpts = {'cmap': 'RdBu_r'},\n",
    "        clim=clim,\n",
    "        mirror_data=mirror_data,\n",
    "        mirror=True\n",
    "    )\n",
    "    ax.set_xlim(xlim)\n",
    "    ax.set_ylim(zlim)\n",
    "    plt.colorbar(out[0], ax=ax)\n"
   ]
  },
  {
   "cell_type": "code",
   "execution_count": null,
   "metadata": {},
   "outputs": [],
   "source": [
    "def widget_div_j(tind, theta_ind, clim):\n",
    "    fig, ax = plt.subplots(1, 1, figsize=(6, 6))\n",
    "    plot_div_jdiff(\n",
    "        survey.srcList[0], tind=tind, theta_ind=theta_ind, ax=ax, xlim=10*np.r_[-1, 1], zlim=[-1.1*model_dict[\"casing\"].casing_l, 10],\n",
    "        clim=clim*np.r_[-1,1]\n",
    "    ),\n",
    "\n",
    "ipywidgets.interact(\n",
    "    widget_div_j, \n",
    "    tind = ipywidgets.IntSlider(min=0, max=sim.nT+1, value=0),\n",
    "    theta_ind = ipywidgets.IntSlider(min=0, max=len(mesh.hy), value=3),\n",
    "    clim = ipywidgets.FloatText(value=1.5e-2)\n",
    ")"
   ]
  },
  {
   "cell_type": "code",
   "execution_count": null,
   "metadata": {},
   "outputs": [],
   "source": [
    "def compute_sm_error(src, tind, key=\"approx_casing\", primary_key=\"casing\", separate=False):\n",
    "    j_diff =  fields_dict[key][src, 'j', tind] - fields_dict[primary_key][src, 'j', tind]\n",
    "    dhdt_diff = fields_dict[key][src, 'dhdt', tind] - fields_dict[primary_key][src, 'dhdt', tind]\n",
    "    \n",
    "    C = mesh.edgeCurl\n",
    "    MfRho = mesh.getFaceInnerProduct(1./model_dict[key].sigma(mesh))\n",
    "    MeMu = mesh.getEdgeInnerProduct(model_dict[key].mur(mesh)*mu_0)\n",
    "    \n",
    "    if separate is True:\n",
    "        return (C.T * MfRho * j_diff, MeMu * dhdt_diff)\n",
    "    return C.T * MfRho * j_diff + MeMu * dhdt_diff"
   ]
  },
  {
   "cell_type": "code",
   "execution_count": null,
   "metadata": {},
   "outputs": [],
   "source": [
    "def compute_se_error(src, tind, key=\"approx_casing\", primary_key=\"casing\", separate=False):\n",
    "    h_diff = fields_dict[key][src, 'h', tind] - fields_dict[primary_key][src, 'h', tind]\n",
    "    j_diff =  fields_dict[key][src, 'j', tind] - fields_dict[primary_key][src, 'j', tind]\n",
    "    \n",
    "    C = mesh.edgeCurl\n",
    "    \n",
    "    if separate is True:\n",
    "        return (C * h_diff, -j_diff)\n",
    "    return C * h_diff -j_diff"
   ]
  },
  {
   "cell_type": "code",
   "execution_count": null,
   "metadata": {},
   "outputs": [],
   "source": [
    "def plot_sm_error(src, tind, theta_ind=0, key=\"approx_casing\", primary_key=\"casing\", term=None, ax=None, clim=None, xlim=None, zlim=None):\n",
    "    if ax is None:\n",
    "        fig, ax = plt.subplots(1, 1)\n",
    "        \n",
    "    if term in [0, 1]:\n",
    "        plotme = compute_sm_error(src, tind, key, primary_key, separate=True)[term]\n",
    "    else:\n",
    "        plotme = compute_sm_error(src, tind, key, primary_key)\n",
    "\n",
    "    if len(mesh.hy) == 1:\n",
    "        plotme = mesh.aveE2CC * plotme\n",
    "    else:\n",
    "        plotme = (mesh.aveE2CCV * plotme)[mesh.nC:2*mesh.nC]\n",
    "    \n",
    "    theta_ind_mirror = theta_index_mirror(theta_ind)\n",
    "    plotme = plotme.reshape(mesh.vnC, order=\"F\")\n",
    "    mirror_data = discretize.utils.mkvc(-plotme[:, theta_ind_mirror, :])\n",
    "    plotme = discretize.utils.mkvc(plotme[:, theta_ind, :])\n",
    "\n",
    "    norm = SymLogNorm(\n",
    "        clim[0] if clim is not None else\n",
    "        np.max([1e-20, np.min(np.absolute(plotme))])\n",
    "    )\n",
    "    clim = clim[1]*np.r_[-1., 1.] if clim is not None else None\n",
    "    \n",
    "    mesh2D = discretize.CylMesh([mesh.hx, 1, mesh.hz], x0=mesh.x0)\n",
    "    \n",
    "    out = mesh2D.plotImage(\n",
    "        plotme, ax=ax, pcolorOpts = {'norm': norm}, clim=clim,\n",
    "        mirror_data=mirror_data, mirror=True\n",
    "    )\n",
    "\n",
    "    cb = plt.colorbar(out[0], ax=ax)\n",
    "    \n",
    "    ax.set_xlim(xlim)\n",
    "    ax.set_ylim(zlim)\n",
    "    \n"
   ]
  },
  {
   "cell_type": "code",
   "execution_count": null,
   "metadata": {},
   "outputs": [],
   "source": [
    "from matplotlib.colors import LogNorm, SymLogNorm"
   ]
  },
  {
   "cell_type": "code",
   "execution_count": null,
   "metadata": {},
   "outputs": [],
   "source": [
    "def widget_sm(tind, theta_ind, clim_min, clim_max, term):\n",
    "    fig, ax = plt.subplots(1, 1, figsize=(4, 6))\n",
    "    plot_sm_error(\n",
    "        survey.srcList[0], tind=tind, theta_ind=theta_ind, ax=ax, xlim=0.15*np.r_[-1, 1], zlim=[-1.1*model_dict[\"casing\"].casing_l, 10],\n",
    "        clim=np.r_[clim_min, clim_max], term=term, \n",
    "    )\n",
    "\n",
    "ipywidgets.interact(\n",
    "    widget_sm, \n",
    "    tind = ipywidgets.IntSlider(min=0, max=sim.nT+1, value=0),\n",
    "    theta_ind = ipywidgets.IntSlider(min=0, max=len(mesh.hy), value=3),\n",
    "    clim_min = ipywidgets.FloatText(value=1e-6),\n",
    "    clim_max = ipywidgets.FloatText(value=1e-4),\n",
    "    term = ipywidgets.ToggleButtons(options=[0, 1, 2], value=2)\n",
    ")"
   ]
  },
  {
   "cell_type": "code",
   "execution_count": null,
   "metadata": {},
   "outputs": [],
   "source": [
    "def plot_se_error(src, tind, theta_ind=0, key=\"approx_casing\", primary_key=\"casing\", term=None, ax=None, clim=None, xlim=None, zlim=None):\n",
    "    if ax is None:\n",
    "        fig, ax = plt.subplots(1, 1)\n",
    "        \n",
    "    if term in [0, 1]:\n",
    "        plotme = compute_se_error(src, tind, key, primary_key, separate=True)[term]\n",
    "    else:\n",
    "        plotme = compute_se_error(src, tind, key, primary_key)\n",
    "\n",
    "    theta_ind_mirror = theta_index_mirror(theta_ind)\n",
    "    plt_vec = casingSim.utils.face3DthetaSlice(mesh, plotme, theta_ind=theta_ind)\n",
    "    mirror_data = casingSim.utils.face3DthetaSlice(mesh, plotme, theta_ind=theta_ind_mirror)\n",
    "    plot_type = \"vec\"\n",
    "   \n",
    "\n",
    "    norm = SymLogNorm(\n",
    "        clim[0] if clim is not None else\n",
    "        np.max([1e-20, np.min(np.absolute(plotme))])\n",
    "    )\n",
    "    clim = clim[1]*np.r_[-1., 1.] if clim is not None else None\n",
    "    \n",
    "    mesh2D = discretize.CylMesh([mesh.hx, 1, mesh.hz], x0=mesh.x0)\n",
    "    \n",
    "    out = casingSim.view.plotFace2D(\n",
    "        mesh2D, plt_vec, ax=ax, range_x=xlim, range_y=zlim,\n",
    "        sample_grid=(\n",
    "            np.r_[np.diff(xlim)/100., np.diff(zlim)/100.]\n",
    "            if xlim is not None and zlim is not None else None\n",
    "        ),\n",
    "        log_scale=True,\n",
    "        clim=clim,\n",
    "        stream_threshold=clim[0] if clim is not None else None,\n",
    "        mirror=True,\n",
    "        mirror_data=mirror_data,\n",
    "    )\n",
    "    \n",
    "    ax.set_xlim(xlim)\n",
    "    ax.set_ylim(zlim)\n",
    "    \n"
   ]
  },
  {
   "cell_type": "code",
   "execution_count": null,
   "metadata": {},
   "outputs": [],
   "source": [
    "def widget_se(tind, theta_ind, clim_min, clim_max, term):\n",
    "    fig, ax = plt.subplots(1, 1, figsize=(4, 6))\n",
    "    plot_se_error(\n",
    "        survey.srcList[0], tind=tind, theta_ind=theta_ind, ax=ax, xlim=0.15*np.r_[-1, 1], zlim=[-1.1*model_dict[\"casing\"].casing_l, 10],\n",
    "        clim=np.r_[clim_min, clim_max], term=term, \n",
    "    )\n",
    "\n",
    "ipywidgets.interact(\n",
    "    widget_se, \n",
    "    tind = ipywidgets.IntSlider(min=0, max=sim.nT+1, value=0),\n",
    "    theta_ind = ipywidgets.IntSlider(min=0, max=len(mesh.hy), value=3),\n",
    "    clim_min = ipywidgets.FloatText(value=1e-6),\n",
    "    clim_max = ipywidgets.FloatText(value=1e-4),\n",
    "    term = ipywidgets.ToggleButtons(options=[0, 1, 2], value=2)\n",
    ")"
   ]
  },
  {
   "cell_type": "code",
   "execution_count": null,
   "metadata": {},
   "outputs": [],
   "source": []
  }
 ],
 "metadata": {
  "kernelspec": {
   "display_name": "simpeg37",
   "language": "python",
   "name": "simpeg37"
  },
  "language_info": {
   "codemirror_mode": {
    "name": "ipython",
    "version": 3
   },
   "file_extension": ".py",
   "mimetype": "text/x-python",
   "name": "python",
   "nbconvert_exporter": "python",
   "pygments_lexer": "ipython3",
   "version": "3.7.3"
  }
 },
 "nbformat": 4,
 "nbformat_minor": 4
}
