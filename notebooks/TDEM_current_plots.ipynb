{
 "cells": [
  {
   "cell_type": "markdown",
   "metadata": {},
   "source": [
    "## Setup and Software environment\n",
    "\n",
    "The requirements to run this example are in [requirements.txt](../requirements.txt). Uncomment the following cell if you need to install them. "
   ]
  },
  {
   "cell_type": "code",
   "execution_count": 1,
   "metadata": {},
   "outputs": [],
   "source": [
    "!pwd"
   ]
  },
  {
   "cell_type": "code",
   "execution_count": 2,
   "metadata": {},
   "outputs": [],
   "source": [
    "# !pip install -r ../requirements.txt"
   ]
  },
  {
   "cell_type": "code",
   "execution_count": 3,
   "metadata": {},
   "outputs": [],
   "source": [
    "# core python\n",
    "import dask\n",
    "import numpy as np\n",
    "import scipy.sparse as sp\n",
    "import matplotlib.pyplot as plt\n",
    "from matplotlib.colors import LogNorm\n",
    "from scipy.constants import mu_0, inch, foot\n",
    "from scipy.spatial import cKDTree\n",
    "import os\n",
    "import ipywidgets\n",
    "import time\n",
    "from string import ascii_lowercase\n",
    "from matplotlib import rcParams\n",
    "from matplotlib import gridspec\n",
    "\n",
    "# SimPEG, discretize\n",
    "import discretize\n",
    "from discretize import utils\n",
    "from SimPEG.electromagnetics import time_domain as tdem\n",
    "from SimPEG import utils, maps\n",
    "from pymatsolver import Pardiso\n",
    "\n",
    "# casing utility code \n",
    "import casingSimulations as casingSim\n",
    "\n",
    "%matplotlib inline"
   ]
  },
  {
   "cell_type": "markdown",
   "metadata": {},
   "source": [
    "## model parameters"
   ]
  },
  {
   "cell_type": "code",
   "execution_count": 4,
   "metadata": {},
   "outputs": [],
   "source": [
    "simDir = \"TDEM_fields_response_1km\""
   ]
  },
  {
   "cell_type": "code",
   "execution_count": 5,
   "metadata": {},
   "outputs": [],
   "source": [
    "# conductivities\n",
    "sigma_air = 1e-4\n",
    "sigma_back = 1e-2\n",
    "sigma_casing = sigma_back\n",
    "sigma_casing = 5e6\n",
    "\n",
    "# relative permeability of the casing\n",
    "mur_casing = 1.\n",
    "\n",
    "# casing geometry\n",
    "casing_diameter = 10e-2  \n",
    "casing_t = 1e-2 #1e-3\n",
    "casing_l = 100 #1000\n",
    "\n",
    "# cell size in the z-direction for the mesh\n",
    "csz = 2.5 \n",
    "# csz=1.25"
   ]
  },
  {
   "cell_type": "markdown",
   "metadata": {},
   "source": [
    "Source electrode locations. The source runs along the $\\theta = 90^{\\circ}$ line"
   ]
  },
  {
   "cell_type": "code",
   "execution_count": 6,
   "metadata": {},
   "outputs": [],
   "source": [
    "src_a = np.r_[casing_diameter / 2., np.pi/2, 0.]\n",
    "src_b = np.r_[casing_l, np.pi/2, 0.]"
   ]
  },
  {
   "cell_type": "code",
   "execution_count": 7,
   "metadata": {},
   "outputs": [],
   "source": [
    "model = casingSim.model.CasingInHalfspace(\n",
    "    directory = simDir, \n",
    "    casing_d = casing_diameter - casing_t,  # I use diameter to the center of the casing wall\n",
    "    casing_l = casing_l,\n",
    "    casing_t = casing_t, \n",
    "    mur_casing = mur_casing,\n",
    "    sigma_air = sigma_air,\n",
    "    sigma_casing = sigma_casing,\n",
    "    sigma_back = sigma_back,\n",
    "    sigma_inside = sigma_back,\n",
    "    src_a = src_a,\n",
    "    src_b = src_b\n",
    ")\n",
    "model.filename = \"casing.json\""
   ]
  },
  {
   "cell_type": "markdown",
   "metadata": {},
   "source": [
    "Create the time-stepping for the forward simulation"
   ]
  },
  {
   "cell_type": "code",
   "execution_count": 8,
   "metadata": {},
   "outputs": [
    {
     "name": "stdout",
     "output_type": "stream",
     "text": [
      "The latest time is 1.2e-03s\n",
      "There are 80 time-steps in the simulation, 3 are unique (this controls how many matrix factorizations need to be done)\n"
     ]
    }
   ],
   "source": [
    "timeSteps = [\n",
    "    (1e-6, 20), (1e-5, 30), (3e-5, 30), #(1e-4, 40), (3e-4, 30), (1e-3, 20), (1e-2, 17)\n",
    "]\n",
    "\n",
    "model.timeSteps = timeSteps\n",
    "\n",
    "print(\"The latest time is {:1.1e}s\".format(model.timeSteps.sum()))\n",
    "print(\"There are {} time-steps in the simulation, {} are unique \"\n",
    "      \"(this controls how many matrix factorizations need to be done)\".format(\n",
    "          len(model.timeSteps), len(np.unique(np.diff(model.timeSteps)))\n",
    "      )\n",
    ")"
   ]
  },
  {
   "cell_type": "markdown",
   "metadata": {},
   "source": [
    "Duplicate the model so that we can run a `background` model that does not include casing."
   ]
  },
  {
   "cell_type": "code",
   "execution_count": 9,
   "metadata": {},
   "outputs": [
    {
     "name": "stdout",
     "output_type": "stream",
     "text": [
      "12615.6626101008\n"
     ]
    }
   ],
   "source": [
    "print(model.diffusion_distance(1))\n"
   ]
  },
  {
   "cell_type": "code",
   "execution_count": 10,
   "metadata": {},
   "outputs": [],
   "source": [
    "model_background = model.copy()\n",
    "model_background.sigma_casing = model_background.sigma_back\n",
    "model_background.filename = \"background.json\""
   ]
  },
  {
   "cell_type": "markdown",
   "metadata": {},
   "source": [
    "### create \"approximate\" models\n",
    "- treat the well as a solid cylinder\n",
    "- use a conductivity equal to that product of the conductivity and cross-sectional area of the casing\n",
    "- to approximate the permeability, I preserve the product of the permeability and the thickness of the casing wall"
   ]
  },
  {
   "cell_type": "code",
   "execution_count": 11,
   "metadata": {},
   "outputs": [
    {
     "name": "stdout",
     "output_type": "stream",
     "text": [
      "The approximate conductivity of the solid we use is 1.8e+06\n"
     ]
    }
   ],
   "source": [
    "# preserve product of conductivity and cross-sectional area for solid cylinder \n",
    "sigmaA = model.sigma_casing * (model.casing_b**2 - model.casing_a**2)/model.casing_b**2\n",
    "print(f\"The approximate conductivity of the solid we use is {sigmaA:1.1e}\")\n",
    "\n",
    "model_approx_casing = model.copy()\n",
    "model_approx_casing.sigma_inside = sigmaA\n",
    "model_approx_casing.sigma_casing = sigmaA\n",
    "model_approx_casing.filename = \"approx_casing.json\""
   ]
  },
  {
   "cell_type": "markdown",
   "metadata": {},
   "source": [
    "keep track of the models in a dictionary"
   ]
  },
  {
   "cell_type": "code",
   "execution_count": 12,
   "metadata": {},
   "outputs": [],
   "source": [
    "model_names = [\"casing\", \"approx_casing\"] \n",
    "models = [model, model_approx_casing]\n",
    "model_dict = dict(zip(\n",
    "    model_names, \n",
    "    models \n",
    "))"
   ]
  },
  {
   "cell_type": "markdown",
   "metadata": {},
   "source": [
    "## Mesh\n",
    "\n",
    "We set up a 3D cylindrical mesh for the simulations. Both the casing and background models will be run on the same mesh. "
   ]
  },
  {
   "cell_type": "code",
   "execution_count": 13,
   "metadata": {},
   "outputs": [
    {
     "data": {
      "text/plain": [
       "440.6461512053774"
      ]
     },
     "execution_count": 13,
     "metadata": {},
     "output_type": "execute_result"
    }
   ],
   "source": [
    "model.diffusion_distance()"
   ]
  },
  {
   "cell_type": "code",
   "execution_count": 14,
   "metadata": {},
   "outputs": [],
   "source": [
    "# Theta discretization\n",
    "hy = np.ones(12)\n",
    "hy = hy*2*np.pi / hy.sum()"
   ]
  },
  {
   "cell_type": "code",
   "execution_count": 15,
   "metadata": {},
   "outputs": [],
   "source": [
    "meshGen = casingSim.mesh.CasingMeshGenerator(\n",
    "    directory = simDir, \n",
    "    modelParameters = model, \n",
    "    csx1 = model.casing_t/4,\n",
    "    csx2 = 100,\n",
    "    domain_x = casing_l,  # use 2.5m cells out to 300m. \n",
    "    hy = hy,\n",
    "    npadx = 8, # 6\n",
    "    npadz = 17,  #14\n",
    "#     npadx = 10, \n",
    "#     npadz = 19,\n",
    "    csz = csz,\n",
    ")\n",
    "# meshGen.save()"
   ]
  },
  {
   "cell_type": "code",
   "execution_count": 16,
   "metadata": {},
   "outputs": [],
   "source": [
    "mesh = meshGen.mesh"
   ]
  },
  {
   "cell_type": "code",
   "execution_count": 17,
   "metadata": {},
   "outputs": [
    {
     "name": "stdout",
     "output_type": "stream",
     "text": [
      "The mesh has 71568 cells\n"
     ]
    }
   ],
   "source": [
    "print(\"The mesh has {} cells\".format(meshGen.mesh.nC))"
   ]
  },
  {
   "cell_type": "markdown",
   "metadata": {},
   "source": [
    "plot the mesh"
   ]
  },
  {
   "cell_type": "code",
   "execution_count": 18,
   "metadata": {},
   "outputs": [
    {
     "name": "stderr",
     "output_type": "stream",
     "text": [
      "/global/homes/l/lheagy/.conda/envs/simpeg37/lib/python3.7/site-packages/matplotlib/projections/polar.py:55: RuntimeWarning: invalid value encountered in greater_equal\n",
      "  r = np.where(r >= 0, r, np.nan)\n"
     ]
    },
    {
     "data": {
      "image/png": "[encoded data removed]",
      "text/plain": [
       "<Figure size 864x360 with 2 Axes>"
      ]
     },
     "metadata": {
      "needs_background": "light"
     },
     "output_type": "display_data"
    }
   ],
   "source": [
    "ax = mesh.plotGrid()"
   ]
  },
  {
   "cell_type": "markdown",
   "metadata": {},
   "source": [
    "## Physical Properties\n",
    "\n",
    "Now that we have a mesh and a model defined, we populate the mesh with physical properties"
   ]
  },
  {
   "cell_type": "code",
   "execution_count": 19,
   "metadata": {},
   "outputs": [],
   "source": [
    "physprops_dict = {\n",
    "    key: casingSim.model.PhysicalProperties(\n",
    "        modelParameters=m, meshGenerator=meshGen\n",
    "    )\n",
    "    for key, m in model_dict.items() \n",
    "}\n"
   ]
  },
  {
   "cell_type": "code",
   "execution_count": 20,
   "metadata": {},
   "outputs": [
    {
     "data": {
      "image/png": "[encoded data removed]",
      "text/plain": [
       "<Figure size 720x360 with 4 Axes>"
      ]
     },
     "metadata": {
      "needs_background": "light"
     },
     "output_type": "display_data"
    }
   ],
   "source": [
    "fig, ax = plt.subplots(1, len(model_names), figsize=(5*len(model_names), 5))\n",
    "\n",
    "xlim = 0.5*np.r_[-1., 1.]\n",
    "ylim = np.r_[-1.25*casing_l, 10.]\n",
    "\n",
    "for m, a in zip(model_names, ax):\n",
    "    physprops_dict[m].plot_sigma(ax=a, pcolorOpts={'norm':LogNorm()})\n",
    "    a.set_xlim(xlim)\n",
    "    a.set_ylim(ylim) \n",
    "    a.set_title(m)\n",
    "\n",
    "plt.tight_layout()"
   ]
  },
  {
   "cell_type": "code",
   "execution_count": 21,
   "metadata": {},
   "outputs": [
    {
     "data": {
      "image/png": "[encoded data removed]",
      "text/plain": [
       "<Figure size 720x360 with 4 Axes>"
      ]
     },
     "metadata": {
      "needs_background": "light"
     },
     "output_type": "display_data"
    }
   ],
   "source": [
    "fig, ax = plt.subplots(1, len(model_names), figsize=(5*len(model_names), 5))\n",
    "\n",
    "xlim = 0.5*np.r_[-1., 1.]\n",
    "ylim = np.r_[-1.25*casing_l, 10.]\n",
    "\n",
    "for m, a in zip(model_names, ax):\n",
    "    physprops_dict[m].plot_mur(ax=a)\n",
    "    a.set_xlim(xlim)\n",
    "    a.set_ylim(ylim) \n",
    "    a.set_title(m)\n",
    "\n",
    "plt.tight_layout()"
   ]
  },
  {
   "cell_type": "markdown",
   "metadata": {},
   "source": [
    "## Survey\n",
    "\n",
    "The source is a grounded source with one electrode at 1000m and the other electrode connected to the top of the casing. A wire connects them. Note that we will use H-J formulation t solve this problem, so the source is defined as current that goes through the faces of the mesh. "
   ]
  },
  {
   "cell_type": "code",
   "execution_count": 22,
   "metadata": {},
   "outputs": [],
   "source": [
    "src_theta = np.pi/2. + mesh.hy[0]/2.\n",
    "model.src_a[1] = src_theta\n",
    "model.src_b[1] = src_theta"
   ]
  },
  {
   "cell_type": "code",
   "execution_count": 23,
   "metadata": {},
   "outputs": [],
   "source": [
    "top_src_a = model.src_a.copy()\n",
    "top_src_a[2] = -mesh.hz.min()/2."
   ]
  },
  {
   "cell_type": "code",
   "execution_count": 24,
   "metadata": {},
   "outputs": [],
   "source": [
    "downhole_src_a = model.src_a.copy()\n",
    "downhole_src_a[0] = 0.\n",
    "downhole_src_a[2] = -950."
   ]
  },
  {
   "cell_type": "code",
   "execution_count": 25,
   "metadata": {},
   "outputs": [],
   "source": [
    "src_top = casingSim.sources.TopCasingSrc(\n",
    "    directory=simDir, \n",
    "    modelParameters=model, \n",
    "    meshGenerator=meshGen,\n",
    "    src_a=top_src_a,\n",
    "    src_b=model.src_b,\n",
    "    physics=\"TDEM\",\n",
    "    filename=\"top_casing\",\n",
    ")\n",
    "\n",
    "src_downhole = casingSim.sources.DownHoleCasingSrc(\n",
    "    directory=simDir, \n",
    "    modelParameters=model,\n",
    "    meshGenerator=meshGen,\n",
    "    src_a=downhole_src_a,\n",
    "    src_b=model.src_b,\n",
    "    physics=\"TDEM\",\n",
    "    filename=\"downhole\",\n",
    ")\n",
    "\n",
    "sources = [src_top, src_downhole]\n",
    "srcList = src_top.srcList + src_downhole.srcList"
   ]
  },
  {
   "cell_type": "code",
   "execution_count": 26,
   "metadata": {},
   "outputs": [],
   "source": [
    "casingSimSrcList = casingSim.sources.SourceList(\n",
    "    filename=\"sources.json\",\n",
    "    directory=simDir,\n",
    "    sources = sources  \n",
    ")\n",
    "\n",
    "source_list = casingSimSrcList.srcList"
   ]
  },
  {
   "cell_type": "code",
   "execution_count": 27,
   "metadata": {},
   "outputs": [
    {
     "data": {
      "image/png": "[encoded data removed]",
      "text/plain": [
       "<Figure size 864x432 with 2 Axes>"
      ]
     },
     "metadata": {
      "needs_background": "light"
     },
     "output_type": "display_data"
    }
   ],
   "source": [
    "fig, ax = plt.subplots(1, 2, figsize=(12, 6))\n",
    "\n",
    "for a, src in zip(ax, sources): \n",
    "    meshGen.mesh.plotGrid(slice='theta', ax=a)\n",
    "    src.plot(ax=a)\n",
    "\n",
    "    a.set_xlim([0., 1200])\n",
    "    a.set_ylim([-1000., 10.])"
   ]
  },
  {
   "cell_type": "markdown",
   "metadata": {},
   "source": [
    "## Simulation"
   ]
  },
  {
   "cell_type": "code",
   "execution_count": 28,
   "metadata": {},
   "outputs": [],
   "source": [
    "survey = tdem.Survey(source_list)"
   ]
  },
  {
   "cell_type": "code",
   "execution_count": 29,
   "metadata": {},
   "outputs": [],
   "source": [
    "sim = tdem.Problem3D_j(\n",
    "    mesh=mesh, survey=survey, sigmaMap=maps.IdentityMap(mesh), solver=Pardiso,\n",
    "    time_steps=timeSteps\n",
    ")"
   ]
  },
  {
   "cell_type": "code",
   "execution_count": 40,
   "metadata": {},
   "outputs": [],
   "source": [
    "import dask\n",
    "import dask_jobqueue\n",
    "from dask.distributed import Client"
   ]
  },
  {
   "cell_type": "code",
   "execution_count": 41,
   "metadata": {},
   "outputs": [],
   "source": [
    "cluster = dask_jobqueue.SLURMCluster(\n",
    "    cores=2,\n",
    "    processes=2, memory='16GB', \n",
    "    project=\"m3384\",\n",
    "    job_extra = ['--constraint=haswell', '--qos=shared',], \n",
    "    death_timeout=120,\n",
    ")"
   ]
  },
  {
   "cell_type": "code",
   "execution_count": 42,
   "metadata": {},
   "outputs": [],
   "source": [
    "# dask_jobqueue.SLURMCluster??"
   ]
  },
  {
   "cell_type": "code",
   "execution_count": 43,
   "metadata": {},
   "outputs": [
    {
     "name": "stdout",
     "output_type": "stream",
     "text": [
      "#!/usr/bin/env bash\n",
      "\n",
      "#SBATCH -J dask-worker\n",
      "#SBATCH -A m3384\n",
      "#SBATCH -n 1\n",
      "#SBATCH --cpus-per-task=2\n",
      "#SBATCH --mem=15G\n",
      "#SBATCH -t 00:30:00\n",
      "#SBATCH --constraint=haswell\n",
      "#SBATCH --qos=shared\n",
      "JOB_ID=${SLURM_JOB_ID%;*}\n",
      "\n",
      "\n",
      "\n",
      "/global/homes/l/lheagy/.conda/envs/simpeg37/bin/python -m distributed.cli.dask_worker tcp://128.55.224.44:34463 --nthreads 1 --nprocs 2 --memory-limit 8.00GB --name dask-worker--${JOB_ID}-- --death-timeout 120\n",
      "\n"
     ]
    }
   ],
   "source": [
    "print(cluster.job_script())"
   ]
  },
  {
   "cell_type": "code",
   "execution_count": 44,
   "metadata": {},
   "outputs": [
    {
     "data": {
      "text/html": [
       "<table style=\"border: 2px solid white;\">\n",
       "<tr>\n",
       "<td style=\"vertical-align: top; border: 0px solid white\">\n",
       "<h3>Client</h3>\n",
       "<ul>\n",
       "  <li><b>Scheduler: </b>tcp://128.55.224.44:34463\n",
       "  <li><b>Dashboard: </b><a href='http://128.55.224.44:36849/status' target='_blank'>http://128.55.224.44:36849/status</a>\n",
       "</ul>\n",
       "</td>\n",
       "<td style=\"vertical-align: top; border: 0px solid white\">\n",
       "<h3>Cluster</h3>\n",
       "<ul>\n",
       "  <li><b>Workers: </b>0</li>\n",
       "  <li><b>Cores: </b>0</li>\n",
       "  <li><b>Memory: </b>0 B</li>\n",
       "</ul>\n",
       "</td>\n",
       "</tr>\n",
       "</table>"
      ],
      "text/plain": [
       "<Client: scheduler='tcp://128.55.224.44:34463' processes=0 cores=0>"
      ]
     },
     "execution_count": 44,
     "metadata": {},
     "output_type": "execute_result"
    }
   ],
   "source": [
    "client = Client(cluster)\n",
    "client"
   ]
  },
  {
   "cell_type": "code",
   "execution_count": 49,
   "metadata": {},
   "outputs": [],
   "source": [
    "@dask.delayed\n",
    "def run_simulation(m, simulation_params, filename=None):\n",
    "    import discretize\n",
    "    from SimPEG.electromagnetics import time_domain as tdem\n",
    "    from pymatsolver import Pardiso\n",
    "    \n",
    "    sim = tdem.Problem3D_j.deserialize(simulation_params, trusted=True)\n",
    "    sim.solver = Pardiso\n",
    "    sim.verbose = True\n",
    "    \n",
    "    fields = sim.fields(m)\n",
    "    f = fields[:, '{}Solution'.format(sim._fieldType), :]\n",
    "    if filename is not None: \n",
    "        tosave = os.path.sep.join([filename]) \n",
    "        print(f\"saving {tosave}\")\n",
    "        np.save(tosave, f)\n",
    "    return f"
   ]
  },
  {
   "cell_type": "code",
   "execution_count": 50,
   "metadata": {},
   "outputs": [],
   "source": [
    "cluster.scale(1)"
   ]
  },
  {
   "cell_type": "code",
   "execution_count": 51,
   "metadata": {},
   "outputs": [],
   "source": [
    "f = {}\n",
    "for key, value in physprops_dict.items():\n",
    "    f[key] = run_simulation(value.sigma, sim.serialize(), f\"{key}.npy\")"
   ]
  },
  {
   "cell_type": "code",
   "execution_count": 52,
   "metadata": {},
   "outputs": [
    {
     "ename": "KeyboardInterrupt",
     "evalue": "",
     "output_type": "error",
     "traceback": [
      "\u001b[0;31m---------------------------------------------------------------------------\u001b[0m",
      "\u001b[0;31mKeyboardInterrupt\u001b[0m                         Traceback (most recent call last)",
      "\u001b[0;32m<timed exec>\u001b[0m in \u001b[0;36m<module>\u001b[0;34m\u001b[0m\n",
      "\u001b[0;32m~/.conda/envs/simpeg37/lib/python3.7/site-packages/dask/base.py\u001b[0m in \u001b[0;36mcompute\u001b[0;34m(*args, **kwargs)\u001b[0m\n\u001b[1;32m    444\u001b[0m     \u001b[0mkeys\u001b[0m \u001b[0;34m=\u001b[0m \u001b[0;34m[\u001b[0m\u001b[0mx\u001b[0m\u001b[0;34m.\u001b[0m\u001b[0m__dask_keys__\u001b[0m\u001b[0;34m(\u001b[0m\u001b[0;34m)\u001b[0m \u001b[0;32mfor\u001b[0m \u001b[0mx\u001b[0m \u001b[0;32min\u001b[0m \u001b[0mcollections\u001b[0m\u001b[0;34m]\u001b[0m\u001b[0;34m\u001b[0m\u001b[0;34m\u001b[0m\u001b[0m\n\u001b[1;32m    445\u001b[0m     \u001b[0mpostcomputes\u001b[0m \u001b[0;34m=\u001b[0m \u001b[0;34m[\u001b[0m\u001b[0mx\u001b[0m\u001b[0;34m.\u001b[0m\u001b[0m__dask_postcompute__\u001b[0m\u001b[0;34m(\u001b[0m\u001b[0;34m)\u001b[0m \u001b[0;32mfor\u001b[0m \u001b[0mx\u001b[0m \u001b[0;32min\u001b[0m \u001b[0mcollections\u001b[0m\u001b[0;34m]\u001b[0m\u001b[0;34m\u001b[0m\u001b[0;34m\u001b[0m\u001b[0m\n\u001b[0;32m--> 446\u001b[0;31m     \u001b[0mresults\u001b[0m \u001b[0;34m=\u001b[0m \u001b[0mschedule\u001b[0m\u001b[0;34m(\u001b[0m\u001b[0mdsk\u001b[0m\u001b[0;34m,\u001b[0m \u001b[0mkeys\u001b[0m\u001b[0;34m,\u001b[0m \u001b[0;34m**\u001b[0m\u001b[0mkwargs\u001b[0m\u001b[0;34m)\u001b[0m\u001b[0;34m\u001b[0m\u001b[0;34m\u001b[0m\u001b[0m\n\u001b[0m\u001b[1;32m    447\u001b[0m     \u001b[0;32mreturn\u001b[0m \u001b[0mrepack\u001b[0m\u001b[0;34m(\u001b[0m\u001b[0;34m[\u001b[0m\u001b[0mf\u001b[0m\u001b[0;34m(\u001b[0m\u001b[0mr\u001b[0m\u001b[0;34m,\u001b[0m \u001b[0;34m*\u001b[0m\u001b[0ma\u001b[0m\u001b[0;34m)\u001b[0m \u001b[0;32mfor\u001b[0m \u001b[0mr\u001b[0m\u001b[0;34m,\u001b[0m \u001b[0;34m(\u001b[0m\u001b[0mf\u001b[0m\u001b[0;34m,\u001b[0m \u001b[0ma\u001b[0m\u001b[0;34m)\u001b[0m \u001b[0;32min\u001b[0m \u001b[0mzip\u001b[0m\u001b[0;34m(\u001b[0m\u001b[0mresults\u001b[0m\u001b[0;34m,\u001b[0m \u001b[0mpostcomputes\u001b[0m\u001b[0;34m)\u001b[0m\u001b[0;34m]\u001b[0m\u001b[0;34m)\u001b[0m\u001b[0;34m\u001b[0m\u001b[0;34m\u001b[0m\u001b[0m\n\u001b[1;32m    448\u001b[0m \u001b[0;34m\u001b[0m\u001b[0m\n",
      "\u001b[0;32m~/.conda/envs/simpeg37/lib/python3.7/site-packages/distributed/client.py\u001b[0m in \u001b[0;36mget\u001b[0;34m(self, dsk, keys, restrictions, loose_restrictions, resources, sync, asynchronous, direct, retries, priority, fifo_timeout, actors, **kwargs)\u001b[0m\n\u001b[1;32m   2508\u001b[0m                     \u001b[0mshould_rejoin\u001b[0m \u001b[0;34m=\u001b[0m \u001b[0;32mFalse\u001b[0m\u001b[0;34m\u001b[0m\u001b[0;34m\u001b[0m\u001b[0m\n\u001b[1;32m   2509\u001b[0m             \u001b[0;32mtry\u001b[0m\u001b[0;34m:\u001b[0m\u001b[0;34m\u001b[0m\u001b[0;34m\u001b[0m\u001b[0m\n\u001b[0;32m-> 2510\u001b[0;31m                 \u001b[0mresults\u001b[0m \u001b[0;34m=\u001b[0m \u001b[0mself\u001b[0m\u001b[0;34m.\u001b[0m\u001b[0mgather\u001b[0m\u001b[0;34m(\u001b[0m\u001b[0mpacked\u001b[0m\u001b[0;34m,\u001b[0m \u001b[0masynchronous\u001b[0m\u001b[0;34m=\u001b[0m\u001b[0masynchronous\u001b[0m\u001b[0;34m,\u001b[0m \u001b[0mdirect\u001b[0m\u001b[0;34m=\u001b[0m\u001b[0mdirect\u001b[0m\u001b[0;34m)\u001b[0m\u001b[0;34m\u001b[0m\u001b[0;34m\u001b[0m\u001b[0m\n\u001b[0m\u001b[1;32m   2511\u001b[0m             \u001b[0;32mfinally\u001b[0m\u001b[0;34m:\u001b[0m\u001b[0;34m\u001b[0m\u001b[0;34m\u001b[0m\u001b[0m\n\u001b[1;32m   2512\u001b[0m                 \u001b[0;32mfor\u001b[0m \u001b[0mf\u001b[0m \u001b[0;32min\u001b[0m \u001b[0mfutures\u001b[0m\u001b[0;34m.\u001b[0m\u001b[0mvalues\u001b[0m\u001b[0;34m(\u001b[0m\u001b[0;34m)\u001b[0m\u001b[0;34m:\u001b[0m\u001b[0;34m\u001b[0m\u001b[0;34m\u001b[0m\u001b[0m\n",
      "\u001b[0;32m~/.conda/envs/simpeg37/lib/python3.7/site-packages/distributed/client.py\u001b[0m in \u001b[0;36mgather\u001b[0;34m(self, futures, errors, direct, asynchronous)\u001b[0m\n\u001b[1;32m   1799\u001b[0m                 \u001b[0mdirect\u001b[0m\u001b[0;34m=\u001b[0m\u001b[0mdirect\u001b[0m\u001b[0;34m,\u001b[0m\u001b[0;34m\u001b[0m\u001b[0;34m\u001b[0m\u001b[0m\n\u001b[1;32m   1800\u001b[0m                 \u001b[0mlocal_worker\u001b[0m\u001b[0;34m=\u001b[0m\u001b[0mlocal_worker\u001b[0m\u001b[0;34m,\u001b[0m\u001b[0;34m\u001b[0m\u001b[0;34m\u001b[0m\u001b[0m\n\u001b[0;32m-> 1801\u001b[0;31m                 \u001b[0masynchronous\u001b[0m\u001b[0;34m=\u001b[0m\u001b[0masynchronous\u001b[0m\u001b[0;34m,\u001b[0m\u001b[0;34m\u001b[0m\u001b[0;34m\u001b[0m\u001b[0m\n\u001b[0m\u001b[1;32m   1802\u001b[0m             )\n\u001b[1;32m   1803\u001b[0m \u001b[0;34m\u001b[0m\u001b[0m\n",
      "\u001b[0;32m~/.conda/envs/simpeg37/lib/python3.7/site-packages/distributed/client.py\u001b[0m in \u001b[0;36msync\u001b[0;34m(self, func, *args, **kwargs)\u001b[0m\n\u001b[1;32m    762\u001b[0m             \u001b[0;32mreturn\u001b[0m \u001b[0mfuture\u001b[0m\u001b[0;34m\u001b[0m\u001b[0;34m\u001b[0m\u001b[0m\n\u001b[1;32m    763\u001b[0m         \u001b[0;32melse\u001b[0m\u001b[0;34m:\u001b[0m\u001b[0;34m\u001b[0m\u001b[0;34m\u001b[0m\u001b[0m\n\u001b[0;32m--> 764\u001b[0;31m             \u001b[0;32mreturn\u001b[0m \u001b[0msync\u001b[0m\u001b[0;34m(\u001b[0m\u001b[0mself\u001b[0m\u001b[0;34m.\u001b[0m\u001b[0mloop\u001b[0m\u001b[0;34m,\u001b[0m \u001b[0mfunc\u001b[0m\u001b[0;34m,\u001b[0m \u001b[0;34m*\u001b[0m\u001b[0margs\u001b[0m\u001b[0;34m,\u001b[0m \u001b[0;34m**\u001b[0m\u001b[0mkwargs\u001b[0m\u001b[0;34m)\u001b[0m\u001b[0;34m\u001b[0m\u001b[0;34m\u001b[0m\u001b[0m\n\u001b[0m\u001b[1;32m    765\u001b[0m \u001b[0;34m\u001b[0m\u001b[0m\n\u001b[1;32m    766\u001b[0m     \u001b[0;32mdef\u001b[0m \u001b[0m__repr__\u001b[0m\u001b[0;34m(\u001b[0m\u001b[0mself\u001b[0m\u001b[0;34m)\u001b[0m\u001b[0;34m:\u001b[0m\u001b[0;34m\u001b[0m\u001b[0;34m\u001b[0m\u001b[0m\n",
      "\u001b[0;32m~/.conda/envs/simpeg37/lib/python3.7/site-packages/distributed/utils.py\u001b[0m in \u001b[0;36msync\u001b[0;34m(loop, func, *args, **kwargs)\u001b[0m\n\u001b[1;32m    327\u001b[0m     \u001b[0;32melse\u001b[0m\u001b[0;34m:\u001b[0m\u001b[0;34m\u001b[0m\u001b[0;34m\u001b[0m\u001b[0m\n\u001b[1;32m    328\u001b[0m         \u001b[0;32mwhile\u001b[0m \u001b[0;32mnot\u001b[0m \u001b[0me\u001b[0m\u001b[0;34m.\u001b[0m\u001b[0mis_set\u001b[0m\u001b[0;34m(\u001b[0m\u001b[0;34m)\u001b[0m\u001b[0;34m:\u001b[0m\u001b[0;34m\u001b[0m\u001b[0;34m\u001b[0m\u001b[0m\n\u001b[0;32m--> 329\u001b[0;31m             \u001b[0me\u001b[0m\u001b[0;34m.\u001b[0m\u001b[0mwait\u001b[0m\u001b[0;34m(\u001b[0m\u001b[0;36m10\u001b[0m\u001b[0;34m)\u001b[0m\u001b[0;34m\u001b[0m\u001b[0;34m\u001b[0m\u001b[0m\n\u001b[0m\u001b[1;32m    330\u001b[0m     \u001b[0;32mif\u001b[0m \u001b[0merror\u001b[0m\u001b[0;34m[\u001b[0m\u001b[0;36m0\u001b[0m\u001b[0;34m]\u001b[0m\u001b[0;34m:\u001b[0m\u001b[0;34m\u001b[0m\u001b[0;34m\u001b[0m\u001b[0m\n\u001b[1;32m    331\u001b[0m         \u001b[0msix\u001b[0m\u001b[0;34m.\u001b[0m\u001b[0mreraise\u001b[0m\u001b[0;34m(\u001b[0m\u001b[0;34m*\u001b[0m\u001b[0merror\u001b[0m\u001b[0;34m[\u001b[0m\u001b[0;36m0\u001b[0m\u001b[0;34m]\u001b[0m\u001b[0;34m)\u001b[0m\u001b[0;34m\u001b[0m\u001b[0;34m\u001b[0m\u001b[0m\n",
      "\u001b[0;32m~/.conda/envs/simpeg37/lib/python3.7/threading.py\u001b[0m in \u001b[0;36mwait\u001b[0;34m(self, timeout)\u001b[0m\n\u001b[1;32m    550\u001b[0m             \u001b[0msignaled\u001b[0m \u001b[0;34m=\u001b[0m \u001b[0mself\u001b[0m\u001b[0;34m.\u001b[0m\u001b[0m_flag\u001b[0m\u001b[0;34m\u001b[0m\u001b[0;34m\u001b[0m\u001b[0m\n\u001b[1;32m    551\u001b[0m             \u001b[0;32mif\u001b[0m \u001b[0;32mnot\u001b[0m \u001b[0msignaled\u001b[0m\u001b[0;34m:\u001b[0m\u001b[0;34m\u001b[0m\u001b[0;34m\u001b[0m\u001b[0m\n\u001b[0;32m--> 552\u001b[0;31m                 \u001b[0msignaled\u001b[0m \u001b[0;34m=\u001b[0m \u001b[0mself\u001b[0m\u001b[0;34m.\u001b[0m\u001b[0m_cond\u001b[0m\u001b[0;34m.\u001b[0m\u001b[0mwait\u001b[0m\u001b[0;34m(\u001b[0m\u001b[0mtimeout\u001b[0m\u001b[0;34m)\u001b[0m\u001b[0;34m\u001b[0m\u001b[0;34m\u001b[0m\u001b[0m\n\u001b[0m\u001b[1;32m    553\u001b[0m             \u001b[0;32mreturn\u001b[0m \u001b[0msignaled\u001b[0m\u001b[0;34m\u001b[0m\u001b[0;34m\u001b[0m\u001b[0m\n\u001b[1;32m    554\u001b[0m \u001b[0;34m\u001b[0m\u001b[0m\n",
      "\u001b[0;32m~/.conda/envs/simpeg37/lib/python3.7/threading.py\u001b[0m in \u001b[0;36mwait\u001b[0;34m(self, timeout)\u001b[0m\n\u001b[1;32m    298\u001b[0m             \u001b[0;32melse\u001b[0m\u001b[0;34m:\u001b[0m\u001b[0;34m\u001b[0m\u001b[0;34m\u001b[0m\u001b[0m\n\u001b[1;32m    299\u001b[0m                 \u001b[0;32mif\u001b[0m \u001b[0mtimeout\u001b[0m \u001b[0;34m>\u001b[0m \u001b[0;36m0\u001b[0m\u001b[0;34m:\u001b[0m\u001b[0;34m\u001b[0m\u001b[0;34m\u001b[0m\u001b[0m\n\u001b[0;32m--> 300\u001b[0;31m                     \u001b[0mgotit\u001b[0m \u001b[0;34m=\u001b[0m \u001b[0mwaiter\u001b[0m\u001b[0;34m.\u001b[0m\u001b[0macquire\u001b[0m\u001b[0;34m(\u001b[0m\u001b[0;32mTrue\u001b[0m\u001b[0;34m,\u001b[0m \u001b[0mtimeout\u001b[0m\u001b[0;34m)\u001b[0m\u001b[0;34m\u001b[0m\u001b[0;34m\u001b[0m\u001b[0m\n\u001b[0m\u001b[1;32m    301\u001b[0m                 \u001b[0;32melse\u001b[0m\u001b[0;34m:\u001b[0m\u001b[0;34m\u001b[0m\u001b[0;34m\u001b[0m\u001b[0m\n\u001b[1;32m    302\u001b[0m                     \u001b[0mgotit\u001b[0m \u001b[0;34m=\u001b[0m \u001b[0mwaiter\u001b[0m\u001b[0;34m.\u001b[0m\u001b[0macquire\u001b[0m\u001b[0;34m(\u001b[0m\u001b[0;32mFalse\u001b[0m\u001b[0;34m)\u001b[0m\u001b[0;34m\u001b[0m\u001b[0;34m\u001b[0m\u001b[0m\n",
      "\u001b[0;31mKeyboardInterrupt\u001b[0m: "
     ]
    }
   ],
   "source": [
    "%%time\n",
    "fields_dict = dask.compute(f)"
   ]
  },
  {
   "cell_type": "markdown",
   "metadata": {},
   "source": [
    "load the results into memory and re-populate the fields object (this takes a couple minutes). "
   ]
  },
  {
   "cell_type": "code",
   "execution_count": 46,
   "metadata": {},
   "outputs": [],
   "source": [
    "# %%time\n",
    "# fields_dict = {}\n",
    "\n",
    "# for key in model_names:\n",
    "\n",
    "#     if key not in fields_dict.keys():\n",
    "#         t = time.time()\n",
    "#         print(\"loading {}\".format(key))\n",
    "#         sol = np.load(os.path.sep.join([\".\", f, f\"{key}_fields.npy\"]))\n",
    "#         sim.prob.model = physprops_dict[key].model\n",
    "#         fields_dict[key] = sim.prob.fieldsPair(sim.meshGenerator.mesh, sim.survey)\n",
    "#         print(\"   populating fields\")\n",
    "#         fields_dict[key][:, 'jSolution', :] = sol\n",
    "#         print(\"... done. time: {:1.2f}s\".format(time.time() - t))\n"
   ]
  },
  {
   "cell_type": "code",
   "execution_count": 47,
   "metadata": {},
   "outputs": [
    {
     "ename": "AttributeError",
     "evalue": "'Problem3D_j' object has no attribute 'copy'",
     "output_type": "error",
     "traceback": [
      "\u001b[0;31m---------------------------------------------------------------------------\u001b[0m",
      "\u001b[0;31mAttributeError\u001b[0m                            Traceback (most recent call last)",
      "\u001b[0;32m<ipython-input-47-9726628a1577>\u001b[0m in \u001b[0;36m<module>\u001b[0;34m\u001b[0m\n\u001b[1;32m      1\u001b[0m \u001b[0msim_dict\u001b[0m \u001b[0;34m=\u001b[0m \u001b[0;34m{\u001b[0m\u001b[0;34m}\u001b[0m\u001b[0;34m\u001b[0m\u001b[0;34m\u001b[0m\u001b[0m\n\u001b[1;32m      2\u001b[0m \u001b[0;32mfor\u001b[0m \u001b[0mkey\u001b[0m \u001b[0;32min\u001b[0m \u001b[0mmodel_names\u001b[0m\u001b[0;34m:\u001b[0m\u001b[0;34m\u001b[0m\u001b[0;34m\u001b[0m\u001b[0m\n\u001b[0;32m----> 3\u001b[0;31m     \u001b[0msim_dict\u001b[0m\u001b[0;34m[\u001b[0m\u001b[0mkey\u001b[0m\u001b[0;34m]\u001b[0m \u001b[0;34m=\u001b[0m \u001b[0msim\u001b[0m\u001b[0;34m.\u001b[0m\u001b[0mcopy\u001b[0m\u001b[0;34m(\u001b[0m\u001b[0;34m)\u001b[0m\u001b[0;34m\u001b[0m\u001b[0;34m\u001b[0m\u001b[0m\n\u001b[0m\u001b[1;32m      4\u001b[0m     \u001b[0msim_dict\u001b[0m\u001b[0;34m[\u001b[0m\u001b[0mkey\u001b[0m\u001b[0;34m]\u001b[0m\u001b[0;34m.\u001b[0m\u001b[0mmodelParameters\u001b[0m \u001b[0;34m=\u001b[0m \u001b[0mmodel_dict\u001b[0m\u001b[0;34m[\u001b[0m\u001b[0mkey\u001b[0m\u001b[0;34m]\u001b[0m\u001b[0;34m\u001b[0m\u001b[0;34m\u001b[0m\u001b[0m\n\u001b[1;32m      5\u001b[0m     \u001b[0msim_dict\u001b[0m\u001b[0;34m[\u001b[0m\u001b[0mkey\u001b[0m\u001b[0;34m]\u001b[0m\u001b[0;34m.\u001b[0m\u001b[0msrcList\u001b[0m \u001b[0;34m=\u001b[0m \u001b[0msim\u001b[0m\u001b[0;34m.\u001b[0m\u001b[0msrcList\u001b[0m\u001b[0;34m\u001b[0m\u001b[0;34m\u001b[0m\u001b[0m\n",
      "\u001b[0;31mAttributeError\u001b[0m: 'Problem3D_j' object has no attribute 'copy'"
     ]
    }
   ],
   "source": [
    "sim_dict = {}\n",
    "for key in model_names:\n",
    "    sim_dict[key] = sim.copy()\n",
    "    sim_dict[key].modelParameters = model_dict[key]\n",
    "    sim_dict[key].srcList = sim.srcList\n",
    "\n",
    "mesh = sim_dict[\"casing\"].meshGenerator.mesh"
   ]
  },
  {
   "cell_type": "code",
   "execution_count": null,
   "metadata": {},
   "outputs": [],
   "source": [
    "viewer = casingSim.FieldsViewer(\n",
    "    model_keys=model_names, sim_dict=sim_dict, fields_dict=fields_dict, primary_key=\"casing\"\n",
    ")"
   ]
  },
  {
   "cell_type": "code",
   "execution_count": null,
   "metadata": {},
   "outputs": [],
   "source": [
    "viewer.widget_cross_section(\n",
    "    defaults={\n",
    "        \"max_depth\":1.1*model.casing_l,\n",
    "        \"min_depth\":-10,\n",
    "        \"max_r\":0.15,\n",
    "        \"theta_ind\":3, \n",
    "        \"view\":\"j\"\n",
    "    }\n",
    ")"
   ]
  },
  {
   "cell_type": "code",
   "execution_count": null,
   "metadata": {},
   "outputs": [],
   "source": [
    "from matplotlib import rcParams\n",
    "rcParams['font.size'] = 14"
   ]
  },
  {
   "cell_type": "code",
   "execution_count": null,
   "metadata": {},
   "outputs": [],
   "source": [
    "viewer.primary = \"casing\""
   ]
  },
  {
   "cell_type": "code",
   "execution_count": null,
   "metadata": {},
   "outputs": [],
   "source": [
    "viewer.widget_cross_section(\n",
    "    defaults={\n",
    "        \"max_depth\":1.5*model.casing_l,\n",
    "        \"min_depth\":-10,\n",
    "        \"max_r\":1.5*model.casing_l,\n",
    "        \"theta_ind\":3,\n",
    "        \"view\":\"j\"\n",
    "    }, \n",
    "    figwidth=12\n",
    ")"
   ]
  },
  {
   "cell_type": "markdown",
   "metadata": {},
   "source": [
    "## Plan View "
   ]
  },
  {
   "cell_type": "code",
   "execution_count": null,
   "metadata": {},
   "outputs": [],
   "source": [
    "viewer = casingSim.FieldsViewer(\n",
    "    model_keys=model_names, sim_dict=sim_dict, fields_dict=fields_dict, primary_key=\"casing\"\n",
    ")"
   ]
  },
  {
   "cell_type": "code",
   "execution_count": null,
   "metadata": {},
   "outputs": [],
   "source": [
    "viewer.widget_depth_slice(\n",
    "    fixed={\"rotate\": True, \"figwidth\":6}, \n",
    "    defaults={\n",
    "        \"max_r\":1500, \"z_ind\":400, \"time_ind\":1, \"view\":\"j\", \"model_key\":\"casing\", \n",
    "        \"use_aspect\":True, \"theta_shift\":mesh.hy[0]/2, \"k\":10\n",
    "    }\n",
    ")"
   ]
  },
  {
   "cell_type": "code",
   "execution_count": null,
   "metadata": {},
   "outputs": [],
   "source": [
    "%%time\n",
    "data_time = {}\n",
    "\n",
    "xmin=5 \n",
    "xmax=1000 \n",
    "rx_times=fields_dict[key].survey.prob.timeMesh.gridN\n",
    "\n",
    "# indices to grab\n",
    "e_tz_inds = (\n",
    "    (mesh.gridFx[:, 0]>=xmin) & (mesh.gridFx[:, 0]<=xmax) & \n",
    "    (mesh.gridFx[:, 1] == mesh.vectorCCy[0]) & \n",
    "    (mesh.gridFx[:, 2] == -csz/2.)\n",
    ")\n",
    "\n",
    "x_inds = (mesh.vectorNx>=xmin) & (mesh.vectorNx<=xmax)\n",
    "x = rx_x = mesh.vectorNx[x_inds]\n",
    "\n",
    "time_inds = discretize.utils.closestPoints(fields_dict[model_names[0]].survey.prob.timeMesh, rx_times, 'N')\n",
    "t = times = fields_dict[model_names[0]].survey.prob.timeMesh.gridN[time_inds]\n",
    "\n",
    "for key in model_names:    \n",
    "    if key not in data_time.keys():\n",
    "        print(f\"fetching {key}\")\n",
    "        f = fields_dict[key]\n",
    "        data = []       \n",
    "    \n",
    "    for src_ind in range(len(f.survey.srcList)):\n",
    "        e_data = f[f.survey.srcList[src_ind], 'e', time_inds]\n",
    "        e_data = (e_data[:mesh.vnF[0], :])[e_tz_inds, :]  \n",
    "        e_data = e_data.reshape(len(rx_x), len(times), order=\"F\")\n",
    "        data += [e_data]\n",
    "    \n",
    "    data_time[key] = data"
   ]
  },
  {
   "cell_type": "code",
   "execution_count": null,
   "metadata": {},
   "outputs": [],
   "source": [
    "%%time\n",
    "\n",
    "dbdt_time = {}\n",
    "\n",
    "\n",
    "dbdt_tz_inds = (\n",
    "    (mesh.gridEy[:, 0]>=xmin) & (mesh.gridEy[:, 0]<=xmax) & \n",
    "    (mesh.gridEy[:, 1] == mesh.vectorCCy[0]) & \n",
    "    (mesh.gridEy[:, 2] == 0)\n",
    ")\n",
    "\n",
    "x_inds = (mesh.vectorNx>=xmin) & (mesh.vectorNx<=xmax)\n",
    "x = rx_x = mesh.vectorNx[x_inds]\n",
    "\n",
    "time_inds = discretize.utils.closestPoints(fields_dict[model_names[0]].survey.prob.timeMesh, rx_times, 'N')\n",
    "t = times = fields_dict[model_names[0]].survey.prob.timeMesh.gridN[time_inds]\n",
    "\n",
    "for key in [\"background\", \"casing\", \"permeable\"]:\n",
    "    if key not in dbdt_time.keys():\n",
    "        print(f\"fetching {key}\")\n",
    "        f = fields_dict[key]\n",
    "        data = []\n",
    "\n",
    "        for src_ind in range(len(f.survey.srcList)):\n",
    "            dbdt_data = f[f.survey.srcList[src_ind], 'dbdt', time_inds]\n",
    "            dbdt_data = (dbdt_data[mesh.vnE[0]:mesh.vnE[:2].sum(), :])[dbdt_tz_inds, :]\n",
    "            dbdt_data = dbdt_data.reshape(len(rx_x), len(times), order=\"F\")\n",
    "            data += [dbdt_data]\n",
    "\n",
    "        dbdt_time[key] = data\n"
   ]
  },
  {
   "cell_type": "code",
   "execution_count": null,
   "metadata": {},
   "outputs": [],
   "source": [
    "from matplotlib import colors\n",
    "from matplotlib import cm as cmap"
   ]
  },
  {
   "cell_type": "code",
   "execution_count": null,
   "metadata": {},
   "outputs": [],
   "source": [
    "rx_times = np.logspace(np.log10(1e-5), np.log10(0.05), 10)\n",
    "time_inds = discretize.utils.closestPoints(fields_dict[\"casing\"].survey.prob.timeMesh, rx_times, 'N')\n",
    "times = fields_dict[\"casing\"].survey.prob.timeMesh.gridN[time_inds]\n",
    "print(times)"
   ]
  },
  {
   "cell_type": "code",
   "execution_count": null,
   "metadata": {},
   "outputs": [],
   "source": [
    "cm = plt.get_cmap('magma')\n",
    "key = \"casing\"\n",
    "c_norm = colors.LogNorm(vmin=times.min(), vmax=times.max()*6)\n",
    "scalar_map = cmap.ScalarMappable(norm=c_norm, cmap=cm)\n",
    "scalar_map.set_array([])\n",
    "\n",
    "c_norm_msec = colors.LogNorm(vmin=times.min()*1e3, vmax=times.max()*6*1e3)\n",
    "scalar_map_msec = cmap.ScalarMappable(norm=c_norm_msec, cmap=cm)\n",
    "scalar_map_msec.set_array([])"
   ]
  },
  {
   "cell_type": "code",
   "execution_count": null,
   "metadata": {},
   "outputs": [],
   "source": [
    "from string import ascii_lowercase\n",
    "from matplotlib import rcParams\n",
    "\n",
    "rcParams['font.size'] = 14"
   ]
  },
  {
   "cell_type": "code",
   "execution_count": null,
   "metadata": {},
   "outputs": [],
   "source": [
    "def plot_data(x, data, color, ax, plot_sign=False, ls='-', lw=1, ms=2, plot_type=\"semilogy\", label=None):\n",
    "    \n",
    "    if plot_sign is True:\n",
    "        pos = data >= 0   \n",
    "        split_me = np.hstack([np.r_[0], np.where(np.diff(pos))[0], np.r_[len(pos) - 1]])\n",
    "        for i, s in enumerate(split_me[:-1]):\n",
    "            xplt = x[s:split_me[i+1]+2]\n",
    "            dplt = data[s:split_me[i+1]+2]\n",
    "            if i == 0:\n",
    "                ax.plot(np.r_[np.NaN], np.r_[np.NaN], '-', color=color, label=label, lw=lw)\n",
    "            if pos[s+1] == True: \n",
    "                getattr(ax, plot_type)(xplt, dplt, '-', color=color, lw=lw)\n",
    "            elif pos[s+1] == False:\n",
    "                getattr(ax, plot_type)(xplt, -dplt, '--', color=color, lw=lw)\n",
    "    else:\n",
    "        getattr(ax, plot_type)(x, np.absolute(data), ls, color=color, label=label, lw=lw, ms=ms)"
   ]
  },
  {
   "cell_type": "code",
   "execution_count": null,
   "metadata": {},
   "outputs": [],
   "source": [
    "print(model_dict[\"casing\"].src_a)\n",
    "print(np.pi/2 + mesh.hy[0]/2)"
   ]
  },
  {
   "cell_type": "code",
   "execution_count": null,
   "metadata": {},
   "outputs": [],
   "source": [
    "demo_time_inds = discretize.utils.closestPoints(fields_dict[\"casing\"].survey.prob.timeMesh, [1e-5, 1e-4], 'N')\n",
    "demo_times = fields_dict[\"casing\"].survey.prob.timeMesh.gridN[demo_time_inds]"
   ]
  },
  {
   "cell_type": "code",
   "execution_count": null,
   "metadata": {},
   "outputs": [],
   "source": [
    "viewerplt = casingSim.FieldsViewer(\n",
    "    model_keys=model_names, sim_dict=sim_dict, fields_dict=fields_dict, primary_key=\"background\"\n",
    ")"
   ]
  },
  {
   "cell_type": "code",
   "execution_count": null,
   "metadata": {},
   "outputs": [],
   "source": [
    "demo_time_inds"
   ]
  },
  {
   "cell_type": "markdown",
   "metadata": {},
   "source": [
    "## So much plotting code!"
   ]
  },
  {
   "cell_type": "code",
   "execution_count": null,
   "metadata": {},
   "outputs": [],
   "source": [
    "z_ind_default = 409 if use_downsampled else 421\n",
    "def plot_data_overview(\n",
    "    key1=\"background\", key2=\"casing\", data=\"e\", times=[1e-5, 1e-3], \n",
    "    include_percent=True,  \n",
    "    d_ylim=None, clim=None,\n",
    "    percent_lim=np.r_[0., 35], xlim=1200*np.r_[-1, 1], src_ind=0, z_ind=z_ind_default, x_ind=15\n",
    "):\n",
    "    viewerplt = casingSim.FieldsViewer(\n",
    "        model_keys=model_names, sim_dict=sim_dict, fields_dict=fields_dict, primary_key=key1\n",
    "    )\n",
    "    \n",
    "    plt_inds = (t > 1e-5) & (t < 5e-1)\n",
    "    tplt = t[plt_inds]\n",
    "    tcolor = \"C3\" \n",
    "    tcolors = [\"C0\", \"C2\"]\n",
    "    \n",
    "    if d_ylim is not None: \n",
    "        eps=1e-3*d_ylim[0]\n",
    "    else:\n",
    "        eps = 0. \n",
    "    \n",
    "    # data\n",
    "    if data==\"e\":\n",
    "        ddict = data_time\n",
    "    elif data ==\"dbdt\":\n",
    "        ddict = dbdt_time\n",
    "        \n",
    "    # times\n",
    "    demo_time_inds = discretize.utils.closestPoints(fields_dict[\"casing\"].survey.prob.timeMesh, times, 'N')\n",
    "    demo_times = fields_dict[\"casing\"].survey.prob.timeMesh.gridN[demo_time_inds]\n",
    "\n",
    "    # plotting controls\n",
    "    ylim = xlim\n",
    "    stream_opts={\"arrowsize\":1.4, \"color\":\"k\", \"density\":0.85}\n",
    "    \n",
    "    # create the figure \n",
    "    if include_percent is True: \n",
    "        fig = plt.figure(figsize=(16, 13)) \n",
    "        gs = gridspec.GridSpec(4, 5, width_ratios=[1, 1, 0.35, 1.5, 1.5], hspace=0.25, wspace=0.1) \n",
    "        ax = np.array([plt.subplot(gs[i]) for i in range(4*5)]).reshape(5, 4, order=\"F\")\n",
    "    else: \n",
    "        fig = plt.figure(figsize=(16, 10)) \n",
    "        gs = gridspec.GridSpec(3, 5, width_ratios=[1, 1, 0.35, 1.5, 1.5], hspace=0.25, wspace=0.1) \n",
    "        ax = np.array([plt.subplot(gs[i]) for i in range(3*5)]).reshape(5, 3, order=\"F\")\n",
    "\n",
    "    for ii, time in enumerate(demo_times):\n",
    "        i = demo_time_inds[ii]\n",
    "        color=tcolors[ii]\n",
    "\n",
    "        # plot data\n",
    "        dd = [\n",
    "            ddict[key1][src_ind][:, i], \n",
    "            ddict[key2][src_ind][:, i], \n",
    "            ddict[key2][src_ind][:, i]-ddict[key1][src_ind][:, i], \n",
    "        ]\n",
    "        if include_percent:\n",
    "            dd += [(ddict[key2][src_ind][:, i]-ddict[key1][src_ind][:, i])/(np.absolute(ddict[key1][src_ind][:, i])+eps)*100]\n",
    "        \n",
    "        label = \"{:0.2f} ms\".format(time*1e3)\n",
    "        for a, d in zip(ax[3, :], dd):\n",
    "            plot_type = \"semilogy\"\n",
    "            if include_percent == True:\n",
    "                if a == ax[3, 3]:\n",
    "                    plot_type = \"plot\"\n",
    "                    \n",
    "            plot_data(\n",
    "                x, d, color, a, plot_sign=True, label=label,\n",
    "                plot_type=plot_type\n",
    "            )\n",
    "            label=None\n",
    "\n",
    "            if include_percent: \n",
    "                if a == ax[3, 3]:\n",
    "                    a.plot(x[x_ind], np.absolute(d[x_ind]), \"o\", color=tcolor)\n",
    "                else: \n",
    "                    a.semilogy(x[x_ind], np.absolute(d[x_ind]), \"o\", color=tcolor)\n",
    "            else: \n",
    "                a.semilogy(x[x_ind], np.absolute(d[x_ind]), \"o\", color=tcolor)\n",
    "                \n",
    "        # plot plan-view at the surface\n",
    "        out = []\n",
    "        for a, primsec in zip(ax[ii, :], [\"primary\", \"total\", \"secondary\"]):\n",
    "            out += [\n",
    "                viewerplt.plot_depth_slice(\n",
    "                    xlim=xlim, ylim=xlim, clim=clim if primsec != \"percent\" else percent_lim, \n",
    "                    ax=a, z_ind=z_ind, model_key=key2, view=data,\n",
    "                    show_cb=False, time_ind=i, rotate=True, theta_shift=mesh.hy[0]/2,\n",
    "                    stream_opts=stream_opts, prim_sec=primsec, src_ind=src_ind\n",
    "            )]\n",
    "\n",
    " # plot data through time\n",
    "    dd = [\n",
    "            ddict[key1][src_ind][x_ind, :], \n",
    "            ddict[key2][src_ind][x_ind, :], \n",
    "            ddict[key2][src_ind][x_ind, :]-ddict[key1][src_ind][x_ind, :], \n",
    "    ]\n",
    "    if include_percent:\n",
    "        dd += [\n",
    "            (ddict[key2][src_ind][x_ind, :]-ddict[key1][src_ind][x_ind, :])/(np.absolute(ddict[key1][src_ind][x_ind, :])+eps)*100\n",
    "        ]\n",
    "        \n",
    "    label = \"{:1.0f} m\".format(x[x_ind])\n",
    "    for a, d in zip(ax[4, :], dd):\n",
    "        plot_type = \"loglog\"\n",
    "        if include_percent == True:\n",
    "            if a == ax[4, 3]:\n",
    "                plot_type = \"semilogx\"\n",
    "                \n",
    "        plot_data(\n",
    "            tplt*1e3, d[plt_inds], tcolor, a, plot_sign=True, \n",
    "            plot_type=plot_type,\n",
    "            label=label\n",
    "        )\n",
    "        label=None\n",
    "        for ii, time in enumerate(demo_times):\n",
    "            i = demo_time_inds[ii]\n",
    "            color=tcolors[ii]    #scalar_map.to_rgba(time)\n",
    "            if include_percent:\n",
    "                if a == ax[4, 3]:\n",
    "                    a.semilogx(time*1e3, np.absolute(d[i]), 'o', color=color)\n",
    "                else: \n",
    "                    a.loglog(time*1e3, np.absolute(d[i]), 'o', color=color)\n",
    "            else:\n",
    "                a.loglog(time*1e3, np.absolute(d[i]), 'o', color=color)\n",
    "\n",
    "\n",
    "    for ii, a in enumerate(ax[[0, 1], 0]):\n",
    "        a.text(xlim[1]-100, xlim[0]+200, \"{:0.2f} ms\".format(demo_times[ii]*1e3), color='w', fontsize=22, ha=\"right\")\n",
    "\n",
    "\n",
    "    ax[3, 0].legend()\n",
    "    ax[4, 0].legend()\n",
    "\n",
    "    [a.set_axis_off() for a in ax[2, :]]\n",
    "    [a.set_title(\"({})\".format(ascii_lowercase[i])) for i, a in enumerate((ax[[0, 1, 3, 4], :].T).flatten())]   \n",
    "\n",
    "    \n",
    "    for i, a in enumerate(ax[4, :]):\n",
    "        a.grid(which=\"both\", alpha=0.4, lw=0.5)\n",
    "#         a.set_title('({})'.format(ascii_lowercase[i*4 +3]))\n",
    "        a.set_yticklabels(['']*len(a.get_yticklabels()))\n",
    "        a.set_ylabel('')\n",
    "        a.set_ylim(d_ylim)\n",
    "        \n",
    "        if (i < 3 and include_percent == True) or (i < 2 and include_percent == False):\n",
    "            a.set_xticklabels(['']*len(a.get_xticklabels()))\n",
    "            \n",
    "        else:\n",
    "            a.set_xlabel('time (ms)')\n",
    "            if include_percent == True: \n",
    "                a.set_ylim(percent_lim)\n",
    "\n",
    "    for i, a in enumerate(ax[3, :]):\n",
    "        if i < 3: \n",
    "            a.set_ylim(d_ylim)\n",
    "        else:\n",
    "            a.set_ylim(percent_lim)\n",
    "            \n",
    "        a.grid(which=\"both\", alpha=0.4, lw=0.5)\n",
    "#         a.set_title('({})'.format(ascii_lowercase[i*4 +2]))\n",
    "        \n",
    "        if (i < 3 and include_percent == True) or (i < 2 and include_percent == False):\n",
    "            a.set_xticklabels(['']*len(a.get_xticklabels()))\n",
    "        else:\n",
    "            a.set_xlabel('offset (m)')\n",
    "\n",
    "        if i in [0, 1]: \n",
    "            a.set_ylabel(\n",
    "                '$db/dt$ (V/m$^2$)' if data == \"dbdt\" else \n",
    "                'electric field, E$_r$ (V/m)'\n",
    "            )\n",
    "    #         a.legend()\n",
    "        elif i == 2: \n",
    "            a.set_ylabel(\n",
    "                'difference, $db/dt$ (V/m$^2$)' if data == \"dbdt\" else\n",
    "                'difference, E$_r$ (V/m)'\n",
    "            )\n",
    "        else: \n",
    "            a.set_ylabel(\n",
    "                'difference, $db/dt$ (%)' if data == \"dbdt\" else\n",
    "                'difference, E$_r$ (%)'\n",
    "            )\n",
    "            \n",
    "\n",
    "    for j, aa in enumerate([ax[0, :3], ax[1, :3]]):\n",
    "        for i, a in enumerate(aa):\n",
    "            if i < 2:\n",
    "                a.set_xticklabels(['']*len(a.get_xticklabels()))\n",
    "                a.set_xlabel('')\n",
    "            else:\n",
    "                a.set_xlabel('x (m)')\n",
    "\n",
    "            if j > 0: \n",
    "                a.set_yticklabels(['']*len(a.get_yticklabels()))\n",
    "                a.set_ylabel('')\n",
    "            else:\n",
    "                a.set_ylabel(\"y (m)\")\n",
    "\n",
    "            a.plot(np.r_[0., 0], np.r_[0, 1000], 'w--')\n",
    "            a.plot(np.r_[0], x[x_ind], \"o\", color=tcolor)\n",
    "\n",
    "    if include_percent: \n",
    "        for a in ax[:2, -1]:\n",
    "            a.set_axis_off() \n",
    "            a.set_title('')\n",
    "        ax[3, -1].set_title(\"(m)\")\n",
    "        ax[4, -1].set_title(\"(n)\")\n",
    "\n",
    "\n",
    "        cbar_ax = fig.add_axes([0.15, 0.25, 0.22, 0.01])\n",
    "    else:\n",
    "        cbar_ax = fig.add_axes([0.15, 0.025, 0.22, 0.01])\n",
    "        \n",
    "    cb = plt.colorbar(out[0][0], cbar_ax, orientation=\"horizontal\")\n",
    "    cb.set_label('$db/dt$ (V/m$^2$)' if data==\"dbdt\" else 'Electric field (V/m)')\n",
    "    \n",
    "\n",
    "    return fig, ax"
   ]
  },
  {
   "cell_type": "code",
   "execution_count": null,
   "metadata": {},
   "outputs": [],
   "source": [
    "fig, ax = plot_data_overview(\n",
    "    \"background\", \"casing\", \"e\", times=[1e-5, 5e-3], \n",
    "    d_ylim=np.r_[3e-10, 3e-2], clim=np.r_[1e-7, 3e-2], include_percent=False\n",
    ")\n",
    "\n",
    "if use_downsampled is False: \n",
    "    fig.savefig(\"../figures/surface_e_fields_overview\", dpi=250,  bbox_inches=\"tight\")\n",
    "\n"
   ]
  },
  {
   "cell_type": "code",
   "execution_count": null,
   "metadata": {},
   "outputs": [],
   "source": [
    "# the calculation of b on the downsampled results is not accurate as we are not satisfying boundary conditions \n",
    "# for the curl.  \n",
    "if use_downsampled is False: \n",
    "    fig, ax = plot_data_overview(\n",
    "        \"background\", \"casing\", \"dbdt\", times=[1e-5, 5e-3],\n",
    "        d_ylim=np.r_[1e-11, 1e-4], clim=np.r_[1e-11, 1e-4], percent_lim = np.r_[0, 35], \n",
    "        include_percent=True\n",
    "    )\n",
    "\n",
    "\n",
    "    fig.savefig(\"../figures/surface_dbdt_overview\", dpi=250,  bbox_inches=\"tight\")\n",
    "\n"
   ]
  },
  {
   "cell_type": "code",
   "execution_count": null,
   "metadata": {},
   "outputs": [],
   "source": [
    "fig, ax = plot_data_overview(\n",
    "    \"casing\", \"permeable\", \"e\", \n",
    "    times = [1e-5, 5e-3], \n",
    "    d_ylim=np.r_[3e-10, 3e-2], clim=np.r_[1e-7, 3e-2], percent_lim=np.r_[0., 250],\n",
    "    include_percent=True\n",
    ")\n",
    "\n",
    "if use_downsampled is False: \n",
    "    fig.savefig(\"../figures/surface_e_fields_permeable\", dpi=250,  bbox_inches=\"tight\")\n",
    "\n"
   ]
  },
  {
   "cell_type": "code",
   "execution_count": null,
   "metadata": {},
   "outputs": [],
   "source": [
    "# the calculation of b on the downsampled results is not accurate as we are not satisfying boundary conditions \n",
    "# for the curl. \n",
    "if use_downsampled is False: \n",
    "    fig, ax = plot_data_overview(\n",
    "        \"casing\", \"permeable\", \"dbdt\", times=[1e-5, 5e-3],\n",
    "        d_ylim=np.r_[1e-11, 1e-4], clim=np.r_[1e-11, 1e-4], percent_lim = np.r_[0, 60], \n",
    "        include_percent=True\n",
    "    )\n",
    "\n",
    "    fig.savefig(\"../figures/surface_dbdt_permeable\", dpi=250,  bbox_inches=\"tight\")\n",
    "\n"
   ]
  },
  {
   "cell_type": "code",
   "execution_count": null,
   "metadata": {},
   "outputs": [],
   "source": [
    "if use_downsampled is False:\n",
    "    \n",
    "    # I only saved the top-casing source results in the downsampled fields, this plot looks at the downhole source \n",
    "    fig, ax = plot_data_overview(\n",
    "        \"casing\", \"permeable\", \"e\", \n",
    "        times = [1e-5, 5e-3], \n",
    "        d_ylim=np.r_[3e-10, 3e-2], clim=np.r_[1e-7, 3e-2], percent_lim=np.r_[0., 450],\n",
    "        include_percent=True, src_ind=1\n",
    "    )\n",
    "\n",
    " \n",
    "    fig.savefig(\"../figures/surface_e_fields_permeable_downhole\", dpi=250,  bbox_inches=\"tight\")\n",
    "\n"
   ]
  },
  {
   "cell_type": "code",
   "execution_count": null,
   "metadata": {},
   "outputs": [],
   "source": [
    "if include_approximate is True: \n",
    "    fig, ax = plot_data_overview(\n",
    "        \"casing\", \"approx_casing\", \"e\", \n",
    "        times = [1e-5, 5e-3], \n",
    "        d_ylim=np.r_[3e-10, 3e-2], clim=np.r_[1e-7, 3e-2], percent_lim=np.r_[0., 10],\n",
    "        include_percent=True, src_ind=0\n",
    "    )\n",
    "\n",
    "    if use_downsampled is False:\n",
    "        fig.savefig(\"../figures/surface_e_fields_approx_casing\", dpi=250, bbox_inches=\"tight\")\n",
    "\n"
   ]
  },
  {
   "cell_type": "code",
   "execution_count": null,
   "metadata": {},
   "outputs": [],
   "source": [
    "if include_approximate is True: \n",
    "    fig, ax = plot_data_overview(\n",
    "        \"permeable\", \"approx_permeable\", \"e\", \n",
    "        times = [1e-5, 5e-3], \n",
    "        d_ylim=np.r_[3e-10, 3e-2], clim=np.r_[1e-7, 3e-2], percent_lim=np.r_[0., 25],\n",
    "        include_percent=True, src_ind=0\n",
    "    )\n",
    "\n",
    "    if use_downsampled is False:\n",
    "        fig.savefig(\"../figures/surface_e_fields_approx_permeable\", dpi=250, bbox_inches=\"tight\")\n",
    "\n"
   ]
  },
  {
   "cell_type": "code",
   "execution_count": null,
   "metadata": {},
   "outputs": [],
   "source": [
    "def plot_currents(\n",
    "    key1=\"background\", key2=\"casing\", times=[1e-5, 1e-3], \n",
    "    include_percent=True, \n",
    "    d_ylim=None, clim=None,\n",
    "    percent_lim=np.r_[0., 35], xlim=1200*np.r_[-1, 1], src_ind=0, z_ind=421, x_ind=15\n",
    "):\n",
    "    viewerplt = casingSim.FieldsViewer(\n",
    "        model_keys=model_names, sim_dict=sim_dict, fields_dict=fields_dict, primary_key=key1\n",
    "    )\n",
    "    \n",
    "    plt_inds = (t > 1e-5) & (t < 5e-1)\n",
    "    tplt = t[plt_inds]\n",
    "    tcolor = \"C3\" \n",
    "    tcolors = [\"C0\", \"C2\"]\n",
    "    \n",
    "    if d_ylim is not None: \n",
    "        eps=1e-3*d_ylim[0]\n",
    "    else:\n",
    "        eps = 0. \n",
    "    \n",
    "    # data\n",
    "    if data==\"e\":\n",
    "        ddict = data_time\n",
    "    elif data ==\"dbdt\":\n",
    "        ddict = dbdt_time\n",
    "        \n",
    "    # times\n",
    "    demo_time_inds = discretize.utils.closestPoints(fields_dict[\"casing\"].survey.prob.timeMesh, times, 'N')\n",
    "    demo_times = fields_dict[\"casing\"].survey.prob.timeMesh.gridN[demo_time_inds]"
   ]
  },
  {
   "cell_type": "code",
   "execution_count": null,
   "metadata": {},
   "outputs": [],
   "source": [
    "mod = model.copy()\n",
    "mod.casing_d = model.casing_b\n",
    "mod.casing_t = model.casing_b\n",
    "\n",
    "mod2 = mod.copy()\n",
    "mod2.casing_l = csz\n",
    "mod2.casing_top = -500 + csz/2.\n",
    "mod2.casing_z"
   ]
  },
  {
   "cell_type": "code",
   "execution_count": null,
   "metadata": {},
   "outputs": [],
   "source": [
    "\n",
    "# fig.subplots_adjust(hspace=0.1)\n",
    "def plot_currents_overview(key1=\"casing\", key2=\"approx_casing\", times=[1e-5, 5e-3], ylim=[3e-7, 1], ylim_percent=[-1, 20]):\n",
    "\n",
    "    fig, ax = plt.subplots(4, 2, figsize = (12, 12))\n",
    "    src1 = sim_dict[key1].srcList.srcList[0]\n",
    "    src2 = sim_dict[key2].srcList.srcList[0]\n",
    "\n",
    "    demo_time_inds = discretize.utils.closestPoints(fields_dict[\"casing\"].survey.prob.timeMesh, times, 'N')\n",
    "    demo_times = fields_dict[\"casing\"].survey.prob.timeMesh.gridN[demo_time_inds]\n",
    "\n",
    "    plt_inds = (t >= 1e-5) & (t <= 5e-1)\n",
    "    tplt = t[plt_inds]\n",
    "    tcolor = \"C3\" \n",
    "    tcolors = [\"C0\", \"C2\"]\n",
    "\n",
    "\n",
    "    for ii, time in enumerate(demo_times):\n",
    "        i = demo_time_inds[ii]\n",
    "        color=tcolors[ii]\n",
    "\n",
    "        z_currents, iz1 = casingSim.casing_currents(fields_dict[key1][src1, 'j', i], mesh, mod)[\"z\"]\n",
    "        z_currents, iz2 = casingSim.casing_currents(fields_dict[key2][src2, 'j', i], mesh, mod)[\"z\"]\n",
    "\n",
    "        # currents\n",
    "        plot_data(-z_currents, -iz1, color=tcolors[ii], ax=ax[0, 0], plot_sign=True, label=\"{:1.2f} ms\".format(time*1e3)) \n",
    "        plot_data(-z_currents, -iz2, color=tcolors[ii], ax=ax[1, 0], plot_sign=True) \n",
    "        plot_data(-z_currents, -iz1 + iz2, color=tcolors[ii], ax=ax[2, 0], plot_sign=True)\n",
    "        plot_data(-z_currents, (-iz1 + iz2)/np.absolute(iz1)*100, color=tcolors[ii], ax=ax[3, 0], plot_type=\"plot\", plot_sign=True)\n",
    "\n",
    "        j = np.where(z_currents == mod2.casing_z.mean())[0]\n",
    "        ax[0, 0].semilogy(-mod2.casing_z.mean(), -iz1[j], '{}o'.format(tcolor))\n",
    "        ax[1, 0].semilogy(-mod2.casing_z.mean(), -iz2[j], '{}o'.format(tcolor))\n",
    "        ax[2, 0].semilogy(-mod2.casing_z.mean(), np.absolute(-iz1[j]+iz2[j]), '{}o'.format(tcolor))\n",
    "        ax[3, 0].plot(-mod2.casing_z.mean(), np.absolute((-iz1[j] + iz2[j])/np.absolute(iz1[j])*100), '{}o'.format(tcolor))\n",
    "\n",
    "    # through time\n",
    "    izt1 = np.hstack([\n",
    "        casingSim.casing_currents(fields_dict[key1][src1, 'j', i], mesh, mod2)[\"z\"][1] for i in np.where(plt_inds)[0]\n",
    "    ])\n",
    "    izt2 = np.hstack([\n",
    "        casingSim.casing_currents(fields_dict[key2][src1, 'j', i], mesh, mod2)[\"z\"][1] for i in np.where(plt_inds)[0]\n",
    "    ])\n",
    "\n",
    "    plot_data(tplt*1e3, -izt1, color=tcolor, ax=ax[0, 1], plot_sign=True, label=\"depth: {:1.0f} m\".format(-mod2.casing_z.mean()), plot_type=\"loglog\") \n",
    "    plot_data(tplt*1e3, -izt2, color=tcolor, ax=ax[1, 1], plot_sign=True, plot_type=\"loglog\") \n",
    "    plot_data(tplt*1e3, -izt1 + izt2, color=tcolor, ax=ax[2, 1], plot_sign=True, plot_type=\"loglog\")\n",
    "    plot_data(tplt*1e3, ((-izt1 + izt2)/np.absolute(izt1)*100), color=tcolor, ax=ax[3, 1], plot_type=\"semilogx\", plot_sign=True)\n",
    "\n",
    "    for ii, time in enumerate(demo_times):\n",
    "        i = np.where(tplt == time)[0]\n",
    "        ax[0, 1].loglog(time*1e3, -izt1[i], \"{}o\".format(tcolors[ii]))\n",
    "        ax[1, 1].loglog(time*1e3, -izt2[i], \"{}o\".format(tcolors[ii]))\n",
    "        ax[2, 1].loglog(time*1e3, np.absolute(-izt1[i] + izt2[i]), \"{}o\".format(tcolors[ii]))\n",
    "        ax[3, 1].semilogx(time*1e3, np.absolute(-izt1[i] + izt2[i])/np.absolute(izt1[i])*100, \"{}o\".format(tcolors[ii]))\n",
    "\n",
    "    for i, a in enumerate(ax.T.flatten()):\n",
    "        a.grid(which=\"both\", alpha=0.4, lw=0.5)\n",
    "        if i == 3:\n",
    "            a.set_xlabel('depth (m)')\n",
    "            a.set_ylim(ylim_percent)\n",
    "        elif i == 7:\n",
    "            a.set_xlabel('time (ms)')\n",
    "            a.set_ylim(ylim_percent)\n",
    "        else:\n",
    "            a.set_xticklabels(['']*len(a.get_yticklabels()))\n",
    "            a.set_xlabel('')\n",
    "            a.set_ylim(ylim)\n",
    "    \n",
    "    ax[0, 0].set_ylabel(\"current (A)\")\n",
    "    ax[1, 0].set_ylabel(\"current (A)\")\n",
    "    ax[2, 0].set_ylabel(\"current difference (A)\")\n",
    "    ax[3, 0].set_ylabel(\"current difference (%)\")\n",
    "\n",
    "    [a.set_title('({})'.format(ascii_lowercase[i])) for i, a in enumerate(ax.flatten())]\n",
    "\n",
    "    ax[0, 0].legend()\n",
    "    ax[0, 1].legend()\n",
    "\n",
    "    plt.tight_layout()\n",
    "    \n",
    "    return fig, ax"
   ]
  },
  {
   "cell_type": "code",
   "execution_count": null,
   "metadata": {},
   "outputs": [],
   "source": [
    "if include_approximate is True: \n",
    "    fig, ax =  plot_currents_overview(\n",
    "        key1=\"casing\", key2=\"approx_casing\", times= [1e-5, 5e-3], ylim=[3e-7, 2], ylim_percent=[-1, 15]\n",
    "    )\n",
    "\n",
    "    if use_downsampled is False:\n",
    "        fig.savefig(\"../figures/approx_casing_currents\", dpi=250, bbox_inches=\"tight\")"
   ]
  },
  {
   "cell_type": "code",
   "execution_count": null,
   "metadata": {},
   "outputs": [],
   "source": [
    "if include_approximate is True: \n",
    "    fig, ax =  plot_currents_overview(\n",
    "        key1=\"permeable\", key2=\"approx_permeable\", times= [1e-5, 5e-3], ylim=[3e-7, 2], ylim_percent=[-1, 20]\n",
    "    )\n",
    "\n",
    "    if use_downsampled is False:\n",
    "        fig.savefig(\"../figures/approx_permeable_currents\", dpi=250, bbox_inches=\"tight\")"
   ]
  },
  {
   "cell_type": "code",
   "execution_count": null,
   "metadata": {},
   "outputs": [],
   "source": [
    "viewer2 = casingSim.FieldsViewer(\n",
    "    model_keys=model_names, sim_dict=sim_dict, fields_dict=fields_dict, primary_key=\"casing\"\n",
    ")"
   ]
  },
  {
   "cell_type": "code",
   "execution_count": null,
   "metadata": {},
   "outputs": [],
   "source": [
    "if use_downsampled:\n",
    "    plt_times = [0,  5, 14, 36, 59, 68]\n",
    "else:\n",
    "    plt_times = [0, 10, 28, 73, 118, 136]\n",
    "t[plt_times]"
   ]
  },
  {
   "cell_type": "code",
   "execution_count": null,
   "metadata": {},
   "outputs": [],
   "source": [
    "viewer2.primary_key = \"casing\""
   ]
  },
  {
   "cell_type": "code",
   "execution_count": null,
   "metadata": {},
   "outputs": [],
   "source": [
    "if include_approximate is True: \n",
    "    rcParams['font.size'] = 18\n",
    "    # rcParams['axes.titlepad'] = 0.5\n",
    "\n",
    "    src_ind = 0\n",
    "\n",
    "    clim_max = 1e-4 \n",
    "    clim_min = 3e-9\n",
    "    clim = np.r_[clim_min, clim_max]\n",
    "\n",
    "    # clim_casing = np.r_[1e-5, 1e3]\n",
    "    # clim_formation = np.r_[1e-9, 1e-4]\n",
    "\n",
    "    clim_max_casing = 1e3\n",
    "    clim_min_casing = 1e-5\n",
    "    clim_casing = np.r_[clim_min_casing, clim_max_casing]\n",
    "\n",
    "    max_depth = 1.4*casing_l\n",
    "    max_r_casing = 0.09\n",
    "    top=10.,\n",
    "\n",
    "    xlim = 1490.*np.r_[-1., 1.]\n",
    "\n",
    "    zinds = [400, 101]\n",
    "\n",
    "    x_ticks = [0, -500, -1000, -1500]\n",
    "    stream_opts={\"arrowsize\":1.6, \"color\":\"k\", \"density\":0.85}\n",
    "\n",
    "    model_key = \"approx_casing\"\n",
    "    prim_sec = \"secondary\"\n",
    "\n",
    "    # fig, ax = plt.subplots(4, len(plt_times), figsize )\n",
    "\n",
    "    fig = plt.figure(figsize=(24, 5*len(plt_times))) \n",
    "    # fig.subplots_adjust(bottom=0.8)\n",
    "\n",
    "    gs = gridspec.GridSpec(len(plt_times), 5, width_ratios=[1.6, 4.8, 0.65, 2, 2], wspace=0.05, hspace=0.07) \n",
    "    ax = [plt.subplot(gs[i]) for i in range(len(plt_times)*5)]\n",
    "\n",
    "    for i, tind in enumerate(plt_times):\n",
    "\n",
    "        ax0 = ax[i*5 + 1]\n",
    "        ax1 = ax[i*5 + 3]\n",
    "        ax2 = ax[i*5 + 4]\n",
    "        ax3 = ax[i*5]\n",
    "\n",
    "        ax[i*5 + 2].set_axis_off() # hack to get the spacing I want between the casing and formation plots\n",
    "\n",
    "        if model_key == \"background\":\n",
    "            ax3.set_axis_off()\n",
    "\n",
    "        # currents in the formation\n",
    "        out = viewer2.plot_cross_section(\n",
    "            ax=ax0, clim=clim, zlim=np.r_[-max_depth, top],\n",
    "            xlim=xlim, view='j', theta_ind=3, time_ind=tind, \n",
    "            model_key=model_key, show_cb=False, use_aspect=True,\n",
    "            stream_opts=stream_opts, prim_sec=prim_sec, src_ind=src_ind\n",
    "        )\n",
    "\n",
    "\n",
    "        # plot depth slice above\n",
    "        for a, z_ind in zip([ax1, ax2], zinds):\n",
    "            out = viewer2.plot_depth_slice(\n",
    "                xlim=xlim, ylim=xlim, clim=clim,\n",
    "                ax=a, z_ind=z_ind, model_key=model_key, view='j',\n",
    "                show_cb=False, time_ind=tind, rotate=True, theta_shift=mesh.hy[0]/2,\n",
    "                stream_opts=stream_opts, prim_sec=prim_sec, src_ind=src_ind\n",
    "            )\n",
    "\n",
    "        ax2.text(1400, 1150, \"Time: {:.2f} ms\".format(sim.prob.times[tind]*1e3), color='w', fontsize=20, ha=\"right\")\n",
    "\n",
    "\n",
    "        # zoomed in plot\n",
    "        # currents in the formation\n",
    "\n",
    "        if not model_key == \"background\":\n",
    "            out_casing = viewer2.plot_cross_section(\n",
    "                ax=ax3, clim=clim_casing, zlim=np.r_[-max_depth, top],\n",
    "                xlim=max_r_casing*np.r_[-1, 1.],\n",
    "                view='j', theta_ind=3, time_ind=tind, \n",
    "                model_key=model_key, show_cb=False,\n",
    "                stream_opts=stream_opts, prim_sec=prim_sec, src_ind=src_ind\n",
    "            )\n",
    "            ax3.set_ylim(np.r_[-max_depth, top])\n",
    "            ax3.set_ylabel('z (m)')\n",
    "    #     ax3.set_yticks(z_ticks)\n",
    "\n",
    "        for a in [ax0, ax1, ax2, ax3]:\n",
    "            a.set_title('')\n",
    "            if a != ax3: \n",
    "                a.set_aspect(1)\n",
    "\n",
    "            if tind == plt_times[-1]:\n",
    "                a.set_xlabel('x (m)')\n",
    "                if a == ax3:\n",
    "                    a.ticklabel_format(style='sci', axis='x', scilimits=(0,0))\n",
    "            else: \n",
    "                a.set_xticklabels(['']*len(a.get_xticklabels()))\n",
    "                a.set_xlabel('')\n",
    "\n",
    "            if a in [ax2, ax0]:\n",
    "                if a == ax0 and model_key == \"background\":\n",
    "                    a.set_ylabel('z (m)')\n",
    "                else: \n",
    "                    a.set_ylabel('')\n",
    "                    a.set_yticklabels(['']*len(a.get_yticklabels()))\n",
    "\n",
    "\n",
    "            if a == ax1:\n",
    "                a.set_ylabel('y (m)', labelpad=0.001)\n",
    "\n",
    "\n",
    "        if tind == 0:\n",
    "            if model_key != \"background\":\n",
    "                ax0.set_title('(b) Cross section\\ny = 0m')\n",
    "                ax1.set_title('(c) Depth slice\\nz = {:1.0f}m'.format(sim.prob.mesh.vectorCCz[zinds[0]]))\n",
    "                ax2.set_title('(d) Depth slice\\nz = {:1.0f}m'.format(sim.prob.mesh.vectorCCz[zinds[1]])) \n",
    "                ax3.set_title('(a) Cross section\\ny = 0m')\n",
    "            else:\n",
    "                ax0.set_title('(a) Cross section\\ny = 0m')\n",
    "                ax1.set_title('(b) Depth slice\\nz = {:1.0f}m'.format(sim.prob.mesh.vectorCCz[zinds[0]]))\n",
    "                ax2.set_title('(c) Depth slice\\nz = {:1.0f}m'.format(sim.prob.mesh.vectorCCz[zinds[1]]))\n",
    "                ax3.set_title('')\n",
    "    #             ax3.set_title('(a) Cross section\\ny = 0m\\n')\n",
    "\n",
    "    # gs.tight_layout(fig, pad=0.1)\n",
    "    # plt.tight_layout()\n",
    "\n",
    "    cbar_ax = fig.add_axes([0.30, 0.07, 0.53, 0.005])\n",
    "    cb = plt.colorbar(out[0], cbar_ax, orientation='horizontal')\n",
    "    cb.set_label('Current density (A/m$^2$)')\n",
    "\n",
    "    if model_key != \"background\":\n",
    "        cbar_ax2 = fig.add_axes([0.135, 0.07, 0.08, 0.005])\n",
    "        cb2 = plt.colorbar(out_casing[0], cbar_ax2, orientation='horizontal')\n",
    "        cb2.set_label('Current density (A/m$^2$)')\n",
    "        cb2.set_ticks([1e1*clim_min_casing, 1e2])\n",
    "        cb2.update_ticks()\n",
    "\n",
    "    plt.show()"
   ]
  },
  {
   "cell_type": "code",
   "execution_count": null,
   "metadata": {},
   "outputs": [],
   "source": [
    "if use_downsampled is False and include_approximate is True:\n",
    "    fig.savefig('../figures/tdem-{}-{}-currents-downhole'.format(model_key, prim_sec), bbox_inches=\"tight\", dpi=250)"
   ]
  },
  {
   "cell_type": "code",
   "execution_count": null,
   "metadata": {},
   "outputs": [],
   "source": [
    "s = sim_dict[\"casing\"]"
   ]
  },
  {
   "cell_type": "code",
   "execution_count": null,
   "metadata": {},
   "outputs": [],
   "source": [
    "mod = model.copy()\n",
    "mod.casing_d = model.casing_b\n",
    "mod.casing_t = model.casing_b\n",
    "\n",
    "print(mod.casing_a, mod.casing_b)\n",
    "print(model.casing_a, model.casing_b)"
   ]
  },
  {
   "cell_type": "code",
   "execution_count": null,
   "metadata": {},
   "outputs": [],
   "source": [
    "if include_approximate is True: \n",
    "    fig, ax = plt.subplots(len(plt_times), 2,  figsize = (7, 5*len(plt_times)))\n",
    "    plt.subplots_adjust(wspace=0.07, hspace=0.07)\n",
    "\n",
    "    rcParams['font.size'] = 16\n",
    "    # rcParams['axes.titlepad'] = 0.5\n",
    "\n",
    "    src_ind = 0\n",
    "\n",
    "    clim_max = 3e-1 \n",
    "    clim_min = 1e-5\n",
    "    clim = np.r_[clim_min, clim_max]\n",
    "\n",
    "    max_depth = 1250\n",
    "    max_r_casing = 0.48\n",
    "    top=10.,\n",
    "\n",
    "    xlim=max_r_casing * np.r_[-1, 1]\n",
    "\n",
    "    x_ticks = [0, -500, -1000, -1500]\n",
    "    stream_opts={\"arrowsize\":1.6, \"color\":\"k\", \"density\":0.85}\n",
    "\n",
    "    model_key = \"approx_casing\"\n",
    "    prim_sec = \"secondary\"\n",
    "\n",
    "    for i, tind in enumerate(plt_times):\n",
    "        ax0 = ax[i, 0]\n",
    "        ax1 = ax[i, 1]\n",
    "\n",
    "        # currents in the formation\n",
    "        out = viewer2.plot_cross_section(\n",
    "            ax=ax0, clim=clim, zlim=np.r_[-max_depth, top],\n",
    "            xlim=xlim, view='e', theta_ind=3, time_ind=tind, \n",
    "            model_key=model_key, show_cb=False, use_aspect=False,\n",
    "            stream_opts=stream_opts, prim_sec=\"primary\", src_ind=src_ind\n",
    "        )\n",
    "\n",
    "        # currents in the formation\n",
    "        out = viewer2.plot_cross_section(\n",
    "            ax=ax1, clim=clim, zlim=np.r_[-max_depth, top],\n",
    "            xlim=xlim, view='e', theta_ind=3, time_ind=tind, \n",
    "            model_key=model_key, show_cb=False, use_aspect=False,\n",
    "            stream_opts=stream_opts, prim_sec=prim_sec, src_ind=src_ind\n",
    "        )\n",
    "\n",
    "    #     # currents in the formation\n",
    "    #     out = viewer2.plot_cross_section(\n",
    "    #         ax=ax1, clim=clim_charge, zlim=np.r_[-max_depth, top],\n",
    "    #         xlim=xlim, view='charge_density', theta_ind=3, time_ind=tind, \n",
    "    #         model_key=model_key, show_cb=False, use_aspect=False,\n",
    "    #         stream_opts=stream_opts, prim_sec=prim_sec, src_ind=src_ind\n",
    "    #     )\n",
    "        ax1.text(0.45, -1200, \"Time: {:.2f} ms\".format(sim.prob.times[tind]*1e3), color='w', fontsize=20, ha=\"right\")\n",
    "\n",
    "        for a in [ax0, ax1]:\n",
    "            a.set_title('')\n",
    "\n",
    "            if tind == plt_times[-1]:\n",
    "                a.set_xlabel('x (m)')\n",
    "    #             a.ticklabel_format(style='sci', axis='x', scilimits=(0,0))\n",
    "            else: \n",
    "                a.set_xticklabels(['']*len(a.get_xticklabels()))\n",
    "                a.set_xlabel('')\n",
    "\n",
    "            if a == ax0:\n",
    "                a.set_ylabel('z (m)')\n",
    "            else: \n",
    "                a.set_ylabel('')\n",
    "                a.set_yticklabels(['']*len(a.get_yticklabels()))\n",
    "\n",
    "    ax[0, 0].set_title(\"(a)\")\n",
    "    ax[0, 1].set_title(\"(b)\")\n",
    "\n",
    "    cbar_ax = fig.add_axes([0.2, 0.08, 0.6, 0.01])\n",
    "    cb = plt.colorbar(out[0], cbar_ax, orientation=\"horizontal\")\n",
    "    cb.set_label('Electric field (V/m)')\n",
    "\n",
    "    #         if a == ax1:\n",
    "    #             a.set_ylabel('y (m)', labelpad=0.001)"
   ]
  },
  {
   "cell_type": "code",
   "execution_count": null,
   "metadata": {},
   "outputs": [],
   "source": [
    "viewer2.primary_key = \"permeable\"\n",
    "stream_opts={\"arrowsize\":1.5, \"color\":\"k\"}"
   ]
  },
  {
   "cell_type": "code",
   "execution_count": null,
   "metadata": {},
   "outputs": [],
   "source": [
    "if include_approximate is True: \n",
    "    fig, ax = plt.subplots(len(plt_times), 6,  figsize = (3.5*6, 5*len(plt_times)))\n",
    "    plt.subplots_adjust(wspace=0.07, hspace=0.07)\n",
    "\n",
    "    rcParams['font.size'] = 16\n",
    "    # rcParams['axes.titlepad'] = 0.5\n",
    "\n",
    "    src_ind = 0\n",
    "\n",
    "    clim_max = 1 \n",
    "    clim_min = 1e-5\n",
    "    clim = np.r_[clim_min, clim_max]\n",
    "\n",
    "    clim_charge_total = 1e-9*np.r_[-1, 1]\n",
    "\n",
    "    if viewer2.primary_key == \"casing\":\n",
    "        clim_charge = 1e-11*np.r_[-1, 1]\n",
    "    else: \n",
    "        clim_charge = 1e-10*np.r_[-1, 1]\n",
    "\n",
    "    clim_current = np.r_[1e-7, 1e2]\n",
    "\n",
    "    max_depth = 1200\n",
    "    max_r_casing = 0.14\n",
    "    top=10.,\n",
    "\n",
    "    xlim=max_r_casing * np.r_[-1, 1]\n",
    "\n",
    "    x_ticks = [0, -500, -1000, -1500]\n",
    "    \n",
    "\n",
    "    model_key = \"approx_{}\".format(viewer2.primary_key) #.split(\"_\")[-1]\n",
    "    prim_sec = \"secondary\"\n",
    "\n",
    "    for i, tind in enumerate(plt_times):\n",
    "        ax0 = ax[i, 0]\n",
    "        ax1 = ax[i, 1]\n",
    "        ax2 = ax[i, 2]\n",
    "        ax3 = ax[i, 3]\n",
    "        ax4 = ax[i, 4]\n",
    "        ax5 = ax[i, 5]\n",
    "\n",
    "        # currents in the formation\n",
    "        out_current = viewer2.plot_cross_section(\n",
    "            ax=ax0, clim=clim_current, zlim=np.r_[-max_depth, top],\n",
    "            xlim=xlim, view='j', theta_ind=3, time_ind=tind, \n",
    "            model_key=model_key, show_cb=False, use_aspect=False,\n",
    "            stream_opts=stream_opts, prim_sec=\"primary\", src_ind=src_ind\n",
    "        )\n",
    "\n",
    "        # currents in the formation\n",
    "        out = viewer2.plot_cross_section(\n",
    "            ax=ax1, clim=clim_current, zlim=np.r_[-max_depth, top],\n",
    "            xlim=xlim, view='j', theta_ind=3, time_ind=tind, \n",
    "            model_key=model_key, show_cb=False, use_aspect=False,\n",
    "            stream_opts=stream_opts, prim_sec=prim_sec, src_ind=src_ind\n",
    "        )\n",
    "\n",
    "        # currents in the formation\n",
    "        out_charge_total = viewer2.plot_cross_section(\n",
    "            ax=ax2, clim=clim_charge_total, zlim=np.r_[-max_depth, top],\n",
    "            xlim=xlim, view='charge_density', theta_ind=3, time_ind=tind, \n",
    "            model_key=model_key, show_cb=False, use_aspect=False,\n",
    "            stream_opts=stream_opts, prim_sec=\"primary\", src_ind=src_ind\n",
    "        )\n",
    "\n",
    "        # currents in the formation\n",
    "        out_charge = viewer2.plot_cross_section(\n",
    "            ax=ax3, clim=clim_charge, zlim=np.r_[-max_depth, top],\n",
    "            xlim=xlim, view='charge_density', theta_ind=3, time_ind=tind, \n",
    "            model_key=model_key, show_cb=False, use_aspect=False,\n",
    "            stream_opts=stream_opts, prim_sec=prim_sec, src_ind=src_ind\n",
    "        )\n",
    "\n",
    "        # currents in the formation\n",
    "        out_e = viewer2.plot_cross_section(\n",
    "            ax=ax4, clim=clim, zlim=np.r_[-max_depth, top],\n",
    "            xlim=xlim, view='e', theta_ind=3, time_ind=tind, \n",
    "            model_key=model_key, show_cb=False, use_aspect=False,\n",
    "            stream_opts=stream_opts, prim_sec=\"primary\", src_ind=src_ind\n",
    "        )\n",
    "\n",
    "        # currents in the formation\n",
    "        out = viewer2.plot_cross_section(\n",
    "            ax=ax5, clim=clim, zlim=np.r_[-max_depth, top],\n",
    "            xlim=xlim, view='e', theta_ind=3, time_ind=tind, \n",
    "            model_key=model_key, show_cb=False, use_aspect=False,\n",
    "            stream_opts=stream_opts, prim_sec=prim_sec, src_ind=src_ind\n",
    "        )\n",
    "\n",
    "    #     # currents in the formation\n",
    "    #     out = viewer2.plot_cross_section(\n",
    "    #         ax=ax1, clim=clim_charge, zlim=np.r_[-max_depth, top],\n",
    "    #         xlim=xlim, view='charge_density', theta_ind=3, time_ind=tind, \n",
    "    #         model_key=model_key, show_cb=False, use_aspect=False,\n",
    "    #         stream_opts=stream_opts, prim_sec=prim_sec, src_ind=src_ind\n",
    "    #     )\n",
    "        ax0.text(max_r_casing - 0.015, -1160, \"Time: {:.2f} ms\".format(sim.prob.times[tind]*1e3), color='w', fontsize=20, ha=\"right\")\n",
    "\n",
    "        for a in [ax0, ax1, ax2, ax3, ax4, ax5]:\n",
    "            a.set_title('')\n",
    "\n",
    "            if tind == plt_times[-1]:\n",
    "                a.set_xlabel('x (m)')\n",
    "    #             a.ticklabel_format(style='sci', axis='x', scilimits=(0,0))\n",
    "            else: \n",
    "                a.set_xticklabels(['']*len(a.get_xticklabels()))\n",
    "                a.set_xlabel('')\n",
    "\n",
    "            if a == ax0:\n",
    "                a.set_ylabel('z (m)')\n",
    "            else: \n",
    "                a.set_ylabel('')\n",
    "                a.set_yticklabels(['']*len(a.get_yticklabels()))\n",
    "\n",
    "    for i, a in enumerate(ax[0, :]):\n",
    "        a.set_title(\"({})\".format(ascii_lowercase[i]))\n",
    "\n",
    "    cbar_ax = fig.add_axes([0.14, 0.09, 0.2, 0.01])\n",
    "    cb = plt.colorbar(out_current[0], cbar_ax, orientation=\"horizontal\")\n",
    "    cb.set_label('Current density (A/m$^2$)')\n",
    "    cb.set_ticks(clim_current)\n",
    "\n",
    "    cbar_ax = fig.add_axes([0.4, 0.09, 0.09, 0.01])\n",
    "    cb = plt.colorbar(out_charge_total[0], cbar_ax, orientation=\"horizontal\")\n",
    "    cb.set_label('\\n Charge density (C/m$^3$)')\n",
    "    cb.set_ticks(clim_charge_total)\n",
    "\n",
    "    cbar_ax = fig.add_axes([0.53, 0.09, 0.09, 0.01])\n",
    "    cb = plt.colorbar(out_charge[0], cbar_ax, orientation=\"horizontal\")\n",
    "    cb.set_label('\\n Charge density (C/m$^3$)')\n",
    "    cb.set_ticks(clim_charge)\n",
    "\n",
    "    cbar_ax = fig.add_axes([0.68, 0.09, 0.2, 0.01])\n",
    "    cb = plt.colorbar(out_current[0], cbar_ax, orientation=\"horizontal\")\n",
    "    cb.set_label('Electric field (V/m)')\n",
    "    cb.set_ticks(clim)\n",
    "# cb.set_ticks([1e1*clim_current[0], 1e-1*clim_current[1]])\n",
    "\n",
    "#         if a == ax1:\n",
    "#             a.set_ylabel('y (m)', labelpad=0.001)"
   ]
  },
  {
   "cell_type": "code",
   "execution_count": null,
   "metadata": {},
   "outputs": [],
   "source": [
    "if use_downsampled is False and include_approximate is True:\n",
    "    fig.savefig(\"../figures/electric-{}\".format(viewer2.primary_key), dpi=250, bbox_inches=\"tight\")"
   ]
  },
  {
   "cell_type": "code",
   "execution_count": null,
   "metadata": {},
   "outputs": [],
   "source": [
    "if include_approximate is True: \n",
    "    fig, ax = plt.subplots(1, len(plt_times),  figsize = (3.25*len(plt_times), 6))\n",
    "    plt.subplots_adjust(wspace=0.05, hspace=0.07)\n",
    "\n",
    "    rcParams['font.size'] = 16\n",
    "    # rcParams['axes.titlepad'] = 0.5\n",
    "\n",
    "    src_ind = 0\n",
    "\n",
    "    clim_max = 1e-1 \n",
    "    clim_min = 1e-5\n",
    "    clim = np.r_[clim_min, clim_max]\n",
    "\n",
    "    clim_charge = 9e-12*np.r_[-1, 1]\n",
    "\n",
    "    max_depth = 1200\n",
    "    max_r_casing = 0.49\n",
    "    top=10.,\n",
    "\n",
    "    xlim=max_r_casing * np.r_[-1, 1]\n",
    "\n",
    "    x_ticks = [0, -500, -1000, -1500]\n",
    "    # stream_opts={\"arrowsize\":1.6, \"color\":\"k\", \"density\":0.85}\n",
    "\n",
    "    model_key = \"approx_casing\"\n",
    "    prim_sec = \"secondary\"\n",
    "\n",
    "    for i, tind in enumerate(plt_times):\n",
    "        ax0 = ax[i]\n",
    "    #     ax1 = ax[i, 1]\n",
    "\n",
    "        # currents in the formation\n",
    "        out = viewer2.plot_cross_section(\n",
    "            ax=ax0, clim=clim, zlim=np.r_[-max_depth, top],\n",
    "            xlim=xlim, view='e', theta_ind=3, time_ind=tind, \n",
    "            model_key=model_key, show_cb=False, # if i < len(plt_times)-1 else True, \n",
    "            use_aspect=False,\n",
    "            stream_opts=stream_opts, prim_sec=prim_sec, src_ind=src_ind\n",
    "        )\n",
    "\n",
    "        ax0.set_title(\"({})\".format(ascii_lowercase[i]))\n",
    "        ax0.text(0.45, -1150, \"Time: {:.2f} ms\".format(sim.prob.times[tind]*1e3), color='w', fontsize=20, ha=\"right\")\n",
    "        ax0.set_xlabel(\"x (m)\")\n",
    "    #     ax0.set_aspect(1.5e-3)\n",
    "        if i > 0:\n",
    "            ax0.set_ylabel('')\n",
    "            ax0.set_yticklabels(['']*len(a.get_yticklabels()))\n",
    "        else:\n",
    "            ax0.set_ylabel('z (m)')\n",
    "\n",
    "    cbar_ax = fig.add_axes([0.905, 0.13, 0.013, 0.75])\n",
    "    cb = plt.colorbar(out[0], cbar_ax)\n",
    "    cb.set_label('secondary electric field (V/m)')"
   ]
  },
  {
   "cell_type": "code",
   "execution_count": null,
   "metadata": {},
   "outputs": [],
   "source": [
    "if use_downsampled is False and include_approximate is True:\n",
    "    fig.savefig('../figures/{}-{}-efields'.format(model_key, prim_sec), dpi=250, bbox_inches=\"tight\")"
   ]
  },
  {
   "cell_type": "code",
   "execution_count": null,
   "metadata": {},
   "outputs": [],
   "source": [
    "fig, ax = plt.subplots(2, len(plt_times),  figsize = (3.4*len(plt_times), 2*6))\n",
    "plt.subplots_adjust(wspace=0.05, hspace=0.07)\n",
    "\n",
    "rcParams['font.size'] = 16\n",
    "# rcParams['axes.titlepad'] = 0.5\n",
    "\n",
    "src_ind = 0\n",
    "\n",
    "clim_max_casing = 1e3\n",
    "clim_min_casing = 1e-5\n",
    "clim_casing = np.r_[clim_min_casing, clim_max_casing]\n",
    "\n",
    "max_depth = 1200\n",
    "max_r_casing = 0.085\n",
    "top=10.,\n",
    "\n",
    "xlim=max_r_casing * np.r_[-1, 1]\n",
    "\n",
    "x_ticks = [0, -500, -1000, -1500]\n",
    "# stream_opts={\"arrowsize\":1.6, \"color\":\"k\", \"density\":0.85}\n",
    "prim_sec = \"total\"\n",
    "\n",
    "for i, tind in enumerate(plt_times):\n",
    "    ax0 = ax[0, i]\n",
    "    ax1 = ax[1, i]\n",
    "\n",
    "    for key, a in zip([\"casing\", \"permeable\"], [ax0, ax1]):\n",
    "        out = viewer2.plot_cross_section(\n",
    "            ax=a, clim=clim_casing, zlim=np.r_[-max_depth, top],\n",
    "            xlim=xlim, view='j', theta_ind=3, time_ind=tind, \n",
    "            model_key=key, show_cb= False, \n",
    "            use_aspect=False,\n",
    "            stream_opts=stream_opts, prim_sec=prim_sec, src_ind=src_ind\n",
    "        )\n",
    "        a.set_title('')\n",
    "\n",
    "        if i > 0:\n",
    "            a.set_ylabel('')\n",
    "            a.set_yticklabels(['']*len(a.get_yticklabels()))\n",
    "        else:\n",
    "            a.set_ylabel('z (m)')\n",
    "\n",
    "        a.text(0.9*max_r_casing, -1150, \"{:.2f} ms\".format(sim.prob.times[tind]*1e3), color='w', fontsize=20, ha=\"right\")\n",
    "\n",
    "\n",
    "#     ax0.set_title(\"({})\".format(ascii_lowercase[i]))\n",
    "    ax1.text(0.9*max_r_casing, -1150, \"{:.2f} ms\".format(sim.prob.times[tind]*1e3), color='w', fontsize=20, ha=\"right\")\n",
    "    ax0.set_xlabel(\"x (m)\")\n",
    "#     ax0.set_aspect(1.5e-3)\n",
    "    ax0.set_xlabel('')\n",
    "    ax0.set_xticklabels(['']*len(a.get_xticklabels()))\n",
    "    ax1.set_xlabel(\"x (m)\")\n",
    "\n",
    "\n",
    "cbar_ax = fig.add_axes([0.905, 0.13, 0.013, 0.75])\n",
    "cb = plt.colorbar(out[0], cbar_ax)\n",
    "cb.set_label('current density (A/m$^2$)')"
   ]
  },
  {
   "cell_type": "code",
   "execution_count": null,
   "metadata": {},
   "outputs": [],
   "source": [
    "if use_downsampled is False:\n",
    "    fig.savefig(\"../figures/casing_currents_permeable\", bbox_inches=\"tight\")"
   ]
  },
  {
   "cell_type": "markdown",
   "metadata": {},
   "source": [
    "# movies"
   ]
  },
  {
   "cell_type": "code",
   "execution_count": null,
   "metadata": {},
   "outputs": [],
   "source": [
    "make_movie = False"
   ]
  },
  {
   "cell_type": "code",
   "execution_count": null,
   "metadata": {},
   "outputs": [],
   "source": [
    "viewer2 = casingSim.FieldsViewer(\n",
    "    model_keys=model_names, sim_dict=sim_dict, fields_dict=fields_dict, primary_key=\"casing\"\n",
    ")\n",
    "\n",
    "max_depth = 1.4*casing_l\n",
    "max_r_casing = 0.09\n",
    "\n",
    "rcParams['font.size'] = 18\n",
    "# rcParams['axes.titlepad'] = 0.5\n",
    "\n",
    "src_ind = 0\n",
    "\n",
    "clim_max = 1e-4 \n",
    "clim_min = 3e-9\n",
    "clim = np.r_[clim_min, clim_max]\n",
    "\n",
    "# clim_casing = np.r_[1e-5, 1e3]\n",
    "# clim_formation = np.r_[1e-9, 1e-4]\n",
    "\n",
    "clim_max_casing = 1e3\n",
    "clim_min_casing = 1e-5\n",
    "clim_casing = np.r_[clim_min_casing, clim_max_casing]\n",
    "\n",
    "max_depth = 1.4*casing_l\n",
    "max_r_casing = 0.09\n",
    "top=10.,\n",
    "\n",
    "xlim = 1490.*np.r_[-1., 1.]\n",
    "\n",
    "zinds = [400, 101]\n",
    "\n",
    "x_ticks = [0, -500, -1000, -1500]\n",
    "stream_opts={\"arrowsize\":1.6, \"color\":\"k\", \"density\":0.85}"
   ]
  },
  {
   "cell_type": "code",
   "execution_count": null,
   "metadata": {},
   "outputs": [],
   "source": [
    "def plot_currents(tind, show_cb, ax, model_key=\"casing\"):\n",
    "    out = viewer2.plot_cross_section(\n",
    "        ax=ax, clim=clim, zlim=np.r_[-max_depth, top],\n",
    "        xlim=xlim, view='j', theta_ind=3, time_ind=tind, \n",
    "        model_key=model_key, show_cb=show_cb, use_aspect=True,\n",
    "        casing_outline=False\n",
    "    )\n",
    "    ax.set_title('')\n",
    "    ax.text(-1400, -100, \"Time: {:.2f} ms\".format(sim.prob.times[tind]*1e3), color='w', fontsize=22)\n",
    "    \n",
    "    return out"
   ]
  },
  {
   "cell_type": "code",
   "execution_count": null,
   "metadata": {},
   "outputs": [],
   "source": [
    "import ipywidgets \n",
    "from IPython.display import HTML\n",
    "from matplotlib import animation, collections"
   ]
  },
  {
   "cell_type": "code",
   "execution_count": null,
   "metadata": {},
   "outputs": [],
   "source": [
    "model_key = \"casing\""
   ]
  },
  {
   "cell_type": "code",
   "execution_count": null,
   "metadata": {},
   "outputs": [],
   "source": [
    "fig, ax = plt.subplots(1, 1, figsize = (16,8), dpi=290)\n",
    "out = plot_currents(tind=0, ax=ax, show_cb=True, model_key=model_key)\n",
    "\n",
    "def init():\n",
    "    [o.set_array(None) for o in out if isinstance(o, collections.QuadMesh)]\n",
    "    return out\n",
    "\n",
    "def update(t):\n",
    "    ax.patches = []\n",
    "    ax.lines = []\n",
    "    ax.clear()\n",
    "    return plot_currents(tind=t, show_cb=False, ax=ax, model_key=model_key)\n",
    "\n",
    "if make_movie is True: \n",
    "    ani = animation.FuncAnimation(fig, update, np.arange(0, 136), init_func=init, blit=False)\n",
    "\n",
    "    ani.save(\n",
    "        \"../figures/currents_{}.mp4\".format(model_key), writer=\"ffmpeg\", fps=3, dpi=250, bitrate=0, \n",
    "        metadata={\"title\":\"TDEM {} currents\".format(model_key), \"artist\":\"Lindsey Heagy\"}\n",
    "    )"
   ]
  },
  {
   "cell_type": "code",
   "execution_count": null,
   "metadata": {},
   "outputs": [],
   "source": [
    "model_key = \"permeable\""
   ]
  },
  {
   "cell_type": "code",
   "execution_count": null,
   "metadata": {},
   "outputs": [],
   "source": [
    "def plot_currents2(tind, show_cb, ax, model_key=\"casing\"):\n",
    "    out = viewer2.plot_cross_section(\n",
    "        ax=ax, clim=clim_casing, zlim=np.r_[-1200, top],\n",
    "        xlim=max_r_casing*np.r_[-1, 1.], view='j', theta_ind=3, time_ind=tind, \n",
    "        model_key=model_key, show_cb=show_cb, use_aspect=False,\n",
    "        casing_outline=False\n",
    "    )\n",
    "    ax.set_title('')\n",
    "    ax.set_aspect(3e-4)\n",
    "    ax.text(-0.9*max_r_casing, -1150, \"Time: {:.2f} ms\".format(sim.prob.times[tind]*1e3), color='w', fontsize=22)\n",
    "    \n",
    "    return out\n"
   ]
  },
  {
   "cell_type": "code",
   "execution_count": null,
   "metadata": {},
   "outputs": [],
   "source": [
    "fig, ax = plt.subplots(1, 1, figsize = (5.5, 7), dpi=290)\n",
    "out = plot_currents2(tind=0, ax=ax, show_cb=True, model_key=model_key)\n",
    "\n",
    "def init():\n",
    "    [o.set_array(None) for o in out if isinstance(o, collections.QuadMesh)]\n",
    "    return out\n",
    "\n",
    "def update(t):\n",
    "    ax.patches = []\n",
    "    ax.lines = []\n",
    "    ax.clear()\n",
    "    return plot_currents2(tind=t, show_cb=False, ax=ax, model_key=model_key)\n",
    "\n",
    "if make_movie is True: \n",
    "    ani = animation.FuncAnimation(fig, update, np.arange(0, 136), init_func=init, blit=False)\n",
    "\n",
    "    ani.save(\n",
    "        \"../figures/currents_zoomed_in_{}.mp4\".format(model_key), writer=\"ffmpeg\", fps=3, dpi=250, bitrate=0, \n",
    "        metadata={\"title\":\"TDEM {} currents\".format(model_key), \"artist\":\"Lindsey Heagy\"}\n",
    "    )"
   ]
  },
  {
   "cell_type": "code",
   "execution_count": null,
   "metadata": {},
   "outputs": [],
   "source": [
    "versions('HTML')"
   ]
  },
  {
   "cell_type": "code",
   "execution_count": null,
   "metadata": {},
   "outputs": [],
   "source": []
  }
 ],
 "metadata": {
  "kernelspec": {
   "display_name": "simpeg37",
   "language": "python",
   "name": "simpeg37"
  },
  "language_info": {
   "codemirror_mode": {
    "name": "ipython",
    "version": 3
   },
   "file_extension": ".py",
   "mimetype": "text/x-python",
   "name": "python",
   "nbconvert_exporter": "python",
   "pygments_lexer": "ipython3",
   "version": "3.7.3"
  }
 },
 "nbformat": 4,
 "nbformat_minor": 4
}
