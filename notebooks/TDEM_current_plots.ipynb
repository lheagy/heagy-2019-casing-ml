{
 "cells": [
  {
   "cell_type": "code",
   "execution_count": 1,
   "metadata": {},
   "outputs": [],
   "source": [
    "# core python\n",
    "import dask\n",
    "import numpy as np\n",
    "import datetime\n",
    "import scipy.sparse as sp\n",
    "import matplotlib.pyplot as plt\n",
    "from matplotlib.colors import LogNorm\n",
    "from scipy.constants import mu_0, inch, foot\n",
    "from scipy.spatial import cKDTree\n",
    "import os\n",
    "import ipywidgets\n",
    "import time\n",
    "from string import ascii_lowercase\n",
    "from matplotlib import rcParams\n",
    "from matplotlib import gridspec\n",
    "\n",
    "# SimPEG, discretize\n",
    "import discretize\n",
    "from discretize import utils\n",
    "from SimPEG.electromagnetics import time_domain as tdem\n",
    "from SimPEG import utils, maps\n",
    "from pymatsolver import Pardiso\n",
    "\n",
    "# casing utility code \n",
    "import casingSimulations as casingSim\n",
    "\n",
    "%matplotlib inline"
   ]
  },
  {
   "cell_type": "markdown",
   "metadata": {},
   "source": [
    "## model parameters"
   ]
  },
  {
   "cell_type": "code",
   "execution_count": 2,
   "metadata": {},
   "outputs": [],
   "source": [
    "# conductivities\n",
    "sigma_air = 1e-4\n",
    "sigma_back = 1e-2\n",
    "sigma_casing = sigma_back\n",
    "sigma_casing = 5e6\n",
    "\n",
    "# relative permeability of the casing\n",
    "mur_casing = 1.\n",
    "\n",
    "# casing geometry\n",
    "casing_diameter = 10e-2  \n",
    "casing_t = 10e-3\n",
    "casing_l = 1000\n",
    "\n",
    "# cell size in the z-direction for the mesh\n",
    "csz = 2.5 \n",
    "# csz=1.25"
   ]
  },
  {
   "cell_type": "markdown",
   "metadata": {},
   "source": [
    "Source electrode locations. The source runs along the $\\theta = 90^{\\circ}$ line"
   ]
  },
  {
   "cell_type": "code",
   "execution_count": 3,
   "metadata": {},
   "outputs": [],
   "source": [
    "src_a = np.r_[casing_diameter / 2., np.pi/2, 0.]\n",
    "src_b = np.r_[casing_l, np.pi/2, 0.]"
   ]
  },
  {
   "cell_type": "code",
   "execution_count": 4,
   "metadata": {},
   "outputs": [],
   "source": [
    "model = casingSim.model.CasingInHalfspace(\n",
    "    casing_d = casing_diameter - casing_t,  # I use diameter to the center of the casing wall\n",
    "    casing_l = casing_l,\n",
    "    casing_t = casing_t, \n",
    "    mur_casing = mur_casing,\n",
    "    sigma_air = sigma_air,\n",
    "    sigma_casing = sigma_casing,\n",
    "    sigma_back = sigma_back,\n",
    "    sigma_inside = sigma_back,\n",
    "    src_a = src_a,\n",
    "    src_b = src_b\n",
    ")\n",
    "model.filename = \"casing.json\""
   ]
  },
  {
   "cell_type": "markdown",
   "metadata": {},
   "source": [
    "Create the time-stepping for the forward simulation"
   ]
  },
  {
   "cell_type": "code",
   "execution_count": 5,
   "metadata": {},
   "outputs": [
    {
     "name": "stdout",
     "output_type": "stream",
     "text": [
      "The latest time is 2.0e-01s\n",
      "There are 187 time-steps in the simulation, 7 are unique (this controls how many matrix factorizations need to be done)\n"
     ]
    }
   ],
   "source": [
    "timeSteps = [\n",
    "    (1e-6, 20), (1e-5, 30), (3e-5, 30), (1e-4, 40), (3e-4, 30), (1e-3, 20), (1e-2, 17)\n",
    "]\n",
    "\n",
    "model.timeSteps = timeSteps\n",
    "\n",
    "print(\"The latest time is {:1.1e}s\".format(model.timeSteps.sum()))\n",
    "print(\"There are {} time-steps in the simulation, {} are unique \"\n",
    "      \"(this controls how many matrix factorizations need to be done)\".format(\n",
    "          len(model.timeSteps), len(np.unique(np.diff(model.timeSteps)))\n",
    "      )\n",
    ")"
   ]
  },
  {
   "cell_type": "markdown",
   "metadata": {},
   "source": [
    "Duplicate the model so that we can run a `background` model that does not include casing."
   ]
  },
  {
   "cell_type": "code",
   "execution_count": 6,
   "metadata": {},
   "outputs": [
    {
     "name": "stdout",
     "output_type": "stream",
     "text": [
      "12615.6626101008\n"
     ]
    }
   ],
   "source": [
    "print(model.diffusion_distance(1))\n"
   ]
  },
  {
   "cell_type": "code",
   "execution_count": 7,
   "metadata": {},
   "outputs": [],
   "source": [
    "model_background = model.copy()\n",
    "model_background.sigma_casing = model_background.sigma_back\n",
    "model_background.filename = \"background.json\""
   ]
  },
  {
   "cell_type": "markdown",
   "metadata": {},
   "source": [
    "### create \"approximate\" models\n",
    "- treat the well as a solid cylinder\n",
    "- use a conductivity equal to that product of the conductivity and cross-sectional area of the casing\n",
    "- to approximate the permeability, I preserve the product of the permeability and the thickness of the casing wall"
   ]
  },
  {
   "cell_type": "code",
   "execution_count": 8,
   "metadata": {},
   "outputs": [
    {
     "name": "stdout",
     "output_type": "stream",
     "text": [
      "The approximate conductivity of the solid we use is 1.8e+06\n"
     ]
    }
   ],
   "source": [
    "# preserve product of conductivity and cross-sectional area for solid cylinder \n",
    "sigmaA = model.sigma_casing * (model.casing_b**2 - model.casing_a**2)/model.casing_b**2\n",
    "print(f\"The approximate conductivity of the solid we use is {sigmaA:1.1e}\")\n",
    "\n",
    "model_approx_casing = model.copy()\n",
    "model_approx_casing.sigma_inside = sigmaA\n",
    "model_approx_casing.sigma_casing = sigmaA\n",
    "model_approx_casing.filename = \"approx_casing.json\"\n",
    "\n",
    "model_solid_steel = model_approx_casing.copy()\n",
    "model_solid_steel.sigma_inside = model.sigma_casing\n",
    "model_solid_steel.sigma_casing = model.sigma_casing\n",
    "model_solid_steel.filename = \"solid_steel.json\""
   ]
  },
  {
   "cell_type": "markdown",
   "metadata": {},
   "source": [
    "keep track of the models in a dictionary"
   ]
  },
  {
   "cell_type": "code",
   "execution_count": 9,
   "metadata": {},
   "outputs": [],
   "source": [
    "model_names = [\"casing\", \"approx_casing\", \"solid_steel\"] \n",
    "models = [model, model_approx_casing, model_solid_steel]\n",
    "model_dict = dict(zip(\n",
    "    model_names, \n",
    "    models \n",
    "))"
   ]
  },
  {
   "cell_type": "markdown",
   "metadata": {},
   "source": [
    "## Mesh\n",
    "\n",
    "We set up a 3D cylindrical mesh for the simulations. Both the casing and background models will be run on the same mesh. "
   ]
  },
  {
   "cell_type": "code",
   "execution_count": 10,
   "metadata": {},
   "outputs": [
    {
     "data": {
      "text/plain": [
       "5701.1071274119095"
      ]
     },
     "execution_count": 10,
     "metadata": {},
     "output_type": "execute_result"
    }
   ],
   "source": [
    "model.diffusion_distance()"
   ]
  },
  {
   "cell_type": "code",
   "execution_count": 11,
   "metadata": {},
   "outputs": [],
   "source": [
    "# Theta discretization\n",
    "hy = np.ones(12)\n",
    "hy = hy*2*np.pi / hy.sum()"
   ]
  },
  {
   "cell_type": "code",
   "execution_count": 12,
   "metadata": {},
   "outputs": [],
   "source": [
    "meshGen = casingSim.mesh.CasingMeshGenerator(\n",
    "    modelParameters = model, \n",
    "    csx1 = model.casing_t/4,\n",
    "    csx2 = 100,\n",
    "    domain_x = casing_l,  # use 2.5m cells out to 300m. \n",
    "    hy = hy,\n",
    "    npadx = 8, # 6\n",
    "    npadz = 17,  #14\n",
    "#     npadx = 10, \n",
    "#     npadz = 19,\n",
    "    csz = csz,\n",
    ")\n",
    "# meshGen.save()"
   ]
  },
  {
   "cell_type": "code",
   "execution_count": 13,
   "metadata": {},
   "outputs": [],
   "source": [
    "mesh = meshGen.mesh"
   ]
  },
  {
   "cell_type": "code",
   "execution_count": 14,
   "metadata": {},
   "outputs": [
    {
     "name": "stdout",
     "output_type": "stream",
     "text": [
      "The mesh has 426240 cells\n"
     ]
    }
   ],
   "source": [
    "print(\"The mesh has {} cells\".format(meshGen.mesh.nC))"
   ]
  },
  {
   "cell_type": "markdown",
   "metadata": {},
   "source": [
    "plot the mesh"
   ]
  },
  {
   "cell_type": "code",
   "execution_count": 15,
   "metadata": {},
   "outputs": [
    {
     "name": "stderr",
     "output_type": "stream",
     "text": [
      "/Users/lindseyjh/anaconda3/lib/python3.6/site-packages/matplotlib/projections/polar.py:55: RuntimeWarning: invalid value encountered in greater_equal\n",
      "  r = np.where(r >= 0, r, np.nan)\n"
     ]
    },
    {
     "data": {
      "image/png": "[encoded data removed]",
      "text/plain": [
       "<Figure size 864x360 with 2 Axes>"
      ]
     },
     "metadata": {
      "needs_background": "light"
     },
     "output_type": "display_data"
    }
   ],
   "source": [
    "ax = mesh.plotGrid()"
   ]
  },
  {
   "cell_type": "markdown",
   "metadata": {},
   "source": [
    "## Physical Properties\n",
    "\n",
    "Now that we have a mesh and a model defined, we populate the mesh with physical properties"
   ]
  },
  {
   "cell_type": "code",
   "execution_count": 16,
   "metadata": {},
   "outputs": [],
   "source": [
    "physprops_dict = {\n",
    "    key: casingSim.model.PhysicalProperties(\n",
    "        modelParameters=m, meshGenerator=meshGen\n",
    "    )\n",
    "    for key, m in model_dict.items() \n",
    "}\n"
   ]
  },
  {
   "cell_type": "code",
   "execution_count": 17,
   "metadata": {},
   "outputs": [
    {
     "data": {
      "image/png": "[encoded data removed]",
      "text/plain": [
       "<Figure size 1080x360 with 6 Axes>"
      ]
     },
     "metadata": {
      "needs_background": "light"
     },
     "output_type": "display_data"
    }
   ],
   "source": [
    "fig, ax = plt.subplots(1, len(model_names), figsize=(5*len(model_names), 5))\n",
    "\n",
    "xlim = 0.5*np.r_[-1., 1.]\n",
    "ylim = np.r_[-1.25*casing_l, 10.]\n",
    "\n",
    "for m, a in zip(model_names, ax):\n",
    "    physprops_dict[m].plot_sigma(ax=a, pcolorOpts={'norm':LogNorm()})\n",
    "    a.set_xlim(xlim)\n",
    "    a.set_ylim(ylim) \n",
    "    a.set_title(m)\n",
    "\n",
    "plt.tight_layout()"
   ]
  },
  {
   "cell_type": "code",
   "execution_count": 18,
   "metadata": {},
   "outputs": [
    {
     "data": {
      "image/png": "[encoded data removed]",
      "text/plain": [
       "<Figure size 1080x360 with 6 Axes>"
      ]
     },
     "metadata": {
      "needs_background": "light"
     },
     "output_type": "display_data"
    }
   ],
   "source": [
    "fig, ax = plt.subplots(1, len(model_names), figsize=(5*len(model_names), 5))\n",
    "\n",
    "xlim = 0.5*np.r_[-1., 1.]\n",
    "ylim = np.r_[-1.25*casing_l, 10.]\n",
    "\n",
    "for m, a in zip(model_names, ax):\n",
    "    physprops_dict[m].plot_mur(ax=a)\n",
    "    a.set_xlim(xlim)\n",
    "    a.set_ylim(ylim) \n",
    "    a.set_title(m)\n",
    "\n",
    "plt.tight_layout()"
   ]
  },
  {
   "cell_type": "markdown",
   "metadata": {},
   "source": [
    "## Survey\n",
    "\n",
    "The source is a grounded source with one electrode at 1000m and the other electrode connected to the top of the casing. A wire connects them. Note that we will use H-J formulation t solve this problem, so the source is defined as current that goes through the faces of the mesh. "
   ]
  },
  {
   "cell_type": "code",
   "execution_count": 19,
   "metadata": {},
   "outputs": [],
   "source": [
    "src_theta = np.pi/2. + mesh.hy[0]/2.\n",
    "model.src_a[1] = src_theta\n",
    "model.src_b[1] = src_theta"
   ]
  },
  {
   "cell_type": "code",
   "execution_count": 20,
   "metadata": {},
   "outputs": [],
   "source": [
    "top_src_a = model.src_a.copy()\n",
    "top_src_a[2] = -mesh.hz.min()/2."
   ]
  },
  {
   "cell_type": "code",
   "execution_count": 21,
   "metadata": {},
   "outputs": [],
   "source": [
    "downhole_src_a = model.src_a.copy()\n",
    "downhole_src_a[0] = 0.\n",
    "downhole_src_a[2] = -950."
   ]
  },
  {
   "cell_type": "code",
   "execution_count": 22,
   "metadata": {},
   "outputs": [],
   "source": [
    "src_top = casingSim.sources.TopCasingSrc(\n",
    "    modelParameters=model, \n",
    "    meshGenerator=meshGen,\n",
    "    src_a=top_src_a,\n",
    "    src_b=model.src_b,\n",
    "    physics=\"TDEM\",\n",
    "    filename=\"top_casing\",\n",
    ")\n",
    "\n",
    "src_downhole = casingSim.sources.DownHoleCasingSrc(\n",
    "    modelParameters=model,\n",
    "    meshGenerator=meshGen,\n",
    "    src_a=downhole_src_a,\n",
    "    src_b=model.src_b,\n",
    "    physics=\"TDEM\",\n",
    "    filename=\"downhole\",\n",
    ")\n",
    "\n",
    "sources = [src_top, src_downhole]\n",
    "srcList = src_top.srcList + src_downhole.srcList"
   ]
  },
  {
   "cell_type": "code",
   "execution_count": 23,
   "metadata": {},
   "outputs": [],
   "source": [
    "casingSimSrcList = casingSim.sources.SourceList(\n",
    "    filename=\"sources.json\",\n",
    "    sources = sources  \n",
    ")\n",
    "\n",
    "source_list = casingSimSrcList.srcList"
   ]
  },
  {
   "cell_type": "code",
   "execution_count": 24,
   "metadata": {},
   "outputs": [
    {
     "data": {
      "image/png": "[encoded data removed]",
      "text/plain": [
       "<Figure size 864x432 with 2 Axes>"
      ]
     },
     "metadata": {
      "needs_background": "light"
     },
     "output_type": "display_data"
    }
   ],
   "source": [
    "fig, ax = plt.subplots(1, 2, figsize=(12, 6))\n",
    "\n",
    "for a, src in zip(ax, sources): \n",
    "    meshGen.mesh.plotGrid(slice='theta', ax=a)\n",
    "    src.plot(ax=a)\n",
    "\n",
    "    a.set_xlim([0., 1200])\n",
    "    a.set_ylim([-1000., 10.])"
   ]
  },
  {
   "cell_type": "markdown",
   "metadata": {},
   "source": [
    "## Simulation"
   ]
  },
  {
   "cell_type": "code",
   "execution_count": 25,
   "metadata": {},
   "outputs": [],
   "source": [
    "# run = False\n",
    "run = False\n",
    "use_cluster = False"
   ]
  },
  {
   "cell_type": "code",
   "execution_count": 26,
   "metadata": {},
   "outputs": [],
   "source": [
    "survey = tdem.Survey(source_list)"
   ]
  },
  {
   "cell_type": "code",
   "execution_count": 27,
   "metadata": {},
   "outputs": [],
   "source": [
    "sim = tdem.Problem3D_j(\n",
    "    mesh=mesh, survey=survey, sigmaMap=maps.IdentityMap(mesh), solver=Pardiso,\n",
    "    time_steps=timeSteps\n",
    ")"
   ]
  },
  {
   "cell_type": "code",
   "execution_count": 28,
   "metadata": {},
   "outputs": [],
   "source": [
    "import dask\n",
    "import dask_jobqueue\n",
    "from dask.distributed import Client\n",
    "from dask.diagnostics import ProgressBar"
   ]
  },
  {
   "cell_type": "code",
   "execution_count": 29,
   "metadata": {},
   "outputs": [
    {
     "data": {
      "text/plain": [
       "48"
      ]
     },
     "execution_count": 29,
     "metadata": {},
     "output_type": "execute_result"
    }
   ],
   "source": [
    "len(model_names)*16"
   ]
  },
  {
   "cell_type": "code",
   "execution_count": 30,
   "metadata": {},
   "outputs": [],
   "source": [
    "if use_cluster is True: \n",
    "    cluster = dask_jobqueue.SLURMCluster(\n",
    "        cores=len(model_names),\n",
    "        processes=len(model_names), memory=f'{32*len(model_names)}GB', \n",
    "        project=\"m3384\",\n",
    "        job_extra = ['--constraint=haswell', '--qos=debug',], \n",
    "        death_timeout=120,\n",
    "    )\n",
    "    \n",
    "    print(cluster.job_script())"
   ]
  },
  {
   "cell_type": "code",
   "execution_count": 31,
   "metadata": {},
   "outputs": [],
   "source": [
    "# dask_jobqueue.SLURMCluster??"
   ]
  },
  {
   "cell_type": "code",
   "execution_count": 32,
   "metadata": {},
   "outputs": [
    {
     "data": {
      "text/html": [
       "<table style=\"border: 2px solid white;\">\n",
       "<tr>\n",
       "<td style=\"vertical-align: top; border: 0px solid white\">\n",
       "<h3>Client</h3>\n",
       "<ul>\n",
       "  <li><b>Scheduler: </b>tcp://127.0.0.1:52215\n",
       "  <li><b>Dashboard: </b><a href='http://127.0.0.1:8787/status' target='_blank'>http://127.0.0.1:8787/status</a>\n",
       "</ul>\n",
       "</td>\n",
       "<td style=\"vertical-align: top; border: 0px solid white\">\n",
       "<h3>Cluster</h3>\n",
       "<ul>\n",
       "  <li><b>Workers: </b>1</li>\n",
       "  <li><b>Cores: </b>3</li>\n",
       "  <li><b>Memory: </b>17.18 GB</li>\n",
       "</ul>\n",
       "</td>\n",
       "</tr>\n",
       "</table>"
      ],
      "text/plain": [
       "<Client: scheduler='tcp://127.0.0.1:52215' processes=1 cores=3>"
      ]
     },
     "execution_count": 32,
     "metadata": {},
     "output_type": "execute_result"
    }
   ],
   "source": [
    "if use_cluster is True: \n",
    "    client = Client(cluster)\n",
    "else: \n",
    "    client = Client(threads_per_worker=3, n_workers=1)\n",
    "client"
   ]
  },
  {
   "cell_type": "code",
   "execution_count": 33,
   "metadata": {},
   "outputs": [],
   "source": [
    "# @dask.delayed\n",
    "def run_simulation(m, simulation_params, directory=None, name=None):\n",
    "    import discretize\n",
    "    import casingSimulations as casing_sim\n",
    "    from SimPEG.electromagnetics import time_domain as tdem\n",
    "    from pymatsolver import Pardiso\n",
    "        \n",
    "    if isinstance(simulation_params, str):\n",
    "        simulation_params = json.loads(simulation_params)\n",
    "    \n",
    "    sim = tdem.Problem3D_j.deserialize(simulation_params, trusted=True)\n",
    "    \n",
    "    if isinstance(m, str):\n",
    "        model = casing_sim.model.CasingInHalfspace.deserialize(json.loads(m), trusted=True)\n",
    "        m = model.sigma(sim.mesh)\n",
    "    \n",
    "    sim.solver = Pardiso\n",
    "    sim.verbose = True\n",
    "    \n",
    "    fields = sim.fields(m)\n",
    "    f = fields[:, '{}Solution'.format(sim._fieldType), :]\n",
    "    if name is not None: \n",
    "        filename = f\"{name}.npy\"\n",
    "        tosave = os.path.sep.join([directory, filename]) \n",
    "        print(f\"saving {tosave}\")\n",
    "        np.save(tosave, f)\n",
    "    return tosave"
   ]
  },
  {
   "cell_type": "code",
   "execution_count": 34,
   "metadata": {},
   "outputs": [],
   "source": [
    "if use_cluster is True:\n",
    "    cluster.scale(3)"
   ]
  },
  {
   "cell_type": "code",
   "execution_count": 35,
   "metadata": {},
   "outputs": [],
   "source": [
    "if run is True: \n",
    "    f = {}\n",
    "    for key, value in physprops_dict.items():\n",
    "        time = datetime.datetime.now()\n",
    "        model = model_dict[key]\n",
    "        directory = f\"{time.year}{time.month}{time.day}{time.hour}{os.path.sep}{int(model.casing_l)}m_sigma{model.sigma_back:1.0e}\"\n",
    "\n",
    "        if not os.path.isdir(directory):\n",
    "            os.makedirs(directory, exist_ok=True)\n",
    "\n",
    "        model.save(f\"{key}.json\", directory)\n",
    "\n",
    "        f[key] = dask.delayed(run_simulation)(\n",
    "            value.sigma, sim.serialize(), directory, key\n",
    "        )\n",
    "    \n",
    "    "
   ]
  },
  {
   "cell_type": "code",
   "execution_count": 36,
   "metadata": {},
   "outputs": [
    {
     "name": "stdout",
     "output_type": "stream",
     "text": [
      "CPU times: user 8 µs, sys: 3 µs, total: 11 µs\n",
      "Wall time: 15.7 µs\n"
     ]
    }
   ],
   "source": [
    "%%time\n",
    "if run is True: \n",
    "    fields_files = dask.compute(f)[0]\n",
    "else:\n",
    "    fields_files = {}\n",
    "    directory = '20198413/1000m_sigma1e-02/'\n",
    "    for key in model_names:\n",
    "        fields_files[key] = f\"{directory}{key}.npy\""
   ]
  },
  {
   "cell_type": "markdown",
   "metadata": {},
   "source": [
    "load the results into memory and re-populate the fields object (this takes a couple minutes). "
   ]
  },
  {
   "cell_type": "code",
   "execution_count": 37,
   "metadata": {},
   "outputs": [
    {
     "data": {
      "text/plain": [
       "{'casing': '20198413/1000m_sigma1e-02/casing.npy',\n",
       " 'approx_casing': '20198413/1000m_sigma1e-02/approx_casing.npy',\n",
       " 'solid_steel': '20198413/1000m_sigma1e-02/solid_steel.npy'}"
      ]
     },
     "execution_count": 37,
     "metadata": {},
     "output_type": "execute_result"
    }
   ],
   "source": [
    "fields_files"
   ]
  },
  {
   "cell_type": "code",
   "execution_count": 38,
   "metadata": {},
   "outputs": [],
   "source": [
    "solution_dict = {}\n",
    "for key, val in fields_files.items():\n",
    "    solution_dict[key] = np.load(val)"
   ]
  },
  {
   "cell_type": "code",
   "execution_count": 39,
   "metadata": {},
   "outputs": [],
   "source": [
    "m = model_dict['casing']"
   ]
  },
  {
   "cell_type": "markdown",
   "metadata": {},
   "source": [
    "#### todo: profile this at some point - the fields object should not be this expensive to create"
   ]
  },
  {
   "cell_type": "code",
   "execution_count": 40,
   "metadata": {},
   "outputs": [
    {
     "name": "stdout",
     "output_type": "stream",
     "text": [
      "casing\n",
      "approx_casing\n",
      "solid_steel\n",
      "CPU times: user 1min 25s, sys: 31.1 s, total: 1min 56s\n",
      "Wall time: 3min 45s\n"
     ]
    }
   ],
   "source": [
    "%%time\n",
    "fields_dict = {}\n",
    "\n",
    "for key in model_names:\n",
    "    print(key)\n",
    "    sim.model = model_dict[key].sigma(sim.mesh)\n",
    "    fields_dict[key] = sim.fieldsPair(sim)\n",
    "    fields_dict[key][:, 'jSolution', :] = solution_dict.pop(key)"
   ]
  },
  {
   "cell_type": "code",
   "execution_count": null,
   "metadata": {},
   "outputs": [],
   "source": []
  },
  {
   "cell_type": "code",
   "execution_count": 41,
   "metadata": {},
   "outputs": [],
   "source": [
    "# sim_dict = {}\n",
    "# for key in model_names:\n",
    "#     sim_dict[key] = sim.copy()\n",
    "#     sim_dict[key].modelParameters = model_dict[key]\n",
    "#     sim_dict[key].srcList = sim.srcList\n",
    "\n",
    "# mesh = sim_dict[\"casing\"].meshGenerator.mesh"
   ]
  },
  {
   "cell_type": "code",
   "execution_count": 42,
   "metadata": {},
   "outputs": [],
   "source": [
    "viewer = casingSim.FieldsViewer(\n",
    "    mesh=mesh, model_parameters_dict=model_dict, survey_dict={key: sim.survey for key in model_names}, \n",
    "    fields_dict=fields_dict, model_keys=model_names, primary_key=\"casing\"\n",
    ")"
   ]
  },
  {
   "cell_type": "code",
   "execution_count": 43,
   "metadata": {},
   "outputs": [],
   "source": [
    "# viewer = casingSim.FieldsViewer(\n",
    "#     model_keys=model_names, sim_dict=sim_dict, fields_dict=fields_dict, primary_key=\"casing\"\n",
    "# )"
   ]
  },
  {
   "cell_type": "code",
   "execution_count": 44,
   "metadata": {},
   "outputs": [
    {
     "name": "stderr",
     "output_type": "stream",
     "text": [
      "/Users/lindseyjh/git/python_symlinks/SimPEG/survey.py:369: UserWarning: srcList has been renamed to source_list. Please update your code accordingly\n",
      "  \"srcList has been renamed to source_list. Please update your code \"\n"
     ]
    },
    {
     "data": {
      "application/vnd.jupyter.widget-view+json": {
       "model_id": "2775a6fb1a4549f580ca819774eac591",
       "version_major": 2,
       "version_minor": 0
      },
      "text/plain": [
       "interactive(children=(FloatText(value=0.15, description='max_r'), FloatText(value=-10.0, description='min_dept…"
      ]
     },
     "metadata": {},
     "output_type": "display_data"
    },
    {
     "data": {
      "text/plain": [
       "<function ipywidgets.widgets.interaction._InteractFactory.__call__.<locals>.<lambda>(*args, **kwargs)>"
      ]
     },
     "execution_count": 44,
     "metadata": {},
     "output_type": "execute_result"
    }
   ],
   "source": [
    "viewer.widget_cross_section(\n",
    "    defaults={\n",
    "        \"max_depth\":1.1*model.casing_l,\n",
    "        \"min_depth\":-10,\n",
    "        \"max_r\":0.15,\n",
    "        \"theta_ind\":3, \n",
    "        \"view\":\"j\"\n",
    "    }\n",
    ")"
   ]
  },
  {
   "cell_type": "code",
   "execution_count": 45,
   "metadata": {},
   "outputs": [],
   "source": [
    "from matplotlib import rcParams\n",
    "rcParams['font.size'] = 14"
   ]
  },
  {
   "cell_type": "code",
   "execution_count": 46,
   "metadata": {},
   "outputs": [],
   "source": [
    "viewer.primary = \"casing\""
   ]
  },
  {
   "cell_type": "code",
   "execution_count": 47,
   "metadata": {},
   "outputs": [
    {
     "data": {
      "application/vnd.jupyter.widget-view+json": {
       "model_id": "190058dedc7844839b67480a278ef255",
       "version_major": 2,
       "version_minor": 0
      },
      "text/plain": [
       "interactive(children=(FloatText(value=1500.0, description='max_r'), FloatText(value=-10.0, description='min_de…"
      ]
     },
     "metadata": {},
     "output_type": "display_data"
    },
    {
     "data": {
      "text/plain": [
       "<function ipywidgets.widgets.interaction._InteractFactory.__call__.<locals>.<lambda>(*args, **kwargs)>"
      ]
     },
     "execution_count": 47,
     "metadata": {},
     "output_type": "execute_result"
    }
   ],
   "source": [
    "viewer.widget_cross_section(\n",
    "    defaults={\n",
    "        \"max_depth\":1.5*model.casing_l,\n",
    "        \"min_depth\":-10,\n",
    "        \"max_r\":1.5*model.casing_l,\n",
    "        \"theta_ind\":3,\n",
    "        \"view\":\"j\"\n",
    "    }, \n",
    "    figwidth=12\n",
    ")"
   ]
  },
  {
   "cell_type": "code",
   "execution_count": null,
   "metadata": {},
   "outputs": [],
   "source": [
    "# compute source term through time\n",
    "\n",
    "electric_source_term = "
   ]
  },
  {
   "cell_type": "code",
   "execution_count": null,
   "metadata": {},
   "outputs": [],
   "source": [
    "# check if charge on casing cyl symmetric "
   ]
  },
  {
   "cell_type": "code",
   "execution_count": null,
   "metadata": {},
   "outputs": [],
   "source": []
  }
 ],
 "metadata": {
  "kernelspec": {
   "display_name": "Python 3",
   "language": "python",
   "name": "python3"
  },
  "language_info": {
   "codemirror_mode": {
    "name": "ipython",
    "version": 3
   },
   "file_extension": ".py",
   "mimetype": "text/x-python",
   "name": "python",
   "nbconvert_exporter": "python",
   "pygments_lexer": "ipython3",
   "version": "3.6.7"
  }
 },
 "nbformat": 4,
 "nbformat_minor": 4
}
