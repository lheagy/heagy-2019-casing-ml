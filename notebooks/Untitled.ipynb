{
 "cells": [
  {
   "cell_type": "code",
   "execution_count": 1,
   "metadata": {},
   "outputs": [],
   "source": [
    "import numpy as np \n",
    "import json\n",
    "import os"
   ]
  },
  {
   "cell_type": "code",
   "execution_count": 2,
   "metadata": {},
   "outputs": [],
   "source": [
    "for root, dirs, files in os.walk(\"./experiment1\", topdown=False):\n",
    "    for name in files:\n",
    "        f = os.path.join(root, name)\n",
    "#         print(f.split(\".\")[-1])\n",
    "        if f.split(\".\")[-1] == \"npy\":\n",
    "#             print(f\"numpy: {f}\")\n",
    "            np.load(f)\n",
    "        elif f.split(\".\")[-1] == \"json\":\n",
    "#             print(f\"json: {f}\")\n",
    "            with open(f) as json_file:\n",
    "                data = json.load(json_file)\n",
    "    "
   ]
  },
  {
   "cell_type": "code",
   "execution_count": null,
   "metadata": {},
   "outputs": [],
   "source": []
  }
 ],
 "metadata": {
  "kernelspec": {
   "display_name": "Python 3",
   "language": "python",
   "name": "python3"
  },
  "language_info": {
   "codemirror_mode": {
    "name": "ipython",
    "version": 3
   },
   "file_extension": ".py",
   "mimetype": "text/x-python",
   "name": "python",
   "nbconvert_exporter": "python",
   "pygments_lexer": "ipython3",
   "version": "3.7.3"
  }
 },
 "nbformat": 4,
 "nbformat_minor": 4
}
