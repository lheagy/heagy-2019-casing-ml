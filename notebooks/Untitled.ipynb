{
 "cells": [
  {
   "cell_type": "code",
   "execution_count": 1,
   "metadata": {},
   "outputs": [],
   "source": [
    "import discretize\n",
    "from discretize import utils\n",
    "import numpy as np\n",
    "import matplotlib.pyplot as plt\n",
    "from matplotlib.colors import LogNorm\n",
    "from scipy.constants import mu_0\n",
    "from pymatsolver import Pardiso\n",
    "import time\n",
    "\n",
    "from SimPEG.EM import TDEM\n",
    "from SimPEG import Utils, Maps, versions"
   ]
  },
  {
   "cell_type": "code",
   "execution_count": 2,
   "metadata": {},
   "outputs": [],
   "source": [
    "target_mur = 100  # permeability of the target\n",
    "target_l = 200  # length of target\n",
    "target_r = 50  # radius of the target\n",
    "target_top = -50\n",
    "\n",
    "sigma_back = 1e-5  # conductivity of the background\n",
    "\n",
    "dipole_z = np.r_[-82.5, -12.5] \n",
    "# radius_loop = 100  # radius of the transmitter loop"
   ]
  },
  {
   "cell_type": "code",
   "execution_count": 3,
   "metadata": {},
   "outputs": [
    {
     "data": {
      "text/plain": [
       "<matplotlib.axes._subplots.AxesSubplot at 0xd1cf76a58>"
      ]
     },
     "execution_count": 3,
     "metadata": {},
     "output_type": "execute_result"
    },
    {
     "data": {
      "image/png": "[encoded data removed]",
      "text/plain": [
       "<matplotlib.figure.Figure at 0xd1cf76390>"
      ]
     },
     "metadata": {},
     "output_type": "display_data"
    }
   ],
   "source": [
    "csx = 5.  # core cell size in the x-direction\n",
    "csz = 5.  # core cell size in the z-direction\n",
    "domainx = 100  # use a uniform cell size out to a radius of 100m\n",
    "\n",
    "# padding parameters\n",
    "npadx, npadz = 15, 15  # number of padding cells\n",
    "pfx = 1.4  # expansion factor for the padding to infinity in the x-direction\n",
    "pfz = 1.4  # expansion factor for the padding to infinity in the z-direction\n",
    "\n",
    "ncz = int(target_l/csz)  # number of z cells in the core region\n",
    "\n",
    "# create the cyl mesh\n",
    "mesh = discretize.CylMesh([\n",
    "    [(csx, int(domainx/csx)), (csx, npadx, pfx)],\n",
    "    1,\n",
    "    [(csz, npadz, -pfz), (csz, ncz), (csz, npadz, pfz)]\n",
    "])\n",
    "\n",
    "# put the origin at the top of the target\n",
    "mesh.x0 = [0, 0, -mesh.hz[:npadz + ncz].sum()]\n",
    "\n",
    "# plot the mesh\n",
    "mesh.plotGrid()"
   ]
  },
  {
   "cell_type": "code",
   "execution_count": 4,
   "metadata": {},
   "outputs": [],
   "source": [
    "mur_model = np.ones(mesh.nC)\n",
    "\n",
    "# find the indices of the target\n",
    "x_inds = mesh.gridCC[:, 0] < target_r\n",
    "z_inds = (mesh.gridCC[:, 2] <= target_top) & (mesh.gridCC[:, 2] >= target_top-target_l)\n",
    "\n",
    "mur_model[x_inds & z_inds] = target_mur\n",
    "mu_model = mu_0 * mur_model\n",
    "\n",
    "sigma = np.ones(mesh.nC) * sigma_back"
   ]
  },
  {
   "cell_type": "code",
   "execution_count": 5,
   "metadata": {},
   "outputs": [],
   "source": [
    "src_inds = (mesh.gridFz[:, 0] < csx) & (mesh.gridFz[:, 2] <= dipole_z[1]) & (mesh.gridFz[:, 2] >= dipole_z[0]) "
   ]
  },
  {
   "cell_type": "code",
   "execution_count": 6,
   "metadata": {},
   "outputs": [
    {
     "data": {
      "text/plain": [
       "(-300.0, 10.0)"
      ]
     },
     "execution_count": 6,
     "metadata": {},
     "output_type": "execute_result"
    },
    {
     "data": {
      "image/png": "[encoded data removed]",
      "text/plain": [
       "<matplotlib.figure.Figure at 0xd1cf76208>"
      ]
     },
     "metadata": {},
     "output_type": "display_data"
    }
   ],
   "source": [
    "xlim = np.r_[-200, 200]  # x-limits in meters\n",
    "zlim = np.r_[-1.5*target_l, 10.]  # z-limits in meters. (z-positive up)\n",
    "\n",
    "fig, ax = plt.subplots(1, 1, figsize=(6, 5))\n",
    "\n",
    "# plot the permeability\n",
    "plt.colorbar(mesh.plotImage(\n",
    "    mur_model, ax=ax,\n",
    "    pcolorOpts={'norm': LogNorm()},  # plot on a log-scale\n",
    "    mirror=True\n",
    ")[0], ax=ax)\n",
    "mesh.plotGrid(ax=ax)\n",
    "ax.grid(False)\n",
    "ax.plot(mesh.gridFz[src_inds, 0], mesh.gridFz[src_inds, 2], 'r^')\n",
    "\n",
    "\n",
    "ax.set_title(\"Relative permeability\", fontsize=13)\n",
    "ax.set_xlim(xlim)\n",
    "ax.set_ylim(zlim)"
   ]
  },
  {
   "cell_type": "code",
   "execution_count": 7,
   "metadata": {},
   "outputs": [],
   "source": [
    "s_e = np.zeros(mesh.nFz)\n",
    "s_e[src_inds] = 1\n",
    "s_e = np.hstack([np.zeros(mesh.vnF[:2].sum()), s_e])"
   ]
  },
  {
   "cell_type": "code",
   "execution_count": 8,
   "metadata": {},
   "outputs": [
    {
     "data": {
      "text/plain": [
       "Text(0.5,1,'quarter sine waveform')"
      ]
     },
     "execution_count": 8,
     "metadata": {},
     "output_type": "execute_result"
    },
    {
     "data": {
      "image/png": "[encoded data removed]",
      "text/plain": [
       "<matplotlib.figure.Figure at 0xd1dd86588>"
      ]
     },
     "metadata": {},
     "output_type": "display_data"
    }
   ],
   "source": [
    "ramp = [\n",
    "    (1e-5, 20), (1e-4, 20), (3e-4, 20), (1e-3, 20), (3e-3, 20), (1e-2, 20),\n",
    "    (3e-2, 20), (1e-1, 20), (3e-1, 20), (1,  50)\n",
    "]\n",
    "time_mesh = discretize.TensorMesh([ramp])\n",
    "\n",
    "# define an off time past when we will simulate to keep the transmitter on\n",
    "offTime = 100\n",
    "quarter_sine = TDEM.Src.QuarterSineRampOnWaveform(\n",
    "    ramp_on=np.r_[0., 3], ramp_off= offTime - np.r_[1., 0]\n",
    ")\n",
    "\n",
    "# evaluate the waveform at each time in the simulation\n",
    "quarter_sine_plt = [quarter_sine.eval(t) for t in time_mesh.gridN]\n",
    "\n",
    "fig, ax = plt.subplots(1, 1, figsize=(6, 4))\n",
    "ax.plot(time_mesh.gridN, quarter_sine_plt)\n",
    "ax.plot(time_mesh.gridN, np.zeros(time_mesh.nN), 'k|', markersize=2)\n",
    "ax.set_title('quarter sine waveform')"
   ]
  },
  {
   "cell_type": "code",
   "execution_count": 9,
   "metadata": {},
   "outputs": [],
   "source": [
    "src_ramp_on = TDEM.Src.RawVec_Grounded([], s_e, waveform=quarter_sine)\n",
    "src_mmr = TDEM.Src.RawVec_Grounded([], s_e)"
   ]
  },
  {
   "cell_type": "code",
   "execution_count": 10,
   "metadata": {},
   "outputs": [],
   "source": [
    "prob_mmr = TDEM.Problem3D_h(\n",
    "    mesh=mesh, sigmaMap=Maps.IdentityMap(mesh), timeSteps=ramp,\n",
    "    Solver=Pardiso\n",
    ")\n",
    "prob_ramp_on = TDEM.Problem3D_h(\n",
    "    mesh=mesh, sigmaMap=Maps.IdentityMap(mesh), timeSteps=ramp,\n",
    "    Solver=Pardiso\n",
    ")\n",
    "\n",
    "survey_mmr = TDEM.Survey(srcList=[src_mmr])\n",
    "survey_ramp_on = TDEM.Survey([src_ramp_on])\n",
    "\n",
    "prob_mmr.pair(survey_mmr)\n",
    "prob_ramp_on.pair(survey_ramp_on)"
   ]
  },
  {
   "cell_type": "code",
   "execution_count": 11,
   "metadata": {},
   "outputs": [
    {
     "name": "stdout",
     "output_type": "stream",
     "text": [
      "--- Running Long On-Time Simulation ---\n",
      " ... done. Elapsed time 0.4422478675842285\n",
      "\n",
      "\n"
     ]
    }
   ],
   "source": [
    "t = time.time()\n",
    "print('--- Running Long On-Time Simulation ---')\n",
    "\n",
    "prob_ramp_on.mu = mu_model\n",
    "fields = prob_ramp_on.fields(sigma)\n",
    "\n",
    "print(\" ... done. Elapsed time {}\".format(time.time() - t))\n",
    "print('\\n')\n",
    "\n",
    "# grab the last time-step in the simulation\n",
    "h_ramp_on = utils.mkvc(fields[:, 'h', -1])"
   ]
  },
  {
   "cell_type": "code",
   "execution_count": 12,
   "metadata": {},
   "outputs": [],
   "source": [
    "prob_mmr.mu = mu_model\n",
    "prob_mmr.model = sigma\n",
    "h_mmr = src_mmr.hInitial(prob_mmr)"
   ]
  },
  {
   "cell_type": "code",
   "execution_count": 13,
   "metadata": {},
   "outputs": [],
   "source": [
    "def plotHFieldResults(\n",
    "    ax=None, clim_min=None, clim_max=None,\n",
    "    max_depth=1.5*target_l, max_r=100,\n",
    "    top=10., view=\"mmr\"\n",
    "):\n",
    "    if ax is None:\n",
    "        plt.subplots(1, 1, figsize=(6, 7))\n",
    "\n",
    "    assert view.lower() in [\"mmr\", \"late_ontime\", 'diff']\n",
    "\n",
    "    xlim = max_r*np.r_[-1, 1]  # x-limits in meters\n",
    "    zlim = np.r_[-max_depth, top]  # z-limits in meters. (z-positive up)\n",
    "\n",
    "    clim = None\n",
    "\n",
    "    if clim_max is not None and clim_max != 0.:\n",
    "        clim = clim_max * np.r_[-1, 1]\n",
    "\n",
    "        if clim_min is not None and clim_min != 0.:\n",
    "            clim[0] = clim_min\n",
    "\n",
    "#     pltmesh = discretize.TensorMesh([mesh.hx, mesh.hz], x0=mesh.x0[[0, 2]])\n",
    "    if view == \"mmr\":\n",
    "        plotme = h_mmr\n",
    "    elif view == \"late_ontime\":\n",
    "        plotme = h_ramp_on\n",
    "    elif view == \"diff\":\n",
    "        plotme = h_mmr-h_ramp_on\n",
    "\n",
    "    cb = plt.colorbar(mesh.plotImage(\n",
    "        mesh.aveE2CCV * plotme,\n",
    "        vType='CC',\n",
    "        ax=ax, range_x=xlim, range_y=zlim,\n",
    "        sample_grid=np.r_[np.diff(xlim)/100., np.diff(zlim)/100.],\n",
    "        mirror=True,\n",
    "#         pcolorOpts={'norm': LogNorm()}\n",
    "    )[0], ax=ax)\n",
    "    cb.set_clim(clim)\n",
    "    ax.set_title('{}'.format(view), fontsize=13)\n",
    "    ax.set_xlim(xlim)\n",
    "    ax.set_ylim(zlim)\n",
    "    cb.update_ticks()\n",
    "\n",
    "    return ax"
   ]
  },
  {
   "cell_type": "code",
   "execution_count": 14,
   "metadata": {
    "scrolled": false
   },
   "outputs": [
    {
     "data": {
      "image/png": "[encoded data removed]",
      "text/plain": [
       "<matplotlib.figure.Figure at 0xd1dde8a20>"
      ]
     },
     "metadata": {},
     "output_type": "display_data"
    }
   ],
   "source": [
    "fig, ax = plt.subplots(1, 3, figsize=(12, 5))\n",
    "\n",
    "for a, v in zip(ax, [\"mmr\", \"late_ontime\", \"diff\"]):\n",
    "    a = plotHFieldResults(\n",
    "        ax=a,\n",
    "#         clim_min=1e-15,\n",
    "#         clim_max=1e-7,\n",
    "        view=v,\n",
    "        max_r=200\n",
    "    )\n",
    "plt.tight_layout()"
   ]
  },
  {
   "cell_type": "code",
   "execution_count": null,
   "metadata": {},
   "outputs": [],
   "source": []
  }
 ],
 "metadata": {
  "kernelspec": {
   "display_name": "Python 3",
   "language": "python",
   "name": "python3"
  },
  "language_info": {
   "codemirror_mode": {
    "name": "ipython",
    "version": 3
   },
   "file_extension": ".py",
   "mimetype": "text/x-python",
   "name": "python",
   "nbconvert_exporter": "python",
   "pygments_lexer": "ipython3",
   "version": "3.6.4"
  }
 },
 "nbformat": 4,
 "nbformat_minor": 2
}
