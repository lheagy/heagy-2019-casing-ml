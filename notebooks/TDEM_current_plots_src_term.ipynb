{
 "cells": [
  {
   "cell_type": "code",
   "execution_count": 1,
   "metadata": {},
   "outputs": [],
   "source": [
    "# core python\n",
    "import dask\n",
    "import numpy as np\n",
    "import datetime\n",
    "import scipy.sparse as sp\n",
    "import matplotlib.pyplot as plt\n",
    "from matplotlib.colors import LogNorm\n",
    "from scipy.constants import mu_0, inch, foot\n",
    "from scipy.spatial import cKDTree\n",
    "import os\n",
    "import ipywidgets\n",
    "import time\n",
    "from string import ascii_lowercase\n",
    "from matplotlib import rcParams\n",
    "from matplotlib import gridspec\n",
    "\n",
    "# SimPEG, discretize\n",
    "import discretize\n",
    "from discretize import utils\n",
    "from SimPEG.electromagnetics import time_domain as tdem\n",
    "from SimPEG import utils, maps\n",
    "from pymatsolver import Pardiso\n",
    "\n",
    "# casing utility code \n",
    "import casingSimulations as casingSim\n",
    "\n",
    "%matplotlib inline"
   ]
  },
  {
   "cell_type": "code",
   "execution_count": 2,
   "metadata": {},
   "outputs": [],
   "source": [
    "from pyMKL import mkl_set_num_threads\n",
    "# use a single thread \n",
    "# num_threads = 1\n",
    "# mkl_set_num_threads(num_threads)"
   ]
  },
  {
   "cell_type": "code",
   "execution_count": 3,
   "metadata": {},
   "outputs": [],
   "source": [
    "from matplotlib import rcParams\n",
    "rcParams[\"font.size\"] = 14"
   ]
  },
  {
   "cell_type": "markdown",
   "metadata": {},
   "source": [
    "## model parameters"
   ]
  },
  {
   "cell_type": "code",
   "execution_count": 4,
   "metadata": {},
   "outputs": [],
   "source": [
    "# conductivities\n",
    "sigma_air = 1e-4\n",
    "sigma_back = 1e-2\n",
    "sigma_casing = sigma_back\n",
    "sigma_casing = 5e6\n",
    "\n",
    "# relative permeability of the casing\n",
    "mur_casing = 1.\n",
    "\n",
    "# casing geometry\n",
    "casing_diameter = 10e-2  \n",
    "casing_t = 10e-3\n",
    "casing_l = 1000\n",
    "\n",
    "# cell size in the z-direction for the mesh\n",
    "csz = 2.5 \n",
    "# csz=1.25"
   ]
  },
  {
   "cell_type": "markdown",
   "metadata": {},
   "source": [
    "Source electrode locations. The source runs along the $\\theta = 90^{\\circ}$ line"
   ]
  },
  {
   "cell_type": "code",
   "execution_count": 5,
   "metadata": {},
   "outputs": [],
   "source": [
    "src_a = np.r_[casing_diameter / 2., np.pi/2, 0.]\n",
    "src_b = np.r_[casing_l, np.pi/2, 0.]"
   ]
  },
  {
   "cell_type": "code",
   "execution_count": 6,
   "metadata": {},
   "outputs": [],
   "source": [
    "model = casingSim.model.CasingInHalfspace(\n",
    "    casing_d = casing_diameter - casing_t,  # I use diameter to the center of the casing wall\n",
    "    casing_l = casing_l,\n",
    "    casing_t = casing_t, \n",
    "    mur_casing = mur_casing,\n",
    "    sigma_air = sigma_air,\n",
    "    sigma_casing = sigma_casing,\n",
    "    sigma_back = sigma_back,\n",
    "    sigma_inside = sigma_back,\n",
    "    src_a = src_a,\n",
    "    src_b = src_b\n",
    ")\n",
    "model.filename = \"casing.json\""
   ]
  },
  {
   "cell_type": "markdown",
   "metadata": {},
   "source": [
    "Create the time-stepping for the forward simulation"
   ]
  },
  {
   "cell_type": "code",
   "execution_count": 7,
   "metadata": {},
   "outputs": [
    {
     "name": "stdout",
     "output_type": "stream",
     "text": [
      "The latest time is 2.0e-01s\n",
      "There are 187 time-steps in the simulation, 7 are unique (this controls how many matrix factorizations need to be done)\n"
     ]
    }
   ],
   "source": [
    "timeSteps = [\n",
    "    (1e-6, 20), (1e-5, 30), (3e-5, 30), (1e-4, 40), (3e-4, 30), (1e-3, 20), (1e-2, 17)\n",
    "]\n",
    "\n",
    "model.timeSteps = timeSteps\n",
    "\n",
    "print(\"The latest time is {:1.1e}s\".format(model.timeSteps.sum()))\n",
    "print(\"There are {} time-steps in the simulation, {} are unique \"\n",
    "      \"(this controls how many matrix factorizations need to be done)\".format(\n",
    "          len(model.timeSteps), len(np.unique(np.diff(model.timeSteps)))\n",
    "      )\n",
    ")"
   ]
  },
  {
   "cell_type": "markdown",
   "metadata": {},
   "source": [
    "Duplicate the model so that we can run a `background` model that does not include casing."
   ]
  },
  {
   "cell_type": "code",
   "execution_count": 8,
   "metadata": {},
   "outputs": [
    {
     "name": "stdout",
     "output_type": "stream",
     "text": [
      "12615.6626101008\n"
     ]
    }
   ],
   "source": [
    "print(model.diffusion_distance(1))\n"
   ]
  },
  {
   "cell_type": "code",
   "execution_count": 9,
   "metadata": {},
   "outputs": [],
   "source": [
    "model_background = model.copy()\n",
    "model_background.sigma_casing = model_background.sigma_back\n",
    "model_background.filename = \"background.json\""
   ]
  },
  {
   "cell_type": "code",
   "execution_count": 10,
   "metadata": {},
   "outputs": [
    {
     "data": {
      "application/vnd.jupyter.widget-view+json": {
       "model_id": "f1b46b45f55f48b889e4680caf4d1942",
       "version_major": 2,
       "version_minor": 0
      },
      "text/plain": [
       "interactive(children=(FloatSlider(value=0.0, description='x', max=1.0, min=-1.0), Output()), _dom_classes=('wi…"
      ]
     },
     "metadata": {},
     "output_type": "display_data"
    },
    {
     "data": {
      "text/plain": [
       "<function __main__.x2(x)>"
      ]
     },
     "execution_count": 10,
     "metadata": {},
     "output_type": "execute_result"
    }
   ],
   "source": [
    "def x2(x):\n",
    "    return x**2\n",
    "ipywidgets.interact(x2, x=ipywidgets.FloatSlider(min=-1, max=1))"
   ]
  },
  {
   "cell_type": "markdown",
   "metadata": {},
   "source": [
    "### create \"approximate\" models\n",
    "- treat the well as a solid cylinder\n",
    "- use a conductivity equal to that product of the conductivity and cross-sectional area of the casing\n",
    "- to approximate the permeability, I preserve the product of the permeability and the thickness of the casing wall"
   ]
  },
  {
   "cell_type": "code",
   "execution_count": 11,
   "metadata": {},
   "outputs": [
    {
     "name": "stdout",
     "output_type": "stream",
     "text": [
      "The approximate conductivity of the solid we use is 1.8e+06\n"
     ]
    }
   ],
   "source": [
    "# preserve product of conductivity and cross-sectional area for solid cylinder \n",
    "sigmaA = model.sigma_casing * (model.casing_b**2 - model.casing_a**2)/model.casing_b**2\n",
    "print(f\"The approximate conductivity of the solid we use is {sigmaA:1.1e}\")\n",
    "\n",
    "model_approx_casing = model.copy()\n",
    "model_approx_casing.sigma_inside = sigmaA\n",
    "model_approx_casing.sigma_casing = sigmaA\n",
    "model_approx_casing.filename = \"approx_casing.json\"\n",
    "\n",
    "model_solid_steel = model_approx_casing.copy()\n",
    "model_solid_steel.sigma_inside = model.sigma_casing\n",
    "model_solid_steel.sigma_casing = model.sigma_casing\n",
    "model_solid_steel.filename = \"solid_steel.json\""
   ]
  },
  {
   "cell_type": "markdown",
   "metadata": {},
   "source": [
    "keep track of the models in a dictionary"
   ]
  },
  {
   "cell_type": "code",
   "execution_count": 12,
   "metadata": {},
   "outputs": [],
   "source": [
    "model_names = [\"casing\", \"approx_casing\", \"solid_steel\"] \n",
    "models = [model, model_approx_casing, model_solid_steel]\n",
    "model_dict = dict(zip(\n",
    "    model_names, \n",
    "    models \n",
    "))"
   ]
  },
  {
   "cell_type": "markdown",
   "metadata": {},
   "source": [
    "## Mesh\n",
    "\n",
    "We set up a 3D cylindrical mesh for the simulations. Both the casing and background models will be run on the same mesh. "
   ]
  },
  {
   "cell_type": "code",
   "execution_count": 13,
   "metadata": {},
   "outputs": [
    {
     "data": {
      "text/plain": [
       "5701.1071274119095"
      ]
     },
     "execution_count": 13,
     "metadata": {},
     "output_type": "execute_result"
    }
   ],
   "source": [
    "model.diffusion_distance()"
   ]
  },
  {
   "cell_type": "code",
   "execution_count": 14,
   "metadata": {},
   "outputs": [],
   "source": [
    "# Theta discretization\n",
    "hy = np.ones(12)\n",
    "hy = hy*2*np.pi / hy.sum()"
   ]
  },
  {
   "cell_type": "code",
   "execution_count": 15,
   "metadata": {},
   "outputs": [],
   "source": [
    "meshGen = casingSim.mesh.CasingMeshGenerator(\n",
    "    modelParameters = model, \n",
    "    csx1 = model.casing_t/4,\n",
    "    csx2 = 100,\n",
    "    domain_x = casing_l,  # use 2.5m cells out to 300m. \n",
    "    hy = hy,\n",
    "    npadx = 8, # 6\n",
    "    npadz = 17,  #14\n",
    "#     npadx = 10, \n",
    "#     npadz = 19,\n",
    "    csz = csz,\n",
    ")\n",
    "# meshGen.save()"
   ]
  },
  {
   "cell_type": "code",
   "execution_count": 16,
   "metadata": {},
   "outputs": [],
   "source": [
    "mesh = meshGen.mesh"
   ]
  },
  {
   "cell_type": "code",
   "execution_count": 17,
   "metadata": {},
   "outputs": [
    {
     "name": "stdout",
     "output_type": "stream",
     "text": [
      "The mesh has 426240 cells\n"
     ]
    }
   ],
   "source": [
    "print(\"The mesh has {} cells\".format(meshGen.mesh.nC))"
   ]
  },
  {
   "cell_type": "markdown",
   "metadata": {},
   "source": [
    "plot the mesh"
   ]
  },
  {
   "cell_type": "code",
   "execution_count": 18,
   "metadata": {},
   "outputs": [
    {
     "name": "stderr",
     "output_type": "stream",
     "text": [
      "/global/homes/l/lheagy/.conda/envs/simpeg37/lib/python3.7/site-packages/matplotlib/projections/polar.py:55: RuntimeWarning: invalid value encountered in greater_equal\n",
      "  r = np.where(r >= 0, r, np.nan)\n"
     ]
    },
    {
     "data": {
      "image/png": "[encoded data removed]",
      "text/plain": [
       "<Figure size 864x360 with 2 Axes>"
      ]
     },
     "metadata": {
      "needs_background": "light"
     },
     "output_type": "display_data"
    }
   ],
   "source": [
    "ax = mesh.plotGrid()"
   ]
  },
  {
   "cell_type": "markdown",
   "metadata": {},
   "source": [
    "## Physical Properties\n",
    "\n",
    "Now that we have a mesh and a model defined, we populate the mesh with physical properties"
   ]
  },
  {
   "cell_type": "code",
   "execution_count": 19,
   "metadata": {},
   "outputs": [],
   "source": [
    "physprops_dict = {\n",
    "    key: casingSim.model.PhysicalProperties(\n",
    "        modelParameters=m, meshGenerator=meshGen\n",
    "    )\n",
    "    for key, m in model_dict.items() \n",
    "}\n"
   ]
  },
  {
   "cell_type": "code",
   "execution_count": 20,
   "metadata": {},
   "outputs": [
    {
     "data": {
      "image/png": "[encoded data removed]",
      "text/plain": [
       "<Figure size 1080x360 with 6 Axes>"
      ]
     },
     "metadata": {
      "needs_background": "light"
     },
     "output_type": "display_data"
    }
   ],
   "source": [
    "fig, ax = plt.subplots(1, len(model_names), figsize=(5*len(model_names), 5))\n",
    "\n",
    "xlim = 0.5*np.r_[-1., 1.]\n",
    "ylim = np.r_[-1.25*casing_l, 10.]\n",
    "\n",
    "for m, a in zip(model_names, ax):\n",
    "    physprops_dict[m].plot_sigma(ax=a, pcolorOpts={'norm':LogNorm()})\n",
    "    a.set_xlim(xlim)\n",
    "    a.set_ylim(ylim) \n",
    "    a.set_title(m)\n",
    "\n",
    "plt.tight_layout()"
   ]
  },
  {
   "cell_type": "code",
   "execution_count": 21,
   "metadata": {},
   "outputs": [
    {
     "data": {
      "image/png": "[encoded data removed]",
      "text/plain": [
       "<Figure size 1080x360 with 6 Axes>"
      ]
     },
     "metadata": {
      "needs_background": "light"
     },
     "output_type": "display_data"
    }
   ],
   "source": [
    "fig, ax = plt.subplots(1, len(model_names), figsize=(5*len(model_names), 5))\n",
    "\n",
    "xlim = 0.5*np.r_[-1., 1.]\n",
    "ylim = np.r_[-1.25*casing_l, 10.]\n",
    "\n",
    "for m, a in zip(model_names, ax):\n",
    "    physprops_dict[m].plot_mur(ax=a)\n",
    "    a.set_xlim(xlim)\n",
    "    a.set_ylim(ylim) \n",
    "    a.set_title(m)\n",
    "\n",
    "plt.tight_layout()"
   ]
  },
  {
   "cell_type": "markdown",
   "metadata": {},
   "source": [
    "## Survey\n",
    "\n",
    "The source is a grounded source with one electrode at 1000m and the other electrode connected to the top of the casing. A wire connects them. Note that we will use H-J formulation t solve this problem, so the source is defined as current that goes through the faces of the mesh. "
   ]
  },
  {
   "cell_type": "code",
   "execution_count": 22,
   "metadata": {},
   "outputs": [],
   "source": [
    "src_theta = np.pi/2. + mesh.hy[0]/2.\n",
    "model.src_a[1] = src_theta\n",
    "model.src_b[1] = src_theta"
   ]
  },
  {
   "cell_type": "code",
   "execution_count": 23,
   "metadata": {},
   "outputs": [],
   "source": [
    "top_src_a = model.src_a.copy()\n",
    "top_src_a[2] = 0"
   ]
  },
  {
   "cell_type": "code",
   "execution_count": 24,
   "metadata": {},
   "outputs": [],
   "source": [
    "downhole_src_a = model.src_a.copy()\n",
    "downhole_src_a[0] = 0.\n",
    "downhole_src_a[2] = -950."
   ]
  },
  {
   "cell_type": "code",
   "execution_count": 25,
   "metadata": {},
   "outputs": [],
   "source": [
    "src_top = casingSim.sources.TopCasingSrc(\n",
    "    modelParameters=model, \n",
    "    meshGenerator=meshGen,\n",
    "    src_a=top_src_a,\n",
    "    src_b=model.src_b,\n",
    "    physics=\"TDEM\",\n",
    "    filename=\"top_casing\",\n",
    ")\n",
    "\n",
    "src_downhole = casingSim.sources.DownHoleCasingSrc(\n",
    "    modelParameters=model,\n",
    "    meshGenerator=meshGen,\n",
    "    src_a=downhole_src_a,\n",
    "    src_b=model.src_b,\n",
    "    physics=\"TDEM\",\n",
    "    filename=\"downhole\",\n",
    ")\n",
    "\n",
    "sources = [src_top, src_downhole]\n",
    "srcList = src_top.srcList + src_downhole.srcList"
   ]
  },
  {
   "cell_type": "code",
   "execution_count": 26,
   "metadata": {},
   "outputs": [],
   "source": [
    "casingSimSrcList = casingSim.sources.SourceList(\n",
    "    filename=\"sources.json\",\n",
    "    sources = sources  \n",
    ")\n",
    "\n",
    "source_list = casingSimSrcList.srcList"
   ]
  },
  {
   "cell_type": "code",
   "execution_count": 27,
   "metadata": {},
   "outputs": [
    {
     "data": {
      "image/png": "[encoded data removed]",
      "text/plain": [
       "<Figure size 864x432 with 2 Axes>"
      ]
     },
     "metadata": {
      "needs_background": "light"
     },
     "output_type": "display_data"
    }
   ],
   "source": [
    "fig, ax = plt.subplots(1, 2, figsize=(12, 6))\n",
    "\n",
    "for a, src in zip(ax, sources): \n",
    "    meshGen.mesh.plotGrid(slice='theta', ax=a)\n",
    "    src.plot(ax=a)\n",
    "\n",
    "    a.set_xlim([0., 0.5])\n",
    "    a.set_ylim([-10., 10.])"
   ]
  },
  {
   "cell_type": "markdown",
   "metadata": {},
   "source": [
    "## Simulation"
   ]
  },
  {
   "cell_type": "code",
   "execution_count": 28,
   "metadata": {},
   "outputs": [],
   "source": [
    "run = False\n",
    "use_cluster = False #True\n",
    "# run = True\n",
    "# use_cluster = True"
   ]
  },
  {
   "cell_type": "code",
   "execution_count": 29,
   "metadata": {},
   "outputs": [],
   "source": [
    "survey = tdem.Survey(source_list)"
   ]
  },
  {
   "cell_type": "code",
   "execution_count": 30,
   "metadata": {},
   "outputs": [],
   "source": [
    "formulation = \"j\"\n",
    "\n",
    "if formulation == \"h\":\n",
    "    sim = tdem.Problem3D_h(\n",
    "        mesh=mesh, survey=survey, sigmaMap=maps.IdentityMap(mesh), solver=Pardiso,\n",
    "        time_steps=timeSteps\n",
    "    )\n",
    "elif formulation == \"j\":\n",
    "    sim = tdem.Problem3D_j(\n",
    "        mesh=mesh, survey=survey, sigmaMap=maps.IdentityMap(mesh), solver=Pardiso,\n",
    "        time_steps=timeSteps\n",
    "    )"
   ]
  },
  {
   "cell_type": "code",
   "execution_count": 31,
   "metadata": {},
   "outputs": [],
   "source": [
    "import dask\n",
    "import dask_jobqueue\n",
    "from dask.distributed import Client\n",
    "from dask.diagnostics import ProgressBar"
   ]
  },
  {
   "cell_type": "code",
   "execution_count": 32,
   "metadata": {},
   "outputs": [],
   "source": [
    "# dask_jobqueue.SLURMCluster??"
   ]
  },
  {
   "cell_type": "code",
   "execution_count": 33,
   "metadata": {},
   "outputs": [],
   "source": [
    "if use_cluster is True: \n",
    "    cluster = dask_jobqueue.SLURMCluster(\n",
    "        cores=len(model_names),\n",
    "        processes=len(model_names), memory='120GB', \n",
    "        job_cpu=5*len(model_names),\n",
    "        project=\"m3384\",\n",
    "        job_extra = ['--constraint=haswell', '--qos=debug',], \n",
    "        death_timeout=360,\n",
    "    )\n",
    "\n",
    "    print(cluster.job_script())"
   ]
  },
  {
   "cell_type": "code",
   "execution_count": 34,
   "metadata": {},
   "outputs": [],
   "source": [
    "# Client?"
   ]
  },
  {
   "cell_type": "code",
   "execution_count": 35,
   "metadata": {},
   "outputs": [
    {
     "name": "stderr",
     "output_type": "stream",
     "text": [
      "distributed.nanny - WARNING - Restarting worker\n",
      "distributed.nanny - WARNING - Restarting worker\n"
     ]
    },
    {
     "ename": "KeyboardInterrupt",
     "evalue": "",
     "output_type": "error",
     "traceback": [
      "\u001b[0;31m---------------------------------------------------------------------------\u001b[0m",
      "\u001b[0;31mKeyboardInterrupt\u001b[0m                         Traceback (most recent call last)",
      "\u001b[0;32m<ipython-input-35-0e93fbc1bbcc>\u001b[0m in \u001b[0;36m<module>\u001b[0;34m\u001b[0m\n\u001b[1;32m      2\u001b[0m     \u001b[0mclient\u001b[0m \u001b[0;34m=\u001b[0m \u001b[0mClient\u001b[0m\u001b[0;34m(\u001b[0m\u001b[0mcluster\u001b[0m\u001b[0;34m)\u001b[0m\u001b[0;34m\u001b[0m\u001b[0;34m\u001b[0m\u001b[0m\n\u001b[1;32m      3\u001b[0m \u001b[0;32melse\u001b[0m\u001b[0;34m:\u001b[0m\u001b[0;34m\u001b[0m\u001b[0;34m\u001b[0m\u001b[0m\n\u001b[0;32m----> 4\u001b[0;31m     \u001b[0mclient\u001b[0m \u001b[0;34m=\u001b[0m \u001b[0mClient\u001b[0m\u001b[0;34m(\u001b[0m\u001b[0mthreads_per_workr\u001b[0m\u001b[0;34m=\u001b[0m\u001b[0;36m1\u001b[0m\u001b[0;34m,\u001b[0m \u001b[0mn_workers\u001b[0m\u001b[0;34m=\u001b[0m\u001b[0;36m1\u001b[0m\u001b[0;34m)\u001b[0m\u001b[0;34m\u001b[0m\u001b[0;34m\u001b[0m\u001b[0m\n\u001b[0m\u001b[1;32m      5\u001b[0m \u001b[0mclient\u001b[0m\u001b[0;34m\u001b[0m\u001b[0;34m\u001b[0m\u001b[0m\n",
      "\u001b[0;32m~/.conda/envs/simpeg37/lib/python3.7/site-packages/distributed/client.py\u001b[0m in \u001b[0;36m__init__\u001b[0;34m(self, address, loop, timeout, set_as_default, scheduler_file, security, asynchronous, name, heartbeat_interval, serializers, deserializers, extensions, direct_to_workers, **kwargs)\u001b[0m\n\u001b[1;32m    711\u001b[0m             \u001b[0mext\u001b[0m\u001b[0;34m(\u001b[0m\u001b[0mself\u001b[0m\u001b[0;34m)\u001b[0m\u001b[0;34m\u001b[0m\u001b[0;34m\u001b[0m\u001b[0m\n\u001b[1;32m    712\u001b[0m \u001b[0;34m\u001b[0m\u001b[0m\n\u001b[0;32m--> 713\u001b[0;31m         \u001b[0mself\u001b[0m\u001b[0;34m.\u001b[0m\u001b[0mstart\u001b[0m\u001b[0;34m(\u001b[0m\u001b[0mtimeout\u001b[0m\u001b[0;34m=\u001b[0m\u001b[0mtimeout\u001b[0m\u001b[0;34m)\u001b[0m\u001b[0;34m\u001b[0m\u001b[0;34m\u001b[0m\u001b[0m\n\u001b[0m\u001b[1;32m    714\u001b[0m         \u001b[0mClient\u001b[0m\u001b[0;34m.\u001b[0m\u001b[0m_instances\u001b[0m\u001b[0;34m.\u001b[0m\u001b[0madd\u001b[0m\u001b[0;34m(\u001b[0m\u001b[0mself\u001b[0m\u001b[0;34m)\u001b[0m\u001b[0;34m\u001b[0m\u001b[0;34m\u001b[0m\u001b[0m\n\u001b[1;32m    715\u001b[0m \u001b[0;34m\u001b[0m\u001b[0m\n",
      "\u001b[0;32m~/.conda/envs/simpeg37/lib/python3.7/site-packages/distributed/client.py\u001b[0m in \u001b[0;36mstart\u001b[0;34m(self, **kwargs)\u001b[0m\n\u001b[1;32m    868\u001b[0m             \u001b[0mself\u001b[0m\u001b[0;34m.\u001b[0m\u001b[0m_started\u001b[0m \u001b[0;34m=\u001b[0m \u001b[0masyncio\u001b[0m\u001b[0;34m.\u001b[0m\u001b[0mensure_future\u001b[0m\u001b[0;34m(\u001b[0m\u001b[0mself\u001b[0m\u001b[0;34m.\u001b[0m\u001b[0m_start\u001b[0m\u001b[0;34m(\u001b[0m\u001b[0;34m**\u001b[0m\u001b[0mkwargs\u001b[0m\u001b[0;34m)\u001b[0m\u001b[0;34m)\u001b[0m\u001b[0;34m\u001b[0m\u001b[0;34m\u001b[0m\u001b[0m\n\u001b[1;32m    869\u001b[0m         \u001b[0;32melse\u001b[0m\u001b[0;34m:\u001b[0m\u001b[0;34m\u001b[0m\u001b[0;34m\u001b[0m\u001b[0m\n\u001b[0;32m--> 870\u001b[0;31m             \u001b[0msync\u001b[0m\u001b[0;34m(\u001b[0m\u001b[0mself\u001b[0m\u001b[0;34m.\u001b[0m\u001b[0mloop\u001b[0m\u001b[0;34m,\u001b[0m \u001b[0mself\u001b[0m\u001b[0;34m.\u001b[0m\u001b[0m_start\u001b[0m\u001b[0;34m,\u001b[0m \u001b[0;34m**\u001b[0m\u001b[0mkwargs\u001b[0m\u001b[0;34m)\u001b[0m\u001b[0;34m\u001b[0m\u001b[0;34m\u001b[0m\u001b[0m\n\u001b[0m\u001b[1;32m    871\u001b[0m \u001b[0;34m\u001b[0m\u001b[0m\n\u001b[1;32m    872\u001b[0m     \u001b[0;32mdef\u001b[0m \u001b[0m__await__\u001b[0m\u001b[0;34m(\u001b[0m\u001b[0mself\u001b[0m\u001b[0;34m)\u001b[0m\u001b[0;34m:\u001b[0m\u001b[0;34m\u001b[0m\u001b[0;34m\u001b[0m\u001b[0m\n",
      "\u001b[0;32m~/.conda/envs/simpeg37/lib/python3.7/site-packages/distributed/utils.py\u001b[0m in \u001b[0;36msync\u001b[0;34m(loop, func, callback_timeout, *args, **kwargs)\u001b[0m\n\u001b[1;32m    332\u001b[0m     \u001b[0;32melse\u001b[0m\u001b[0;34m:\u001b[0m\u001b[0;34m\u001b[0m\u001b[0;34m\u001b[0m\u001b[0m\n\u001b[1;32m    333\u001b[0m         \u001b[0;32mwhile\u001b[0m \u001b[0;32mnot\u001b[0m \u001b[0me\u001b[0m\u001b[0;34m.\u001b[0m\u001b[0mis_set\u001b[0m\u001b[0;34m(\u001b[0m\u001b[0;34m)\u001b[0m\u001b[0;34m:\u001b[0m\u001b[0;34m\u001b[0m\u001b[0;34m\u001b[0m\u001b[0m\n\u001b[0;32m--> 334\u001b[0;31m             \u001b[0me\u001b[0m\u001b[0;34m.\u001b[0m\u001b[0mwait\u001b[0m\u001b[0;34m(\u001b[0m\u001b[0;36m10\u001b[0m\u001b[0;34m)\u001b[0m\u001b[0;34m\u001b[0m\u001b[0;34m\u001b[0m\u001b[0m\n\u001b[0m\u001b[1;32m    335\u001b[0m     \u001b[0;32mif\u001b[0m \u001b[0merror\u001b[0m\u001b[0;34m[\u001b[0m\u001b[0;36m0\u001b[0m\u001b[0;34m]\u001b[0m\u001b[0;34m:\u001b[0m\u001b[0;34m\u001b[0m\u001b[0;34m\u001b[0m\u001b[0m\n\u001b[1;32m    336\u001b[0m         \u001b[0mtyp\u001b[0m\u001b[0;34m,\u001b[0m \u001b[0mexc\u001b[0m\u001b[0;34m,\u001b[0m \u001b[0mtb\u001b[0m \u001b[0;34m=\u001b[0m \u001b[0merror\u001b[0m\u001b[0;34m[\u001b[0m\u001b[0;36m0\u001b[0m\u001b[0;34m]\u001b[0m\u001b[0;34m\u001b[0m\u001b[0;34m\u001b[0m\u001b[0m\n",
      "\u001b[0;32m~/.conda/envs/simpeg37/lib/python3.7/threading.py\u001b[0m in \u001b[0;36mwait\u001b[0;34m(self, timeout)\u001b[0m\n\u001b[1;32m    550\u001b[0m             \u001b[0msignaled\u001b[0m \u001b[0;34m=\u001b[0m \u001b[0mself\u001b[0m\u001b[0;34m.\u001b[0m\u001b[0m_flag\u001b[0m\u001b[0;34m\u001b[0m\u001b[0;34m\u001b[0m\u001b[0m\n\u001b[1;32m    551\u001b[0m             \u001b[0;32mif\u001b[0m \u001b[0;32mnot\u001b[0m \u001b[0msignaled\u001b[0m\u001b[0;34m:\u001b[0m\u001b[0;34m\u001b[0m\u001b[0;34m\u001b[0m\u001b[0m\n\u001b[0;32m--> 552\u001b[0;31m                 \u001b[0msignaled\u001b[0m \u001b[0;34m=\u001b[0m \u001b[0mself\u001b[0m\u001b[0;34m.\u001b[0m\u001b[0m_cond\u001b[0m\u001b[0;34m.\u001b[0m\u001b[0mwait\u001b[0m\u001b[0;34m(\u001b[0m\u001b[0mtimeout\u001b[0m\u001b[0;34m)\u001b[0m\u001b[0;34m\u001b[0m\u001b[0;34m\u001b[0m\u001b[0m\n\u001b[0m\u001b[1;32m    553\u001b[0m             \u001b[0;32mreturn\u001b[0m \u001b[0msignaled\u001b[0m\u001b[0;34m\u001b[0m\u001b[0;34m\u001b[0m\u001b[0m\n\u001b[1;32m    554\u001b[0m \u001b[0;34m\u001b[0m\u001b[0m\n",
      "\u001b[0;32m~/.conda/envs/simpeg37/lib/python3.7/threading.py\u001b[0m in \u001b[0;36mwait\u001b[0;34m(self, timeout)\u001b[0m\n\u001b[1;32m    298\u001b[0m             \u001b[0;32melse\u001b[0m\u001b[0;34m:\u001b[0m\u001b[0;34m\u001b[0m\u001b[0;34m\u001b[0m\u001b[0m\n\u001b[1;32m    299\u001b[0m                 \u001b[0;32mif\u001b[0m \u001b[0mtimeout\u001b[0m \u001b[0;34m>\u001b[0m \u001b[0;36m0\u001b[0m\u001b[0;34m:\u001b[0m\u001b[0;34m\u001b[0m\u001b[0;34m\u001b[0m\u001b[0m\n\u001b[0;32m--> 300\u001b[0;31m                     \u001b[0mgotit\u001b[0m \u001b[0;34m=\u001b[0m \u001b[0mwaiter\u001b[0m\u001b[0;34m.\u001b[0m\u001b[0macquire\u001b[0m\u001b[0;34m(\u001b[0m\u001b[0;32mTrue\u001b[0m\u001b[0;34m,\u001b[0m \u001b[0mtimeout\u001b[0m\u001b[0;34m)\u001b[0m\u001b[0;34m\u001b[0m\u001b[0;34m\u001b[0m\u001b[0m\n\u001b[0m\u001b[1;32m    301\u001b[0m                 \u001b[0;32melse\u001b[0m\u001b[0;34m:\u001b[0m\u001b[0;34m\u001b[0m\u001b[0;34m\u001b[0m\u001b[0m\n\u001b[1;32m    302\u001b[0m                     \u001b[0mgotit\u001b[0m \u001b[0;34m=\u001b[0m \u001b[0mwaiter\u001b[0m\u001b[0;34m.\u001b[0m\u001b[0macquire\u001b[0m\u001b[0;34m(\u001b[0m\u001b[0;32mFalse\u001b[0m\u001b[0;34m)\u001b[0m\u001b[0;34m\u001b[0m\u001b[0;34m\u001b[0m\u001b[0m\n",
      "\u001b[0;31mKeyboardInterrupt\u001b[0m: "
     ]
    }
   ],
   "source": [
    "if use_cluster is True: \n",
    "    client = Client(cluster)\n",
    "else: \n",
    "    client = Client(threads_per_workr=1, n_workers=1)\n",
    "client"
   ]
  },
  {
   "cell_type": "code",
   "execution_count": 36,
   "metadata": {},
   "outputs": [],
   "source": [
    "# @dask.delayed\n",
    "def run_simulation(m, simulation_params, directory=None, name=None):\n",
    "    import discretize\n",
    "    import casingSimulations as casing_sim\n",
    "    from SimPEG.electromagnetics import time_domain as tdem\n",
    "    from pymatsolver import Pardiso\n",
    "        \n",
    "    if isinstance(simulation_params, str):\n",
    "        simulation_params = json.loads(simulation_params)\n",
    "    \n",
    "    sim = tdem.Problem3D_j.deserialize(simulation_params, trusted=True)\n",
    "    \n",
    "    if isinstance(m, str):\n",
    "        model = casing_sim.model.CasingInHalfspace.deserialize(json.loads(m), trusted=True)\n",
    "        m = model.sigma(sim.mesh)\n",
    "    \n",
    "    sim.solver = Pardiso\n",
    "    sim.verbose = True\n",
    "    \n",
    "    fields = sim.fields(m)\n",
    "    f = fields[:, '{}Solution'.format(sim._fieldType), :]\n",
    "    if name is not None: \n",
    "        filename = f\"{name}.npy\"\n",
    "        tosave = os.path.sep.join([directory, filename]) \n",
    "        print(f\"saving {tosave}\")\n",
    "        np.save(tosave, f)\n",
    "    return tosave"
   ]
  },
  {
   "cell_type": "code",
   "execution_count": 37,
   "metadata": {},
   "outputs": [],
   "source": [
    "if use_cluster is True:\n",
    "    cluster.adapt()\n",
    "#     cluster.scale(3)\n",
    "    print(\"cluster scaled\")\n",
    "    cluster"
   ]
  },
  {
   "cell_type": "code",
   "execution_count": 38,
   "metadata": {},
   "outputs": [],
   "source": [
    "if run is True: \n",
    "    f = {}\n",
    "    for key, value in physprops_dict.items():\n",
    "        time = datetime.datetime.now()\n",
    "        model = model_dict[key]\n",
    "        directory = f\"{time.year}{time.month}{time.day}{time.hour}{os.path.sep}{int(model.casing_l)}m_sigma{model.sigma_back:1.0e}\"\n",
    "\n",
    "        if not os.path.isdir(directory):\n",
    "            os.makedirs(directory, exist_ok=True)\n",
    "\n",
    "        model.save(f\"{key}.json\", directory)\n",
    "        sigma = dask.delayed(value.sigma)\n",
    "        f[key] = dask.delayed(run_simulation)(\n",
    "            value.sigma, sim.serialize(), directory, key\n",
    "        )\n",
    "    \n",
    "    "
   ]
  },
  {
   "cell_type": "code",
   "execution_count": 39,
   "metadata": {},
   "outputs": [],
   "source": [
    "if run is True: \n",
    "    fields_files = dask.compute(f)[0]\n",
    "else:\n",
    "    fields_files = {}\n",
    "#     directory = \"20198821/1000m_sigma1e-02/\"\n",
    "#     directory = '20198413/1000m_sigma1e-02/'\n",
    "#     directory = \"20199317/1000m_sigma1e-02/\"\n",
    "    directory = \"/project/projectdirs/m3384/lheagy/heagy-2019-casing-ml/forward_simulations/1000m_sigma1e-02/\"\n",
    "    for key in model_names:\n",
    "        fields_files[key] = f\"{directory}{key}.npy\""
   ]
  },
  {
   "cell_type": "markdown",
   "metadata": {},
   "source": [
    "load the results into memory and re-populate the fields object (this takes a couple minutes). "
   ]
  },
  {
   "cell_type": "code",
   "execution_count": 40,
   "metadata": {},
   "outputs": [
    {
     "data": {
      "text/plain": [
       "{'casing': '/project/projectdirs/m3384/lheagy/heagy-2019-casing-ml/forward_simulations/1000m_sigma1e-02/casing.npy',\n",
       " 'approx_casing': '/project/projectdirs/m3384/lheagy/heagy-2019-casing-ml/forward_simulations/1000m_sigma1e-02/approx_casing.npy',\n",
       " 'solid_steel': '/project/projectdirs/m3384/lheagy/heagy-2019-casing-ml/forward_simulations/1000m_sigma1e-02/solid_steel.npy'}"
      ]
     },
     "execution_count": 40,
     "metadata": {},
     "output_type": "execute_result"
    }
   ],
   "source": [
    "fields_files"
   ]
  },
  {
   "cell_type": "code",
   "execution_count": 41,
   "metadata": {},
   "outputs": [],
   "source": [
    "solution_dict = {}\n",
    "for key, val in fields_files.items():\n",
    "    solution_dict[key] = np.load(val)"
   ]
  },
  {
   "cell_type": "code",
   "execution_count": 42,
   "metadata": {},
   "outputs": [],
   "source": [
    "m = model_dict['casing']"
   ]
  },
  {
   "cell_type": "code",
   "execution_count": 43,
   "metadata": {},
   "outputs": [],
   "source": [
    "if use_cluster is True: \n",
    "    cluster.close()"
   ]
  },
  {
   "cell_type": "markdown",
   "metadata": {},
   "source": [
    "#### todo: profile this at some point - the fields object should not be this expensive to create"
   ]
  },
  {
   "cell_type": "code",
   "execution_count": 44,
   "metadata": {},
   "outputs": [
    {
     "data": {
      "text/plain": [
       "(1279680, 2, 188)"
      ]
     },
     "execution_count": 44,
     "metadata": {},
     "output_type": "execute_result"
    }
   ],
   "source": [
    "solution_dict[\"approx_casing\"].shape"
   ]
  },
  {
   "cell_type": "code",
   "execution_count": null,
   "metadata": {},
   "outputs": [
    {
     "name": "stdout",
     "output_type": "stream",
     "text": [
      "casing\n"
     ]
    }
   ],
   "source": [
    "fields_dict = {}\n",
    "\n",
    "for key in model_names:\n",
    "    print(key)\n",
    "    sim.model = model_dict[key].sigma(sim.mesh)\n",
    "    fields_dict[key] = sim.fieldsPair(sim)\n",
    "    fields_dict[key][:, f'{formulation}Solution', :] = solution_dict.pop(key)"
   ]
  },
  {
   "cell_type": "code",
   "execution_count": null,
   "metadata": {},
   "outputs": [],
   "source": []
  },
  {
   "cell_type": "code",
   "execution_count": null,
   "metadata": {},
   "outputs": [],
   "source": [
    "viewer = casingSim.FieldsViewer(\n",
    "    mesh=mesh, model_parameters_dict=model_dict, survey_dict={key: sim.survey for key in model_names}, \n",
    "    fields_dict=fields_dict, model_keys=model_names, primary_key=\"approx_casing\"\n",
    ")"
   ]
  },
  {
   "cell_type": "code",
   "execution_count": null,
   "metadata": {},
   "outputs": [],
   "source": [
    "out1 = viewer.widget_cross_section(\n",
    "    defaults={\n",
    "        \"max_depth\":1.1*model.casing_l,\n",
    "        \"min_depth\":-10,\n",
    "        \"max_r\":0.15,\n",
    "        \"theta_ind\":3, \n",
    "        \"view\":\"j\", \n",
    "        \"time_ind\":73, \n",
    "        \"model_key\":\"casing\",\n",
    "        \"clim_min\": 1e-5,\n",
    "        \"clim_max\":1e2,\n",
    "        \"prim_sec\":\"total\",\n",
    "    }\n",
    ")\n",
    "out1"
   ]
  },
  {
   "cell_type": "code",
   "execution_count": null,
   "metadata": {},
   "outputs": [],
   "source": [
    "from matplotlib import rcParams\n",
    "rcParams['font.size'] = 14"
   ]
  },
  {
   "cell_type": "code",
   "execution_count": null,
   "metadata": {},
   "outputs": [],
   "source": [
    "viewer.primary = \"casing\""
   ]
  },
  {
   "cell_type": "code",
   "execution_count": null,
   "metadata": {},
   "outputs": [],
   "source": [
    "viewer.widget_cross_section(\n",
    "    defaults={\n",
    "        \"max_depth\":1.5*model.casing_l,\n",
    "        \"min_depth\":-10,\n",
    "        \"max_r\":1.5*model.casing_l,\n",
    "        \"theta_ind\":3,\n",
    "        \"view\":\"j\"\n",
    "    }, \n",
    "    figwidth=12\n",
    ")"
   ]
  },
  {
   "cell_type": "code",
   "execution_count": null,
   "metadata": {},
   "outputs": [],
   "source": [
    "rcParams[\"font.size\"] = 20"
   ]
  },
  {
   "cell_type": "code",
   "execution_count": null,
   "metadata": {},
   "outputs": [],
   "source": [
    "plt_times = [0, 10, 28, 73, 118]\n",
    "clim_max = 1e-4 \n",
    "clim_min = 1e-8\n",
    "clim = np.r_[clim_min, clim_max]\n",
    "\n",
    "clim_max_casing = 1e3\n",
    "clim_min_casing = 1e-8\n",
    "# clim_max_casing = 1e2\n",
    "# clim_min_casing = 1e-7\n",
    "\n",
    "clim_casing = np.r_[clim_min_casing, clim_max_casing]\n",
    "\n",
    "max_depth = 1.35*casing_l\n",
    "max_r_casing = 0.13\n",
    "top=10.\n",
    "\n",
    "xlim = 1500.*np.r_[-1., 1.]\n",
    "\n",
    "# x_ticks = [0, -500, -1000, -1500]\n",
    "\n",
    "# fig, ax = plt.subplots(4, len(plt_times), figsize )\n",
    "\n",
    "fig = plt.figure(figsize=(20, 5*len(plt_times))) \n",
    "fig.subplots_adjust(bottom=0.8)\n",
    "\n",
    "gs = gridspec.GridSpec(len(plt_times), 2, width_ratios=[0.12, 0.85]) \n",
    "ax = [plt.subplot(gs[i]) for i in range(len(plt_times)*2)]\n",
    "\n",
    "stream_opts = {\"color\": \"k\", \"arrowsize\": 2}\n",
    "\n",
    "for i, tind in enumerate(plt_times):\n",
    "    \n",
    "    ax0 = ax[i*2 + 0]\n",
    "    ax1 = ax[i*2 + 1]\n",
    "    \n",
    "    # zoomed in plot\n",
    "    out_casing = viewer.plot_cross_section(\n",
    "        ax=ax0, clim=clim_casing, zlim=np.r_[-max_depth, top],\n",
    "        xlim=max_r_casing*np.r_[-1., 1.],\n",
    "        view='j', theta_ind=3, time_ind=tind, \n",
    "        model_key='casing', show_cb=False, casing_outline=False,\n",
    "        stream_opts={\"density\":0.75, \"color\": \"k\", \"arrowsize\": 2}\n",
    "    )\n",
    "    ax0.set_ylim(np.r_[-max_depth, top])\n",
    "    ax0.set_ylabel('z (m)')\n",
    "    \n",
    "    # currents in the formation\n",
    "    out = viewer.plot_cross_section(\n",
    "        ax=ax1, clim=clim, zlim=np.r_[-max_depth, top],\n",
    "        xlim=xlim, view='j', theta_ind=3, time_ind=tind, \n",
    "        model_key='casing', show_cb=False, use_aspect=True,\n",
    "        casing_outline=False, stream_opts=stream_opts\n",
    "    )\n",
    "    ax1.text(1450, -1300, \"Time: {:.2f} ms\".format(sim.times[tind]*1e3), horizontalalignment=\"right\", color='w', fontsize=24)  \n",
    "    \n",
    "    for a in [ax0, ax1]:\n",
    "        a.set_title('')\n",
    "        if a != ax0: \n",
    "            a.set_aspect(1)\n",
    "        \n",
    "            \n",
    "        if tind == plt_times[-1]:\n",
    "            a.set_xlabel('x (m)')\n",
    "        else: \n",
    "            a.set_xticklabels(['']*len(a.get_xticklabels()))\n",
    "            a.set_xlabel('')\n",
    "        \n",
    "        if a in [ax1]:\n",
    "            a.set_ylabel('')\n",
    "            a.set_yticklabels(['']*len(a.get_yticklabels()))\n",
    "    \n",
    "#         if a == ax1:\n",
    "#             a.set_ylabel('y (m)')\n",
    "        \n",
    "            \n",
    "    if tind == 0:\n",
    "        ax0.set_title('(a)')\n",
    "        ax1.set_title('(b)')\n",
    "    \n",
    "    \n",
    "        \n",
    "plt.tight_layout()\n",
    "\n",
    "cbar_ax2 = fig.add_axes([0.1, -0.01, 0.11, 0.01])\n",
    "cb2 = plt.colorbar(out_casing[0], cbar_ax2, orientation='horizontal')\n",
    "cb2.set_label('Current density (A/m$^2$)')\n",
    "cb2.set_ticks(clim_casing)\n",
    "cb2.update_ticks()\n",
    "\n",
    "cbar_ax = fig.add_axes([0.29, -0.01, 0.42, 0.01])\n",
    "cb = plt.colorbar(out[0], cbar_ax, orientation='horizontal')\n",
    "cb.set_label('Current density (A/m$^2$)')\n",
    "\n",
    "\n",
    "plt.show()\n",
    "\n",
    "# fig.savefig('../figures/casing-currents.png', dpi=150)\n",
    "# fig.savefig('../arxiv-figures/casing-currents.png', dpi=50)"
   ]
  },
  {
   "cell_type": "code",
   "execution_count": null,
   "metadata": {},
   "outputs": [],
   "source": []
  },
  {
   "cell_type": "code",
   "execution_count": null,
   "metadata": {},
   "outputs": [],
   "source": [
    "plt_times = [0, 10, 28, 73, 118]\n",
    "key = \"casing\"\n",
    "prim_sec = \"total\"\n",
    "\n",
    "clim_max = 1e-4 \n",
    "clim_min = 1e-8\n",
    "clim = np.r_[clim_min, clim_max]\n",
    "\n",
    "clim_max_casing = 1e3\n",
    "clim_min_casing = 1e-8\n",
    "# clim_max_casing = 1e2\n",
    "# clim_min_casing = 1e-7\n",
    "\n",
    "clim_casing = np.r_[clim_min_casing, clim_max_casing]\n",
    "\n",
    "clim_e_field = np.r_[6e-7, 3e-2]\n",
    "\n",
    "max_depth = 1.35*casing_l\n",
    "max_r_casing = 0.13\n",
    "top=10.\n",
    "\n",
    "xlim = max_depth*np.r_[-1., 1.]\n",
    "zind = 421  # just beneath the surface of the earth\n",
    "\n",
    "# x_ticks = [0, -500, -1000, -1500]\n",
    "\n",
    "# fig, ax = plt.subplots(4, len(plt_times), figsize )\n",
    "\n",
    "fig = plt.figure(figsize=(20, 5*len(plt_times))) \n",
    "# fig.subplots_adjust(bottom=0.8)\n",
    "\n",
    "gs = gridspec.GridSpec(len(plt_times), 4, width_ratios=[0.2, 0.85, 0.1, 0.35], hspace=0.05, wspace=0.07) \n",
    "ax = [plt.subplot(gs[i]) for i in range(len(plt_times)*4)]\n",
    "\n",
    "stream_opts = {\"color\": \"k\", \"arrowsize\": 2}\n",
    "\n",
    "for i, tind in enumerate(plt_times):\n",
    "    \n",
    "    ax0 = ax[i*4 + 0]\n",
    "    ax1 = ax[i*4 + 1]\n",
    "    ax2 = ax[i*4 + 3]\n",
    "#     ax3 = ax[i*4 + 4]\n",
    "    ax_blank = ax[i*4 + 2]\n",
    "    \n",
    "    ax_blank.set_axis_off()\n",
    "    \n",
    "    # zoomed in plot\n",
    "    out_casing = viewer.plot_cross_section(\n",
    "        ax=ax0, clim=clim_casing, zlim=np.r_[-max_depth, top],\n",
    "        xlim=max_r_casing*np.r_[-1., 1.],\n",
    "        view='j', theta_ind=3, time_ind=tind, \n",
    "        model_key=key, show_cb=False, casing_outline=True, prim_sec=prim_sec,\n",
    "        stream_opts={\"density\":0.75, \"color\": \"k\", \"arrowsize\": 2}\n",
    "    )\n",
    "    ax0.set_ylim(np.r_[-max_depth, top])\n",
    "    ax0.set_ylabel('z (m)')\n",
    "    \n",
    "    # currents in the formation\n",
    "    out = viewer.plot_cross_section(\n",
    "        ax=ax1, clim=clim, zlim=np.r_[-max_depth, top],\n",
    "        xlim=xlim, view='j', theta_ind=3, time_ind=tind, \n",
    "        model_key=key, show_cb=False, use_aspect=True, prim_sec=prim_sec, \n",
    "        casing_outline=False, stream_opts=stream_opts\n",
    "    )\n",
    "    ax1.text(1300, -1300, \"Time: {:.2f} ms\".format(sim.times[tind]*1e3), horizontalalignment=\"right\", color='w', fontsize=24)\n",
    "    \n",
    "    # electric field at the surface\n",
    "    out_e = viewer.plot_depth_slice(\n",
    "        model_key=key, prim_sec=prim_sec, view=\"e\",\n",
    "        ax=ax2, xlim=np.r_[-max_depth, max_depth], ylim=np.r_[-max_depth, max_depth], use_aspect=True,\n",
    "        z_ind=zind, time_ind=tind, show_cb=False, rotate=True, theta_shift=mesh.hy[0]/2,\n",
    "        stream_opts=stream_opts, clim=clim_e_field\n",
    "    )\n",
    "    \n",
    "    for a in [ax0, ax1, ax2]:\n",
    "        a.set_title('')\n",
    "        if a != ax0: \n",
    "            a.set_aspect(1)\n",
    "        \n",
    "            \n",
    "        if tind == plt_times[-1]:\n",
    "            a.set_xlabel('x (m)')\n",
    "        else: \n",
    "            a.set_xticklabels(['']*len(a.get_xticklabels()))\n",
    "            a.set_xlabel('')\n",
    "        \n",
    "        if a in [ax1]:\n",
    "            a.set_ylabel('')\n",
    "            a.set_yticklabels(['']*len(a.get_yticklabels()))\n",
    "    \n",
    "        if a == ax2:\n",
    "            a.set_ylabel('y (m)')\n",
    "        \n",
    "            \n",
    "    if tind == 0:\n",
    "        ax0.set_title(\"(a)\")\n",
    "        ax1.set_title(\"(b)\")\n",
    "        ax2.set_title(\"(c)\")\n",
    "#         ax3.set_title(\"(d)\")\n",
    "    \n",
    "    \n",
    "        \n",
    "# plt.tight_layout()\n",
    "\n",
    "cbh = 0.07\n",
    "cbar_ax2 = fig.add_axes([0.13, cbh, 0.08, 0.01])\n",
    "cb2 = plt.colorbar(out_casing[0], cbar_ax2, orientation='horizontal')\n",
    "cb2.set_label('Current density (A/m$^2$)')\n",
    "cb2.set_ticks(clim_casing)\n",
    "cb2.update_ticks()\n",
    "\n",
    "cbar_ax = fig.add_axes([0.29, cbh, 0.3, 0.01])\n",
    "cb = plt.colorbar(out[0], cbar_ax, orientation='horizontal')\n",
    "cb.set_label('Current density (A/m$^2$)')\n",
    "\n",
    "cbar_e_ax = fig.add_axes([0.75, cbh, 0.13, 0.01])\n",
    "cbe = plt.colorbar(out_e[0], cbar_e_ax, orientation=\"horizontal\")\n",
    "cbe.set_label(\"Electric field (V/m)\")\n",
    "\n",
    "plt.show()\n",
    "\n",
    "# fig.savefig('../figures/casing-currents.png', dpi=100, bbox_inches=\"tight\")\n",
    "# fig.savefig('../arxiv-figures/casing-currents.png', dpi=50, bbox_inches=\"tight\")"
   ]
  },
  {
   "cell_type": "code",
   "execution_count": null,
   "metadata": {},
   "outputs": [],
   "source": [
    "plt_times = [0, 10, 28, 73, 118]\n",
    "key = \"approx_casing\"\n",
    "prim_sec = \"secondary\"\n",
    "\n",
    "clim_max = 1e-5 \n",
    "clim_min = 1e-10\n",
    "clim = np.r_[clim_min, clim_max]\n",
    "\n",
    "clim_max_casing = 1e3\n",
    "clim_min_casing = 1e-8\n",
    "# clim_max_casing = 1e2\n",
    "# clim_min_casing = 1e-7\n",
    "\n",
    "clim_casing = np.r_[clim_min_casing, clim_max_casing]\n",
    "\n",
    "clim_e_field = np.r_[1e-9, 3e-2]\n",
    "\n",
    "max_depth = 1.35*casing_l\n",
    "max_r_casing = 0.13\n",
    "top=10.\n",
    "\n",
    "xlim = max_depth*np.r_[-1., 1.]\n",
    "zind = 421  # just beneath the surface of the earth\n",
    "\n",
    "# x_ticks = [0, -500, -1000, -1500]\n",
    "\n",
    "# fig, ax = plt.subplots(4, len(plt_times), figsize )\n",
    "\n",
    "fig = plt.figure(figsize=(18, 5*len(plt_times))) \n",
    "# fig.subplots_adjust(bottom=0.8)\n",
    "\n",
    "gs = gridspec.GridSpec(len(plt_times), 2, width_ratios=[0.85, 0.35], hspace=0.05, wspace=0.1) \n",
    "ax = [plt.subplot(gs[i]) for i in range(len(plt_times)*2)]\n",
    "\n",
    "stream_opts = {\"color\": \"k\", \"arrowsize\": 2}\n",
    "\n",
    "for i, tind in enumerate(plt_times):\n",
    "    \n",
    "#     ax0 = ax0[i*4 + 0]\n",
    "    ax1 = ax[i*2 + 0]\n",
    "    ax2 = ax[i*2 + 1]\n",
    "#     ax3 = ax[i*4 + 2]\n",
    "#     ax4 = ax[i*4 + 3]\n",
    "    \n",
    "#     ax_blank = ax[i*4 + 1]\n",
    "#     ax_blank.set_axis_off()\n",
    "    \n",
    "    # zoomed in plot\n",
    "#     out_casing = viewer.plot_cross_section(\n",
    "#         ax=ax0, clim=clim_casing, zlim=np.r_[-max_depth, top],\n",
    "#         xlim=max_r_casing*np.r_[-1., 1.],\n",
    "#         view='j', theta_ind=3, time_ind=tind, \n",
    "#         model_key=key, show_cb=False, casing_outline=True, prim_sec=prim_sec,\n",
    "#         stream_opts={\"density\":0.75, \"color\": \"k\", \"arrowsize\": 2}\n",
    "#     )\n",
    "#     ax0.set_ylim(np.r_[-max_depth, top])\n",
    "#     ax0.set_ylabel('z (m)')\n",
    "    \n",
    "    # currents in the formation\n",
    "    out = viewer.plot_cross_section(\n",
    "        ax=ax1, clim=clim, zlim=np.r_[-max_depth, top],\n",
    "        xlim=xlim, view='j', theta_ind=3, time_ind=tind, \n",
    "        model_key=key, show_cb=False, use_aspect=True, prim_sec=prim_sec, \n",
    "        casing_outline=False, stream_opts=stream_opts\n",
    "    )\n",
    "    ax1.text(1300, -1300, \"Time: {:.2f} ms\".format(sim.times[tind]*1e3), horizontalalignment=\"right\", color='w', fontsize=24)\n",
    "    ax1.set_ylabel('z (m)')\n",
    "    \n",
    "    # electric field at the surface\n",
    "    out_e = viewer.plot_depth_slice(\n",
    "        model_key=key, prim_sec=prim_sec, view=\"e\",\n",
    "        ax=ax2, xlim=np.r_[-max_depth, max_depth], ylim=np.r_[-max_depth, max_depth], use_aspect=True,\n",
    "        z_ind=zind, time_ind=tind, show_cb=False, rotate=True, theta_shift=mesh.hy[0]/2,\n",
    "        stream_opts=stream_opts, clim=clim_e_field\n",
    "    )\n",
    "    \n",
    "#     out_e_percent = viewer.plot_depth_slice(\n",
    "#         model_key=key, prim_sec=\"percent\", view=\"e\",\n",
    "#         ax=ax3, xlim=np.r_[-max_depth, max_depth], ylim=np.r_[-max_depth, max_depth], use_aspect=True,\n",
    "#         z_ind=zind, time_ind=tind, show_cb=False, rotate=True, theta_shift=mesh.hy[0]/2,\n",
    "#         stream_opts=stream_opts, clim=[0, 200]\n",
    "#     )\n",
    "    \n",
    "    for a in [ax1, ax2]:\n",
    "        a.set_title('')\n",
    "#         if a != ax0: \n",
    "        a.set_aspect(1)\n",
    "        \n",
    "            \n",
    "        if tind == plt_times[-1]:\n",
    "            a.set_xlabel('x (m)')\n",
    "        else: \n",
    "            a.set_xticklabels(['']*len(a.get_xticklabels()))\n",
    "            a.set_xlabel('')\n",
    "        \n",
    "#         if a in [ax1]:\n",
    "#             a.set_ylabel('')\n",
    "#             a.set_yticklabels(['']*len(a.get_yticklabels()))\n",
    "    \n",
    "        if a == ax2:\n",
    "            a.set_ylabel('y (m)')\n",
    "        \n",
    "            \n",
    "    if tind == 0:\n",
    "#         ax0.set_title(\"(a)\")\n",
    "        ax1.set_title(\"(a)\")\n",
    "        ax2.set_title(\"(b)\")\n",
    "#         ax3.set_title(\"(c)\")\n",
    "    \n",
    "    \n",
    "        \n",
    "# plt.tight_layout()\n",
    "\n",
    "cbh = 0.07\n",
    "# cbar_ax2 = fig.add_axes([0.13, cbh, 0.08, 0.01])\n",
    "# cb2 = plt.colorbar(out_casing[0], cbar_ax2, orientation='horizontal')\n",
    "# cb2.set_label('Current density (A/m$^2$)')\n",
    "# cb2.set_ticks(clim_casing)\n",
    "# cb2.update_ticks()\n",
    "\n",
    "cbar_ax = fig.add_axes([0.2, cbh, 0.36, 0.01])\n",
    "cb = plt.colorbar(out[0], cbar_ax, orientation='horizontal')\n",
    "cb.set_label('Current density (A/m$^2$)')\n",
    "\n",
    "cbar_e_ax = fig.add_axes([0.71, cbh, 0.17, 0.01])\n",
    "cbe = plt.colorbar(out_e[0], cbar_e_ax, orientation=\"horizontal\")\n",
    "cbe.set_label(\"Electric field (V/m)\")\n",
    "\n",
    "plt.show()\n",
    "\n",
    "fig.savefig('../figures/approximate-casing-errors.png', dpi=100, bbox_inches=\"tight\")\n",
    "fig.savefig('../arxiv-figures/approximate-casing-errors.png', dpi=50, bbox_inches=\"tight\")"
   ]
  },
  {
   "cell_type": "code",
   "execution_count": 57,
   "metadata": {},
   "outputs": [
    {
     "name": "stderr",
     "output_type": "stream",
     "text": [
      "/global/u2/l/lheagy/git/simpeg/simpeg/SimPEG/simulation.py:495: UserWarning: timeMesh will be depreciated in favor of time_mesh. Please update your code accordingly\n",
      "  \"timeMesh will be depreciated in favor of time_mesh. \"\n"
     ]
    },
    {
     "name": "stdout",
     "output_type": "stream",
     "text": [
      "fetching casing\n",
      "fetching approx_casing\n",
      "fetching solid_steel\n"
     ]
    }
   ],
   "source": [
    "data_time = {}\n",
    "\n",
    "xmin=5 \n",
    "xmax=1000 \n",
    "rx_times=sim.timeMesh.gridN\n",
    "\n",
    "# indices to grab\n",
    "e_tz_inds = (\n",
    "    (mesh.gridFx[:, 0]>=xmin) & (mesh.gridFx[:, 0]<=xmax) & \n",
    "    (mesh.gridFx[:, 1] == mesh.vectorCCy[0]) & \n",
    "    (mesh.gridFx[:, 2] == -csz/2.)\n",
    ")\n",
    "\n",
    "x_inds = (mesh.vectorNx>=xmin) & (mesh.vectorNx<=xmax)\n",
    "x = rx_x = mesh.vectorNx[x_inds]\n",
    "\n",
    "time_inds = discretize.utils.closestPoints(sim.timeMesh, rx_times, 'N')\n",
    "t = times = sim.timeMesh.gridN[time_inds]\n",
    "\n",
    "for key in model_names:    \n",
    "    if key not in data_time.keys():\n",
    "        print(f\"fetching {key}\")\n",
    "        f = fields_dict[key]\n",
    "        data = []       \n",
    "    \n",
    "    for src_ind in range(len(f.survey.source_list)):\n",
    "        e_data = f[f.survey.source_list[src_ind], 'e', time_inds]\n",
    "        e_data = (e_data[:mesh.vnF[0], :])[e_tz_inds, :]  \n",
    "        e_data = e_data.reshape(len(rx_x), len(times), order=\"F\")\n",
    "        data += [e_data]\n",
    "    \n",
    "    data_time[key] = data"
   ]
  },
  {
   "cell_type": "code",
   "execution_count": 58,
   "metadata": {},
   "outputs": [
    {
     "name": "stdout",
     "output_type": "stream",
     "text": [
      "105.0686850257828\n",
      "5.020000000000001\n"
     ]
    },
    {
     "data": {
      "image/png": "[encoded data removed]",
      "text/plain": [
       "<Figure size 1152x648 with 4 Axes>"
      ]
     },
     "metadata": {
      "needs_background": "light"
     },
     "output_type": "display_data"
    }
   ],
   "source": [
    "xind = 11\n",
    "print(rx_x[xind])\n",
    "src_ind = 0\n",
    "tmin = 1e-4\n",
    "tmax = 1e-2\n",
    "\n",
    "time_ind = 118\n",
    "print(times[time_ind]*1e3)\n",
    "\n",
    "tinds = (t <= tmax) & (t >= tmin)\n",
    "\n",
    "fig, ax = plt.subplots(2, 2, figsize=(16, 9))\n",
    "ax = ax.flatten()\n",
    "\n",
    "\n",
    "# plot a single x location \n",
    "ax[0].loglog(t[tinds]*1e3, np.abs(data_time[\"casing\"][src_ind][xind, tinds]), label=\"true\")\n",
    "ax[0].loglog(t[tinds]*1e3, np.abs(data_time[\"approx_casing\"][src_ind][xind, tinds]), label=\"approximate\")\n",
    "\n",
    "diff = data_time[\"approx_casing\"][src_ind][xind, tinds] - data_time[\"casing\"][src_ind][xind, tinds]\n",
    "ax[0].loglog(t[tinds]*1e3, np.abs(diff), label=\"difference\")\n",
    "# ax[0].text(10, 2e-4, \"x = {:.0f} m\".format(rx_x[xind]), horizontalalignment=\"right\", color='k', fontsize=24)\n",
    "\n",
    "percent_diff = 100 * diff / np.abs(data_time[\"casing\"][src_ind][xind, tinds])\n",
    "ax[2].semilogx(t[tinds]*1e3, percent_diff, color=\"C3\", label=\"difference (%)\")\n",
    "ax[2].set_xlabel(\"time (ms)\")\n",
    "ax[2].semilogx(t[time_ind]*1e3, percent_diff[time_ind- np.where(tinds)[0][0]], 'ko')\n",
    "\n",
    "ax[1].semilogy(rx_x, np.abs(data_time[\"casing\"][src_ind][:, time_ind]))\n",
    "ax[1].semilogy(rx_x, np.abs(data_time[\"approx_casing\"][src_ind][:, time_ind]))\n",
    "\n",
    "diff = data_time[\"approx_casing\"][src_ind][:, time_ind] - data_time[\"casing\"][src_ind][:, time_ind]\n",
    "ax[1].semilogy(rx_x, np.abs(diff), label=\"difference\")\n",
    "\n",
    "percent_diff = 100*diff/np.abs(data_time[\"casing\"][src_ind][:, time_ind])\n",
    "ax[3].plot(rx_x, percent_diff, color=\"C3\", label=\"difference (%)\")\n",
    "ax[3].set_xlabel(\"x (m)\")\n",
    "ax[3].plot(rx_x[xind], percent_diff[xind], 'ko')\n",
    "\n",
    "\n",
    "ax[1].legend([\"true\", \"approximate\", \"difference\", \"difference (%)\"], bbox_to_anchor=[1.6, 1])\n",
    "ax[0].set_ylabel(\"Radial electric field (V/m)\")\n",
    "ax[2].set_ylabel(\"Percent difference (%)\")\n",
    "\n",
    "for i, a in enumerate(ax):\n",
    "    a.grid(which=\"both\", color=\"k\", lw=0.3, alpha=0.5)\n",
    "    a.set_title(f\"({ascii_lowercase[i]})\")\n",
    "    \n",
    "    if i in [0, 1]:\n",
    "        a.set_xticklabels(['']*len(a.get_xticklabels()))\n",
    "        a.set_xlabel('')\n",
    "        a.set_ylim([1e-8, 9e-4])\n",
    "        \n",
    "    else:\n",
    "        a.set_ylim(np.r_[-11, 1])\n",
    "        \n",
    "    if i in [1, 3]:\n",
    "        a.set_yticklabels(['']*len(a.get_yticklabels()))\n",
    "        a.set_ylabel('')\n",
    "        \n",
    "plt.tight_layout()\n",
    "\n",
    "fig.savefig('../figures/surface-e-field.png', dpi=100, bbox_inches=\"tight\")\n",
    "fig.savefig('../arxiv-figures/surface-e-field.png', dpi=50, bbox_inches=\"tight\")"
   ]
  },
  {
   "cell_type": "code",
   "execution_count": 59,
   "metadata": {},
   "outputs": [
    {
     "data": {
      "text/plain": [
       "0.0022200000000000006"
      ]
     },
     "execution_count": 59,
     "metadata": {},
     "output_type": "execute_result"
    }
   ],
   "source": [
    "times[time_ind- np.where(tinds)[0][0]]"
   ]
  },
  {
   "cell_type": "code",
   "execution_count": 60,
   "metadata": {},
   "outputs": [
    {
     "data": {
      "text/plain": [
       "array([0.0000e+00, 1.0000e-06, 2.0000e-06, 3.0000e-06, 4.0000e-06,\n",
       "       5.0000e-06, 6.0000e-06, 7.0000e-06, 8.0000e-06, 9.0000e-06,\n",
       "       1.0000e-05, 1.1000e-05, 1.2000e-05, 1.3000e-05, 1.4000e-05,\n",
       "       1.5000e-05, 1.6000e-05, 1.7000e-05, 1.8000e-05, 1.9000e-05,\n",
       "       2.0000e-05, 3.0000e-05, 4.0000e-05, 5.0000e-05, 6.0000e-05,\n",
       "       7.0000e-05, 8.0000e-05, 9.0000e-05, 1.0000e-04, 1.1000e-04,\n",
       "       1.2000e-04, 1.3000e-04, 1.4000e-04, 1.5000e-04, 1.6000e-04,\n",
       "       1.7000e-04, 1.8000e-04, 1.9000e-04, 2.0000e-04, 2.1000e-04,\n",
       "       2.2000e-04, 2.3000e-04, 2.4000e-04, 2.5000e-04, 2.6000e-04,\n",
       "       2.7000e-04, 2.8000e-04, 2.9000e-04, 3.0000e-04, 3.1000e-04,\n",
       "       3.2000e-04, 3.5000e-04, 3.8000e-04, 4.1000e-04, 4.4000e-04,\n",
       "       4.7000e-04, 5.0000e-04, 5.3000e-04, 5.6000e-04, 5.9000e-04,\n",
       "       6.2000e-04, 6.5000e-04, 6.8000e-04, 7.1000e-04, 7.4000e-04,\n",
       "       7.7000e-04, 8.0000e-04, 8.3000e-04, 8.6000e-04, 8.9000e-04,\n",
       "       9.2000e-04, 9.5000e-04, 9.8000e-04, 1.0100e-03, 1.0400e-03,\n",
       "       1.0700e-03, 1.1000e-03, 1.1300e-03, 1.1600e-03, 1.1900e-03,\n",
       "       1.2200e-03, 1.3200e-03, 1.4200e-03, 1.5200e-03, 1.6200e-03,\n",
       "       1.7200e-03, 1.8200e-03, 1.9200e-03, 2.0200e-03, 2.1200e-03,\n",
       "       2.2200e-03, 2.3200e-03, 2.4200e-03, 2.5200e-03, 2.6200e-03,\n",
       "       2.7200e-03, 2.8200e-03, 2.9200e-03, 3.0200e-03, 3.1200e-03,\n",
       "       3.2200e-03, 3.3200e-03, 3.4200e-03, 3.5200e-03, 3.6200e-03,\n",
       "       3.7200e-03, 3.8200e-03, 3.9200e-03, 4.0200e-03, 4.1200e-03,\n",
       "       4.2200e-03, 4.3200e-03, 4.4200e-03, 4.5200e-03, 4.6200e-03,\n",
       "       4.7200e-03, 4.8200e-03, 4.9200e-03, 5.0200e-03, 5.1200e-03,\n",
       "       5.2200e-03, 5.5200e-03, 5.8200e-03, 6.1200e-03, 6.4200e-03,\n",
       "       6.7200e-03, 7.0200e-03, 7.3200e-03, 7.6200e-03, 7.9200e-03,\n",
       "       8.2200e-03, 8.5200e-03, 8.8200e-03, 9.1200e-03, 9.4200e-03,\n",
       "       9.7200e-03, 1.0020e-02, 1.0320e-02, 1.0620e-02, 1.0920e-02,\n",
       "       1.1220e-02, 1.1520e-02, 1.1820e-02, 1.2120e-02, 1.2420e-02,\n",
       "       1.2720e-02, 1.3020e-02, 1.3320e-02, 1.3620e-02, 1.3920e-02,\n",
       "       1.4220e-02, 1.5220e-02, 1.6220e-02, 1.7220e-02, 1.8220e-02,\n",
       "       1.9220e-02, 2.0220e-02, 2.1220e-02, 2.2220e-02, 2.3220e-02,\n",
       "       2.4220e-02, 2.5220e-02, 2.6220e-02, 2.7220e-02, 2.8220e-02,\n",
       "       2.9220e-02, 3.0220e-02, 3.1220e-02, 3.2220e-02, 3.3220e-02,\n",
       "       3.4220e-02, 4.4220e-02, 5.4220e-02, 6.4220e-02, 7.4220e-02,\n",
       "       8.4220e-02, 9.4220e-02, 1.0422e-01, 1.1422e-01, 1.2422e-01,\n",
       "       1.3422e-01, 1.4422e-01, 1.5422e-01, 1.6422e-01, 1.7422e-01,\n",
       "       1.8422e-01, 1.9422e-01, 2.0422e-01])"
      ]
     },
     "execution_count": 60,
     "metadata": {},
     "output_type": "execute_result"
    }
   ],
   "source": [
    "t"
   ]
  },
  {
   "cell_type": "code",
   "execution_count": 61,
   "metadata": {},
   "outputs": [
    {
     "data": {
      "text/plain": [
       "array([0.17244325, 0.49094651, 0.29276365, 0.81443069, 0.14978635,\n",
       "       0.71105884, 0.32672135, 0.37069934, 0.46917823, 0.68672972])"
      ]
     },
     "execution_count": 61,
     "metadata": {},
     "output_type": "execute_result"
    }
   ],
   "source": [
    "np.random.rand(10)"
   ]
  },
  {
   "cell_type": "markdown",
   "metadata": {},
   "source": [
    "## Source term for the discrepancy "
   ]
  },
  {
   "cell_type": "code",
   "execution_count": 62,
   "metadata": {},
   "outputs": [],
   "source": [
    "def theta_index_mirror(theta_ind):\n",
    "    return (\n",
    "        theta_ind+int(mesh.vnC[1]/2)\n",
    "        if theta_ind < int(mesh.vnC[1]/2)\n",
    "        else theta_ind-int(mesh.vnC[1]/2)\n",
    "    )"
   ]
  },
  {
   "cell_type": "code",
   "execution_count": 137,
   "metadata": {},
   "outputs": [],
   "source": [
    "def compute_sm_error(src, tind=None, key=\"approx_casing\", primary_key=\"casing\", separate=False):\n",
    "    if tind is None: \n",
    "        tind = slice(0, sim.nT)\n",
    "    j_diff =  fields_dict[primary_key][src, 'j', tind] - fields_dict[key][src, 'j', tind]\n",
    "    dhdt_diff = fields_dict[primary_key][src, 'dhdt', tind] - fields_dict[key][src, 'dhdt', tind]\n",
    "    \n",
    "    C = mesh.edgeCurl\n",
    "    MfRho = mesh.getFaceInnerProduct(1./model_dict[key].sigma(mesh))\n",
    "    MeMu = mesh.getEdgeInnerProduct(model_dict[key].mur(mesh)*mu_0)\n",
    "    \n",
    "    if separate is True:\n",
    "        return (C.T * MfRho * j_diff, MeMu * dhdt_diff)\n",
    "    return C.T * MfRho * j_diff + MeMu * dhdt_diff"
   ]
  },
  {
   "cell_type": "code",
   "execution_count": 138,
   "metadata": {},
   "outputs": [],
   "source": [
    "def compute_se_error(src, tind=None, key=\"approx_casing\", primary_key=\"casing\", separate=False):\n",
    "    if tind is None: \n",
    "        tind = slice(0, sim.nT)\n",
    "        \n",
    "    e = fields_dict[key][src, 'e', tind]\n",
    "    e_diff =  fields_dict[key][src, 'e', tind] - fields_dict[primary_key][src, 'e', tind]\n",
    "    \n",
    "    MfRhoeI = (\n",
    "        mesh.getFaceInnerProduct(1./model_dict[key].sigma(mesh), invMat=True) - \n",
    "        mesh.getFaceInnerProduct(1./model_dict[primary_key].sigma(mesh), invMat=True)\n",
    "    )\n",
    "    \n",
    "    if separate is True:\n",
    "        return (MfRhoeI*e, MfRhoeI*e_diff)\n",
    "    return MfRhoeI*(e + e_diff)"
   ]
  },
  {
   "cell_type": "code",
   "execution_count": 139,
   "metadata": {},
   "outputs": [],
   "source": [
    "def plot_sm_error(src, tind, theta_ind=0, key=\"approx_casing\", primary_key=\"casing\", term=None, ax=None, clim=None, xlim=None, zlim=None):\n",
    "    if ax is None:\n",
    "        fig, ax = plt.subplots(1, 1)\n",
    "        \n",
    "    if term in [0, 1]:\n",
    "        plotme = compute_sm_error(src, tind, key, primary_key, separate=True)[term]\n",
    "    else:\n",
    "        plotme = compute_sm_error(src, tind, key, primary_key)\n",
    "\n",
    "    if len(mesh.hy) == 1:\n",
    "        plotme = mesh.aveE2CC * plotme\n",
    "    else:\n",
    "        plotme = (mesh.aveE2CCV * plotme)[mesh.nC:2*mesh.nC]\n",
    "    \n",
    "    theta_ind_mirror = theta_index_mirror(theta_ind)\n",
    "    plotme = plotme.reshape(mesh.vnC, order=\"F\")\n",
    "    mirror_data = discretize.utils.mkvc(-plotme[:, theta_ind_mirror, :])\n",
    "    plotme = discretize.utils.mkvc(plotme[:, theta_ind, :])\n",
    "\n",
    "#     mirror_data = casingSim.ccv3DthetaSlice(mesh, plotme, theta_ind=theta_ind_mirror)\n",
    "#     plotme = casingSim.ccv3DthetaSlice(mesh, plotme, theta_ind=theta_ind)\n",
    "    \n",
    "#     plotme = discretize.utils.mkvc(np.hstack([plotme[:mesh.nCx*mesh.nCz], plotme[(mesh.nCx*mesh.nCz)*2:]]))\n",
    "#     mirror_data = discretize.utils.mkvc(np.hstack([mirror_data[:mesh.nCx*mesh.nCz], mirror_data[(mesh.nCx*mesh.nCz)*2:]]))\n",
    "        \n",
    "#     plot_type = \"vec\"\n",
    "#     norm = LogNorm()\n",
    "    \n",
    "    norm = SymLogNorm(\n",
    "        clim[0] if clim is not None else\n",
    "        np.max([1e-20, np.min(np.absolute(plotme))])\n",
    "    )\n",
    "    clim = clim[1]*np.r_[-1., 1.] if clim is not None else None\n",
    "    \n",
    "    mesh2D = discretize.CylMesh([mesh.hx, 1, mesh.hz], x0=mesh.x0)\n",
    "    \n",
    "    out = mesh2D.plotImage(\n",
    "        plotme, ax=ax, pcolorOpts = {'norm': norm, 'cmap': 'BrBG'}, clim=clim,\n",
    "        mirror_data=mirror_data, mirror=True, \n",
    "#         view=\"vec\", vType=\"CCv\",\n",
    "#         sample_grid = np.r_[np.diff(xlim)/100., np.diff(zlim)/100.],\n",
    "#         range_x=xlim, range_y=zlim\n",
    "    )\n",
    "    \n",
    "#     mesh.plotGrid(ax=ax, linewidth=0.1, color='k', slice=\"theta\")\n",
    "\n",
    "    cb = plt.colorbar(out[0], ax=ax)\n",
    "    \n",
    "    ax.set_xlim(xlim)\n",
    "    ax.set_ylim(zlim)\n",
    "    \n",
    "    return ax, cb\n",
    "    \n"
   ]
  },
  {
   "cell_type": "code",
   "execution_count": 140,
   "metadata": {},
   "outputs": [],
   "source": [
    "from matplotlib.colors import LogNorm, SymLogNorm"
   ]
  },
  {
   "cell_type": "code",
   "execution_count": 143,
   "metadata": {},
   "outputs": [
    {
     "data": {
      "application/vnd.jupyter.widget-view+json": {
       "model_id": "b30a706ac78d4fc2847d5aa1f07ca22d",
       "version_major": 2,
       "version_minor": 0
      },
      "text/plain": [
       "interactive(children=(IntSlider(value=73, description='tind', max=188), IntSlider(value=3, description='theta_…"
      ]
     },
     "metadata": {},
     "output_type": "display_data"
    },
    {
     "data": {
      "text/plain": [
       "<function __main__.widget_sm(tind, theta_ind, clim_min, clim_max, term)>"
      ]
     },
     "execution_count": 143,
     "metadata": {},
     "output_type": "execute_result"
    }
   ],
   "source": [
    "def widget_sm(tind, theta_ind, clim_min, clim_max, term):\n",
    "    fig, ax = plt.subplots(1, 1, figsize=(4, 6))\n",
    "    plot_sm_error(\n",
    "        survey.srcList[0], tind=tind, theta_ind=theta_ind, ax=ax, \n",
    "        xlim=0.1*np.r_[-1, 1], \n",
    "        zlim=[-1.1*model_dict[\"casing\"].casing_l, 10],\n",
    "#         zlim=-model_dict[\"casing\"].casing_l + np.r_[-10, 100],\n",
    "        clim=np.r_[clim_min, clim_max], term=term, \n",
    "    )\n",
    "\n",
    "ipywidgets.interact(\n",
    "    widget_sm, \n",
    "    tind = ipywidgets.IntSlider(min=0, max=sim.nT+1, value=73),\n",
    "    theta_ind = ipywidgets.IntSlider(min=0, max=len(mesh.hy), value=3),\n",
    "    clim_min = ipywidgets.FloatText(value=1e-7),\n",
    "    clim_max = ipywidgets.FloatText(value=1e-4),\n",
    "    term = ipywidgets.ToggleButtons(options=[0, 1, 2], value=0)\n",
    ")"
   ]
  },
  {
   "cell_type": "code",
   "execution_count": 144,
   "metadata": {},
   "outputs": [],
   "source": [
    "def prim_sec_source(src, tind, theta_ind=0, key=\"approx_casing\", primary_key=\"casing\", separate=False):\n",
    "    C = mesh.edgeCurl\n",
    "    MfRhoe = mesh.getFaceInnerProduct(1./model_dict[primary_key].sigma(mesh) - 1./model_dict[key].sigma(mesh))\n",
    "    j = fields_dict[key][src, 'j', tind]\n",
    "    je = fields_dict[primary_key][src, 'j', tind] - j\n",
    "    source = (\n",
    "        - C.T * MfRhoe * j, -C.T * MfRhoe * je\n",
    "    )\n",
    "    \n",
    "    if separate:\n",
    "        return source\n",
    "    else:\n",
    "        return(sum(source))\n",
    "    \n",
    "    "
   ]
  },
  {
   "cell_type": "code",
   "execution_count": 145,
   "metadata": {},
   "outputs": [],
   "source": [
    "def plot_prim_sec_src(src, tind, theta_ind=0, key=\"approx_casing\", primary_key=\"casing\", term=None, ax=None, clim=None, xlim=None, zlim=None):\n",
    "    if ax is None:\n",
    "        fig, ax = plt.subplots(1, 1)\n",
    "        \n",
    "    if term in [0, 1]:\n",
    "        plotme = prim_sec_source(src, tind, theta_ind, key, primary_key, separate=True)[term]\n",
    "    else:\n",
    "        plotme = prim_sec_source(src, tind, theta_ind, key, primary_key)\n",
    "\n",
    "    if len(mesh.hy) == 1:\n",
    "        plotme = mesh.aveE2CC * plotme\n",
    "    else:\n",
    "        plotme = (mesh.aveE2CCV * plotme)[mesh.nC:2*mesh.nC]\n",
    "    \n",
    "    theta_ind_mirror = theta_index_mirror(theta_ind)\n",
    "    plotme = plotme.reshape(mesh.vnC, order=\"F\")\n",
    "    mirror_data = discretize.utils.mkvc(-plotme[:, theta_ind_mirror, :])\n",
    "    plotme = discretize.utils.mkvc(plotme[:, theta_ind, :])\n",
    "\n",
    "    norm = SymLogNorm(\n",
    "        clim[0] if clim is not None else\n",
    "        np.max([1e-20, np.min(np.absolute(plotme))])\n",
    "    )\n",
    "    clim = clim[1]*np.r_[-1., 1.] if clim is not None else None\n",
    "    \n",
    "    mesh2D = discretize.CylMesh([mesh.hx, 1, mesh.hz], x0=mesh.x0)\n",
    "    \n",
    "    out = mesh2D.plotImage(\n",
    "        plotme, ax=ax, pcolorOpts = {'norm': norm, 'cmap': 'BrBG'}, clim=clim,\n",
    "        mirror_data=mirror_data, mirror=True, grid=False, \n",
    "    )\n",
    "    \n",
    "\n",
    "    cb = plt.colorbar(out[0], ax=ax)\n",
    "    \n",
    "    ax.set_xlim(xlim)\n",
    "    ax.set_ylim(zlim)\n",
    "#     mesh2D.plotGrid(ax=ax)\n",
    "\n",
    "    \n"
   ]
  },
  {
   "cell_type": "code",
   "execution_count": 155,
   "metadata": {},
   "outputs": [
    {
     "data": {
      "application/vnd.jupyter.widget-view+json": {
       "model_id": "b59e632c8b134499af8a11b022f7a55d",
       "version_major": 2,
       "version_minor": 0
      },
      "text/plain": [
       "interactive(children=(IntSlider(value=73, description='tind', max=188), IntSlider(value=3, description='theta_…"
      ]
     },
     "metadata": {},
     "output_type": "display_data"
    },
    {
     "data": {
      "text/plain": [
       "<function __main__.widget_prim_sec_src(tind, theta_ind, clim_min, clim_max, term)>"
      ]
     },
     "execution_count": 155,
     "metadata": {},
     "output_type": "execute_result"
    }
   ],
   "source": [
    "def widget_prim_sec_src(tind, theta_ind, clim_min, clim_max, term):\n",
    "    fig, ax = plt.subplots(1, 1, figsize=(4, 6))\n",
    "    plot_prim_sec_src(\n",
    "        survey.srcList[0], tind=tind, theta_ind=theta_ind, ax=ax, xlim=0.1*np.r_[-1, 1], \n",
    "#         zlim = [-10, 10],\n",
    "        zlim=[-1.1*model_dict[\"casing\"].casing_l, 10],\n",
    "        clim=np.r_[clim_min, clim_max], term=term, \n",
    "    )\n",
    "\n",
    "ipywidgets.interact(\n",
    "    widget_prim_sec_src, \n",
    "    tind = ipywidgets.IntSlider(min=0, max=sim.nT+1, value=73),\n",
    "    theta_ind = ipywidgets.IntSlider(min=0, max=len(mesh.hy), value=3),\n",
    "    clim_min = ipywidgets.FloatText(value=1e-8),\n",
    "    clim_max = ipywidgets.FloatText(value=1e-2),\n",
    "    term = ipywidgets.ToggleButtons(options=[0, 1, 2], value=2)\n",
    ")"
   ]
  },
  {
   "cell_type": "code",
   "execution_count": 146,
   "metadata": {},
   "outputs": [],
   "source": [
    "def plot_rho_j(src, tind, theta_ind=0, key=\"approx_casing\", primary_key=\"casing\", term=None, ax=None, clim=None, xlim=None, zlim=None):\n",
    "    if ax is None:\n",
    "        fig, ax = plt.subplots(1, 1)\n",
    "    \n",
    "    eps = 1e-10\n",
    "    \n",
    "    if tind is None: \n",
    "        tind = slice(0, sim.nT)\n",
    "        \n",
    "    MfRhoe = mesh.getFaceInnerProduct(1./model_dict[primary_key].sigma(mesh) - 1./model_dict[key].sigma(mesh))\n",
    "    j = fields_dict[key][src, 'j', tind]\n",
    "    je = fields_dict[primary_key][src, 'j', tind] - j\n",
    "    source = (\n",
    "        MfRhoe * j, MfRhoe * je\n",
    "    )\n",
    "\n",
    "    if term in [0, 1]:\n",
    "        plotme = source[term]\n",
    "    else:\n",
    "        plotme = source[0] + source[1]\n",
    "\n",
    "    theta_ind_mirror = theta_index_mirror(theta_ind)\n",
    "    plt_vec = casingSim.utils.face3DthetaSlice(mesh, plotme, theta_ind=theta_ind)\n",
    "    mirror_data = casingSim.utils.face3DthetaSlice(mesh, plotme, theta_ind=theta_ind_mirror)\n",
    "    plot_type = \"vec\"\n",
    "    \n",
    "    mesh2D = discretize.CylMesh([mesh.hx, 1, mesh.hz], x0=mesh.x0)\n",
    "    \n",
    "    out = casingSim.view.plotFace2D(\n",
    "        mesh2D, plt_vec, ax=ax, range_x=xlim, range_y=zlim,\n",
    "        sample_grid=(\n",
    "            np.r_[np.diff(xlim)/100., np.diff(zlim)/100.]\n",
    "#             if xlim is not None and zlim is not None else None\n",
    "        ),\n",
    "        log_scale=True,\n",
    "        clim=clim,\n",
    "        stream_threshold=clim[0] if clim is not None else None,\n",
    "        mirror=True,\n",
    "        mirror_data=mirror_data,\n",
    "        stream_opts = {\"color\": \"k\", \"arrowsize\": 1.5, \"density\": 0.8}\n",
    "    )\n",
    "    \n",
    "    ax.set_xlim(xlim)\n",
    "    ax.set_ylim(zlim)\n",
    "#     ax.set_title(f\"electric source term \\n t={sim.times[tind]:1.1e}s\")\n",
    "    \n",
    "    return ax, out[-1]\n",
    "    \n"
   ]
  },
  {
   "cell_type": "code",
   "execution_count": null,
   "metadata": {},
   "outputs": [],
   "source": []
  },
  {
   "cell_type": "code",
   "execution_count": 153,
   "metadata": {},
   "outputs": [
    {
     "data": {
      "text/plain": [
       "(<matplotlib.axes._subplots.AxesSubplot at 0x2aacdb4e4c18>,\n",
       " <matplotlib.colorbar.Colorbar at 0x2aacdb67d518>)"
      ]
     },
     "execution_count": 153,
     "metadata": {},
     "output_type": "execute_result"
    },
    {
     "data": {
      "image/png": "[encoded data removed]",
      "text/plain": [
       "<Figure size 288x432 with 2 Axes>"
      ]
     },
     "metadata": {
      "needs_background": "light"
     },
     "output_type": "display_data"
    }
   ],
   "source": [
    "fig, ax = plt.subplots(1, 1, figsize=(4, 6))\n",
    "plot_rho_j(\n",
    "    survey.srcList[0], tind=tind, theta_ind=3, ax=ax, xlim=0.1*np.r_[-1, 1], \n",
    "#         zlim = [-10, 10],\n",
    "    zlim=[-1.1*model_dict[\"casing\"].casing_l, 10],\n",
    "    term=2, \n",
    "    clim=np.r_[1e-12, 1e-2]\n",
    "    )"
   ]
  },
  {
   "cell_type": "code",
   "execution_count": 160,
   "metadata": {},
   "outputs": [],
   "source": [
    "def plot_se_error(src, tind, theta_ind=0, key=\"approx_casing\", primary_key=\"casing\", term=None, ax=None, clim=None, xlim=None, zlim=None):\n",
    "    if ax is None:\n",
    "        fig, ax = plt.subplots(1, 1)\n",
    "    \n",
    "    eps = 1e-10\n",
    "    if term in [0, 1]:\n",
    "        plotme = compute_se_error(src, tind, key, primary_key, separate=True)[term]\n",
    "    else:\n",
    "        plotme = compute_se_error(src, tind, key, primary_key)\n",
    "\n",
    "    theta_ind_mirror = theta_index_mirror(theta_ind)\n",
    "    plt_vec = casingSim.utils.face3DthetaSlice(mesh, plotme, theta_ind=theta_ind)\n",
    "    mirror_data = casingSim.utils.face3DthetaSlice(mesh, plotme, theta_ind=theta_ind_mirror)\n",
    "    plot_type = \"vec\"\n",
    "    \n",
    "    mesh2D = discretize.CylMesh([mesh.hx, 1, mesh.hz], x0=mesh.x0)\n",
    "    \n",
    "    out = casingSim.view.plotFace2D(\n",
    "        mesh2D, plt_vec, ax=ax, range_x=xlim, range_y=zlim,\n",
    "        sample_grid=(\n",
    "            np.r_[np.diff(xlim)/100., np.diff(zlim)/100.]\n",
    "#             if xlim is not None and zlim is not None else None\n",
    "        ),\n",
    "        log_scale=True,\n",
    "        clim=clim,\n",
    "        stream_threshold=clim[0] if clim is not None else None,\n",
    "        mirror=True,\n",
    "        mirror_data=mirror_data,\n",
    "        stream_opts = {\"color\": \"k\", \"arrowsize\": 1.5, \"density\": 0.8}\n",
    "    )\n",
    "    \n",
    "    ax.set_xlim(xlim)\n",
    "    ax.set_ylim(zlim)\n",
    "    ax.set_title(f\"electric source term \\n t={sim.times[tind]:1.1e}s\")\n",
    "    \n",
    "    return ax, out[-1]\n",
    "    \n"
   ]
  },
  {
   "cell_type": "code",
   "execution_count": 161,
   "metadata": {},
   "outputs": [
    {
     "data": {
      "application/vnd.jupyter.widget-view+json": {
       "model_id": "bdd3f631868b41ab96b49076c284cd63",
       "version_major": 2,
       "version_minor": 0
      },
      "text/plain": [
       "interactive(children=(IntSlider(value=0, description='tind', max=188), IntSlider(value=3, description='theta_i…"
      ]
     },
     "metadata": {},
     "output_type": "display_data"
    },
    {
     "data": {
      "text/plain": [
       "<function __main__.widget_se(tind, theta_ind, clim_min, clim_max, term)>"
      ]
     },
     "execution_count": 161,
     "metadata": {},
     "output_type": "execute_result"
    }
   ],
   "source": [
    "def widget_se(tind, theta_ind, clim_min, clim_max, term):\n",
    "    fig, ax = plt.subplots(1, 1, figsize=(4, 6))\n",
    "    plot_se_error(\n",
    "        survey.srcList[0], tind=tind, theta_ind=theta_ind, ax=ax, xlim=0.1*np.r_[-1, 1], zlim=[-1.1*model_dict[\"casing\"].casing_l, 10],\n",
    "        clim=np.r_[clim_min, clim_max], term=term, \n",
    "    )\n",
    "\n",
    "ipywidgets.interact(\n",
    "    widget_se, \n",
    "    tind = ipywidgets.IntSlider(min=0, max=sim.nT+1, value=0),\n",
    "    theta_ind = ipywidgets.IntSlider(min=0, max=len(mesh.hy), value=3),\n",
    "    clim_min = ipywidgets.FloatText(value=1),\n",
    "    clim_max = ipywidgets.FloatText(value=1e8),\n",
    "    term = ipywidgets.ToggleButtons(options=[0, 1, 2], value=2)\n",
    ")"
   ]
  },
  {
   "cell_type": "code",
   "execution_count": 162,
   "metadata": {},
   "outputs": [],
   "source": [
    "from string import ascii_lowercase"
   ]
  },
  {
   "cell_type": "code",
   "execution_count": 171,
   "metadata": {},
   "outputs": [
    {
     "data": {
      "image/png": "[encoded data removed]",
      "text/plain": [
       "<Figure size 720x432 with 4 Axes>"
      ]
     },
     "metadata": {
      "needs_background": "light"
     },
     "output_type": "display_data"
    }
   ],
   "source": [
    "## plot the electric and magnetic source terms at a fixed time\n",
    "tind = 73\n",
    "source_ind = 0\n",
    "theta_ind = 3\n",
    "xlim = 0.1*np.r_[-1, 1]\n",
    "zlim = [-1.1*model_dict[\"casing\"].casing_l, 10]\n",
    "term = 2\n",
    "\n",
    "fig, ax = plt.subplots(1, 2, figsize=(10, 6), gridspec_kw={\"wspace\": 1})\n",
    "\n",
    "_, cm = plot_sm_error(\n",
    "        survey.srcList[source_ind], tind=tind, theta_ind=theta_ind, ax=ax[0], xlim=xlim, \n",
    "        zlim=zlim,\n",
    "        clim=np.r_[1e-7, 6e-5], term=term, \n",
    "    )\n",
    "_, ce = plot_se_error(\n",
    "        survey.srcList[source_ind], tind=tind, theta_ind=theta_ind, ax=ax[1], xlim=xlim, zlim=zlim,\n",
    "        clim=np.r_[1e3, 1e8], term=term, \n",
    "    )\n",
    "\n",
    "for i, a in enumerate(ax):\n",
    "    a.set_xlabel(\"x (m)\")\n",
    "    a.set_ylabel(\"z (m)\")\n",
    "    a.set_title(f\"({ascii_lowercase[i]})\")\n",
    "    a.text(0.095, -1090, \"Time: {:.2f} ms\".format(sim.times[tind]*1e3), horizontalalignment=\"right\", fontsize=14) \n",
    "\n",
    "cm.set_label(\"magnetic source term (T/s)\")\n",
    "ce.set_label(\"electric source term (A/m$^2$)\")\n",
    "\n",
    "\n",
    "fig.savefig('../figures/source-terms.png', dpi=100, bbox_inches=\"tight\")\n",
    "fig.savefig('../arxiv-figures/source-terms.png', dpi=50, bbox_inches=\"tight\")"
   ]
  },
  {
   "cell_type": "code",
   "execution_count": 164,
   "metadata": {},
   "outputs": [],
   "source": [
    "def compute_jdiff_rhs(src, tind=None, key=\"approx_casing\", primary_key=\"casing\"):\n",
    "    \n",
    "    C = mesh.edgeCurl\n",
    "    MfRho = mesh.getFaceInnerProduct(1./model_dict[key].sigma(mesh))\n",
    "    MeMuI = sim.MeMuI \n",
    "    j = fields_dict[key][src, 'j', tind]\n",
    "    je = fields_dict[primary_key][src, 'j', tind] - j\n",
    "    dt = sim.timeSteps[tind]\n",
    "    \n",
    "    return C * MeMuI * C.T * MfRho * je + 1./dt * je"
   ]
  },
  {
   "cell_type": "code",
   "execution_count": 165,
   "metadata": {},
   "outputs": [],
   "source": [
    "def compute_sm_rhs(src, tind=None, key=\"approx_casing\", primary_key=\"casing\"):\n",
    "    C = mesh.edgeCurl\n",
    "#     MfRho = mesh.getFaceInnerProduct(1./model_dict[key].sigma(mesh))\n",
    "    MeMuI = sim.MeMuI \n",
    "    \n",
    "    rhs = C * MeMuI * compute_sm_error(src, tind, key, primary_key)\n",
    "    if tind > 0:\n",
    "        j = fields_dict[key][src, 'j', tind-1]\n",
    "        je = fields_dict[primary_key][src, 'j', tind-1] - j\n",
    "        dt = sim.timeSteps[tind]\n",
    "        rhs += 1/dt * je\n",
    "    \n",
    "    return rhs"
   ]
  },
  {
   "cell_type": "code",
   "execution_count": 166,
   "metadata": {},
   "outputs": [
    {
     "name": "stderr",
     "output_type": "stream",
     "text": [
      "/global/u2/l/lheagy/git/simpeg/simpeg/SimPEG/simulation.py:479: UserWarning: timeSteps will be depreciated in favor of time_steps. Please update your code accordingly\n",
      "  \"timeSteps will be depreciated in favor of time_steps. \"\n"
     ]
    }
   ],
   "source": [
    "tind = 10\n",
    "srcind = 0\n",
    "\n",
    "jdiff_rhs = compute_jdiff_rhs(survey.source_list[srcind], tind)\n",
    "sm_rhs = compute_sm_rhs(survey.source_list[srcind], tind)\n",
    "sm = compute_sm_error(survey.source_list[srcind], tind)"
   ]
  },
  {
   "cell_type": "code",
   "execution_count": 167,
   "metadata": {},
   "outputs": [],
   "source": [
    "smx = sm[:mesh.vnE[0]]\n",
    "smy = sm[mesh.vnE[0]:mesh.vnE[:2].sum()]\n",
    "smz = sm[mesh.vnE[:2].sum():]"
   ]
  },
  {
   "cell_type": "code",
   "execution_count": 168,
   "metadata": {},
   "outputs": [
    {
     "data": {
      "text/plain": [
       "(-1.0607583795024963e-08,\n",
       " 1.0607583813398484e-08,\n",
       " -1.7740922189763744e-05,\n",
       " 0.0009428996144665249,\n",
       " -3.9482725042511956e-07,\n",
       " 3.948272503447054e-07)"
      ]
     },
     "execution_count": 168,
     "metadata": {},
     "output_type": "execute_result"
    }
   ],
   "source": [
    "smx.min(), smx.max(), smy.min(), smy.max(), smz.min(), smz.max()"
   ]
  },
  {
   "cell_type": "code",
   "execution_count": 169,
   "metadata": {},
   "outputs": [
    {
     "data": {
      "text/plain": [
       "'2.98e+10, 2.98e+10, 2.17e+04'"
      ]
     },
     "execution_count": 169,
     "metadata": {},
     "output_type": "execute_result"
    }
   ],
   "source": [
    "f\"{np.linalg.norm(jdiff_rhs):1.2e}, {np.linalg.norm(sm_rhs):1.2e}, {np.linalg.norm(jdiff_rhs-sm_rhs):1.2e}\""
   ]
  },
  {
   "cell_type": "code",
   "execution_count": null,
   "metadata": {},
   "outputs": [],
   "source": [
    "jdiff_rhs_x = jdiff_rhs[:mesh.vnF[0]]\n",
    "sm_rhs_x = sm_rhs[:mesh.vnF[0]]\n",
    "\n",
    "jdiff_rhs_y = jdiff_rhs[mesh.vnF[0]:mesh.vnF[:2].sum()]\n",
    "sm_rhs_y = sm_rhs[mesh.vnF[0]:mesh.vnF[:2].sum()]\n",
    "\n",
    "jdiff_rhs_z = jdiff_rhs[mesh.vnF[:2].sum():]\n",
    "sm_rhs_z = sm_rhs[mesh.vnF[:2].sum():]"
   ]
  },
  {
   "cell_type": "code",
   "execution_count": null,
   "metadata": {},
   "outputs": [],
   "source": [
    "fig, ax = plt.subplots(3, 2, figsize=(12, 12))\n",
    "\n",
    "ax[0, 0].semilogy(np.abs(jdiff_rhs_x), '.', alpha=0.5)\n",
    "ax[0, 0].semilogy(np.abs(sm_rhs_x), '.', alpha=0.5)\n",
    "ax[0, 1].semilogy(np.abs(sm_rhs_x - jdiff_rhs_x), '.', alpha=0.5)\n",
    "\n",
    "ax[1, 0].semilogy(np.abs(jdiff_rhs_y), '.', alpha=0.5)\n",
    "ax[1, 0].semilogy(np.abs(sm_rhs_y), '.', alpha=0.5)\n",
    "ax[1, 1].semilogy(np.abs(sm_rhs_y - jdiff_rhs_y), '.', alpha=0.5)\n",
    "\n",
    "ax[2, 0].semilogy(np.abs(jdiff_rhs_z), '.', alpha=0.5)\n",
    "ax[2, 0].semilogy(np.abs(sm_rhs_z), '.', alpha=0.5)\n",
    "ax[2, 1].semilogy(np.abs(sm_rhs_z - jdiff_rhs_z), '.', alpha=0.5)\n",
    "\n",
    "for a in ax[0, :]:\n",
    "    a.set_ylim([1e1, 1e7])\n",
    "    \n",
    "for a in ax[1, :]:\n",
    "    a.set_ylim([1e-2, 1e4])\n",
    "\n",
    "for a in ax[2, :]:\n",
    "    a.set_ylim([1e4, 1e10])\n",
    "\n",
    "plt.tight_layout()"
   ]
  },
  {
   "cell_type": "code",
   "execution_count": null,
   "metadata": {},
   "outputs": [],
   "source": [
    "interesting_inds = np.abs(jdiff_rhs_y) > 10"
   ]
  },
  {
   "cell_type": "code",
   "execution_count": null,
   "metadata": {},
   "outputs": [],
   "source": [
    "grid_locs = mesh.gridFy[utils.mkvc(interesting_inds), :]\n",
    "print(grid_locs[:, 0].min(), grid_locs[:, 0].max())\n",
    "print(grid_locs[:, 2].min(), grid_locs[:, 2].max())"
   ]
  },
  {
   "cell_type": "code",
   "execution_count": null,
   "metadata": {},
   "outputs": [],
   "source": [
    "def plot_rhs_faces(src, tind, theta_ind=0, view=\"diff\", ax=None, clim=None, xlim=None, zlim=None):\n",
    "    if ax is None:\n",
    "        fig, ax = plt.subplots(1, 1)\n",
    "\n",
    "    jdiff_rhs = compute_jdiff_rhs(survey.source_list[srcind], tind)\n",
    "    sm_rhs = compute_sm_rhs(survey.source_list[srcind], tind)\n",
    "\n",
    "    jdiff_rhs_y = jdiff_rhs[mesh.vnF[0]:mesh.vnF[:2].sum()]\n",
    "    sm_rhs_y = sm_rhs[mesh.vnF[0]:mesh.vnF[:2].sum()]\n",
    "    \n",
    "    if view == \"rhs\":\n",
    "        plotme = utils.mkvc(jdiff_rhs_y)\n",
    "    elif view == \"sm\":\n",
    "        plotme = utils.mkvc(sm_rhs_y)\n",
    "    elif view == \"diff\":\n",
    "        plotme = utils.mkvc(jdiff_rhs_y - sm_rhs_y)\n",
    "    \n",
    "    plotme = mesh.aveFy2CC * plotme\n",
    "    \n",
    "    theta_ind_mirror = theta_index_mirror(theta_ind)\n",
    "    plotme = plotme.reshape(mesh.vnC, order=\"F\")\n",
    "    mirror_data = discretize.utils.mkvc(-plotme[:, theta_ind_mirror, :])\n",
    "    plotme = discretize.utils.mkvc(plotme[:, theta_ind, :])\n",
    "\n",
    "    norm = SymLogNorm(\n",
    "        clim[0] if clim is not None else\n",
    "        np.max([1e-12, np.min(np.absolute(plotme))])\n",
    "    )\n",
    "    clim = clim[1]*np.r_[-1., 1.] if clim is not None else None\n",
    "    \n",
    "    mesh2D = discretize.CylMesh([mesh.hx, 1, mesh.hz], x0=mesh.x0)\n",
    "    \n",
    "    out = mesh2D.plotImage(\n",
    "        plotme, ax=ax, pcolorOpts = {'norm': norm}, clim=clim,\n",
    "        mirror_data=mirror_data, mirror=True, grid=False\n",
    "    )\n",
    "    \n",
    "    plt.colorbar(out[0])\n",
    "    \n",
    "    ax.set_xlim(xlim)\n",
    "    ax.set_ylim(zlim)\n",
    "    ax.set_title(f\"{view} \\n t={sim.times[tind]:1.1e}s\")\n",
    "    "
   ]
  },
  {
   "cell_type": "code",
   "execution_count": null,
   "metadata": {},
   "outputs": [],
   "source": [
    "def widget_rhs(tind, src_ind, theta_ind, clim, r, depthmin, depthmax, view):\n",
    "    fig, ax = plt.subplots(1, 1, figsize=(4, 6))\n",
    "    plot_rhs_faces(\n",
    "        survey.srcList[src_ind], \n",
    "        tind=tind, \n",
    "        theta_ind=theta_ind, \n",
    "        xlim=r*np.r_[-1, 1], \n",
    "        zlim=[-depthmax, depthmin],\n",
    "        clim=clim if clim!=0 else None,\n",
    "        ax=ax,\n",
    "        view=view,\n",
    "    )\n",
    "\n",
    "ipywidgets.interact(\n",
    "    widget_rhs, \n",
    "    tind = ipywidgets.IntSlider(min=0, max=sim.nT+1, value=0),\n",
    "    src_ind = ipywidgets.IntSlider(min=0, max=len(survey.source_list)-1, value=0),\n",
    "    theta_ind = ipywidgets.IntSlider(min=0, max=len(mesh.hy), value=3),\n",
    "    clim = ipywidgets.FloatText(value=0),\n",
    "    r = ipywidgets.FloatText(value=0.1),\n",
    "    depthmin = ipywidgets.FloatText(value=10),\n",
    "    depthmax = ipywidgets.FloatText(value=1.1*model_dict[\"casing\"].casing_l),\n",
    "    view = ipywidgets.ToggleButtons(options=[\"rhs\", \"sm\", \"diff\"], value=\"diff\")\n",
    ")"
   ]
  },
  {
   "cell_type": "code",
   "execution_count": null,
   "metadata": {},
   "outputs": [],
   "source": [
    "sm = compute_sm_error(survey.srcList[0], tind = 0, key=\"approx_casing\", primary_key=\"casing\", separate=False)"
   ]
  },
  {
   "cell_type": "code",
   "execution_count": null,
   "metadata": {},
   "outputs": [],
   "source": [
    "smx = sm[:mesh.vnE[0]]\n",
    "smy = sm[mesh.vnE[0]:mesh.vnE[:2].sum()]\n",
    "smz = sm[mesh.vnE[:2].sum():]"
   ]
  },
  {
   "cell_type": "code",
   "execution_count": null,
   "metadata": {},
   "outputs": [],
   "source": [
    "smz.shape, mesh.nEz"
   ]
  },
  {
   "cell_type": "code",
   "execution_count": null,
   "metadata": {},
   "outputs": [],
   "source": [
    "fig, ax = plt.subplots(1, 3, figsize=(15, 4))\n",
    "eps = 1e-3*np.max(abs(sm))\n",
    "tind = 0\n",
    "\n",
    "for a, s in zip(ax, [smx, smy, smz]):\n",
    "    a.semilogy(np.abs(s))\n",
    "    a.set_ylim(eps, np.max(abs(sm)))\n",
    "\n",
    "    plt.tight_layout()"
   ]
  },
  {
   "cell_type": "code",
   "execution_count": null,
   "metadata": {},
   "outputs": [],
   "source": [
    "fig, ax = plt.subplots(1, 1)\n",
    "ax.hist(np.log10(np.abs(smy + 1e-30)), bins = 200)\n",
    "ax.set_ylim([0, 1e3])"
   ]
  },
  {
   "cell_type": "code",
   "execution_count": null,
   "metadata": {},
   "outputs": [],
   "source": [
    "smy = smy.reshape(mesh.vnEy, order=\"F\")"
   ]
  },
  {
   "cell_type": "code",
   "execution_count": null,
   "metadata": {},
   "outputs": [],
   "source": [
    "from matplotlib import cm as cmap"
   ]
  },
  {
   "cell_type": "code",
   "execution_count": null,
   "metadata": {},
   "outputs": [],
   "source": [
    "fig, ax = plt.subplots(3, 1, figsize = (6, 9))\n",
    "theta_ind = 3\n",
    "src_ind = 0\n",
    "tind = 0\n",
    "\n",
    "sm = compute_sm_error(survey.srcList[src_ind], tind=tind, key=\"approx_casing\", primary_key=\"casing\", separate=False)\n",
    "smy = sm[mesh.vnE[0]:mesh.vnE[:2].sum()]\n",
    "smy = smy.reshape(mesh.vnEy, order=\"F\")\n",
    "\n",
    "rinds = np.where((mesh.vectorNx >= model.casing_a*0.9) & (mesh.vectorNx <= model.casing_b))[0][[0, -1]] \n",
    "colors = cmap.viridis(np.linspace(0, 1, len(rinds)))\n",
    "\n",
    "for val in range(rinds[0], rinds[1]+1):\n",
    "    plotme = smy[val, 3, :]\n",
    "    print(np.max(np.abs(plotme)))\n",
    "    pos_inds = plotme > 0\n",
    "    neg_inds = plotme < 0\n",
    "    \n",
    "    if np.any(pos_inds):\n",
    "        ax[0].semilogy(mesh.vectorNz[pos_inds], plotme[pos_inds], '.', color='C0')\n",
    "    if np.any(neg_inds):\n",
    "        ax[0].semilogy(mesh.vectorNz[neg_inds], -plotme[neg_inds],'.', color='C1')\n",
    "\n",
    "\n",
    "R = np.repeat(np.atleast_2d(mesh.vectorNx[rinds[0]+1:rinds[1]+2]), len(mesh.vectorNz), axis=0).T\n",
    "ax[1].semilogy(mesh.vectorNz, (smy[rinds[0]:rinds[1]+1, theta_ind, :]*R).sum(0)/model.casing_b, '.', color='C0')\n",
    "# ax[1].semilogy(mesh.vectorNz, -(smy[rinds[0]:rinds[1]+1, theta_ind, :]*R).sum(0)/model.casing_b, '.', color='C1')\n",
    "\n",
    "for a in ax:\n",
    "    a.set_xlim([20, -model.casing_l*1.5])\n",
    "#     a.set_ylim([1e-9, 1e-4])\n",
    "\n",
    "ax[2].plot(mesh.vectorNz, np.abs(smy[rinds[0], theta_ind, :]*mesh.vectorNx[rinds[0]+1] + (smy[rinds[1], 3, :]*mesh.vectorNx[rinds[1]+1])), '.')\n",
    "ax[2].set_ylim(1e-10*np.r_[-1, 1])\n",
    "\n"
   ]
  },
  {
   "cell_type": "code",
   "execution_count": null,
   "metadata": {},
   "outputs": [],
   "source": [
    "def compute_sm_source_term(src, key=\"approx_casing\", primary_key=\"casing\", safe=True, radius=model.casing_b):\n",
    "    # safe assigns zero outside the region of the casing in order to avoid accumulation of numerical errors \n",
    "    \n",
    "    sm = compute_sm_error(src, None, key, primary_key)\n",
    "    sm = sm[mesh.vnE[0]:mesh.vnE[:2].sum(), :]  # only the y-component\n",
    "    sm = sm.reshape(list(mesh.vnEy) + [sim.nT], order=\"F\")\n",
    "    sm = sm.mean(1) # take the mean around the theta edges (they are basically identical)\n",
    "    \n",
    "    if safe is True:\n",
    "        rinds = np.where(mesh.vectorNx[1:]<=radius)[0]\n",
    "        rinds = slice(rinds[0], rinds[-1]+2)\n",
    "        zinds = np.where((mesh.vectorNz <= 0) & (mesh.vectorNz >= -model.casing_l))[0]\n",
    "        zinds = slice(zinds[0], zinds[-1]+2)\n",
    "        sm = sm[rinds, zinds, :]\n",
    "        R = np.squeeze(mesh.gridEy[:, 0].reshape(mesh.vnEy, order=\"F\")[rinds, 0, zinds])\n",
    "#         print(R)\n",
    "    \n",
    "    else: \n",
    "        R = np.squeeze(mesh.gridEy[:, 0].reshape(mesh.vnEy, order=\"F\")[:, 0, :])\n",
    "        \n",
    "    R = np.repeat(R.reshape(R.shape + (1,)), sim.nT, axis=2)\n",
    "    \n",
    "    return rinds, zinds, (sm*R).sum(0)/radius"
   ]
  },
  {
   "cell_type": "code",
   "execution_count": null,
   "metadata": {},
   "outputs": [],
   "source": [
    "rinds, zinds, src_term = compute_sm_source_term(survey.source_list[0])"
   ]
  },
  {
   "cell_type": "code",
   "execution_count": null,
   "metadata": {},
   "outputs": [],
   "source": [
    "fig, ax = plt.subplots(1,1)\n",
    "ax.plot(mesh.vectorNz[zinds], src_term[:, 0], '.')\n",
    "ax.set_xlim([20, -model.casing_l*1.5])"
   ]
  },
  {
   "cell_type": "code",
   "execution_count": null,
   "metadata": {},
   "outputs": [],
   "source": [
    "src_term.shape"
   ]
  },
  {
   "cell_type": "code",
   "execution_count": null,
   "metadata": {},
   "outputs": [],
   "source": [
    "len(mesh.vectorNz[zinds])"
   ]
  },
  {
   "cell_type": "code",
   "execution_count": null,
   "metadata": {},
   "outputs": [],
   "source": [
    "fig, ax = plt.subplots(1, 1)\n",
    "\n",
    "# plt.colorbar(\n",
    "#     ax.pcolormesh(sim.time_mesh.vectorCCx, z, src_term, norm=SymLogNorm(linthresh=1e-9, vmax=1e-4, vmin=-1e-4), cmap='BrBG'),\n",
    "#     ax=ax\n",
    "# )\n",
    "\n",
    "cb = plt.colorbar(\n",
    "    ax.pcolormesh(sim.time_mesh.vectorCCx, mesh.vectorNz[zinds], src_term, norm=SymLogNorm(linthresh=1e-8, vmax=3e-5, vmin=-3e-5), cmap=\"BrBG\"),\n",
    "    ax=ax\n",
    ")\n",
    "\n",
    "ax.set_xscale('log')\n",
    "# ax.set_xlim([1e-7, 1e-5])\n",
    "ax.set_xlabel(\"time (s)\")\n",
    "ax.set_ylabel(\"z (m)\")\n",
    "cb.set_label(\"source term\")"
   ]
  },
  {
   "cell_type": "code",
   "execution_count": null,
   "metadata": {},
   "outputs": [],
   "source": [
    "fig = plt.figure()\n",
    "ax = fig.gca(projection='3d')\n",
    "\n",
    "clim = np.r_[1e-15, 1e-4]\n",
    "X, Y = np.meshgrid(np.log10(sim.time_mesh.vectorCCx), mesh.vectorNz[zinds])\n",
    "plt.colorbar(\n",
    "    ax.plot_surface(\n",
    "        X, Y, np.log10(-1*(src_term)), \n",
    "        rstride=1, cstride=1, cmap=\"viridis\", \n",
    "        edgecolor='none', \n",
    "        vmin=np.log10(clim.min()),\n",
    "        vmax=np.log10(clim.max())\n",
    "        #vmin=np.log10(clim.min()), vmax=np.log10(clim.max())), # , norm=LogNorm(vmin=clim.min(), vmax=clim.max())),\n",
    "\n",
    "    ),\n",
    "    ax=ax\n",
    ")\n",
    "ax.set_ylim(np.r_[-model.casing_l, 0.])\n",
    "ax.set_zlim(np.log10(clim))\n",
    "# ax.set_xscale('log')"
   ]
  },
  {
   "cell_type": "code",
   "execution_count": null,
   "metadata": {},
   "outputs": [],
   "source": [
    "from matplotlib import colors\n",
    "from matplotlib import cm as cmap"
   ]
  },
  {
   "cell_type": "code",
   "execution_count": null,
   "metadata": {},
   "outputs": [],
   "source": [
    "src_term.shape"
   ]
  },
  {
   "cell_type": "code",
   "execution_count": null,
   "metadata": {},
   "outputs": [],
   "source": [
    "nT = 100\n",
    "\n",
    "cm = plt.get_cmap('viridis')\n",
    "c_norm = LogNorm(vmin=sim.time_mesh.vectorCCx[0], vmax=sim.time_mesh.vectorCCx[nT])\n",
    "scalar_map = cmap.ScalarMappable(norm=c_norm, cmap=cm)\n",
    "scalar_map.set_array([])\n",
    "# colors = cm.viridis(np.linspace(0, 1, nT))\n",
    "\n",
    "fig, ax = plt.subplots(2, 1, figsize=(12, 8))\n",
    "\n",
    "for time_ind in range(nT)[::int(nT/30)]:\n",
    "    plotme = src_term[:, time_ind]\n",
    "    pos_vals = plotme > 0. \n",
    "    neg_vals = plotme < 0.\n",
    "    \n",
    "    color = scalar_map.to_rgba(sim.time_mesh.vectorCCx[time_ind])\n",
    "\n",
    "    if any(pos_vals):\n",
    "        ax[0].semilogy(\n",
    "            mesh.vectorNz[zinds][pos_vals], plotme[pos_vals],\n",
    "            color=color, marker='s', ls='None'\n",
    "        )\n",
    "    if any(neg_vals):\n",
    "        ax[0].semilogy(\n",
    "            mesh.vectorNz[zinds][neg_vals], -plotme[neg_vals], \n",
    "            color=color, marker='.', ls='None'\n",
    "        )\n",
    "    \n",
    "    ax[1].plot(\n",
    "        mesh.vectorNz[zinds], plotme, \n",
    "        color=color, marker='.', ls='None'\n",
    "    )\n",
    "\n",
    "for a in ax:\n",
    "    a.set_xlim([10, -model.casing_l-10])\n",
    "    a.grid(which=\"both\", color=\"k\", lw=0.5, alpha=0.5)\n",
    "    a.set_xlabel(\"depth (m)\")\n",
    "    a.set_ylabel(\"source term (V/m$^2$)\")\n",
    "    \n",
    "# ax[0].set_ylim([1e-15, 3e-5])\n",
    "# ax[1].set_ylim(1e-6*np.r_[-1, 1e-1])\n",
    "cbar_ax = fig.add_axes([1, 0.1, 0.02, 0.8])\n",
    "cb = plt.colorbar(scalar_map, cbar_ax)\n",
    "cb.set_label('time (s)')\n",
    "cb.ax.invert_yaxis()\n",
    "\n",
    "plt.tight_layout()"
   ]
  },
  {
   "cell_type": "code",
   "execution_count": null,
   "metadata": {},
   "outputs": [],
   "source": [
    "from matplotlib.colors import Normalize"
   ]
  },
  {
   "cell_type": "code",
   "execution_count": null,
   "metadata": {},
   "outputs": [],
   "source": [
    "fig = plt.figure(figsize=(12,12))\n",
    "ax = fig.add_subplot(111, projection='3d')\n",
    "\n",
    "nT = sim.nT-1\n",
    "\n",
    "cm = plt.get_cmap('viridis_r')\n",
    "zlim = np.r_[-15, -5]\n",
    "\n",
    "c_norm = Normalize(vmin=zlim.min(), vmax=zlim.max())\n",
    "scalar_map = cmap.ScalarMappable(norm=c_norm, cmap=cm)\n",
    "scalar_map.set_array([])\n",
    "\n",
    "alpha = 0.1\n",
    "\n",
    "for time_ind in range(nT):\n",
    "\n",
    "    plotme = src_term[:, time_ind]\n",
    "    pos_vals = plotme > 0. \n",
    "    neg_vals = plotme < 0.\n",
    "\n",
    "    time = sim.time_mesh.vectorCCx[time_ind]\n",
    "\n",
    "#     if any(pos_vals):\n",
    "#         ax.scatter(\n",
    "#             mesh.vectorNz[zinds][pos_vals], np.log10(np.r_[time]), np.log10(plotme[pos_vals]),\n",
    "#             color=color, marker='s', ls='None', alpha=alpha\n",
    "#         )\n",
    "    if any(neg_vals):\n",
    "        \n",
    "        zvals = np.log10(-plotme[neg_vals])\n",
    "        cols = scalar_map.to_rgba(zvals)\n",
    "        \n",
    "        ax.scatter(\n",
    "            mesh.vectorNz[zinds][neg_vals], np.log10(np.r_[time]), zvals, \n",
    "            color=cols, marker='.', ls='None', alpha=alpha\n",
    "        )\n",
    "\n",
    "\n",
    "xlim = np.r_[10, -model.casing_l*1.1]\n",
    "ax.set_xlim(xlim)\n",
    "ax.set_zlim(zlim)\n",
    "\n",
    "\n",
    "ax.set_xlabel(\"depth (m)\")\n",
    "ax.set_ylabel(\"log10(time)\")\n",
    "ax.set_zlabel(\"source term (V/m$^2$)\")\n",
    "\n",
    "X = mesh.vectorNz[zinds]\n",
    "Y = np.log10(sim.time_mesh.vectorCCx[0:nT])\n",
    "Z = src_term[:, 0:nT].T\n",
    "neg_vals = Z < 0. \n",
    "Z = np.ma.array(np.log10(-Z), mask=~neg_vals)\n",
    "\n",
    "X, Y = np.meshgrid(X, Y)\n",
    "\n",
    "# cset = ax.contour(X, Y, Z, 20, zdir='z', offset=zlim.min(), cmap=cmap.viridis)\n",
    "# cset = ax.contour(X, Y, Z, 20, zdir='x', offset=xlim.max(), cmap=cmap.viridis)\n",
    "# cset = ax.contour(X, Y, Z, zdir='z', offset=zlim.min(), cmap=cmap.gray)\n",
    "# cset = ax.contour(X, Y, Z, zdir='x', offset=-40, cmap=cm.gray)\n",
    "# cset = ax.contour(X, Y, Z, zdir='y', offset=40, cmap=cm.gray)\n",
    "\n",
    "ax.view_init(30, 15)\n",
    "\n"
   ]
  },
  {
   "cell_type": "markdown",
   "metadata": {},
   "source": [
    "# create a TDEM source"
   ]
  },
  {
   "cell_type": "code",
   "execution_count": null,
   "metadata": {},
   "outputs": [],
   "source": [
    "import properties\n",
    "from SimPEG.electromagnetics.time_domain.sources import BaseTDEMSrc, BaseWaveform"
   ]
  },
  {
   "cell_type": "code",
   "execution_count": null,
   "metadata": {},
   "outputs": [],
   "source": [
    "class RawVecSm(BaseTDEMSrc):\n",
    "    \n",
    "    _s_m = properties.Array(\"numpy aray of the source term\", shape=('*', '*'))\n",
    "    \n",
    "#     indices = properties.Array(\"numpy array containing the indicies where the source term is located on the mesh\", dtype=bool)\n",
    "    rind = properties.Integer(\"radial location of the source term\")\n",
    "    zinds = properties.Array(\"z locations of the source term\")\n",
    "    \n",
    "    def __init__(self, receiver_list, waveform=None, s_m=None, **kwargs):\n",
    "        super(BaseTDEMSrc, self).__init__(**kwargs)\n",
    "        self.srcType=\"inductive\"\n",
    "        self._s_m = s_m\n",
    "        self.waveform = BaseWaveform()\n",
    "        self.waveform.hasInitialFields = False\n",
    "        \n",
    "    def s_m(self, simulation, time_index):\n",
    "        mesh = simulation.mesh\n",
    "        if self.rind is not None:\n",
    "            smy = np.zeros(mesh.vnEy)\n",
    "            smy[self.rind, :, self.zinds] = np.repeat(np.atleast_2d(self._s_m[:, time_index]), mesh.vnEy[1], axis=0).T\n",
    "            sm = np.hstack([np.zeros(mesh.nEx), utils.mkvc(smy), np.zeros(mesh.nEz)])\n",
    "#             sm[self.indices] = self._s_m[:, time_index]\n",
    "        else:\n",
    "            sm = self._s_m[:, time_index]\n",
    "        return sm"
   ]
  },
  {
   "cell_type": "code",
   "execution_count": null,
   "metadata": {},
   "outputs": [],
   "source": [
    "source_list_discrepancy = []\n",
    "\n",
    "for src in survey.source_list:\n",
    "    rinds, zinds, sm = compute_sm_source_term(src)\n",
    "    indices = np.zeros(mesh.vnEy, dtype=bool)\n",
    "    indices[rinds.stop-1, :, zinds] = True\n",
    "    indices = np.where(np.hstack([np.zeros(mesh.nEx, dtype=bool), utils.mkvc(indices), np.zeros(mesh.nEz, dtype=bool)])[0])\n",
    "    \n",
    "    source_list_discrepancy.append(RawVecSm([], s_m=sm, rind=rinds.stop-1, zinds=np.arange(zinds.start, zinds.stop)))"
   ]
  },
  {
   "cell_type": "code",
   "execution_count": null,
   "metadata": {},
   "outputs": [],
   "source": [
    "survey_discrepancy = tdem.Survey(source_list_discrepancy)\n",
    "sim_discrepancy = tdem.Problem3D_j(\n",
    "    mesh=mesh, survey=survey_discrepancy, sigmaMap=maps.IdentityMap(mesh), solver=Pardiso,\n",
    "    time_steps=timeSteps\n",
    ")"
   ]
  },
  {
   "cell_type": "code",
   "execution_count": null,
   "metadata": {},
   "outputs": [],
   "source": [
    "if use_cluster is True: \n",
    "    cluster = dask_jobqueue.SLURMCluster(\n",
    "        cores=1,\n",
    "        processes=1, memory='120GB', \n",
    "        job_cpu=2,\n",
    "        project=\"m3384\",\n",
    "        job_extra = ['--constraint=haswell', '--qos=debug',], \n",
    "        death_timeout=360,\n",
    "    )\n",
    "\n",
    "    print(cluster.job_script())"
   ]
  },
  {
   "cell_type": "code",
   "execution_count": null,
   "metadata": {},
   "outputs": [],
   "source": [
    "client"
   ]
  },
  {
   "cell_type": "code",
   "execution_count": null,
   "metadata": {},
   "outputs": [],
   "source": [
    "cluster.adapt(1)"
   ]
  },
  {
   "cell_type": "code",
   "execution_count": null,
   "metadata": {},
   "outputs": [],
   "source": [
    "def run_discrepancy_simulation(m, simulation_params, directory=None, name=None):\n",
    "    import discretize\n",
    "    import casingSimulations as casing_sim\n",
    "    from SimPEG.electromagnetics import time_domain as tdem\n",
    "    from pymatsolver import Pardiso\n",
    "    import properties\n",
    "    from SimPEG.electromagnetics.time_domain.sources import BaseTDEMSrc, BaseWaveform\n",
    "    \n",
    "    class RawVecSm(BaseTDEMSrc):\n",
    "    \n",
    "        _s_m = properties.Array(\"numpy aray of the source term\", shape=('*', '*'))\n",
    "\n",
    "    #     indices = properties.Array(\"numpy array containing the indicies where the source term is located on the mesh\", dtype=bool)\n",
    "        rind = properties.Integer(\"radial location of the source term\")\n",
    "        zinds = properties.Array(\"z locations of the source term\", dtype=int)\n",
    "\n",
    "        def __init__(self, receiver_list, waveform=None, s_m=None, **kwargs):\n",
    "            if kwargs.get(\"_s_m\", None) is not None:\n",
    "                s_m = kwargs.pop(\"_s_m\")\n",
    "            super(BaseTDEMSrc, self).__init__(**kwargs)\n",
    "            self.srcType=\"inductive\"\n",
    "            self._s_m = s_m\n",
    "            self.waveform = BaseWaveform()\n",
    "            self.waveform.hasInitialFields = False\n",
    "\n",
    "        def s_m(self, simulation, time_index):\n",
    "            mesh = simulation.mesh\n",
    "            if self.rind is not None:\n",
    "                smy = np.zeros(mesh.vnEy)\n",
    "                smy[self.rind, :, self.zinds] = np.repeat(np.atleast_2d(self._s_m[:, time_index]), mesh.vnEy[1], axis=0).T\n",
    "                sm = np.hstack([np.zeros(mesh.nEx), utils.mkvc(smy), np.zeros(mesh.nEz)])\n",
    "    #             sm[self.indices] = self._s_m[:, time_index]\n",
    "            else:\n",
    "                sm = self._s_m[:, time_index]\n",
    "            return sm\n",
    "        \n",
    "    if isinstance(simulation_params, str):\n",
    "        simulation_params = json.loads(simulation_params)\n",
    "    \n",
    "    sim = tdem.Problem3D_j.deserialize(simulation_params, trusted=True)\n",
    "    \n",
    "    if isinstance(m, str):\n",
    "        model = casing_sim.model.CasingInHalfspace.deserialize(json.loads(m), trusted=True)\n",
    "        m = model.sigma(sim.mesh)\n",
    "    \n",
    "    sim.solver = Pardiso\n",
    "    sim.verbose = True\n",
    "    \n",
    "    fields = sim.fields(m)\n",
    "    f = fields[:, '{}Solution'.format(sim._fieldType), :]\n",
    "    if name is not None: \n",
    "        filename = f\"{name}.npy\"\n",
    "        tosave = os.path.sep.join([directory, filename]) \n",
    "        print(f\"saving {tosave}\")\n",
    "        np.save(tosave, f)\n",
    "    return tosave\n",
    "    "
   ]
  },
  {
   "cell_type": "code",
   "execution_count": 123,
   "metadata": {},
   "outputs": [
    {
     "name": "stdout",
     "output_type": "stream",
     "text": [
      "Saved 201991415/1000m_sigma1e-02/approx_casing.json\n"
     ]
    }
   ],
   "source": [
    "f_discrepancy = {}\n",
    "\n",
    "key = \"approx_casing\"\n",
    "value = physprops_dict[key]\n",
    "time = datetime.datetime.now()\n",
    "model = model_dict[key]\n",
    "directory = f\"{time.year}{time.month}{time.day}{time.hour}{os.path.sep}{int(model.casing_l)}m_sigma{model.sigma_back:1.0e}\"\n",
    "\n",
    "if not os.path.isdir(directory):\n",
    "    os.makedirs(directory, exist_ok=True)\n",
    "\n",
    "model.save(f\"{key}.json\", directory)\n",
    "\n",
    "f_discrepancy[key] = dask.delayed(run_discrepancy_simulation)(\n",
    "    value.sigma, sim_discrepancy.serialize(), directory, key\n",
    ")\n",
    "\n",
    "# f_discrepancy[key] = run_discrepancy_simulation(\n",
    "#     value.sigma, sim_discrepancy.serialize(), directory, key\n",
    "# )\n",
    "    \n",
    "    "
   ]
  },
  {
   "cell_type": "markdown",
   "metadata": {},
   "source": [
    "## TODO: this should be a 2D simulation"
   ]
  },
  {
   "cell_type": "code",
   "execution_count": 124,
   "metadata": {},
   "outputs": [],
   "source": [
    "# fields_file_discrepancy = dask.compute(f_discrepancy)[0]"
   ]
  },
  {
   "cell_type": "code",
   "execution_count": 128,
   "metadata": {},
   "outputs": [],
   "source": [
    "# f_discrep = np.load(\"./2019915/approx_casing.npy\")\n",
    "f_discrep = np.load(\"20199120/1000m_sigma1e-02/approx_casing.npy\")\n",
    "# f_discrep = np.load(fields_file_discrepancy) "
   ]
  },
  {
   "cell_type": "code",
   "execution_count": 129,
   "metadata": {},
   "outputs": [],
   "source": [
    "sim_discrepancy.model = value.sigma\n",
    "fields_discrep = sim_discrepancy.fieldsPair(sim_discrepancy)\n",
    "fields_discrep[:, f'{formulation}Solution', :] = f_discrep\n",
    "\n",
    "fields_discrep_corrected = sim_discrepancy.fieldsPair(sim_discrepancy)\n",
    "fields_discrep_corrected[:, f'{formulation}Solution', :] = f_discrep + fields_dict[\"approx_casing\"][:, f'{formulation}Solution', :]"
   ]
  },
  {
   "cell_type": "code",
   "execution_count": 130,
   "metadata": {},
   "outputs": [],
   "source": [
    "new_model_names = [\"discrepancy\", \"discrepancy_corrected\"]\n",
    "survey_dict={key: sim.survey for key in model_names}\n",
    "for key, f in zip(new_model_names, [fields_discrep, fields_discrep_corrected]):\n",
    "    if key not in model_names: \n",
    "        model_names.append(key)\n",
    "    fields_dict[key] = f\n",
    "    model_dict[key] = model_dict[\"approx_casing\"]\n",
    "    survey_dict[key] = sim_discrepancy.survey"
   ]
  },
  {
   "cell_type": "code",
   "execution_count": 131,
   "metadata": {},
   "outputs": [],
   "source": [
    "viewer = casingSim.FieldsViewer(\n",
    "    mesh=mesh, model_parameters_dict=model_dict, survey_dict=survey_dict, \n",
    "    fields_dict=fields_dict, model_keys=model_names, primary_key=\"casing\"\n",
    ")"
   ]
  },
  {
   "cell_type": "code",
   "execution_count": 132,
   "metadata": {},
   "outputs": [
    {
     "name": "stderr",
     "output_type": "stream",
     "text": [
      "/global/u2/l/lheagy/git/simpeg/simpeg/SimPEG/survey.py:369: UserWarning: srcList has been renamed to source_list. Please update your code accordingly\n",
      "  \"srcList has been renamed to source_list. Please update your code \"\n"
     ]
    },
    {
     "data": {
      "application/vnd.jupyter.widget-view+json": {
       "model_id": "d134812806ee429a933da3d6c3732f6a",
       "version_major": 2,
       "version_minor": 0
      },
      "text/plain": [
       "interactive(children=(FloatText(value=0.15, description='max_r'), FloatText(value=-10.0, description='min_dept…"
      ]
     },
     "metadata": {},
     "output_type": "display_data"
    },
    {
     "data": {
      "text/plain": [
       "<function ipywidgets.widgets.interaction._InteractFactory.__call__.<locals>.<lambda>(*args, **kwargs)>"
      ]
     },
     "execution_count": 132,
     "metadata": {},
     "output_type": "execute_result"
    }
   ],
   "source": [
    "out1 = viewer.widget_cross_section(\n",
    "    defaults={\n",
    "        \"max_depth\":1.1*model.casing_l,\n",
    "        \"min_depth\":-10,\n",
    "        \"max_r\":0.15,\n",
    "        \"theta_ind\":3, \n",
    "        \"view\":\"j\"\n",
    "    }\n",
    ")\n",
    "out1"
   ]
  },
  {
   "cell_type": "code",
   "execution_count": 133,
   "metadata": {},
   "outputs": [
    {
     "data": {
      "application/vnd.jupyter.widget-view+json": {
       "model_id": "7e6be9134bd347eba7186c9ea50bd9ca",
       "version_major": 2,
       "version_minor": 0
      },
      "text/plain": [
       "interactive(children=(FloatText(value=1500.0, description='max_r'), FloatText(value=-10.0, description='min_de…"
      ]
     },
     "metadata": {},
     "output_type": "display_data"
    },
    {
     "data": {
      "text/plain": [
       "<function ipywidgets.widgets.interaction._InteractFactory.__call__.<locals>.<lambda>(*args, **kwargs)>"
      ]
     },
     "execution_count": 133,
     "metadata": {},
     "output_type": "execute_result"
    }
   ],
   "source": [
    "viewer.widget_cross_section(\n",
    "    defaults={\n",
    "        \"max_depth\":1.5*model.casing_l,\n",
    "        \"min_depth\":-10,\n",
    "        \"max_r\":1.5*model.casing_l,\n",
    "        \"theta_ind\":3,\n",
    "        \"view\":\"j\"\n",
    "    }, \n",
    "    figwidth=12\n",
    ")"
   ]
  },
  {
   "cell_type": "code",
   "execution_count": 134,
   "metadata": {},
   "outputs": [
    {
     "name": "stdout",
     "output_type": "stream",
     "text": [
      "16.783662990977373\n"
     ]
    },
    {
     "data": {
      "image/png": "[encoded data removed]",
      "text/plain": [
       "<Figure size 576x576 with 2 Axes>"
      ]
     },
     "metadata": {
      "needs_background": "light"
     },
     "output_type": "display_data"
    }
   ],
   "source": [
    "xind = 50\n",
    "thetaind = 3\n",
    "tind = 30\n",
    "src_ind = 0\n",
    "\n",
    "print(mesh.vectorNx[xind+1])\n",
    "\n",
    "j_diff = fields_dict[\"approx_casing\"][survey.source_list[src_ind], 'j', tind] - fields_dict[\"casing\"][survey.source_list[src_ind], 'j', tind]\n",
    "j_discrep = fields_dict[\"discrepancy\"][survey_discrepancy.source_list[src_ind], 'j', tind]\n",
    "\n",
    "j_diff_x = j_diff[:mesh.vnE[0]].reshape(mesh.vnEx, order=\"F\")\n",
    "j_discrep_x = j_discrep[:mesh.vnE[0]].reshape(mesh.vnEx, order=\"F\")\n",
    "\n",
    "fig, ax = plt.subplots(2, 1, figsize=(8, 8))\n",
    "\n",
    "ax[0].semilogy(mesh.vectorNz, j_diff_x[xind, thetaind], \"C0\")\n",
    "ax[0].semilogy(mesh.vectorNz, -j_diff_x[xind, thetaind], \"C0--\")\n",
    "\n",
    "ax[0].semilogy(mesh.vectorNz, j_discrep_x[xind, thetaind], \"C1\")\n",
    "ax[0].semilogy(mesh.vectorNz, -j_discrep_x[xind, thetaind], \"C1--\")\n",
    "\n",
    "ax[1].plot(mesh.vectorNz, j_discrep_x[xind, thetaind]/j_diff_x[xind, thetaind] )\n",
    "\n",
    "ax[0].set_ylim([1e-11, 1e-4])\n",
    "ax[1].set_ylim(0.3*np.r_[-1, 1])\n",
    "\n",
    "for a in ax:\n",
    "    a.grid(which=\"both\", lw=0.5, alpha=0.4, color=\"k\")\n",
    "    a.set_xlim([10, -1200])"
   ]
  },
  {
   "cell_type": "code",
   "execution_count": null,
   "metadata": {},
   "outputs": [],
   "source": []
  }
 ],
 "metadata": {
  "kernelspec": {
   "display_name": "simpeg37",
   "language": "python",
   "name": "simpeg37"
  },
  "language_info": {
   "codemirror_mode": {
    "name": "ipython",
    "version": 3
   },
   "file_extension": ".py",
   "mimetype": "text/x-python",
   "name": "python",
   "nbconvert_exporter": "python",
   "pygments_lexer": "ipython3",
   "version": "3.7.3"
  }
 },
 "nbformat": 4,
 "nbformat_minor": 4
}
