{
 "cells": [
  {
   "cell_type": "code",
   "execution_count": 1,
   "metadata": {},
   "outputs": [],
   "source": [
    "import dask\n",
    "from dask.distributed import Client\n",
    "from dask.distributed import fire_and_forget\n",
    "import dask_jobqueue\n",
    "import discretize\n",
    "from discretize.utils import mkvc\n",
    "# import deepdish as dd\n",
    "import h5py\n",
    "import json\n",
    "import matplotlib.pyplot as plt\n",
    "from matplotlib import cm as cmap\n",
    "from matplotlib.colors import LogNorm, Normalize\n",
    "import numpy as np\n",
    "import os\n",
    "import pandas as pd\n",
    "import scipy.sparse as sp\n",
    "\n",
    "import casingSimulations as casing_sim\n",
    "from SimPEG import maps\n",
    "from SimPEG.electromagnetics import time_domain as tdem\n",
    "from pymatsolver import Pardiso\n",
    "\n",
    "np.random.seed(29)\n",
    "%matplotlib inline"
   ]
  },
  {
   "cell_type": "code",
   "execution_count": 17,
   "metadata": {},
   "outputs": [
    {
     "data": {
      "text/plain": [
       "'0.7.0'"
      ]
     },
     "execution_count": 17,
     "metadata": {},
     "output_type": "execute_result"
    }
   ],
   "source": [
    "dask_jobqueue.__version__"
   ]
  },
  {
   "cell_type": "code",
   "execution_count": 10,
   "metadata": {},
   "outputs": [],
   "source": [
    "directory = \"experiment1\"\n",
    "\n",
    "if not os.path.isdir(directory):\n",
    "    os.makedirs(directory, exist_ok=True)"
   ]
  },
  {
   "cell_type": "code",
   "execution_count": 4,
   "metadata": {},
   "outputs": [],
   "source": [
    "from matplotlib import rcParams\n",
    "rcParams[\"font.size\"] = 16"
   ]
  },
  {
   "cell_type": "code",
   "execution_count": 3,
   "metadata": {},
   "outputs": [
    {
     "name": "stdout",
     "output_type": "stream",
     "text": [
      "1024\n"
     ]
    }
   ],
   "source": [
    "nsamples = 2**10\n",
    "print(nsamples)"
   ]
  },
  {
   "cell_type": "code",
   "execution_count": 6,
   "metadata": {},
   "outputs": [],
   "source": [
    "#### set bounds for the distributions of \n",
    "sigma_background_bounds = np.r_[1e-4, 1]\n",
    "sigma_casing_bounds = np.r_[1e4, 1e7]\n",
    "\n",
    "d_casing_bounds = np.r_[5e-2, 30e-2]\n",
    "t_casing_bounds = np.r_[5e-3, 2e-2]\n",
    "l_casing_bounds = np.r_[500, 4e3]"
   ]
  },
  {
   "cell_type": "code",
   "execution_count": 7,
   "metadata": {},
   "outputs": [],
   "source": [
    "# constants\n",
    "sigma_air = 1e-4\n",
    "sigma_inside = 1  # fluid inside the casing\n",
    "mur_casing = 1  # permeability is the same as free space\n",
    "\n",
    "src_a = np.r_[0., 0., 0.]  # the radius will be updated to connect to the casing\n",
    "src_b = np.r_[1000., 0, 0]\n",
    "\n",
    "csz = 5  # cell-size in the z-direction\n",
    "csx_casing = 5e-3\n",
    "hy = np.ones(12)\n",
    "hy = hy*2*np.pi / hy.sum()"
   ]
  },
  {
   "cell_type": "code",
   "execution_count": 8,
   "metadata": {},
   "outputs": [],
   "source": [
    "def generate_random_variables(bounds, n_samples, sig_digs=None):\n",
    "    min_value = bounds.min()\n",
    "    max_value = bounds.max()\n",
    "    v = np.random.rand(n_samples)\n",
    "    v = min_value + (v*(max_value - min_value))\n",
    "    if sig_digs is not None:\n",
    "        v = np.round((v*10**(sig_digs)))/10**(sig_digs)\n",
    "    return v"
   ]
  },
  {
   "cell_type": "code",
   "execution_count": 9,
   "metadata": {},
   "outputs": [],
   "source": [
    "log10_sigma_background_dist = generate_random_variables(np.log10(sigma_background_bounds), nsamples, 2)\n",
    "log10_sigma_casing_dist = generate_random_variables(np.log10(sigma_casing_bounds), nsamples, 2)\n",
    "\n",
    "d_casing_dist = generate_random_variables(d_casing_bounds/csx_casing, nsamples, 0) * csx_casing \n",
    "t_casing_dist = generate_random_variables(t_casing_bounds/csx_casing, nsamples, 0) * csx_casing \n",
    "l_casing_dist = generate_random_variables(l_casing_bounds/csz, nsamples, 0) * csz # generate by ncells\n",
    "\n",
    "parameters = {\n",
    "    \"log10_sigma_background\":log10_sigma_background_dist,\n",
    "    \"log10_sigma_casing\":log10_sigma_casing_dist,\n",
    "    \"log10_sigma_air\":np.log10(sigma_air),\n",
    "    \"d_casing\":d_casing_dist,\n",
    "    \"t_casing\":t_casing_dist,\n",
    "    \"l_casing\":l_casing_dist,\n",
    "    \"mur_casing\":mur_casing,\n",
    "}"
   ]
  },
  {
   "cell_type": "code",
   "execution_count": 10,
   "metadata": {},
   "outputs": [
    {
     "data": {
      "text/html": [
       "<div>\n",
       "<style scoped>\n",
       "    .dataframe tbody tr th:only-of-type {\n",
       "        vertical-align: middle;\n",
       "    }\n",
       "\n",
       "    .dataframe tbody tr th {\n",
       "        vertical-align: top;\n",
       "    }\n",
       "\n",
       "    .dataframe thead th {\n",
       "        text-align: right;\n",
       "    }\n",
       "</style>\n",
       "<table border=\"1\" class=\"dataframe\">\n",
       "  <thead>\n",
       "    <tr style=\"text-align: right;\">\n",
       "      <th></th>\n",
       "      <th>log10_sigma_background</th>\n",
       "      <th>log10_sigma_casing</th>\n",
       "      <th>log10_sigma_air</th>\n",
       "      <th>d_casing</th>\n",
       "      <th>t_casing</th>\n",
       "      <th>l_casing</th>\n",
       "      <th>mur_casing</th>\n",
       "    </tr>\n",
       "  </thead>\n",
       "  <tbody>\n",
       "    <tr>\n",
       "      <td>0</td>\n",
       "      <td>-0.54</td>\n",
       "      <td>6.92</td>\n",
       "      <td>-4.0</td>\n",
       "      <td>0.120</td>\n",
       "      <td>0.010</td>\n",
       "      <td>2180.0</td>\n",
       "      <td>1</td>\n",
       "    </tr>\n",
       "    <tr>\n",
       "      <td>1</td>\n",
       "      <td>-2.86</td>\n",
       "      <td>6.86</td>\n",
       "      <td>-4.0</td>\n",
       "      <td>0.210</td>\n",
       "      <td>0.015</td>\n",
       "      <td>1915.0</td>\n",
       "      <td>1</td>\n",
       "    </tr>\n",
       "    <tr>\n",
       "      <td>2</td>\n",
       "      <td>-3.71</td>\n",
       "      <td>6.53</td>\n",
       "      <td>-4.0</td>\n",
       "      <td>0.290</td>\n",
       "      <td>0.015</td>\n",
       "      <td>3825.0</td>\n",
       "      <td>1</td>\n",
       "    </tr>\n",
       "    <tr>\n",
       "      <td>3</td>\n",
       "      <td>-0.95</td>\n",
       "      <td>6.32</td>\n",
       "      <td>-4.0</td>\n",
       "      <td>0.100</td>\n",
       "      <td>0.005</td>\n",
       "      <td>3175.0</td>\n",
       "      <td>1</td>\n",
       "    </tr>\n",
       "    <tr>\n",
       "      <td>4</td>\n",
       "      <td>-2.19</td>\n",
       "      <td>4.09</td>\n",
       "      <td>-4.0</td>\n",
       "      <td>0.240</td>\n",
       "      <td>0.010</td>\n",
       "      <td>2035.0</td>\n",
       "      <td>1</td>\n",
       "    </tr>\n",
       "    <tr>\n",
       "      <td>...</td>\n",
       "      <td>...</td>\n",
       "      <td>...</td>\n",
       "      <td>...</td>\n",
       "      <td>...</td>\n",
       "      <td>...</td>\n",
       "      <td>...</td>\n",
       "      <td>...</td>\n",
       "    </tr>\n",
       "    <tr>\n",
       "      <td>1019</td>\n",
       "      <td>-1.77</td>\n",
       "      <td>5.50</td>\n",
       "      <td>-4.0</td>\n",
       "      <td>0.215</td>\n",
       "      <td>0.015</td>\n",
       "      <td>3680.0</td>\n",
       "      <td>1</td>\n",
       "    </tr>\n",
       "    <tr>\n",
       "      <td>1020</td>\n",
       "      <td>-3.37</td>\n",
       "      <td>5.27</td>\n",
       "      <td>-4.0</td>\n",
       "      <td>0.205</td>\n",
       "      <td>0.020</td>\n",
       "      <td>1840.0</td>\n",
       "      <td>1</td>\n",
       "    </tr>\n",
       "    <tr>\n",
       "      <td>1021</td>\n",
       "      <td>-1.76</td>\n",
       "      <td>6.66</td>\n",
       "      <td>-4.0</td>\n",
       "      <td>0.080</td>\n",
       "      <td>0.010</td>\n",
       "      <td>765.0</td>\n",
       "      <td>1</td>\n",
       "    </tr>\n",
       "    <tr>\n",
       "      <td>1022</td>\n",
       "      <td>-2.66</td>\n",
       "      <td>4.73</td>\n",
       "      <td>-4.0</td>\n",
       "      <td>0.095</td>\n",
       "      <td>0.010</td>\n",
       "      <td>1785.0</td>\n",
       "      <td>1</td>\n",
       "    </tr>\n",
       "    <tr>\n",
       "      <td>1023</td>\n",
       "      <td>-1.78</td>\n",
       "      <td>5.50</td>\n",
       "      <td>-4.0</td>\n",
       "      <td>0.170</td>\n",
       "      <td>0.015</td>\n",
       "      <td>1765.0</td>\n",
       "      <td>1</td>\n",
       "    </tr>\n",
       "  </tbody>\n",
       "</table>\n",
       "<p>1024 rows × 7 columns</p>\n",
       "</div>"
      ],
      "text/plain": [
       "      log10_sigma_background  log10_sigma_casing  log10_sigma_air  d_casing  \\\n",
       "0                      -0.54                6.92             -4.0     0.120   \n",
       "1                      -2.86                6.86             -4.0     0.210   \n",
       "2                      -3.71                6.53             -4.0     0.290   \n",
       "3                      -0.95                6.32             -4.0     0.100   \n",
       "4                      -2.19                4.09             -4.0     0.240   \n",
       "...                      ...                 ...              ...       ...   \n",
       "1019                   -1.77                5.50             -4.0     0.215   \n",
       "1020                   -3.37                5.27             -4.0     0.205   \n",
       "1021                   -1.76                6.66             -4.0     0.080   \n",
       "1022                   -2.66                4.73             -4.0     0.095   \n",
       "1023                   -1.78                5.50             -4.0     0.170   \n",
       "\n",
       "      t_casing  l_casing  mur_casing  \n",
       "0        0.010    2180.0           1  \n",
       "1        0.015    1915.0           1  \n",
       "2        0.015    3825.0           1  \n",
       "3        0.005    3175.0           1  \n",
       "4        0.010    2035.0           1  \n",
       "...        ...       ...         ...  \n",
       "1019     0.015    3680.0           1  \n",
       "1020     0.020    1840.0           1  \n",
       "1021     0.010     765.0           1  \n",
       "1022     0.010    1785.0           1  \n",
       "1023     0.015    1765.0           1  \n",
       "\n",
       "[1024 rows x 7 columns]"
      ]
     },
     "execution_count": 10,
     "metadata": {},
     "output_type": "execute_result"
    }
   ],
   "source": [
    "df = pd.DataFrame(parameters)\n",
    "df"
   ]
  },
  {
   "cell_type": "code",
   "execution_count": 11,
   "metadata": {},
   "outputs": [],
   "source": [
    "df.to_hdf(f\"{directory}/trial_data.h5\", 'data') #for key in df.keys()"
   ]
  },
  {
   "cell_type": "code",
   "execution_count": 12,
   "metadata": {},
   "outputs": [
    {
     "data": {
      "image/png": "[encoded data removed]",
      "text/plain": [
       "<Figure size 1440x288 with 7 Axes>"
      ]
     },
     "metadata": {
      "needs_background": "light"
     },
     "output_type": "display_data"
    }
   ],
   "source": [
    "fig, ax = plt.subplots(1,len(parameters.keys()), figsize=(20, 4))\n",
    "\n",
    "for i, key in enumerate(parameters.keys()):\n",
    "    ax[i].hist(df[key])\n",
    "    ax[i].set_title(f\"{key}\".replace(\"_\", \" \"))\n",
    "\n",
    "plt.tight_layout()"
   ]
  },
  {
   "cell_type": "code",
   "execution_count": 4,
   "metadata": {},
   "outputs": [],
   "source": [
    "def generate_models(\n",
    "    i, directory, src_a=np.r_[0., 0., 0.], src_b=np.r_[1000., 0., 0.],\n",
    "):\n",
    "    import casingSimulations as casing_sim\n",
    "    import os\n",
    "    import pandas as pd\n",
    "    \n",
    "    trial_directory = f\"{directory}/trial_{i}\"\n",
    "    \n",
    "    if (\n",
    "        os.path.exists(f\"trial_directory/casing.json\") and \n",
    "        os.path.exists(f\"trial_directory/approx_casing.json\")\n",
    "    ):\n",
    "        with open(f\"{trial_directory}/casing.json\") as f: \n",
    "            params = json.load(f)\n",
    "        model = casing_sim.model.CasingInHalfspace.deserialize(params, trusted=True)\n",
    "        \n",
    "        with open(f\"{trial_directory}/approx_casing.json\") as f: \n",
    "            params = json.load(f)\n",
    "        model_approx_casing = casing_sim.model.CasingInHalfspace.deserialize(params, trusted=True)\n",
    "        \n",
    "        return model, model_approx_casing\n",
    "    \n",
    "    df = pd.read_hdf(f\"{directory}/trial_data.h5\", \"data\", start=i, stop=i+1).iloc[0]\n",
    "    \n",
    "    # create the trial directory if it doesn't exist\n",
    "    if not os.path.isdir(trial_directory):\n",
    "        os.makedirs(trial_directory, exist_ok=True)\n",
    "\n",
    "    # create the model \n",
    "    model = casing_sim.model.CasingInHalfspace(\n",
    "        directory=trial_directory,\n",
    "        casing_d = df[\"d_casing\"] - df[\"t_casing\"],  # I use diameter to the center of the casing wall\n",
    "        casing_l = df[\"l_casing\"],\n",
    "        casing_t = df[\"t_casing\"], \n",
    "        mur_casing = df[\"mur_casing\"],\n",
    "        sigma_air = 10**df[\"log10_sigma_air\"],\n",
    "        sigma_casing = 10**df[\"log10_sigma_casing\"],\n",
    "        sigma_back = 10**df[\"log10_sigma_background\"],\n",
    "        sigma_inside = 10**df[\"log10_sigma_background\"],\n",
    "        src_a = src_a,\n",
    "        src_b = src_b,\n",
    "#         timeSteps = time_steps\n",
    "    )\n",
    "    model.filename = \"casing.json\"\n",
    "    \n",
    "    sigmaA = model.sigma_casing * (model.casing_b**2 - model.casing_a**2)/model.casing_b**2\n",
    "    \n",
    "    model_approx_casing = model.copy()\n",
    "    model_approx_casing.sigma_inside = sigmaA\n",
    "    model_approx_casing.sigma_casing = sigmaA\n",
    "    model_approx_casing.filename = \"approx_casing.json\"\n",
    "    \n",
    "    model.save()\n",
    "    model_approx_casing.save()\n",
    "\n",
    "    return model, model_approx_casing"
   ]
  },
  {
   "cell_type": "code",
   "execution_count": 5,
   "metadata": {},
   "outputs": [],
   "source": [
    "def run_simulation(\n",
    "    model, trial_directory, name, csx1=5e-3, \n",
    "    csz=5, nhy=12, csx2=100, padding_extent=1e4, # mesh parameters\n",
    "    pfx2=1.5, pfz=1.5,\n",
    "    time_steps=[(1e-6, 20), (1e-5, 30), (3e-5, 30), (1e-4, 40), (3e-4, 30), (1e-3, 20), (1e-2, 15)], \n",
    "):\n",
    "    import casingSimulations as casing_sim\n",
    "    import os\n",
    "    from SimPEG.electromagnetics import time_domain as tdem\n",
    "    \n",
    "    filename = f\"{name}_fields.npy\"\n",
    "    tosave = os.path.sep.join([trial_directory, filename]) \n",
    "    \n",
    "    if os.path.exists(tosave):\n",
    "        return np.load(tosave)\n",
    "    \n",
    "    # generate the mesh\n",
    "    hy = np.ones(nhy)\n",
    "    hy = hy*2*np.pi / hy.sum()\n",
    "\n",
    "    # esure padding goes sufficiently far in the x direction\n",
    "    npad_x = 0\n",
    "    npad_z = 0\n",
    "    pfx2 = 1.5\n",
    "    pfz = 1.5\n",
    "    padding_x = model.casing_l\n",
    "    padding_z = model.casing_l\n",
    "\n",
    "    while padding_x < padding_extent:\n",
    "        npad_x += 1\n",
    "        padding_x = model.casing_l + np.sum((csx2 * (np.ones(npad_x)*pfx2)**np.arange(1, npad_x+1)))\n",
    "\n",
    "    while padding_z < padding_extent:\n",
    "        npad_z += 1\n",
    "        padding_z = model.casing_l + np.sum((csz * (np.ones(npad_z)*pfz)**np.arange(1, npad_z+1)))\n",
    "\n",
    "    meshGen = casing_sim.mesh.CasingMeshGenerator(\n",
    "        modelParameters = model, \n",
    "        csx1 = csx1,\n",
    "        csx2 = csx2,\n",
    "        domain_x = model.src_b[1],  # use 2.5m cells out to 300m. \n",
    "        hy = hy,\n",
    "        npadx = npad_x, # 6\n",
    "        npadz = npad_z,  #14\n",
    "        csz = csz,\n",
    "        _ncx1 = np.ceil(model.casing_b / csx1),\n",
    "    )\n",
    "    mesh = meshGen.mesh\n",
    "\n",
    "    # generate the survey\n",
    "    src_theta = np.pi/2. + mesh.hy[0]/2.\n",
    "    model.src_a[1] = src_theta\n",
    "    model.src_b[1] = src_theta\n",
    "\n",
    "    src_top = casing_sim.sources.TopCasingSrc(\n",
    "        modelParameters=model, \n",
    "        meshGenerator=meshGen,\n",
    "        src_a=model.src_a,\n",
    "        src_b=model.src_b,\n",
    "        physics=\"TDEM\",\n",
    "        filename=\"top_casing\",\n",
    "    )\n",
    "\n",
    "    source_list = src_top.srcList\n",
    "    survey = tdem.Survey(source_list)\n",
    "\n",
    "    # generate the simulation\n",
    "    sim = tdem.Problem3D_j(\n",
    "        mesh=mesh, survey=survey, solver=Pardiso, time_steps=time_steps\n",
    "    )\n",
    "\n",
    "    filename = f\"{trial_directory}/simulation_{name}.json\"\n",
    "    with open(filename, 'w') as outfile:\n",
    "        json.dump(sim.serialize(), outfile)\n",
    "\n",
    "    sim.sigmaMap = maps.IdentityMap(sim.mesh)\n",
    "    m = model.sigma(sim.mesh)\n",
    "\n",
    "    fields = sim.fields(m)\n",
    "    f = fields[:, '{}Solution'.format(sim._fieldType), :]\n",
    "\n",
    "    np.save(tosave, f)\n",
    "\n",
    "    return f\n",
    "    "
   ]
  },
  {
   "cell_type": "code",
   "execution_count": 6,
   "metadata": {},
   "outputs": [],
   "source": [
    "def compute_casing_currents(\n",
    "    currents, trial_directory, \n",
    "    ndata=32, ntimes=128,\n",
    "    xmin=5, xmax=None,\n",
    "    log10tmin=-6, log10tmax=-2, \n",
    "    nz_currents=128,\n",
    "):\n",
    "    import numpy as np\n",
    "    import os\n",
    "    from discretize.utils import mkvc\n",
    "    import discretize\n",
    "    from SimPEG.electromagnetics import time_domain as tdem \n",
    "    import casingSimulations as casing_sim\n",
    "    import json\n",
    "    import scipy.sparse as sp\n",
    "    \n",
    "    filename_currents = f\"{trial_directory}/casing_currents_data.npy\"\n",
    "    \n",
    "    if os.path.exists(filename_currents):\n",
    "        return True\n",
    "    \n",
    "    with open(f\"{trial_directory}/casing.json\") as f: \n",
    "        params = json.load(f)\n",
    "    model = casing_sim.model.CasingInHalfspace.deserialize(params, trusted=True)\n",
    "    \n",
    "    with open(f\"{trial_directory}/simulation_casing.json\") as f:\n",
    "        simulation_params = json.load(f)\n",
    "    \n",
    "    sim = tdem.Problem3D_j.deserialize(simulation_params, trusted=True)\n",
    "\n",
    "    if xmax is None:\n",
    "        xmax = model.casing_l\n",
    "    xsample = np.linspace(xmin, xmax, ndata)\n",
    "    zsample = np.linspace(-model.casing_l, 0, ndata)\n",
    "    xz_grid = discretize.utils.ndgrid(xsample, np.r_[0], zsample)\n",
    "    tsample = np.logspace(log10tmin, log10tmax, ntimes)\n",
    "    \n",
    "    np.save(f\"{trial_directory}/x.npy\", xsample)\n",
    "    np.save(f\"{trial_directory}/z.npy\", zsample)\n",
    "\n",
    "    mesh = sim.mesh\n",
    "        \n",
    "    # compute jd\n",
    "    jd = currents[\"casing\"] - currents[\"approx_casing\"]\n",
    "    \n",
    "    jdx = mkvc(jd[:mesh.vnF[0], :]).reshape(tuple(mesh.vnFx)+(sim.nT+1,), order=\"F\")\n",
    "    jdz = mkvc(jd[np.sum(mesh.vnF[:2]):, :]).reshape(tuple(mesh.vnFz)+(sim.nT+1,), order=\"F\")\n",
    "\n",
    "    # take mean in theta-dimension jdx.mean(1)\n",
    "    jdx = jdx.mean(1)\n",
    "    jdz = jdz.mean(1)\n",
    "\n",
    "    jdxz = np.hstack([mkvc(jdx), mkvc(jdz)])\n",
    "    \n",
    "    mesh2d = discretize.CylMesh([sim.mesh.hx, 1, mesh.hz], x0=mesh.x0)\n",
    "    Px = mesh2d.getInterpolationMat(xz_grid, 'Fx')\n",
    "    Pz = mesh2d.getInterpolationMat(xz_grid, 'Fz')\n",
    "    Pt = sim.time_mesh.getInterpolationMat(tsample, 'N')\n",
    "\n",
    "    Pxt = sp.kron(Pt, Px)\n",
    "    Pzt = sp.kron(Pt, Pz)\n",
    "    P = sp.vstack([Pxt, Pzt])\n",
    "\n",
    "    jdata = P * jdxz\n",
    "    np.save(f\"{trial_directory}/j_difference.npy\", jdata)\n",
    "    \n",
    "    # compute current inside casing\n",
    "    ind_casing = model.ind_casing(mesh) + model.ind_inside(mesh)\n",
    "    ind_casing_Fz = (mesh.aveFz2CC.T * ind_casing).astype(bool)\n",
    "\n",
    "    I = discretize.utils.sdiag(mesh.area) * currents[\"approx_casing\"]\n",
    "    Iz = I[mesh.vnF[:2].sum():, :]\n",
    "    Iz[~ind_casing_Fz, :] = 0\n",
    "    Iz = Iz.reshape(tuple(mesh.vnFz) + (sim.nT+1,), order=\"F\")\n",
    "    Iz_casing = (Iz.sum(0)).sum(0)\n",
    "    \n",
    "    np.save(f\"{trial_directory}/I_casing.npy\", Iz_casing)\n",
    "    \n",
    "    nz_currents = 128\n",
    "    z_sample = np.linspace(-model.casing_l, 0, nz_currents)\n",
    "    Pz_casing_currents = discretize.TensorMesh([mesh.hz], [mesh.x0[2]]).getInterpolationMat(\n",
    "        z_sample, 'N'\n",
    "    )\n",
    "    \n",
    "    P_casing_currents = sp.kron(Pt, Pz_casing_currents)\n",
    "    I_casing_data = -1*P_casing_currents*discretize.utils.mkvc(Iz_casing)\n",
    "    \n",
    "    np.save(filename_currents, I_casing_data)\n",
    "    np.save(f\"{trial_directory}/z_currents.npy\", z_sample)\n",
    "    return True"
   ]
  },
  {
   "cell_type": "code",
   "execution_count": 7,
   "metadata": {},
   "outputs": [],
   "source": [
    "def run_trial(i):\n",
    "    models = dask.delayed(generate_models)( \n",
    "        i, directory, src_a=np.r_[0., 0., 0.], src_b=np.r_[1000., 0., 0.],\n",
    "    )\n",
    "    \n",
    "    trial_directory = f\"{directory}/trial_{i}\"\n",
    "    time_steps = [(1e-6, 20), (1e-5, 30), (3e-5, 30), (1e-4, 40), (3e-4, 30), (1e-3, 20), (1e-2, 20)]\n",
    "    \n",
    "    fields = {}\n",
    "    for j, name in enumerate([\"casing\", \"approx_casing\"]): \n",
    "        fields[name] = dask.delayed(run_simulation)(\n",
    "            models[j], trial_directory, name, time_steps=time_steps\n",
    "        )\n",
    "        \n",
    "    currents = dask.delayed(compute_casing_currents)(\n",
    "        fields, trial_directory, \n",
    "        ndata=32, ntimes=128,\n",
    "        xmin=5,\n",
    "        log10tmin=-6, log10tmax=-2\n",
    "    )\n",
    "    del fields, models, trial_directory, time_steps\n",
    "    return currents"
   ]
  },
  {
   "cell_type": "code",
   "execution_count": 8,
   "metadata": {},
   "outputs": [],
   "source": [
    "import os\n",
    "from dask import bag"
   ]
  },
  {
   "cell_type": "code",
   "execution_count": 13,
   "metadata": {},
   "outputs": [
    {
     "name": "stdout",
     "output_type": "stream",
     "text": [
      "489\n",
      "489\n"
     ]
    }
   ],
   "source": [
    "# output = []\n",
    "output = []\n",
    "\n",
    "for i in range(nsamples):\n",
    "    if not os.path.exists(f\"{directory}/trial_{i}/casing_currents_data.npy\"):\n",
    "        out = run_trial(i)\n",
    "        output.append(out)\n",
    "        \n",
    "print(len(output))\n",
    "\n",
    "out2 = [dask.delayed(print)(o) for o in output]\n",
    "# while(len(out2) > 64):\n",
    "#     out2 = [dask.delayed(np.all)(out2[j:j+2]) for j in range(len(out2))[::2]]\n",
    "    \n",
    "# inds2 = bag.from_sequence(inds)\n",
    "# out2 = bag.from_delayed(output)\n",
    "print(len(out2))"
   ]
  },
  {
   "cell_type": "code",
   "execution_count": 18,
   "metadata": {},
   "outputs": [
    {
     "name": "stdout",
     "output_type": "stream",
     "text": [
      "#!/usr/bin/env bash\n",
      "\n",
      "#SBATCH -J dask-worker\n",
      "#SBATCH -A m3384\n",
      "#SBATCH -n 1\n",
      "#SBATCH --cpus-per-task=4\n",
      "#SBATCH --mem=112G\n",
      "#SBATCH -t 04:00:00\n",
      "#SBATCH --constraint=haswell\n",
      "#SBATCH --qos=jupyter\n",
      "\n",
      "JOB_ID=${SLURM_JOB_ID%;*}\n",
      "\n",
      "/global/homes/l/lheagy/.conda/envs/simpeg37/bin/python -m distributed.cli.dask_worker tcp://128.55.224.49:40039 --nthreads 1 --nprocs 4 --memory-limit 30.00GB --name name --nanny --death-timeout 360\n",
      "\n"
     ]
    },
    {
     "name": "stderr",
     "output_type": "stream",
     "text": [
      "/global/homes/l/lheagy/.conda/envs/simpeg37/lib/python3.7/site-packages/distributed/dashboard/core.py:72: UserWarning: \n",
      "Port 8787 is already in use. \n",
      "Perhaps you already have a cluster running?\n",
      "Hosting the diagnostics dashboard on a random port instead.\n",
      "  warnings.warn(\"\\n\" + msg)\n"
     ]
    }
   ],
   "source": [
    "cores = 4\n",
    "cluster = dask_jobqueue.SLURMCluster(\n",
    "    cores=cores,\n",
    "    processes=cores, \n",
    "    memory=f\"120GB\", \n",
    "    project=\"m3384\",\n",
    "    job_extra = ['--constraint=haswell', '--qos=jupyter'], \n",
    "    death_timeout=360,\n",
    "    walltime=\"04:00:00\",\n",
    "#     n_workers=512,\n",
    "#     job_cpu=nsamples, \n",
    ")\n",
    "\n",
    "print(cluster.job_script())"
   ]
  },
  {
   "cell_type": "code",
   "execution_count": 19,
   "metadata": {},
   "outputs": [
    {
     "data": {
      "text/html": [
       "<table style=\"border: 2px solid white;\">\n",
       "<tr>\n",
       "<td style=\"vertical-align: top; border: 0px solid white\">\n",
       "<h3 style=\"text-align: left;\">Client</h3>\n",
       "<ul style=\"text-align: left; list-style: none; margin: 0; padding: 0;\">\n",
       "  <li><b>Scheduler: </b>tcp://128.55.224.49:40039</li>\n",
       "  <li><b>Dashboard: </b><a href='http://128.55.224.49:45407/status' target='_blank'>http://128.55.224.49:45407/status</a>\n",
       "</ul>\n",
       "</td>\n",
       "<td style=\"vertical-align: top; border: 0px solid white\">\n",
       "<h3 style=\"text-align: left;\">Cluster</h3>\n",
       "<ul style=\"text-align: left; list-style:none; margin: 0; padding: 0;\">\n",
       "  <li><b>Workers: </b>0</li>\n",
       "  <li><b>Cores: </b>0</li>\n",
       "  <li><b>Memory: </b>0 B</li>\n",
       "</ul>\n",
       "</td>\n",
       "</tr>\n",
       "</table>"
      ],
      "text/plain": [
       "<Client: 'tcp://128.55.224.49:40039' processes=0 threads=0, memory=0 B>"
      ]
     },
     "execution_count": 19,
     "metadata": {},
     "output_type": "execute_result"
    }
   ],
   "source": [
    "client = Client(cluster)\n",
    "client"
   ]
  },
  {
   "cell_type": "code",
   "execution_count": 20,
   "metadata": {},
   "outputs": [
    {
     "data": {
      "text/plain": [
       "4"
      ]
     },
     "execution_count": 20,
     "metadata": {},
     "output_type": "execute_result"
    }
   ],
   "source": [
    "cluster_size = 4 #16  # int(np.floor(nsamples * 2 / cores))\n",
    "cluster_size"
   ]
  },
  {
   "cell_type": "code",
   "execution_count": 21,
   "metadata": {},
   "outputs": [],
   "source": [
    "cluster.scale(jobs=cluster_size) #cluster_size)"
   ]
  },
  {
   "cell_type": "code",
   "execution_count": 22,
   "metadata": {},
   "outputs": [],
   "source": [
    "# client = Client(threads_per_worker=1, n_workers=4)\n",
    "# client"
   ]
  },
  {
   "cell_type": "code",
   "execution_count": null,
   "metadata": {},
   "outputs": [],
   "source": [
    "# for i in range(int(np.ceil(len(output)/15))):\n",
    "#     print(f\"i {np.all(dask.compute(output[i:i+15]))}\")\n",
    "# out3 = dask.delayed(np.all, out2)\n",
    "# for o in out2:\n",
    "#     print(dask.compute(o))\n",
    "#     cluster.scale(jobs=2)\n",
    "# cluster.scale(0)\n",
    "n = 50\n",
    "for i in range(int(np.ceil(len(out2)/n))):\n",
    "    dask.compute(out2[i*n:min(len(out2), (1+i)*n)])"
   ]
  },
  {
   "cell_type": "code",
   "execution_count": null,
   "metadata": {},
   "outputs": [],
   "source": [
    "trial_number = 0\n",
    "j_casing = np.load(f\"./{directory}/trial_{trial_number}/casing_fields.npy\")\n",
    "j_approx = np.load(f\"./{directory}/trial_{trial_number}/approx_casing_fields.npy\")"
   ]
  },
  {
   "cell_type": "code",
   "execution_count": 26,
   "metadata": {},
   "outputs": [],
   "source": [
    "jd = j_casing-j_approx"
   ]
  },
  {
   "cell_type": "code",
   "execution_count": 27,
   "metadata": {},
   "outputs": [],
   "source": [
    "with open(f\"./experiment2/trial_0/simulation_casing.json\") as f:\n",
    "    simulation_params = json.load(f)\n",
    "\n",
    "sim = tdem.Problem3D_j.deserialize(simulation_params, trusted=True)\n",
    "mesh = sim.mesh"
   ]
  },
  {
   "cell_type": "code",
   "execution_count": 28,
   "metadata": {},
   "outputs": [],
   "source": [
    "def theta_index_mirror(theta_ind):\n",
    "    return (\n",
    "        theta_ind+int(mesh.vnC[1]/2)\n",
    "        if theta_ind < int(mesh.vnC[1]/2)\n",
    "        else theta_ind-int(mesh.vnC[1]/2)\n",
    "    )"
   ]
  },
  {
   "cell_type": "code",
   "execution_count": 34,
   "metadata": {},
   "outputs": [
    {
     "name": "stdout",
     "output_type": "stream",
     "text": [
      "0.0\n"
     ]
    },
    {
     "data": {
      "image/png": "[encoded data removed]",
      "text/plain": [
       "<Figure size 720x288 with 2 Axes>"
      ]
     },
     "metadata": {
      "needs_background": "light"
     },
     "output_type": "display_data"
    }
   ],
   "source": [
    "time_ind = 0\n",
    "theta_ind = 3\n",
    "\n",
    "plotme = j_casing[:, time_ind]\n",
    "xlim = 0.5*np.r_[-1, 1]\n",
    "zlim = np.r_[-1250, 10]\n",
    "clim = np.r_[1e-10, 1e-5]\n",
    "\n",
    "print(sim.timeMesh.vectorNx[time_ind]*1e3)\n",
    "\n",
    "fig, ax = plt.subplots(1, 1, figsize=(10, 4))\n",
    "\n",
    "theta_ind_mirror = theta_index_mirror(theta_ind)\n",
    "plt_vec = casing_sim.utils.face3DthetaSlice(mesh, plotme, theta_ind=theta_ind)\n",
    "mirror_data = casing_sim.utils.face3DthetaSlice(mesh, plotme, theta_ind=theta_ind_mirror)\n",
    "plot_type = \"vec\"\n",
    "\n",
    "mesh2D = discretize.CylMesh([mesh.hx, 1, mesh.hz], x0=mesh.x0)\n",
    "\n",
    "out = casing_sim.view.plotFace2D(\n",
    "    mesh2D, plt_vec, ax=ax, range_x=xlim, range_y=zlim,\n",
    "    sample_grid=(\n",
    "        np.r_[np.diff(xlim)/100., np.diff(zlim)/100.]\n",
    "#             if xlim is not None and zlim is not None else None\n",
    "    ),\n",
    "    log_scale=True,\n",
    "    clim=clim,\n",
    "    stream_threshold=clim[0] if clim is not None else None,\n",
    "    mirror=True,\n",
    "    mirror_data=mirror_data,\n",
    "    stream_opts = {\"color\": \"k\", \"arrowsize\": 1.5, \"density\": 0.8}\n",
    ")\n",
    "\n",
    "# ax.set_aspect(1)"
   ]
  },
  {
   "cell_type": "code",
   "execution_count": 30,
   "metadata": {},
   "outputs": [
    {
     "ename": "NameError",
     "evalue": "name 'Iz_casing' is not defined",
     "output_type": "error",
     "traceback": [
      "\u001b[0;31m---------------------------------------------------------------------------\u001b[0m",
      "\u001b[0;31mNameError\u001b[0m                                 Traceback (most recent call last)",
      "\u001b[0;32m<ipython-input-30-bdb0c2f5b142>\u001b[0m in \u001b[0;36m<module>\u001b[0;34m\u001b[0m\n\u001b[1;32m      7\u001b[0m \u001b[0;34m\u001b[0m\u001b[0m\n\u001b[1;32m      8\u001b[0m \u001b[0;32mfor\u001b[0m \u001b[0mi\u001b[0m \u001b[0;32min\u001b[0m \u001b[0mrange\u001b[0m\u001b[0;34m(\u001b[0m\u001b[0msim\u001b[0m\u001b[0;34m.\u001b[0m\u001b[0mnT\u001b[0m\u001b[0;34m)\u001b[0m\u001b[0;34m:\u001b[0m\u001b[0;34m\u001b[0m\u001b[0;34m\u001b[0m\u001b[0m\n\u001b[0;32m----> 9\u001b[0;31m     \u001b[0max\u001b[0m\u001b[0;34m[\u001b[0m\u001b[0;36m0\u001b[0m\u001b[0;34m]\u001b[0m\u001b[0;34m.\u001b[0m\u001b[0mplot\u001b[0m\u001b[0;34m(\u001b[0m\u001b[0mmesh\u001b[0m\u001b[0;34m.\u001b[0m\u001b[0mvectorNz\u001b[0m\u001b[0;34m,\u001b[0m \u001b[0;34m-\u001b[0m\u001b[0mIz_casing\u001b[0m\u001b[0;34m[\u001b[0m\u001b[0;34m:\u001b[0m\u001b[0;34m,\u001b[0m \u001b[0mi\u001b[0m\u001b[0;34m]\u001b[0m\u001b[0;34m,\u001b[0m \u001b[0mcolor\u001b[0m\u001b[0;34m=\u001b[0m\u001b[0mscalar_map\u001b[0m\u001b[0;34m.\u001b[0m\u001b[0mto_rgba\u001b[0m\u001b[0;34m(\u001b[0m\u001b[0msim\u001b[0m\u001b[0;34m.\u001b[0m\u001b[0mtimeMesh\u001b[0m\u001b[0;34m.\u001b[0m\u001b[0mvectorNx\u001b[0m\u001b[0;34m[\u001b[0m\u001b[0mi\u001b[0m\u001b[0;34m]\u001b[0m\u001b[0;34m+\u001b[0m\u001b[0;36m1e-7\u001b[0m\u001b[0;34m)\u001b[0m\u001b[0;34m)\u001b[0m\u001b[0;34m\u001b[0m\u001b[0;34m\u001b[0m\u001b[0m\n\u001b[0m\u001b[1;32m     10\u001b[0m     \u001b[0max\u001b[0m\u001b[0;34m[\u001b[0m\u001b[0;36m1\u001b[0m\u001b[0;34m]\u001b[0m\u001b[0;34m.\u001b[0m\u001b[0msemilogy\u001b[0m\u001b[0;34m(\u001b[0m\u001b[0mmesh\u001b[0m\u001b[0;34m.\u001b[0m\u001b[0mvectorNz\u001b[0m\u001b[0;34m,\u001b[0m \u001b[0mnp\u001b[0m\u001b[0;34m.\u001b[0m\u001b[0mabs\u001b[0m\u001b[0;34m(\u001b[0m\u001b[0;34m-\u001b[0m\u001b[0mIz_casing\u001b[0m\u001b[0;34m[\u001b[0m\u001b[0;34m:\u001b[0m\u001b[0;34m,\u001b[0m \u001b[0mi\u001b[0m\u001b[0;34m]\u001b[0m\u001b[0;34m)\u001b[0m\u001b[0;34m,\u001b[0m \u001b[0mcolor\u001b[0m\u001b[0;34m=\u001b[0m\u001b[0mscalar_map\u001b[0m\u001b[0;34m.\u001b[0m\u001b[0mto_rgba\u001b[0m\u001b[0;34m(\u001b[0m\u001b[0msim\u001b[0m\u001b[0;34m.\u001b[0m\u001b[0mtimeMesh\u001b[0m\u001b[0;34m.\u001b[0m\u001b[0mvectorNx\u001b[0m\u001b[0;34m[\u001b[0m\u001b[0mi\u001b[0m\u001b[0;34m]\u001b[0m\u001b[0;34m+\u001b[0m\u001b[0;36m1e-7\u001b[0m\u001b[0;34m)\u001b[0m\u001b[0;34m)\u001b[0m\u001b[0;34m\u001b[0m\u001b[0;34m\u001b[0m\u001b[0m\n\u001b[1;32m     11\u001b[0m \u001b[0;34m\u001b[0m\u001b[0m\n",
      "\u001b[0;31mNameError\u001b[0m: name 'Iz_casing' is not defined"
     ]
    },
    {
     "data": {
      "image/png": "[encoded data removed]",
      "text/plain": [
       "<Figure size 864x432 with 2 Axes>"
      ]
     },
     "metadata": {
      "needs_background": "light"
     },
     "output_type": "display_data"
    }
   ],
   "source": [
    "fig, ax = plt.subplots(1, 2, figsize=(12, 6))\n",
    "\n",
    "cm = plt.get_cmap('viridis')\n",
    "c_norm = LogNorm(vmin=sim.timeMesh.vectorCCx[0], vmax=sim.timeMesh.vectorNx[-1])\n",
    "scalar_map = cmap.ScalarMappable(norm=c_norm, cmap=cm)\n",
    "scalar_map.set_array([])\n",
    "\n",
    "for i in range(sim.nT):\n",
    "    ax[0].plot(mesh.vectorNz, -Iz_casing[:, i], color=scalar_map.to_rgba(sim.timeMesh.vectorNx[i]+1e-7))\n",
    "    ax[1].semilogy(mesh.vectorNz, np.abs(-Iz_casing[:, i]), color=scalar_map.to_rgba(sim.timeMesh.vectorNx[i]+1e-7))\n",
    "\n",
    "for a in ax:\n",
    "    a.set_xlim([5., -1.25*model.casing_l])\n",
    "    a.grid(which=\"both\", color=\"k\", lw=0.4, alpha=0.4)\n",
    "\n",
    "ax[1].set_ylim([1e-8, 1])\n",
    "\n",
    "cb = plt.colorbar(scalar_map)\n",
    "cb.set_label(\"time (s)\")\n",
    "plt.tight_layout()"
   ]
  },
  {
   "cell_type": "code",
   "execution_count": null,
   "metadata": {},
   "outputs": [],
   "source": [
    "fig, ax = plt.subplots(1, 2, figsize=(12, 6))\n",
    "\n",
    "cm = plt.get_cmap('viridis')\n",
    "c_norm = Normalize(vmin=0, vmax=model.casing_l)\n",
    "scalar_map = cmap.ScalarMappable(norm=c_norm, cmap=cm)\n",
    "scalar_map.set_array([])\n",
    "\n",
    "for i in range(mesh.vnFz[2]):\n",
    "    ax[0].semilogx(sim.timeMesh.vectorNx+1e-7, -Iz_casing[i, :], color=scalar_map.to_rgba(-mesh.vectorNz[i]))\n",
    "    ax[1].loglog(sim.timeMesh.vectorNx+1e-7, np.abs(-Iz_casing[i, :]), color=scalar_map.to_rgba(-mesh.vectorNz[i]))\n",
    "\n",
    "for a in ax:\n",
    "#     a.set_xlim([5., -1.25*model.casing_l])\n",
    "    a.grid(which=\"both\", color=\"k\", lw=0.4, alpha=0.4)\n",
    "\n",
    "ax[1].set_ylim([1e-8, 1])\n",
    "\n",
    "cb=plt.colorbar(scalar_map)\n",
    "cb.set_label(\"depth (m)\")\n"
   ]
  },
  {
   "cell_type": "code",
   "execution_count": 164,
   "metadata": {},
   "outputs": [],
   "source": [
    "n_z_currents = 128\n",
    "z_sample = np.linspace(-model.casing_l, 0, n_z_currents)\n",
    "Pz_casing_currents = discretize.TensorMesh([mesh.hz], [mesh.x0[2]]).getInterpolationMat(\n",
    "    z_sample, 'N'\n",
    ")"
   ]
  },
  {
   "cell_type": "code",
   "execution_count": 167,
   "metadata": {},
   "outputs": [],
   "source": [
    "P_casing_currents = sp.kron(Pt, Pz_casing_currents)\n",
    "I_casing_data = -1*P_casing_currents*discretize.utils.mkvc(Iz_casing)\n",
    "# np.save(f\"{trial_directory}casing_currents.npy\", I_casing_data)"
   ]
  },
  {
   "cell_type": "code",
   "execution_count": 16,
   "metadata": {},
   "outputs": [
    {
     "data": {
      "text/plain": [
       "\u001b[0;31mInit signature:\u001b[0m\n",
       "\u001b[0mdask_jobqueue\u001b[0m\u001b[0;34m.\u001b[0m\u001b[0mSLURMCluster\u001b[0m\u001b[0;34m(\u001b[0m\u001b[0;34m\u001b[0m\n",
       "\u001b[0;34m\u001b[0m    \u001b[0mn_workers\u001b[0m\u001b[0;34m=\u001b[0m\u001b[0;36m0\u001b[0m\u001b[0;34m,\u001b[0m\u001b[0;34m\u001b[0m\n",
       "\u001b[0;34m\u001b[0m    \u001b[0mjob_cls\u001b[0m\u001b[0;34m:\u001b[0m \u001b[0mdask_jobqueue\u001b[0m\u001b[0;34m.\u001b[0m\u001b[0mcore\u001b[0m\u001b[0;34m.\u001b[0m\u001b[0mJob\u001b[0m \u001b[0;34m=\u001b[0m \u001b[0;32mNone\u001b[0m\u001b[0;34m,\u001b[0m\u001b[0;34m\u001b[0m\n",
       "\u001b[0;34m\u001b[0m    \u001b[0mloop\u001b[0m\u001b[0;34m=\u001b[0m\u001b[0;32mNone\u001b[0m\u001b[0;34m,\u001b[0m\u001b[0;34m\u001b[0m\n",
       "\u001b[0;34m\u001b[0m    \u001b[0msecurity\u001b[0m\u001b[0;34m=\u001b[0m\u001b[0;32mNone\u001b[0m\u001b[0;34m,\u001b[0m\u001b[0;34m\u001b[0m\n",
       "\u001b[0;34m\u001b[0m    \u001b[0msilence_logs\u001b[0m\u001b[0;34m=\u001b[0m\u001b[0;34m'error'\u001b[0m\u001b[0;34m,\u001b[0m\u001b[0;34m\u001b[0m\n",
       "\u001b[0;34m\u001b[0m    \u001b[0mname\u001b[0m\u001b[0;34m=\u001b[0m\u001b[0;32mNone\u001b[0m\u001b[0;34m,\u001b[0m\u001b[0;34m\u001b[0m\n",
       "\u001b[0;34m\u001b[0m    \u001b[0masynchronous\u001b[0m\u001b[0;34m=\u001b[0m\u001b[0;32mFalse\u001b[0m\u001b[0;34m,\u001b[0m\u001b[0;34m\u001b[0m\n",
       "\u001b[0;34m\u001b[0m    \u001b[0minterface\u001b[0m\u001b[0;34m=\u001b[0m\u001b[0;32mNone\u001b[0m\u001b[0;34m,\u001b[0m\u001b[0;34m\u001b[0m\n",
       "\u001b[0;34m\u001b[0m    \u001b[0mhost\u001b[0m\u001b[0;34m=\u001b[0m\u001b[0;32mNone\u001b[0m\u001b[0;34m,\u001b[0m\u001b[0;34m\u001b[0m\n",
       "\u001b[0;34m\u001b[0m    \u001b[0mprotocol\u001b[0m\u001b[0;34m=\u001b[0m\u001b[0;34m'tcp://'\u001b[0m\u001b[0;34m,\u001b[0m\u001b[0;34m\u001b[0m\n",
       "\u001b[0;34m\u001b[0m    \u001b[0mdashboard_address\u001b[0m\u001b[0;34m=\u001b[0m\u001b[0;34m':8787'\u001b[0m\u001b[0;34m,\u001b[0m\u001b[0;34m\u001b[0m\n",
       "\u001b[0;34m\u001b[0m    \u001b[0mconfig_name\u001b[0m\u001b[0;34m=\u001b[0m\u001b[0;32mNone\u001b[0m\u001b[0;34m,\u001b[0m\u001b[0;34m\u001b[0m\n",
       "\u001b[0;34m\u001b[0m    \u001b[0;34m**\u001b[0m\u001b[0mkwargs\u001b[0m\u001b[0;34m,\u001b[0m\u001b[0;34m\u001b[0m\n",
       "\u001b[0;34m\u001b[0m\u001b[0;34m)\u001b[0m\u001b[0;34m\u001b[0m\u001b[0;34m\u001b[0m\u001b[0m\n",
       "\u001b[0;31mDocstring:\u001b[0m     \n",
       "Launch Dask on a SLURM cluster\n",
       "\n",
       "Parameters\n",
       "----------\n",
       "queue : str\n",
       "    Destination queue for each worker job. Passed to `#SBATCH -p` option.\n",
       "project : str\n",
       "    Accounting string associated with each worker job. Passed to `#SBATCH -A` option.\n",
       "cores : int\n",
       "    Total number of cores per job\n",
       "memory: str\n",
       "    Total amount of memory per job\n",
       "processes : int\n",
       "    Cut the job up into this many processes.\n",
       "    Good for GIL workloads or for nodes with many cores.\n",
       "interface : str\n",
       "    Network interface like 'eth0' or 'ib0'.\n",
       "nanny : bool\n",
       "    Whether or not to start a nanny process\n",
       "local_directory : str\n",
       "    Dask worker local directory for file spilling.\n",
       "death_timeout : float\n",
       "    Seconds to wait for a scheduler before closing workers\n",
       "extra : list\n",
       "    Additional arguments to pass to `dask-worker`\n",
       "env_extra : list\n",
       "    Other commands to add to script before launching worker.\n",
       "header_skip : list\n",
       "    Lines to skip in the header.\n",
       "    Header lines matching this text will be removed\n",
       "log_directory : str\n",
       "    Directory to use for job scheduler logs.\n",
       "shebang : str\n",
       "    Path to desired interpreter for your batch submission script.\n",
       "python : str\n",
       "    Python executable used to launch Dask workers.\n",
       "    Defaults to the Python that is submitting these jobs\n",
       "config_name : str\n",
       "    Section to use from jobqueue.yaml configuration file.\n",
       "name : str\n",
       "    Name of Dask worker.  This is typically set by the Cluster\n",
       "n_workers : int\n",
       "    Number of workers to start by default.  Defaults to 0.\n",
       "    See the scale method\n",
       "silence_logs : str\n",
       "    Log level like \"debug\", \"info\", or \"error\" to emit here if the\n",
       "    scheduler is started locally\n",
       "asynchronous : bool\n",
       "    Whether or not to run this cluster object with the async/await syntax\n",
       "security : Security\n",
       "    A dask.distributed security object if you're using TLS/SSL\n",
       "dashboard_address : str or int\n",
       "    An address like \":8787\" on which to host the Scheduler's dashboard\n",
       "walltime : str\n",
       "    Walltime for each worker job.\n",
       "job_cpu : int\n",
       "    Number of cpu to book in SLURM, if None, defaults to worker `threads * processes`\n",
       "job_mem : str\n",
       "    Amount of memory to request in SLURM. If None, defaults to worker\n",
       "    processes * memory\n",
       "job_extra : list\n",
       "    List of other Slurm options, for example -j oe. Each option will be prepended with the #SBATCH prefix.\n",
       "\n",
       "Examples\n",
       "--------\n",
       ">>> from dask_jobqueue import SLURMCluster\n",
       ">>> cluster = SLURMCluster(\n",
       "...     queue='regular',\n",
       "...     project=\"myproj\",\n",
       "...     cores=24,\n",
       "...     memory=\"500 GB\"\n",
       "... )\n",
       ">>> cluster.scale(jobs=10)  # ask for 10 jobs\n",
       "\n",
       ">>> from dask.distributed import Client\n",
       ">>> client = Client(cluster)\n",
       "\n",
       "This also works with adaptive clusters.  This automatically launches and kill workers based on load.\n",
       "\n",
       ">>> cluster.adapt(maximum_jobs=20)\n",
       "\u001b[0;31mFile:\u001b[0m           ~/.conda/envs/simpeg37/lib/python3.7/site-packages/dask_jobqueue/slurm.py\n",
       "\u001b[0;31mType:\u001b[0m           type\n",
       "\u001b[0;31mSubclasses:\u001b[0m     \n"
      ]
     },
     "metadata": {},
     "output_type": "display_data"
    }
   ],
   "source": [
    "dask_jobqueue.SLURMCluster?"
   ]
  },
  {
   "cell_type": "code",
   "execution_count": null,
   "metadata": {},
   "outputs": [],
   "source": []
  }
 ],
 "metadata": {
  "kernelspec": {
   "display_name": "simpeg37",
   "language": "python",
   "name": "simpeg37"
  },
  "language_info": {
   "codemirror_mode": {
    "name": "ipython",
    "version": 3
   },
   "file_extension": ".py",
   "mimetype": "text/x-python",
   "name": "python",
   "nbconvert_exporter": "python",
   "pygments_lexer": "ipython3",
   "version": "3.7.3"
  }
 },
 "nbformat": 4,
 "nbformat_minor": 4
}
