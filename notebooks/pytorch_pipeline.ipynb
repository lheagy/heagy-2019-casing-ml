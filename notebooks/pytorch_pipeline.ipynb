{
 "cells": [
  {
   "cell_type": "code",
   "execution_count": 1,
   "metadata": {},
   "outputs": [],
   "source": [
    "# %pip install --upgrade pip --user\n",
    "# %pip install zarr --user\n",
    "# %pip install tables --user\n",
    "# %pip install git+https://github.com/simpeg/simpeg.git@simulation-tdem --user\n",
    "# %pip install dask dask_jobqueue --user\n",
    "# %pip install git+https://github.com/simpeg-research/casingSimulations.git@simulation --user"
   ]
  },
  {
   "cell_type": "code",
   "execution_count": 2,
   "metadata": {},
   "outputs": [],
   "source": [
    "import numpy as np\n",
    "import matplotlib.pyplot as plt\n",
    "from matplotlib.colors import LogNorm\n",
    "import discretize\n",
    "from scipy import sparse as sp\n",
    "from scipy.constants import mu_0\n",
    "import pandas as pd\n",
    "from pymatsolver import Pardiso\n",
    "import os\n",
    "import json\n",
    "import dask\n",
    "import dask_jobqueue\n",
    "from dask.distributed import Client\n",
    "\n",
    "import casingSimulations as casing_sim\n",
    "\n",
    "import torch\n",
    "\n",
    "# we are in the midst of upgrading the API, so this is \n",
    "# more closely in-line with the upcoming changes\n",
    "from SimPEG.electromagnetics import time_domain as tdem\n",
    "\n",
    "%matplotlib inline"
   ]
  },
  {
   "cell_type": "code",
   "execution_count": 3,
   "metadata": {},
   "outputs": [],
   "source": [
    "data_directory = \"./experiment1\"\n",
    "df = pd.read_hdf(f\"{data_directory}/trial_data.h5\", \"data\")"
   ]
  },
  {
   "cell_type": "code",
   "execution_count": 4,
   "metadata": {},
   "outputs": [
    {
     "data": {
      "image/png": "[encoded data removed]",
      "text/plain": [
       "<Figure size 1440x288 with 7 Axes>"
      ]
     },
     "metadata": {
      "needs_background": "light"
     },
     "output_type": "display_data"
    }
   ],
   "source": [
    "fig, ax = plt.subplots(1,len(df.keys()), figsize=(20, 4))\n",
    "\n",
    "for i, key in enumerate(df.keys()):\n",
    "    ax[i].hist(df[key])\n",
    "    ax[i].set_title(f\"{key}\".replace(\"_\", \" \"))\n",
    "\n",
    "plt.tight_layout()"
   ]
  },
  {
   "cell_type": "code",
   "execution_count": 5,
   "metadata": {},
   "outputs": [],
   "source": [
    "# pick a single model to try training on \n",
    "trial_index = 5  # a 1200 m long well (relatively short --> fast simulations)\n",
    "\n",
    "trial_directory = f\"{data_directory}/trial_{trial_index}\""
   ]
  },
  {
   "cell_type": "code",
   "execution_count": 6,
   "metadata": {},
   "outputs": [],
   "source": [
    "# generate the 2D model \n",
    "\n",
    "with open(f\"{trial_directory}/approx_casing.json\") as f: \n",
    "    params = json.load(f)\n",
    "model = casing_sim.model.CasingInHalfspace.deserialize(params, trusted=True)\n",
    "\n",
    "with open(f\"{trial_directory}/simulation_approx_casing.json\") as f:\n",
    "    simulation_params = json.load(f)\n",
    "    \n",
    "sim3D = tdem.Problem3D_j.deserialize(simulation_params, trusted=True)\n",
    "mesh3D = sim3D.mesh"
   ]
  },
  {
   "cell_type": "code",
   "execution_count": 7,
   "metadata": {},
   "outputs": [],
   "source": [
    "# create a 2D simulation\n",
    "mesh = discretize.CylMesh([mesh3D.hx, 1, mesh3D.hz], x0=mesh3D.x0)\n",
    "sim = tdem.Problem3D_j(mesh=mesh, time_steps=sim3D.time_steps, solver=Pardiso, sigma=model.sigma(mesh))\n"
   ]
  },
  {
   "cell_type": "code",
   "execution_count": null,
   "metadata": {},
   "outputs": [
    {
     "data": {
      "text/plain": [
       "(-2000, 10)"
      ]
     },
     "execution_count": 8,
     "metadata": {},
     "output_type": "execute_result"
    }
   ],
   "source": [
    "fig, ax = plt.subplots(1, 1)\n",
    "plt.colorbar(\n",
    "    mesh.plotImage(\n",
    "        sim.sigma, ax=ax, pcolorOpts={\"norm\":LogNorm()}, mirror=True\n",
    "    )[0], ax=ax\n",
    ")\n",
    "ax.set_xlim([-1, 1])\n",
    "ax.set_ylim([-2000, 10])"
   ]
  },
  {
   "cell_type": "code",
   "execution_count": null,
   "metadata": {},
   "outputs": [],
   "source": [
    "def getRHS(sim, src):\n",
    "    # full source term \n",
    "    # rhs = -1./dt * (s_e - s_en1) + C * MeMuI * s_m\n",
    "\n",
    "    # we are setting s_e to zero\n",
    "    rhs = sim.mesh.edgeCurl * (sim.MeMuI * src)\n",
    "    if sim._makeASymmetric:\n",
    "        return sim.MfRho.T * rhs\n",
    "    return rhs"
   ]
  },
  {
   "cell_type": "code",
   "execution_count": null,
   "metadata": {},
   "outputs": [],
   "source": [
    "def getRHS_deriv(sim, v=None, adjoint=False):\n",
    "\n",
    "    # full source term \n",
    "    # rhs = -1./dt * (s_e - s_en1) + C * MeMuI * s_m\n",
    "    # we are setting s_e to zero\n",
    "    mesh = sim.mesh\n",
    "    \n",
    "    if adjoint:\n",
    "        if sim._makeASymmetric:\n",
    "            if v is not None: \n",
    "                rhs = sim.MfRho * v\n",
    "            else:\n",
    "                rhs = sim.MfRho\n",
    "        else:\n",
    "            rhs = v if v is not None else sp.eye(mesh.nF)\n",
    "        return sim.MeMuI.T * (mesh.edgeCurl.T * rhs)\n",
    "    \n",
    "    if v is not None:\n",
    "        rhs = sim.mesh.edgeCurl * (sim.MeMuI * v)\n",
    "    else:\n",
    "        rhs = sim.mesh.edgeCurl * sim.MeMuI\n",
    "    if sim._makeASymmetric:\n",
    "        return sim.MfRho.T * rhs\n",
    "    return rhs"
   ]
  },
  {
   "cell_type": "code",
   "execution_count": null,
   "metadata": {},
   "outputs": [],
   "source": [
    "# solve the forward problem \n",
    "def fields(sim, source):\n",
    "    f = np.zeros((sim.mesh.nF, sim.nT+1))\n",
    "\n",
    "    # timestep to solve forward\n",
    "    Ainv = None\n",
    "    for tInd, dt in enumerate(sim.timeSteps):\n",
    "        # keep factors if dt is the same as previous step b/c A will be the\n",
    "        # same\n",
    "        if Ainv is not None and (\n",
    "            tInd > 0 and abs(dt-sim.timeSteps[tInd - 1]) >\n",
    "            sim.dt_threshold\n",
    "        ):\n",
    "            Ainv.clean()\n",
    "            Ainv = None\n",
    "\n",
    "        if Ainv is None:\n",
    "            A = sim.getAdiag(tInd)\n",
    "            Ainv = Pardiso(A)\n",
    "\n",
    "        rhs = getRHS(sim, source[:, tInd+1])  # this is on the nodes of the time mesh\n",
    "        Asubdiag = sim.getAsubdiag(tInd)\n",
    "\n",
    "        # taking a step\n",
    "        sol = Ainv * (rhs - Asubdiag * f[:, tInd])\n",
    "        f[:, tInd+1] = sol\n",
    "\n",
    "    # clean factors and return\n",
    "    Ainv.clean()\n",
    "    return f"
   ]
  },
  {
   "cell_type": "code",
   "execution_count": null,
   "metadata": {},
   "outputs": [],
   "source": [
    "def fields_deriv(sim, v=None, adjoint=False):\n",
    "    \n",
    "    if adjoint:\n",
    "        return fields_deriv_adjoint(sim, v=v)\n",
    "    \n",
    "    df_dm_v = np.zeros((sim.mesh.nF, sim.nT+1))\n",
    "\n",
    "    # timestep to solve forward\n",
    "    Ainv = None\n",
    "    for tInd, dt in enumerate(sim.timeSteps):\n",
    "        # keep factors if dt is the same as previous step b/c A will be the\n",
    "        # same\n",
    "        if Ainv is not None and (\n",
    "            tInd > 0 and abs(dt-sim.timeSteps[tInd - 1]) > sim.dt_threshold\n",
    "        ):\n",
    "            Ainv.clean()\n",
    "            Ainv = None\n",
    "        \n",
    "        if Ainv is None:\n",
    "            A = sim.getAdiag(tInd)\n",
    "            Ainv = Pardiso(A)\n",
    "\n",
    "        rhs_deriv = getRHS_deriv(sim, v[:, tInd+1])  # this is on the nodes of the time mesh\n",
    "        Asubdiag = sim.getAsubdiag(tInd)\n",
    "\n",
    "        # taking a step\n",
    "        sol = Ainv * (rhs_deriv - Asubdiag * df_dm_v[:, tInd])\n",
    "        df_dm_v[:, tInd+1] = sol\n",
    "\n",
    "    # clean factors and return\n",
    "    Ainv.clean()\n",
    "    return df_dm_v"
   ]
  },
  {
   "cell_type": "code",
   "execution_count": null,
   "metadata": {},
   "outputs": [],
   "source": [
    "def fields_deriv_adjoint(sim, v=None):\n",
    "    \n",
    "    df_dmT_v = np.zeros((sim.mesh.nE, sim.nT+1))  # the source is defined on edges\n",
    "\n",
    "    # timestep to solve forward\n",
    "    ATinv = None\n",
    "    for tInd in reversed(range(sim.nT)):\n",
    "        dt = sim.time_steps[tInd]\n",
    "        # keep factors if dt is the same as previous step b/c A will be the\n",
    "        # same\n",
    "        if ATinv is not None and (\n",
    "            tInd <= sim.nT and abs(dt-sim.timeSteps[tInd + 1]) > sim.dt_threshold\n",
    "        ):\n",
    "            ATinv.clean()\n",
    "            ATinv = None\n",
    "        \n",
    "        if ATinv is None:\n",
    "            AT = sim.getAdiag(tInd).T\n",
    "            ATinv = Pardiso(AT)    \n",
    "        \n",
    "#         ATinv_v = ATinv * v[:, tInd+1]\n",
    "        if tInd < sim.nT - 1:\n",
    "            AsubdiagT = sim.getAsubdiag(tInd+1).T\n",
    "            sol = ATinv * (v[:, tInd+1] - AsubdiagT * sol)\n",
    "        else: \n",
    "            sol = ATinv * v[:, tInd+1]\n",
    "        rhs_deriv = getRHS_deriv(sim, sol, adjoint=True)  # this is on the nodes of the time mesh\n",
    "        \n",
    "        df_dmT_v[:, tInd+1] = rhs_deriv\n",
    "\n",
    "    # clean factors and return\n",
    "    ATinv.clean()\n",
    "    return df_dmT_v"
   ]
  },
  {
   "cell_type": "code",
   "execution_count": null,
   "metadata": {},
   "outputs": [],
   "source": [
    "def create_source(sim, model, s, trial_directory):\n",
    "    # interpolate on to the spatial mesh (lets use exact time for now)\n",
    "    z_source = np.load(f\"{trial_directory}/z_currents.npy\")\n",
    "    mesh = sim.mesh\n",
    "    src = np.zeros((mesh.nEy, sim.nT+1))\n",
    "  \n",
    "    csx = mesh.hx.min()\n",
    "    \n",
    "    xinds = (mesh.gridEy[:, 0] < model.casing_b + csx/2) & (mesh.gridEy[:, 0] > model.casing_b - csx/2)\n",
    "    zinds = (mesh.gridEy[:, 2] >= model.casing_z.min()) & (mesh.gridEy[:, 2] <= model.casing_z.max())\n",
    "    src_inds_bool = xinds & zinds\n",
    "    src_inds = np.where(src_inds_bool)[0]\n",
    "    \n",
    "    P = discretize.utils.interpmat(mesh.gridEy[src_inds, 2], z_source)\n",
    "\n",
    "    src[src_inds, :] = P * s\n",
    "    \n",
    "    def grad(dy, adjoint=True):\n",
    "        if adjoint:\n",
    "            return P.T * dy[src_inds, :]\n",
    "        grd = np.zeros((mesh.nEy, sim.nT+1))\n",
    "        grd[src_inds, :] = P * dy\n",
    "        return grd\n",
    "    \n",
    "    return src, grad\n",
    "                  "
   ]
  },
  {
   "cell_type": "code",
   "execution_count": null,
   "metadata": {},
   "outputs": [],
   "source": [
    "def load_trial(trial_directory):\n",
    "    # load up the data\n",
    "    with open(f\"{trial_directory}/approx_casing.json\") as f: \n",
    "        params = json.load(f)\n",
    "    model = casing_sim.model.CasingInHalfspace.deserialize(params, trusted=True)\n",
    "\n",
    "    with open(f\"{trial_directory}/simulation_approx_casing.json\") as f:\n",
    "        simulation_params = json.load(f)\n",
    "\n",
    "    sim3D = tdem.Problem3D_j.deserialize(simulation_params, trusted=True)\n",
    "    mesh3D = sim3D.mesh\n",
    "    \n",
    "    mesh = discretize.CylMesh([mesh3D.hx, 1, mesh3D.hz], x0=mesh3D.x0)\n",
    "    sim = tdem.Problem3D_j(mesh=mesh, time_steps=sim3D.time_steps, solver=Pardiso, sigma=model.sigma(mesh))\n",
    "\n",
    "    return model, mesh, sim"
   ]
  },
  {
   "cell_type": "code",
   "execution_count": null,
   "metadata": {},
   "outputs": [],
   "source": [
    "def get_j_interpolation_mat(\n",
    "    trial_directory, mesh, \n",
    "    log10tmin=-6, log10tmax=-2, ntimes=128 # hard-coded from \"pipeline_synthetic_data\"\n",
    "):\n",
    "    xsample = np.load(f\"{trial_directory}/x.npy\")\n",
    "    zsample = np.load(f\"{trial_directory}/z.npy\")\n",
    "    xz_grid = discretize.utils.ndgrid(xsample, np.r_[0], zsample)\n",
    "    \n",
    "    Px = mesh.getInterpolationMat(xz_grid, 'Fx')\n",
    "    Pz = mesh.getInterpolationMat(xz_grid, 'Fz') \n",
    "    \n",
    "    tsample = np.logspace(log10tmin, log10tmax, ntimes)\n",
    "    Pt = sim.time_mesh.getInterpolationMat(tsample, 'N')\n",
    "\n",
    "    # construct full P\n",
    "    Pxt = sp.kron(Pt, Px)\n",
    "    Pzt = sp.kron(Pt, Pz)\n",
    "    P = sp.vstack([Pxt, Pzt])\n",
    "\n",
    "    return P\n",
    "    "
   ]
  },
  {
   "cell_type": "code",
   "execution_count": null,
   "metadata": {},
   "outputs": [],
   "source": [
    "def run_forward(trial_ind, source_vec):\n",
    "    trial_directory = f\"{data_directory}/trial_{trial_ind}\"\n",
    "    model, mesh, sim = load_trial(trial_directory)\n",
    "    \n",
    "    source, source_grad = create_source(sim, model, source_vec, trial_directory)\n",
    "    f = fields(sim, source)\n",
    "    P = get_j_interpolation_mat(trial_directory, mesh)\n",
    "    j_compare = P * discretize.utils.mkvc(f)\n",
    "    \n",
    "    def grad(dy, adjoint=True):  \n",
    "        if adjoint: \n",
    "            v = P.T * dy\n",
    "            v = v.reshape(mesh.nF, sim.nT+1, order=\"F\")\n",
    "            f_deriv = fields_deriv_adjoint(sim, v)\n",
    "            return source_grad(f_deriv, adjoint=True)\n",
    "        f_deriv = fields_deriv(sim, source_grad(dy, adjoint=False))\n",
    "        return P * discretize.utils.mkvc(f_deriv)\n",
    "        \n",
    "    return j_compare, grad"
   ]
  },
  {
   "cell_type": "markdown",
   "metadata": {},
   "source": [
    "# set up a simple test example "
   ]
  },
  {
   "cell_type": "code",
   "execution_count": null,
   "metadata": {},
   "outputs": [],
   "source": [
    "def waveform(t, t_peak=5e-3, width=10, amplitude=1):\n",
    "    t = np.log10(t)\n",
    "    t_peak = np.log10(t_peak)\n",
    "    width = np.log10(width)\n",
    "    return amplitude * np.exp(-(t - t_peak)**2/(2*width**2))\n",
    "\n",
    "def sigmoid(x, x0=0, slope=1):\n",
    "    return np.arctan(slope * (x-x0))/np.pi + 0.5\n",
    "\n",
    "def depth_distribution(z, dz=200, slope=1e-1):\n",
    "    return sigmoid(z, model.casing_z.min() + dz, slope) * sigmoid(-z, -(model.casing_z.max() - dz), slope)\n",
    "\n",
    "def source_sm(mesh, t, z):\n",
    "    sm = np.zeros(mesh.nE)\n",
    "    sm = np.outer(depth_distribution(z), waveform(t))\n",
    "    \n",
    "    return sm"
   ]
  },
  {
   "cell_type": "code",
   "execution_count": null,
   "metadata": {},
   "outputs": [],
   "source": [
    "z = np.load(f\"{trial_directory}/z_currents.npy\")\n",
    "src_vec = source_sm(mesh, sim.times, z)"
   ]
  },
  {
   "cell_type": "code",
   "execution_count": null,
   "metadata": {},
   "outputs": [],
   "source": [
    "fig, ax = plt.subplots(1, 1)\n",
    "plt.colorbar(ax.pcolormesh(sim.times, z, src_vec), ax=ax)\n",
    "ax.set_xscale(\"log\")\n",
    "ax.set_xlim(1e-6, sim.times.max())\n",
    "ax.set_xlabel(\"time (s)\")\n",
    "ax.set_ylabel(\"z\")"
   ]
  },
  {
   "cell_type": "code",
   "execution_count": null,
   "metadata": {},
   "outputs": [],
   "source": [
    "def test_source(source):   \n",
    "    source = source.reshape(128, 191, order=\"F\")\n",
    "    src, grad = create_source(sim, model, source, trial_directory)\n",
    "    \n",
    "    def src_deriv(dy, adjoint=False):\n",
    "        if not adjoint: \n",
    "            dy = dy.reshape(128, 191, order=\"F\")\n",
    "        else:\n",
    "            dy = dy.reshape(mesh.nE, 191, order=\"F\")\n",
    "        return discretize.utils.mkvc(grad(dy, adjoint))\n",
    "    \n",
    "    return discretize.utils.mkvc(src), src_deriv\n",
    "\n",
    "x0 = discretize.utils.mkvc(src_vec)\n",
    "discretize.Tests.checkDerivative(\n",
    "    test_source,\n",
    "    x0=x0,\n",
    "    num=4, \n",
    "    plotIt=False, \n",
    ")"
   ]
  },
  {
   "cell_type": "code",
   "execution_count": null,
   "metadata": {},
   "outputs": [],
   "source": [
    "# adjoint test\n",
    "\n",
    "src_vec = discretize.utils.mkvc(src_vec.reshape(128, 191, order=\"F\"))\n",
    "src, src_deriv = test_source(src_vec)\n",
    "\n",
    "v = np.random.rand(128*191)\n",
    "w = np.random.rand(mesh.nE*191)\n",
    "\n",
    "a = w.T.dot(discretize.utils.mkvc(src_deriv(v.reshape(128, 191, order=\"F\"), adjoint=False)))\n",
    "b = v.T.dot(discretize.utils.mkvc(src_deriv(w, adjoint=True)))\n",
    "\n",
    "print(f\"{np.linalg.norm(a):1.3e}, {np.linalg.norm(b):1.3e}, {np.linalg.norm(a-b):1.3e}\")"
   ]
  },
  {
   "cell_type": "code",
   "execution_count": null,
   "metadata": {},
   "outputs": [],
   "source": [
    "def test_rhs(source):   \n",
    "    source = source.reshape(128, 191, order=\"F\")\n",
    "    src, grad_src = create_source(sim, model, source, trial_directory)\n",
    "    rhs = getRHS(sim, src)\n",
    "    \n",
    "    def src_deriv(dy, adjoint=False):\n",
    "        if not adjoint:\n",
    "            dy = dy.reshape(128, 191, order=\"F\")\n",
    "            return discretize.utils.mkvc(getRHS_deriv(sim, grad_src(dy, adjoint), adjoint))\n",
    "        else: \n",
    "            dy = dy.reshape(mesh.nF, 191, order=\"F\")\n",
    "            return grad_src(getRHS_deriv(sim, dy, adjoint), adjoint)        \n",
    "    \n",
    "    return discretize.utils.mkvc(rhs), src_deriv\n",
    "\n",
    "x0 = discretize.utils.mkvc(src_vec)\n",
    "discretize.Tests.checkDerivative(\n",
    "    test_rhs,\n",
    "    x0=x0,\n",
    "#     dx=1e-3*x0,\n",
    "    num=4, \n",
    "    plotIt=False, \n",
    "    expectedOrder=1,\n",
    ")"
   ]
  },
  {
   "cell_type": "code",
   "execution_count": null,
   "metadata": {},
   "outputs": [],
   "source": [
    "# adjoint test\n",
    "\n",
    "src_vec = discretize.utils.mkvc(src_vec.reshape(128, 191, order=\"F\"))\n",
    "rhs, rhs_deriv = test_rhs(src_vec)\n",
    "\n",
    "v = np.random.rand(128*191)\n",
    "w = np.random.rand(mesh.nF*191)\n",
    "\n",
    "a = w.T.dot(discretize.utils.mkvc(rhs_deriv(v.reshape(128, 191, order=\"F\"), adjoint=False)))\n",
    "b = v.T.dot(discretize.utils.mkvc(rhs_deriv(w, adjoint=True)))\n",
    "\n",
    "print(f\"{np.linalg.norm(a):1.3e}, {np.linalg.norm(b):1.3e}, {np.linalg.norm(a-b):1.3e}\")"
   ]
  },
  {
   "cell_type": "code",
   "execution_count": null,
   "metadata": {},
   "outputs": [],
   "source": [
    "src_sm, _ = create_source(sim, model, src_vec.reshape(128, 191, order=\"F\"), trial_directory)\n",
    "\n",
    "def test_forward(src_sm):\n",
    "    src_sm = src_sm.reshape(mesh.nEy, sim.nT+1, order=\"F\")\n",
    "    j = fields(sim, src_sm)\n",
    "    \n",
    "    def j_deriv(v, adjoint=False):\n",
    "        if not adjoint:\n",
    "            v = v.reshape(mesh.nEy, sim.nT+1, order=\"F\")\n",
    "            return discretize.utils.mkvc(fields_deriv(sim, v, adjoint))\n",
    "        else:\n",
    "            v = v.reshape(mesh.nF, sim.nT+1, order=\"F\")\n",
    "            return fields_deriv(sim, v, adjoint)\n",
    "    return discretize.utils.mkvc(j), j_deriv\n",
    "\n",
    "x0 = discretize.utils.mkvc(src_sm)\n",
    "discretize.Tests.checkDerivative(\n",
    "    test_forward,\n",
    "    x0=x0,\n",
    "    num=4, \n",
    "    plotIt=False, \n",
    "    expectedOrder=1,\n",
    ")"
   ]
  },
  {
   "cell_type": "code",
   "execution_count": null,
   "metadata": {},
   "outputs": [],
   "source": [
    "# adjoint test\n",
    "\n",
    "j, j_deriv = test_forward(src_sm)\n",
    "\n",
    "v = np.random.rand(np.prod(src_sm.shape))\n",
    "w = np.random.rand(np.prod(j.shape))\n",
    "\n",
    "a = w.T.dot(discretize.utils.mkvc(j_deriv(v, adjoint=False)))\n",
    "b = v.T.dot(discretize.utils.mkvc(j_deriv(w, adjoint=True)))\n",
    "\n",
    "print(f\"{np.linalg.norm(a):1.3e}, {np.linalg.norm(b):1.3e}, {np.linalg.norm(a-b):1.3e}\")"
   ]
  },
  {
   "cell_type": "code",
   "execution_count": null,
   "metadata": {},
   "outputs": [],
   "source": [
    "def test_forward_full(src_vec):\n",
    "    src_vec = src_vec.reshape(128, 191, order=\"F\")\n",
    "    j, j_deriv = run_forward(5, src_vec)\n",
    "    \n",
    "    def grad(v):\n",
    "        v = v.reshape(128, 191, order=\"F\")\n",
    "        return discretize.utils.mkvc(j_deriv(v, adjoint=False))\n",
    "    return discretize.utils.mkvc(j), grad\n",
    "\n",
    "x0 = discretize.utils.mkvc(src_vec)\n",
    "discretize.Tests.checkDerivative(\n",
    "    test_forward_full,\n",
    "    x0=x0,\n",
    "    num=5, \n",
    "    plotIt=False, \n",
    "    expectedOrder=1,\n",
    ")"
   ]
  },
  {
   "cell_type": "code",
   "execution_count": null,
   "metadata": {},
   "outputs": [],
   "source": [
    "# adjoint test\n",
    "\n",
    "src_vec = src_vec.reshape(128, 191, order=\"F\")\n",
    "j, j_deriv = run_forward(5, src_vec)\n",
    "\n",
    "v = np.random.rand(128*191)\n",
    "w = np.random.rand(np.prod(j.shape))\n",
    "\n",
    "a = w.T.dot(discretize.utils.mkvc(j_deriv(v.reshape(128, 191, order=\"F\"), adjoint=False)))\n",
    "b = v.T.dot(discretize.utils.mkvc(j_deriv(w, adjoint=True)))\n",
    "\n",
    "err = a-b\n",
    "if np.linalg.norm(err)/np.linalg.norm(a) < 1e-10:\n",
    "    passing = True\n",
    "else: \n",
    "    passing = False\n",
    "    \n",
    "print(\n",
    "    f\"{np.linalg.norm(a):1.3e}, \"\n",
    "    f\"{np.linalg.norm(b):1.3e}, \"\n",
    "    f\"{np.linalg.norm(err):1.3e}, \"\n",
    "    f\"{'passing :)' if passing is True else 'failing :('}\"\n",
    ")"
   ]
  },
  {
   "cell_type": "code",
   "execution_count": null,
   "metadata": {},
   "outputs": [],
   "source": [
    "def test_sanity_check(src_vec):\n",
    "#     src_vec = src_vec.reshape(128, 2, order=\"F\")\n",
    "    A = np.random.randn(128, 128)\n",
    "    bigA = sp.block_diag([A, A])\n",
    "    j = bigA.dot(src_vec)\n",
    "    \n",
    "    def grad(v):\n",
    "#         v = v.reshape(128, 2, order=\"F\")\n",
    "        return discretize.utils.mkvc(bigA.dot(v))\n",
    "    return discretize.utils.mkvc(j), grad\n",
    "\n",
    "x0 = discretize.utils.mkvc(src_vec[:, 0:2])\n",
    "discretize.Tests.checkDerivative(\n",
    "    test_sanity_check,\n",
    "    x0=x0,\n",
    "    num=10, \n",
    "    plotIt=False, \n",
    "    expectedOrder=1,\n",
    ")"
   ]
  },
  {
   "cell_type": "code",
   "execution_count": null,
   "metadata": {},
   "outputs": [],
   "source": [
    "src_sm, _ = create_source(sim, model, src_vec, trial_directory)\n",
    "src_sm = src_sm.reshape(mesh.nEy, sim.nT+1, order=\"F\")\n",
    "j = fields(sim, src_sm)"
   ]
  },
  {
   "cell_type": "code",
   "execution_count": null,
   "metadata": {},
   "outputs": [],
   "source": [
    "tind = 30\n",
    "fig, ax = plt.subplots(1, 1)\n",
    "\n",
    "out = mesh.plotImage(\n",
    "    mesh.aveF2CCV * j[:, tind], \n",
    "    view=\"vec\",\n",
    "    vType=\"CCv\",\n",
    "    ax=ax, mirror=True,\n",
    "    range_x=np.r_[-1000, 1000], \n",
    "    range_y=np.r_[-1500, 100],\n",
    "    sample_grid = np.r_[5., 5.],\n",
    "    pcolorOpts={\"norm\":LogNorm()},\n",
    "    clim = np.r_[1e-10, 1e-2], \n",
    "    stream_threshold = 1e-10\n",
    ")\n",
    "ax.set_aspect(1)\n",
    "plt.colorbar(out[0])\n",
    "\n",
    "ax.set_title(f\"current density, t={sim.times[tind]*1e3:1.1e}ms\")"
   ]
  },
  {
   "cell_type": "code",
   "execution_count": null,
   "metadata": {},
   "outputs": [],
   "source": [
    "tind = 10\n",
    "fig, ax = plt.subplots(1, 1)\n",
    "\n",
    "out = mesh.plotImage(\n",
    "    mesh.aveE2CC * src_sm[:, tind], \n",
    "#     view=\"vec\",\n",
    "#     vType=\"CCv\",\n",
    "    ax=ax, mirror=True,\n",
    "    range_x=0.15*np.r_[-1, 1], \n",
    "    range_y=np.r_[-1210, -1190], #10*np.r_[-1, 1],\n",
    "#     sample_grid = np.r_[5., 5.],\n",
    "    pcolorOpts={\"norm\":LogNorm()},\n",
    "    clim = np.r_[1e-13, 1e-2], \n",
    "#     stream_threshold = 1e-13\n",
    ")\n",
    "mesh.plotGrid(ax=ax)\n",
    "# ax.set_aspect(1)\n",
    "plt.colorbar(out[0])\n",
    "\n",
    "ax.set_title(f\"source term, t={sim.times[tind]*1e3:1.1e}ms\")"
   ]
  },
  {
   "cell_type": "markdown",
   "metadata": {},
   "source": [
    "# Set up ML pipeline"
   ]
  },
  {
   "cell_type": "code",
   "execution_count": null,
   "metadata": {},
   "outputs": [],
   "source": [
    "nspatial = 128\n",
    "ntimes = 191\n",
    "nsrcz = 128"
   ]
  },
  {
   "cell_type": "code",
   "execution_count": null,
   "metadata": {},
   "outputs": [],
   "source": [
    "class ForwardSimulation(torch.autograd.Function):\n",
    "    \n",
    "    @staticmethod\n",
    "    def forward(ctx, source_vec): #, trial_ind):\n",
    "        trial_ind = 5\n",
    "#         ctx.mark_non_differentiable(trial_ind)\n",
    "        trial_directory = f\"{data_directory}/trial_{trial_ind}\"\n",
    "        \n",
    "        # load up objects \n",
    "        model, mesh, sim = load_trial(trial_directory)\n",
    "        \n",
    "        ctx.model = model\n",
    "        ctx.mesh = mesh\n",
    "        ctx.sim = sim\n",
    "\n",
    "        # create source \n",
    "        source, source_grad = create_source(sim, model, source_vec.data.numpy(), trial_directory)\n",
    "        rhs = getRHS(sim, source)\n",
    "        \n",
    "        ctx.source_grad = source_grad\n",
    "        \n",
    "        # compute fields \n",
    "        f = fields(sim, source)\n",
    "        \n",
    "        if getattr(ctx, 'P', None) is None:\n",
    "            P = get_j_interpolation_mat(trial_directory, mesh)\n",
    "            ctx.P = P\n",
    "        \n",
    "        # project data\n",
    "        j_compare = (P * discretize.utils.mkvc(f))\n",
    "        \n",
    "        return torch.from_numpy(j_compare).double()\n",
    "\n",
    "    @staticmethod\n",
    "    def backward(ctx, dy): \n",
    "        model, mesh, sim = load_trial(trial_directory)\n",
    "        P = ctx.P\n",
    "        v = P.T * dy.data.numpy()\n",
    "        v = v.reshape(ctx.mesh.nF, ctx.sim.nT+1, order=\"F\")\n",
    "        f_deriv = fields_deriv_adjoint(ctx.sim, v)\n",
    "        grad = ctx.source_grad(f_deriv, adjoint=True)\n",
    "        return torch.from_numpy(grad).double()\n",
    "\n"
   ]
  },
  {
   "cell_type": "code",
   "execution_count": null,
   "metadata": {},
   "outputs": [],
   "source": [
    "# class CasingData(torch.utils.data.Dataset):\n",
    "#     def __init__(self, directory, trial_indices):\n",
    "#         self.directory = directory\n",
    "#         self.trial_indices = trial_indices\n",
    "        \n",
    "#     def __len__(self):\n",
    "#         return len(self.trial_indices)\n",
    "    \n",
    "#     def __getitem__(self, idx):\n",
    "#         if torch.is_tensor(idx):\n",
    "#             idx = idx.tolist()\n",
    "        \n",
    "        \n",
    "        "
   ]
  },
  {
   "cell_type": "code",
   "execution_count": null,
   "metadata": {},
   "outputs": [],
   "source": [
    "def get_weights(jdiff, std=0.05, floor=1e-11):\n",
    "    return (1./(std * np.abs(jdiff) + floor))"
   ]
  },
  {
   "cell_type": "code",
   "execution_count": null,
   "metadata": {},
   "outputs": [],
   "source": [
    "dtype = torch.float64\n",
    "device = torch.device(\"cpu\")"
   ]
  },
  {
   "cell_type": "code",
   "execution_count": null,
   "metadata": {},
   "outputs": [],
   "source": [
    "j.shape"
   ]
  },
  {
   "cell_type": "code",
   "execution_count": null,
   "metadata": {},
   "outputs": [],
   "source": [
    "source, source_deriv = create_source(sim, model, src_vec, trial_directory)\n",
    "rhs = getRHS(sim, source)"
   ]
  },
  {
   "cell_type": "code",
   "execution_count": null,
   "metadata": {},
   "outputs": [],
   "source": [
    "s0 = torch.rand(nspatial, ntimes, dtype=dtype, device=device, requires_grad=True)\n",
    "trials = [5]\n",
    "trial_ind = 5\n",
    "learning_rate = 1e-2\n",
    "\n",
    "jd = torch.from_numpy(np.load(f\"{trial_directory}/j_difference.npy\")).double()\n",
    "w = get_weights(jd)\n",
    "forward = ForwardSimulation.apply\n",
    "stemp = torch.from_numpy(rhs).double()\n",
    "\n",
    "# optimizer = torch.optim.SGD(s0, lr=learning_rate)\n",
    "\n",
    "for i in range(50):\n",
    "    j_pred = forward(s0)\n",
    "    loss = (w*(j_pred - jd)).pow(2).sum()\n",
    "    loss = j_pred.pow(2).sum() + s0.pow(2).sum()\n",
    "    print(i, loss.item())\n",
    "    \n",
    "#     optimizer.zero_grad()\n",
    "    loss.backward()\n",
    "#     optimizer.step()\n",
    "    \n",
    "    with torch.no_grad():\n",
    "        s0 -= learning_rate * s0.grad\n",
    "        s0.grad.zero_()"
   ]
  },
  {
   "cell_type": "code",
   "execution_count": null,
   "metadata": {},
   "outputs": [],
   "source": [
    "fig, ax = plt.subplots(1, 1)\n",
    "plt.colorbar(ax.pcolormesh(sim.times, z, s0.data.numpy()), ax=ax)\n",
    "ax.set_xscale(\"log\")\n",
    "ax.set_xlim(1e-6, sim.times.max())\n",
    "ax.set_xlabel(\"time (s)\")\n",
    "ax.set_ylabel(\"z\")"
   ]
  },
  {
   "cell_type": "code",
   "execution_count": null,
   "metadata": {},
   "outputs": [],
   "source": [
    "optimizer = torch.optim.SGD?"
   ]
  },
  {
   "cell_type": "code",
   "execution_count": null,
   "metadata": {},
   "outputs": [],
   "source": [
    "optimizer = torch.optim.SGD"
   ]
  },
  {
   "cell_type": "code",
   "execution_count": null,
   "metadata": {},
   "outputs": [],
   "source": [
    "print(test)"
   ]
  },
  {
   "cell_type": "code",
   "execution_count": null,
   "metadata": {},
   "outputs": [],
   "source": [
    "jdnpy = np.load(f\"{trial_directory}/j_difference.npy\")"
   ]
  },
  {
   "cell_type": "code",
   "execution_count": null,
   "metadata": {},
   "outputs": [],
   "source": [
    "jdnpy.shape"
   ]
  },
  {
   "cell_type": "code",
   "execution_count": null,
   "metadata": {},
   "outputs": [],
   "source": [
    "j_pred = forward(s0)"
   ]
  },
  {
   "cell_type": "code",
   "execution_count": null,
   "metadata": {},
   "outputs": [],
   "source": [
    "j_pred.shape"
   ]
  },
  {
   "cell_type": "code",
   "execution_count": null,
   "metadata": {},
   "outputs": [],
   "source": [
    "loss.backward?"
   ]
  },
  {
   "cell_type": "code",
   "execution_count": null,
   "metadata": {},
   "outputs": [],
   "source": []
  }
 ],
 "metadata": {
  "kernelspec": {
   "display_name": "pytorch-v1.2.0-gpu [conda env:root] *",
   "language": "python",
   "name": "conda-root-pytorch-v1.2.0-gpu"
  },
  "language_info": {
   "codemirror_mode": {
    "name": "ipython",
    "version": 3
   },
   "file_extension": ".py",
   "mimetype": "text/x-python",
   "name": "python",
   "nbconvert_exporter": "python",
   "pygments_lexer": "ipython3",
   "version": "3.6.9"
  }
 },
 "nbformat": 4,
 "nbformat_minor": 4
}
